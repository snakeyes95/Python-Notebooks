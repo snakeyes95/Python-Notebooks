{
 "cells": [
  {
   "cell_type": "markdown",
   "metadata": {},
   "source": [
    "# Python fundamentals"
   ]
  },
  {
   "cell_type": "markdown",
   "metadata": {},
   "source": [
    "### Comments"
   ]
  },
  {
   "cell_type": "code",
   "execution_count": 1,
   "metadata": {},
   "outputs": [
    {
     "data": {
      "text/plain": [
       "'Multi-line comments\\ncan be written using the multi line comment\\n'"
      ]
     },
     "execution_count": 1,
     "metadata": {},
     "output_type": "execute_result"
    }
   ],
   "source": [
    "#We can write single line comments using # \n",
    "\"\"\"Multi-line comments\n",
    "can be written using the multi line comment\n",
    "\"\"\""
   ]
  },
  {
   "cell_type": "markdown",
   "metadata": {},
   "source": [
    "### Primitive Datatypes"
   ]
  },
  {
   "cell_type": "code",
   "execution_count": 2,
   "metadata": {},
   "outputs": [],
   "source": [
    "#immutable:-int, float, complex, string, tuple \n",
    "#mutable:-list, set, dictionary"
   ]
  },
  {
   "cell_type": "code",
   "execution_count": 3,
   "metadata": {},
   "outputs": [
    {
     "data": {
      "text/plain": [
       "11"
      ]
     },
     "execution_count": 3,
     "metadata": {},
     "output_type": "execute_result"
    }
   ],
   "source": [
    "1+10"
   ]
  },
  {
   "cell_type": "code",
   "execution_count": 4,
   "metadata": {},
   "outputs": [
    {
     "data": {
      "text/plain": [
       "3.5"
      ]
     },
     "execution_count": 4,
     "metadata": {},
     "output_type": "execute_result"
    }
   ],
   "source": [
    "7/2"
   ]
  },
  {
   "cell_type": "code",
   "execution_count": 5,
   "metadata": {},
   "outputs": [
    {
     "data": {
      "text/plain": [
       "3"
      ]
     },
     "execution_count": 5,
     "metadata": {},
     "output_type": "execute_result"
    }
   ],
   "source": [
    "7//2 # use the // to get only the int part of the division"
   ]
  },
  {
   "cell_type": "code",
   "execution_count": 6,
   "metadata": {},
   "outputs": [
    {
     "data": {
      "text/plain": [
       "8"
      ]
     },
     "execution_count": 6,
     "metadata": {},
     "output_type": "execute_result"
    }
   ],
   "source": [
    "2*4"
   ]
  },
  {
   "cell_type": "code",
   "execution_count": 7,
   "metadata": {},
   "outputs": [
    {
     "data": {
      "text/plain": [
       "2.5"
      ]
     },
     "execution_count": 7,
     "metadata": {},
     "output_type": "execute_result"
    }
   ],
   "source": [
    "5.0/2.0"
   ]
  },
  {
   "cell_type": "code",
   "execution_count": 8,
   "metadata": {},
   "outputs": [
    {
     "data": {
      "text/plain": [
       "2.0"
      ]
     },
     "execution_count": 8,
     "metadata": {},
     "output_type": "execute_result"
    }
   ],
   "source": [
    "5.0//2.0 #works on floats as well!"
   ]
  },
  {
   "cell_type": "code",
   "execution_count": 9,
   "metadata": {},
   "outputs": [
    {
     "data": {
      "text/plain": [
       "2.5"
      ]
     },
     "execution_count": 9,
     "metadata": {},
     "output_type": "execute_result"
    }
   ],
   "source": [
    "5/2"
   ]
  },
  {
   "cell_type": "code",
   "execution_count": 10,
   "metadata": {},
   "outputs": [
    {
     "data": {
      "text/plain": [
       "2"
      ]
     },
     "execution_count": 10,
     "metadata": {},
     "output_type": "execute_result"
    }
   ],
   "source": [
    "#modulo operator\n",
    "5%3"
   ]
  },
  {
   "cell_type": "code",
   "execution_count": 11,
   "metadata": {},
   "outputs": [
    {
     "data": {
      "text/plain": [
       "16"
      ]
     },
     "execution_count": 11,
     "metadata": {},
     "output_type": "execute_result"
    }
   ],
   "source": [
    "#exponents\n",
    "2**4"
   ]
  },
  {
   "cell_type": "code",
   "execution_count": 12,
   "metadata": {},
   "outputs": [
    {
     "name": "stdout",
     "output_type": "stream",
     "text": [
      "23\n",
      "35\n"
     ]
    }
   ],
   "source": [
    "#precedance can be enforced with parenthesis\n",
    "print(3+4*5)\n",
    "print((3+4)*5)"
   ]
  },
  {
   "cell_type": "code",
   "execution_count": 13,
   "metadata": {},
   "outputs": [
    {
     "name": "stdout",
     "output_type": "stream",
     "text": [
      "True\n",
      "False\n",
      "True\n",
      "True\n"
     ]
    }
   ],
   "source": [
    "print(True and True)\n",
    "print(True and False)\n",
    "print(True or False)\n",
    "print(True or True)"
   ]
  },
  {
   "cell_type": "code",
   "execution_count": 14,
   "metadata": {},
   "outputs": [
    {
     "data": {
      "text/plain": [
       "True"
      ]
     },
     "execution_count": 14,
     "metadata": {},
     "output_type": "execute_result"
    }
   ],
   "source": [
    "0 == False"
   ]
  },
  {
   "cell_type": "code",
   "execution_count": 15,
   "metadata": {},
   "outputs": [
    {
     "data": {
      "text/plain": [
       "True"
      ]
     },
     "execution_count": 15,
     "metadata": {},
     "output_type": "execute_result"
    }
   ],
   "source": [
    "1 == True"
   ]
  },
  {
   "cell_type": "code",
   "execution_count": 16,
   "metadata": {},
   "outputs": [
    {
     "data": {
      "text/plain": [
       "-5"
      ]
     },
     "execution_count": 16,
     "metadata": {},
     "output_type": "execute_result"
    }
   ],
   "source": [
    "0 or -5"
   ]
  },
  {
   "cell_type": "code",
   "execution_count": 17,
   "metadata": {},
   "outputs": [
    {
     "data": {
      "text/plain": [
       "0"
      ]
     },
     "execution_count": 17,
     "metadata": {},
     "output_type": "execute_result"
    }
   ],
   "source": [
    "0 and 2"
   ]
  },
  {
   "cell_type": "code",
   "execution_count": 18,
   "metadata": {},
   "outputs": [
    {
     "data": {
      "text/plain": [
       "True"
      ]
     },
     "execution_count": 18,
     "metadata": {},
     "output_type": "execute_result"
    }
   ],
   "source": [
    "1 == 1"
   ]
  },
  {
   "cell_type": "code",
   "execution_count": 19,
   "metadata": {},
   "outputs": [
    {
     "data": {
      "text/plain": [
       "False"
      ]
     },
     "execution_count": 19,
     "metadata": {},
     "output_type": "execute_result"
    }
   ],
   "source": [
    "1 == 3"
   ]
  },
  {
   "cell_type": "code",
   "execution_count": 20,
   "metadata": {},
   "outputs": [
    {
     "name": "stdout",
     "output_type": "stream",
     "text": [
      "False\n",
      "False\n",
      "True\n"
     ]
    }
   ],
   "source": [
    "print(1>2)\n",
    "print(1>=2)\n",
    "print(2<=2)"
   ]
  },
  {
   "cell_type": "code",
   "execution_count": 21,
   "metadata": {},
   "outputs": [],
   "source": [
    "a=x=y=20#chained assignment in python"
   ]
  },
  {
   "cell_type": "code",
   "execution_count": 22,
   "metadata": {},
   "outputs": [
    {
     "name": "stdout",
     "output_type": "stream",
     "text": [
      "20 20 20\n"
     ]
    }
   ],
   "source": [
    "print(a,x,y)"
   ]
  },
  {
   "cell_type": "code",
   "execution_count": 23,
   "metadata": {},
   "outputs": [],
   "source": [
    "a=40"
   ]
  },
  {
   "cell_type": "code",
   "execution_count": 24,
   "metadata": {},
   "outputs": [
    {
     "name": "stdout",
     "output_type": "stream",
     "text": [
      "40 20 20\n"
     ]
    }
   ],
   "source": [
    "print(a,x,y)"
   ]
  },
  {
   "cell_type": "code",
   "execution_count": 25,
   "metadata": {},
   "outputs": [],
   "source": [
    "a,x,y=1,'hello',3"
   ]
  },
  {
   "cell_type": "code",
   "execution_count": 26,
   "metadata": {},
   "outputs": [
    {
     "name": "stdout",
     "output_type": "stream",
     "text": [
      "1 hello 3\n"
     ]
    }
   ],
   "source": [
    "print(a,x,y)"
   ]
  },
  {
   "cell_type": "code",
   "execution_count": 27,
   "metadata": {},
   "outputs": [],
   "source": [
    "a=x=y=1,'hello',3# will end up creating a tuple in this case"
   ]
  },
  {
   "cell_type": "code",
   "execution_count": 28,
   "metadata": {},
   "outputs": [
    {
     "name": "stdout",
     "output_type": "stream",
     "text": [
      "(1, 'hello', 3) (1, 'hello', 3) (1, 'hello', 3)\n"
     ]
    }
   ],
   "source": [
    "print(a,x,y)"
   ]
  },
  {
   "cell_type": "code",
   "execution_count": 29,
   "metadata": {},
   "outputs": [
    {
     "name": "stdout",
     "output_type": "stream",
     "text": [
      "\n",
      "Here is a list of the Python keywords.  Enter any keyword to get more help.\n",
      "\n",
      "False               class               from                or\n",
      "None                continue            global              pass\n",
      "True                def                 if                  raise\n",
      "and                 del                 import              return\n",
      "as                  elif                in                  try\n",
      "assert              else                is                  while\n",
      "async               except              lambda              with\n",
      "await               finally             nonlocal            yield\n",
      "break               for                 not                 \n",
      "\n"
     ]
    }
   ],
   "source": [
    "help('keywords')"
   ]
  },
  {
   "cell_type": "code",
   "execution_count": 30,
   "metadata": {},
   "outputs": [
    {
     "name": "stdout",
     "output_type": "stream",
     "text": [
      "True\n",
      "8791201148848 8791201148848\n",
      "False\n",
      "8791201148848 81718768\n"
     ]
    }
   ],
   "source": [
    "a=100\n",
    "b=a\n",
    "print(a is b)\n",
    "print(id(a),id(b))\n",
    "b=500\n",
    "print(a is b)\n",
    "print(id(a),id(b))"
   ]
  },
  {
   "cell_type": "code",
   "execution_count": 31,
   "metadata": {},
   "outputs": [
    {
     "name": "stdout",
     "output_type": "stream",
     "text": [
      "8791201145968 8791201146288\n"
     ]
    }
   ],
   "source": [
    "a=10\n",
    "b=20\n",
    "print(id(a),id(b))"
   ]
  },
  {
   "cell_type": "code",
   "execution_count": 32,
   "metadata": {},
   "outputs": [
    {
     "name": "stdout",
     "output_type": "stream",
     "text": [
      "3\n",
      "3.0\n",
      "(4+4j)\n",
      "34\n",
      "3.2\n",
      "3.77\n",
      "True\n",
      "False\n"
     ]
    }
   ],
   "source": [
    "#type conversion in python\n",
    "print(int(3.62))\n",
    "print(float(3))\n",
    "print(complex(4,4))\n",
    "print(int(float('34.7')))\n",
    "print(float('3.2'))\n",
    "print(str(3.77))\n",
    "print(str(True))\n",
    "print(bool(0))"
   ]
  },
  {
   "cell_type": "code",
   "execution_count": 33,
   "metadata": {},
   "outputs": [
    {
     "name": "stdout",
     "output_type": "stream",
     "text": [
      "helloworld\n",
      "hello9\n",
      "5\n",
      "hellohellohello\n",
      "True\n",
      "False\n",
      "False\n",
      "hello\n",
      "llo\n",
      "['e', 'h', 'l', 'l', 'o']\n",
      "e\n",
      "o\n",
      "False\n",
      "True\n",
      "False\n",
      "True\n",
      "True\n",
      "HELLO\n",
      "hello\n",
      "bello\n",
      "2\n",
      "1\n",
      "2\n",
      "3\n",
      "a long string present here\n",
      "['a', 'long', 'string', 'present', 'here']\n",
      "['world']\n",
      "w o r l d\n",
      "w\to\tr\tl\td\n",
      "w\n",
      "o\n",
      "r\n",
      "l\n",
      "d\n",
      "['w', 'rld']\n",
      "['hello', 'world', '!!!!']\n"
     ]
    }
   ],
   "source": [
    "#python strings\n",
    "s1='hello'\n",
    "s2='world'\n",
    "print(s1+s2)\n",
    "print(s1+str(9))\n",
    "print(len(s1))\n",
    "print(s1*3)\n",
    "print('he' in s1)\n",
    "print('hl' in s1)\n",
    "print('ee' in s1)\n",
    "print(s1[::])\n",
    "print(s1[2::1])\n",
    "print(sorted(s1))#returns a list of characters sorted\n",
    "print(min(s1))\n",
    "print(max(s1))\n",
    "#we can use a dumber of methods on a string object but since our string object is immutable it will not do any changes to the \n",
    "#original string.\n",
    "print(s1.isupper())\n",
    "print(s1.islower())\n",
    "print(s1.isnumeric())\n",
    "print(s1.isalnum())\n",
    "print(s1.isalpha())\n",
    "print(s1.upper())\n",
    "print(s1.lower())\n",
    "print(s1.replace('h','b'))\n",
    "print(s1.find('ll'))#strings are 0 indexed\n",
    "print(s1.index('ell'))\n",
    "print(s1.count('l'))\n",
    "print((s1+s2).count('l'))\n",
    "s3='            a long string present here          '\n",
    "print(s3.strip())#remove any leading or trailing spaces present \n",
    "print(s3.strip().split())\n",
    "print(s2.split())#breaks by space by default can be changed\n",
    "print(' '.join(s2))\n",
    "print('\\t'.join(s2))\n",
    "print('\\n'.join(s2))\n",
    "print(s2.split('o'))#will now split on '0'\n",
    "s4='hello \\n world \\n !!!!'\n",
    "print(s4.split(' \\n '))#we can split files based on different delimeters using the string.split()"
   ]
  },
  {
   "cell_type": "code",
   "execution_count": 34,
   "metadata": {},
   "outputs": [
    {
     "name": "stdout",
     "output_type": "stream",
     "text": [
      "8791201145968 8791201145968\n",
      "8791201146288 8791201146288\n",
      "29 20 8791201146288 8791201146576\n"
     ]
    }
   ],
   "source": [
    "a=b=10\n",
    "print(id(a),id(b))#same id Memory location\n",
    "c=20\n",
    "d=c\n",
    "print(id(c),id(d))\n",
    "d=29\n",
    "print(d,c,id(c),id(d))"
   ]
  },
  {
   "cell_type": "code",
   "execution_count": 35,
   "metadata": {},
   "outputs": [
    {
     "data": {
      "text/plain": [
       "(9, 2)"
      ]
     },
     "execution_count": 35,
     "metadata": {},
     "output_type": "execute_result"
    }
   ],
   "source": [
    "a=4.5\n",
    "a.as_integer_ratio()#cool trick while working with float values"
   ]
  },
  {
   "cell_type": "code",
   "execution_count": 36,
   "metadata": {},
   "outputs": [
    {
     "name": "stdout",
     "output_type": "stream",
     "text": [
      "False\n"
     ]
    }
   ],
   "source": [
    "print(a.is_integer())#type checking in python\n"
   ]
  },
  {
   "cell_type": "code",
   "execution_count": 37,
   "metadata": {},
   "outputs": [
    {
     "name": "stdout",
     "output_type": "stream",
     "text": [
      "<class 'complex'>\n",
      "(3-5j) 3.0 5.0\n"
     ]
    }
   ],
   "source": [
    "#working with complex numbers\n",
    "a=3+5j\n",
    "print(type(a))\n",
    "print(a.conjugate(),a.real,a.imag)\n",
    "#a.real=5 we cannot do this as a complex type variable is immutable"
   ]
  },
  {
   "cell_type": "code",
   "execution_count": 38,
   "metadata": {},
   "outputs": [
    {
     "data": {
      "text/plain": [
       "True"
      ]
     },
     "execution_count": 38,
     "metadata": {},
     "output_type": "execute_result"
    }
   ],
   "source": [
    "# we can also chain comparison as follows\n",
    "1<4<5"
   ]
  },
  {
   "cell_type": "code",
   "execution_count": 39,
   "metadata": {},
   "outputs": [
    {
     "name": "stdout",
     "output_type": "stream",
     "text": [
      "Hello world\n"
     ]
    }
   ],
   "source": [
    "# We can also work with strings as shown\n",
    "a='Hello world'\n",
    "print(a)"
   ]
  },
  {
   "cell_type": "code",
   "execution_count": 40,
   "metadata": {},
   "outputs": [
    {
     "name": "stdout",
     "output_type": "stream",
     "text": [
      "Hello world!!!!!\n"
     ]
    },
    {
     "data": {
      "text/plain": [
       "'hellopython'"
      ]
     },
     "execution_count": 40,
     "metadata": {},
     "output_type": "execute_result"
    }
   ],
   "source": [
    "b='!!!!!'\n",
    "print(a+b)\n",
    "\"hello\" \"python\" #we can add two stings like this as well"
   ]
  },
  {
   "cell_type": "code",
   "execution_count": 41,
   "metadata": {},
   "outputs": [
    {
     "data": {
      "text/plain": [
       "'Hello worldHello worldHello world'"
      ]
     },
     "execution_count": 41,
     "metadata": {},
     "output_type": "execute_result"
    }
   ],
   "source": [
    "a*3"
   ]
  },
  {
   "cell_type": "code",
   "execution_count": 42,
   "metadata": {},
   "outputs": [
    {
     "data": {
      "text/plain": [
       "'H'"
      ]
     },
     "execution_count": 42,
     "metadata": {},
     "output_type": "execute_result"
    }
   ],
   "source": [
    "# a string can be considered as a list of characters\n",
    "a[0]"
   ]
  },
  {
   "cell_type": "code",
   "execution_count": 43,
   "metadata": {},
   "outputs": [
    {
     "data": {
      "text/plain": [
       "11"
      ]
     },
     "execution_count": 43,
     "metadata": {},
     "output_type": "execute_result"
    }
   ],
   "source": [
    "len(a) #length of the string"
   ]
  },
  {
   "cell_type": "code",
   "execution_count": 44,
   "metadata": {},
   "outputs": [
    {
     "name": "stdout",
     "output_type": "stream",
     "text": [
      "Mr Cat loves to sit on his mat\n",
      "Mr Matt loves to sit on his chair\n"
     ]
    }
   ],
   "source": [
    "a='Cat'\n",
    "b='mat'\n",
    "\n",
    "print('Mr {} loves to sit on his {}'.format(a,b))\n",
    "print('Mr {name} loves to sit on his {place}'.format(name='Matt',place='chair'))"
   ]
  },
  {
   "cell_type": "code",
   "execution_count": 45,
   "metadata": {},
   "outputs": [
    {
     "name": "stdout",
     "output_type": "stream",
     "text": [
      "None\n"
     ]
    }
   ],
   "source": [
    "#There is also a none type object\n",
    "a=None\n",
    "print(a)"
   ]
  },
  {
   "cell_type": "code",
   "execution_count": 46,
   "metadata": {},
   "outputs": [
    {
     "data": {
      "text/plain": [
       "True"
      ]
     },
     "execution_count": 46,
     "metadata": {},
     "output_type": "execute_result"
    }
   ],
   "source": [
    "#we should not use the == to compare objects to None \n",
    "val=None\n",
    "val is None #the is operator checks for object identity which is very useful wrt objects"
   ]
  },
  {
   "cell_type": "code",
   "execution_count": 47,
   "metadata": {},
   "outputs": [
    {
     "name": "stdout",
     "output_type": "stream",
     "text": [
      "False\n",
      "True\n",
      "False\n",
      "False\n",
      "True\n"
     ]
    }
   ],
   "source": [
    "#we can use the bool() for a variety of reasons \n",
    "print(bool(\"\"))\n",
    "print(bool(\"hello\"))\n",
    "print(bool(a))\n",
    "print(bool(0))\n",
    "print(bool(100000))"
   ]
  },
  {
   "cell_type": "code",
   "execution_count": null,
   "metadata": {},
   "outputs": [],
   "source": [
    "input_data=input() #use the input method to get user input"
   ]
  },
  {
   "cell_type": "code",
   "execution_count": null,
   "metadata": {},
   "outputs": [],
   "source": [
    "print(input_data)#will take in data as a string\n",
    "type(input_data) #use the type() to get the datatype of the variable."
   ]
  },
  {
   "cell_type": "code",
   "execution_count": null,
   "metadata": {},
   "outputs": [],
   "source": [
    "#we can write a ternary operator as follows\n",
    "a='abcdefg'\n",
    "b='hijklm'\n",
    "\"amazing\" if len(a) > len(b) else \"sorry\""
   ]
  },
  {
   "cell_type": "markdown",
   "metadata": {},
   "source": [
    "### Lists"
   ]
  },
  {
   "cell_type": "code",
   "execution_count": null,
   "metadata": {},
   "outputs": [],
   "source": [
    "l1=[]\n",
    "l2=[1,2,3,'a']\n",
    "l3=list(range(1,10,2))\n",
    "l4=list('Hello world')#strings are iterable as well.\n",
    "print('l1{} l2{} l3{} l4{}'.format(l1,l2,l3,l4))"
   ]
  },
  {
   "cell_type": "code",
   "execution_count": null,
   "metadata": {},
   "outputs": [],
   "source": [
    "#we can also have nested lists\n",
    "l5=[[1,2,3,4,5],['a',[1,2,3]],[3,4,5,6],7,9]\n",
    "print(l5[0])\n",
    "print(l5[0][1])\n",
    "print(l5[1][1])\n",
    "print(l5[1][1][0])\n",
    "\n",
    "print(l3)\n",
    "l3[1:4]=[1,2,3]\n",
    "print(l3)\n",
    "l3[1:1]=[1,2,3,4,5,6,7,8,9]#we can insert elements using this method\n",
    "print(l3)"
   ]
  },
  {
   "cell_type": "code",
   "execution_count": null,
   "metadata": {},
   "outputs": [],
   "source": [
    "sorted(l3)\n",
    "l3[12:12]=[44]\n",
    "print(max(l3))\n",
    "print(min(l3))\n",
    "print(l2)\n",
    "print(list(reversed(l2)))#reverse the entries present in the list"
   ]
  },
  {
   "cell_type": "code",
   "execution_count": null,
   "metadata": {},
   "outputs": [],
   "source": [
    "print(l3[12])\n",
    "l3[::]=[]\n",
    "print(l3)"
   ]
  },
  {
   "cell_type": "code",
   "execution_count": null,
   "metadata": {},
   "outputs": [],
   "source": [
    "#use the dir() to check the list of attributes for the object\n",
    "#every thing in python is an object even functions\n",
    "dir(l2)"
   ]
  },
  {
   "cell_type": "code",
   "execution_count": null,
   "metadata": {},
   "outputs": [],
   "source": [
    "print(type(l1),type(l2))"
   ]
  },
  {
   "cell_type": "code",
   "execution_count": null,
   "metadata": {},
   "outputs": [],
   "source": [
    "l1.append(1)\n",
    "l2.append('g|')\n",
    "#we can also take this further and pass in an entire list as an argument to the list.append()\n",
    "l2.append(['a','b','c'])\n",
    "print(l2)\n",
    "print(l1)\n",
    "#if we want to merge the two lists together we can use the list.extend()\n",
    "l1.extend(l2)\n",
    "print(l1)\n",
    "#list.append() will add the entire list passed to it as an item and append it to the list\n",
    "#the list.extend() will add each list item present in the list passed to it as a separate list item\n",
    "#if we want to go ahead and now add an item to the list at a specific position\n",
    "l1.insert(0,'hello')\n",
    "print(l1)"
   ]
  },
  {
   "cell_type": "code",
   "execution_count": null,
   "metadata": {},
   "outputs": [],
   "source": [
    "#differnet ways to iterate through a list\n",
    "data=list(range(10))\n",
    "i=0\n",
    "while i<len(data):\n",
    "    print(i)\n",
    "    i=i+1\n",
    "for i in range(len(data)):\n",
    "    print(i)"
   ]
  },
  {
   "cell_type": "code",
   "execution_count": null,
   "metadata": {},
   "outputs": [],
   "source": [
    "print(l1,l2)#the list.append() will add the newly added variable\n",
    "#to the end of the list"
   ]
  },
  {
   "cell_type": "code",
   "execution_count": null,
   "metadata": {},
   "outputs": [],
   "source": [
    "#if we wish to append a iterable list to our list as individual members of the list we need to use the list.extend()\n",
    "l2.extend([12,13,14,5,66,7])\n",
    "print(l2)\n",
    "#we can use the list.index() to get the index of the first occurance of the list item \n",
    "print(l2.index(1))\n",
    "print(l2.index('a'))"
   ]
  },
  {
   "cell_type": "code",
   "execution_count": null,
   "metadata": {},
   "outputs": [],
   "source": [
    "#to delete the last element from the list use the list.pop()\n",
    "print(l2.pop()) #the pop function will return the value it has popped\n",
    "print(l2.pop(0))#pop item at index 0\n",
    "print(l2)"
   ]
  },
  {
   "cell_type": "code",
   "execution_count": null,
   "metadata": {},
   "outputs": [],
   "source": [
    "print(l1,l2)"
   ]
  },
  {
   "cell_type": "code",
   "execution_count": null,
   "metadata": {},
   "outputs": [],
   "source": [
    "#indexing lists\n",
    "#we can index list elements as follows\n",
    "print(l2[0],l2[1])"
   ]
  },
  {
   "cell_type": "code",
   "execution_count": null,
   "metadata": {},
   "outputs": [],
   "source": [
    "l2[-1]#use -1 to access the last element present in the list"
   ]
  },
  {
   "cell_type": "code",
   "execution_count": null,
   "metadata": {},
   "outputs": [],
   "source": [
    "l2[0]='h' #to set a value inside the list\n",
    "print(l2)"
   ]
  },
  {
   "cell_type": "code",
   "execution_count": null,
   "metadata": {},
   "outputs": [],
   "source": [
    "l2[7] #we will get an IndexError"
   ]
  },
  {
   "cell_type": "code",
   "execution_count": null,
   "metadata": {},
   "outputs": [],
   "source": [
    "l2[1:3]#we can get a range of values using the : operator"
   ]
  },
  {
   "cell_type": "code",
   "execution_count": null,
   "metadata": {},
   "outputs": [],
   "source": [
    "l2[:3] #will return from the 0th index"
   ]
  },
  {
   "cell_type": "code",
   "execution_count": null,
   "metadata": {},
   "outputs": [],
   "source": [
    "l2[::3]#it will select every thrid entry\n",
    "#list[start:end:step]"
   ]
  },
  {
   "cell_type": "code",
   "execution_count": null,
   "metadata": {},
   "outputs": [],
   "source": [
    "l2[::-1]# this can be used to reverse a string."
   ]
  },
  {
   "cell_type": "code",
   "execution_count": null,
   "metadata": {},
   "outputs": [],
   "source": [
    "#To delete elements from our list we can use the del\n",
    "del l2[1]\n",
    "print(l2)"
   ]
  },
  {
   "cell_type": "code",
   "execution_count": null,
   "metadata": {},
   "outputs": [],
   "source": [
    "l3=[1,2,3,4,5,6,7]\n",
    "l4=['a','b','c','d','e','f']\n",
    "#we can Concatenate 2 lists as \n",
    "print(l3+l4)\n",
    "#we can also make use of the list.extend()\n",
    "l3.extend(l4)#l3 will be changed in this case\n",
    "print(l3)"
   ]
  },
  {
   "cell_type": "code",
   "execution_count": null,
   "metadata": {},
   "outputs": [],
   "source": [
    "#to remove wrt to values instead of index we can use\n",
    "l3.append(2)\n",
    "print(l3)\n",
    "l3.remove(2)#the remove function will remove the first occurance\n",
    "#of 2\n",
    "print(l3)"
   ]
  },
  {
   "cell_type": "code",
   "execution_count": null,
   "metadata": {},
   "outputs": [],
   "source": [
    "#list.append() will insert the value directly at the end of the\n",
    "#list if we want to add the list item at a specific location \n",
    "#we need to use the list.insert()\n",
    "l3.insert(0,'r')\n",
    "print(l3)#we have inserted r in the 0th index"
   ]
  },
  {
   "cell_type": "code",
   "execution_count": null,
   "metadata": {},
   "outputs": [],
   "source": [
    "#now to get the index of a value inside the list we use the \n",
    "#list.index()\n",
    "l3.index('a')"
   ]
  },
  {
   "cell_type": "code",
   "execution_count": null,
   "metadata": {},
   "outputs": [],
   "source": [
    "#if we cannot find it in the list it will throw an error\n",
    "l3.index('z')"
   ]
  },
  {
   "cell_type": "code",
   "execution_count": null,
   "metadata": {},
   "outputs": [],
   "source": [
    "#we can check in a boolean fashion if some value is present \n",
    "#inside the list\n",
    "4 in l3"
   ]
  },
  {
   "cell_type": "code",
   "execution_count": null,
   "metadata": {},
   "outputs": [],
   "source": [
    "'z' in l3"
   ]
  },
  {
   "cell_type": "code",
   "execution_count": null,
   "metadata": {},
   "outputs": [],
   "source": [
    "#we can also find the length of the list using the len()\n",
    "len(l3)"
   ]
  },
  {
   "cell_type": "code",
   "execution_count": null,
   "metadata": {},
   "outputs": [],
   "source": [
    "%%time\n",
    "#any and all can be used to check if any of the item inside the iterable is empty.\n",
    "l3=[1,2,3,4,5]\n",
    "l4=[1,2,3,(),4]\n",
    "print(any(l3),any(l4))\n",
    "print(all(l3),all(l4))"
   ]
  },
  {
   "cell_type": "code",
   "execution_count": null,
   "metadata": {},
   "outputs": [],
   "source": [
    "l1=['hi']*20#will multiply hi 20 times\n",
    "print(l1)"
   ]
  },
  {
   "cell_type": "code",
   "execution_count": null,
   "metadata": {},
   "outputs": [],
   "source": [
    "#how can we handle duplicate elements inside a list\n",
    "l1=[11,2,3,14,5,61,7,1,2,3,4,5]#we can see this list contains duplicates inside it.\n",
    "l2=list(set(l1))\n",
    "print(l1)\n",
    "print(l2)#we can see that the duplicate elements have been removed.\n",
    "#we can see that the order has been changed\n",
    "\n",
    "#if we wanted to keep the squence of items (ordering) intact\n",
    "def uniq_vals(x):\n",
    "    uniq=[]\n",
    "    for i in x:\n",
    "        if i not in uniq:\n",
    "            uniq.append(i)\n",
    "        else:\n",
    "            continue\n",
    "    return uniq\n",
    "    \n",
    "print(uniq_vals(l1))#here we can see that the ordering of the items is kept intact."
   ]
  },
  {
   "cell_type": "code",
   "execution_count": null,
   "metadata": {},
   "outputs": [],
   "source": [
    "#search index of items repeating inside the list\n",
    "data=['a',2,1,3,'a',4,5,6,7,'a']\n",
    "print(data.index('a'))#this will by default return the index of only the first occurance in our list\n",
    "def multiples(x,y):\n",
    "    try:  \n",
    "        pos=[]\n",
    "        res=0\n",
    "        while True:\n",
    "            res=x.index(y,res)\n",
    "            pos.append(res)\n",
    "            res=res+1\n",
    "        return pos\n",
    "    except:\n",
    "        print('end of list index')\n",
    "print(multiples(data,'a'))\n",
    "        "
   ]
  },
  {
   "cell_type": "code",
   "execution_count": null,
   "metadata": {},
   "outputs": [],
   "source": [
    "#search index of items repeating inside the list\n",
    "data=['a',2,1,3,'a',4,5,6,7,'a']\n",
    "\n",
    "def multiples(x,y):\n",
    "        data_pos=[]\n",
    "        for i in range(len(x)):\n",
    "            if x[i]==y:\n",
    "                data_pos.append(i)\n",
    "            else:\n",
    "                continue\n",
    "        return data_pos\n",
    "\n",
    "print(multiples(data,'a'))\n",
    "    "
   ]
  },
  {
   "cell_type": "code",
   "execution_count": null,
   "metadata": {},
   "outputs": [],
   "source": [
    "def getIndexPositions(listOfElements, element):\n",
    "    ''' Returns the indexes of all occurrences of give element in\n",
    "    the list- listOfElements '''\n",
    "    indexPosList = []\n",
    "    indexPos = 0\n",
    "    while True:\n",
    "        try:\n",
    "        # Search for item in list from indexPos to the end of list\n",
    "            indexPos = listOfElements.index(element, indexPos)\n",
    "# Add the index position in list\n",
    "            indexPosList.append(indexPos)\n",
    "            indexPos += 1\n",
    "        except ValueError as e:\n",
    "            break\n",
    "    return indexPosList\n",
    "\n",
    "listOfElems = ['Hello', 'Ok', 'is', 'Ok', 'test', 'this', 'is', 'a', 'test', 'Ok']\n",
    "indexPosList = getIndexPositions(listOfElems, 'Ok')\n",
    "print('Indexes of all occurrences of \"Ok\" in the list are : ', indexPosList)\n",
    "listOfElems = ['Hello', 'Ok', 'is', 'Ok', 'test', 'this', 'is', 'a', 'test', 'Ok']\n",
    " \n",
    "# Get indexes of all occurrences of 'Ok' in the list\n",
    "indexPosList = getIndexPositions(listOfElems, 'Ok')"
   ]
  },
  {
   "cell_type": "code",
   "execution_count": null,
   "metadata": {},
   "outputs": [],
   "source": [
    "#check if an item exists in the list\n",
    "data=[1,'a',2,'b','c',1,2,3,1]\n",
    "def checking(ls,item):\n",
    "    if item in ls:\n",
    "        print(f'Item {item} found in list in position {ls.index(item)}')\n",
    "    else:\n",
    "        print(f'{item} not found in list {ls}')\n",
    "checking(data,'a')\n",
    "checking(data,99)\n",
    "\n",
    "data.count(1)#we can find the number of times the item with value 1 is present in the list using the \n",
    "#list.count()\n",
    "\n",
    "#we can also work in this way\n",
    "if (any(i for i in data if type(i)==str)):\n",
    "    print('value found')\n",
    "else:\n",
    "    print('value not found')\n",
    "   "
   ]
  },
  {
   "cell_type": "code",
   "execution_count": null,
   "metadata": {},
   "outputs": [],
   "source": [
    "#how to check if all the elements present in list1 are present in list2\n",
    "l1=[1,2,3,4,599,71,9]\n",
    "l2=[2,3]\n",
    "l3=[2,'a']\n",
    "#check if l2 is present in l1\n",
    "res1=all(i in l1 for i in l2)\n",
    "res2=all(i in l1 for i in l3)\n",
    "res3=any(i in l1 for i in l3)\n",
    "print(res1)\n",
    "print(res2)\n",
    "print(res3)"
   ]
  },
  {
   "cell_type": "code",
   "execution_count": null,
   "metadata": {},
   "outputs": [],
   "source": [
    "#check if all the elements are same in a lis\n",
    "def same_vals(x):\n",
    "    if all(i==x[0] for i in x):\n",
    "        print('All elements are same')\n",
    "    else:\n",
    "        print('Elements are not the same')\n",
    "l1=['hi']*10\n",
    "l2=[1,2,3]\n",
    "same_vals(l1)\n",
    "same_vals(l2)\n",
    "\n",
    "\n",
    "#we can also do this by converting the list into a set and then checking the length\n",
    "def same_vals_set(x):\n",
    "    l1=list(set(x))\n",
    "    if len(l1)==1:\n",
    "        print('all Elements are same')\n",
    "    else:\n",
    "        print('Elements are different')\n",
    "same_vals_set(l1)\n",
    "same_vals_set(l2)"
   ]
  },
  {
   "cell_type": "code",
   "execution_count": null,
   "metadata": {},
   "outputs": [],
   "source": [
    "data_alpha=['at','this','party','we','will','try','our','code']\n",
    "data_num=[1,100,10,22,999,44]\n",
    "#sorting these arrays in different ways\n",
    "print(data_alpha.sort())\n",
    "print(data_num.sort())\n",
    "print(data_num.sort(reverse=True))"
   ]
  },
  {
   "cell_type": "code",
   "execution_count": null,
   "metadata": {},
   "outputs": [],
   "source": [
    "data_alpha=['at','this','party','we','will','try','our','code']\n",
    "data_num=[1,100,10,22,999,44]\n",
    "#sorting these arrays in different ways\n",
    "data_alpha.sort()\n",
    "print(data_alpha)\n",
    "data_alpha.sort(key=len)\n",
    "print(data_alpha)\n",
    "data_num.sort()\n",
    "print(data_num)\n",
    "data_num.sort(reverse=True)\n",
    "print(data_num)\n",
    "data_num.sort(key=int)\n",
    "print(data_num)"
   ]
  },
  {
   "cell_type": "code",
   "execution_count": null,
   "metadata": {},
   "outputs": [],
   "source": [
    "data=[('e',20),('a',35),('c',40)]\n",
    "data.sort()\n",
    "print(data)#we can see that by default it will sort only according to the first element in the tuple\n",
    "#if we want to sort according to the second element the frequency\n",
    "data.sort(key=lambda elem:elem[1])\n",
    "print(data)#sorting according to the second element in the tuple.\n",
    "\n",
    "def comparator(x):\n",
    "    return x[1]\n",
    "data.sort(key=comparator)\n",
    "print(data)\n",
    "#we can sort according to the frequency by writing a custom function and then passing it as a key in \n",
    "#the sort()"
   ]
  },
  {
   "cell_type": "code",
   "execution_count": null,
   "metadata": {},
   "outputs": [],
   "source": [
    "#extending a list \n",
    "l1=[1,2,3,4,5]\n",
    "l2=[5,6,7,8,9,10]\n",
    "l3=l1+l2\n",
    "print(l3)\n",
    "l1.extend(l2)\n",
    "print(l1)"
   ]
  },
  {
   "cell_type": "code",
   "execution_count": null,
   "metadata": {},
   "outputs": [],
   "source": [
    "l1=[[1,2,3,4],[1,2,3],[1,2,3]]\n",
    "l3=[1,2,3]\n",
    "print(sum(l3))\n",
    "print(len(l1))#what if we have to find the the length of the nested lists as well\n",
    "res=sum([len(i) for i in l1])\n",
    "print(res)\n",
    "l2=[[1,2,3],4,[2,4,5],5]\n",
    "#res2=sum([len(i) for i in l2])#wont work\n",
    "#print(res2)\n",
    "def list_value_count(x):\n",
    "    res=[]\n",
    "    for i in x:\n",
    "        if type(i)==list:\n",
    "            res.append(len(i))\n",
    "        else:\n",
    "            res.append(1)\n",
    "    return sum(res)\n",
    "\n",
    "print(list_value_count(l1))\n",
    "print(list_value_count(l3))\n",
    "print(list_value_count(l2))"
   ]
  },
  {
   "cell_type": "code",
   "execution_count": 8,
   "metadata": {},
   "outputs": [
    {
     "name": "stdout",
     "output_type": "stream",
     "text": [
      "{'hello': [1, [0]], 'hi': [2, [1, 3]], 'yum': [1, [2]], 'this': [2, [3, 7]], 'that': [1, [4]], 'a': [2, [5, 6]], 'the': [1, [6]], 'and': [1, [7]]}\n"
     ]
    }
   ],
   "source": [
    "#finding if there are duplicates in the list along with frequency and index\n",
    "l1=['hello','hi','yum','hi','this','that','a','a','the','this','and']\n",
    "\n",
    "def duplicates_with_index(l):\n",
    "    dic=dict()\n",
    "    index=0\n",
    "    for i in l:\n",
    "        if i in dic:\n",
    "            dic[i][0]+=1\n",
    "            dic[i][1].append(index)\n",
    "        else:\n",
    "            dic[i]=[1,[index]]\n",
    "            index=index+1\n",
    "    dic={key:value for key,value in dic.items()}\n",
    "    return dic\n",
    "print(duplicates_with_index(l1))    \n"
   ]
  },
  {
   "cell_type": "code",
   "execution_count": 12,
   "metadata": {},
   "outputs": [
    {
     "name": "stdout",
     "output_type": "stream",
     "text": [
      "This is a sample string\n",
      "This is a 1 2 3\n"
     ]
    }
   ],
   "source": [
    "#converting a list to a string in python\n",
    "l2=['This','is','a','sample','string']\n",
    "result=' '.join(l2)\n",
    "print(result)\n",
    "l2=['This','is','a',1,2,3]\n",
    "#we need to first convert the ints before calling the string.join()\n",
    "res=' '.join([str(i) for i in l2])\n",
    "print(res)"
   ]
  },
  {
   "cell_type": "code",
   "execution_count": 59,
   "metadata": {},
   "outputs": [
    {
     "ename": "SyntaxError",
     "evalue": "invalid syntax (<ipython-input-59-53968fc00777>, line 7)",
     "output_type": "error",
     "traceback": [
      "\u001b[1;36m  File \u001b[1;32m\"<ipython-input-59-53968fc00777>\"\u001b[1;36m, line \u001b[1;32m7\u001b[0m\n\u001b[1;33m    flat_list2=[l3.append(i) for i in l2 if type(i)!=list for j in i else for j in i]\u001b[0m\n\u001b[1;37m                                                                        ^\u001b[0m\n\u001b[1;31mSyntaxError\u001b[0m\u001b[1;31m:\u001b[0m invalid syntax\n"
     ]
    }
   ],
   "source": [
    "#converting a list of lists/nested list to a flat list\n",
    "l1=[[1,2,3,4,5,6],['a','b','c','d','e'],[1,2,3,4,5]]\n",
    "flat_list=[j for i in l1 for j in i]\n",
    "print(flat_list)\n"
   ]
  },
  {
   "cell_type": "markdown",
   "metadata": {},
   "source": [
    "### Tuples"
   ]
  },
  {
   "cell_type": "code",
   "execution_count": null,
   "metadata": {},
   "outputs": [],
   "source": [
    "#Tuples are quite simmilar to lists but they are immutable\n",
    "t1=(1,2,3)\n",
    "t1[0]"
   ]
  },
  {
   "cell_type": "code",
   "execution_count": null,
   "metadata": {},
   "outputs": [],
   "source": [
    "t1[0]=8"
   ]
  },
  {
   "cell_type": "code",
   "execution_count": 66,
   "metadata": {},
   "outputs": [
    {
     "name": "stdout",
     "output_type": "stream",
     "text": [
      "(1, 2, 3, 4, 5, 6)\n",
      "(1, 2)\n",
      "False\n",
      "True\n",
      "1\n"
     ]
    },
    {
     "data": {
      "text/plain": [
       "2"
      ]
     },
     "execution_count": 66,
     "metadata": {},
     "output_type": "execute_result"
    }
   ],
   "source": [
    "#we can do most of the things we can do in lists in tuples \\\n",
    "#as well\n",
    "t1=(1,2,3)\n",
    "t2=(4,5,6)\n",
    "print(t1+t2)\n",
    "print(t1[:2])\n",
    "print(6 in t1)\n",
    "print(6 in t2)\n",
    "print(t1.index(2))#we can use the index method to get the index position of the item in the tuple.\n",
    "#print(t1.index(9))#will throw a valueerror if it doesnt find the item in the tuple.\n",
    "t3=(1,2,3,2,3)\n",
    "print(t3.count(2))#will return the number of times that 2 is present as an item in the tuple."
   ]
  },
  {
   "cell_type": "code",
   "execution_count": null,
   "metadata": {},
   "outputs": [],
   "source": [
    "#we can unpack lists as well as tuples inside a bunch of variables\n",
    "l1=[1,2,3,4,5,6]\n",
    "t1=(1,2,3,4,5,6)\n",
    "a,b,c=l1[::2]\n",
    "print(a,b,c)\n",
    "d,e,f=t1[::2]\n",
    "print(d,e,f)"
   ]
  },
  {
   "cell_type": "code",
   "execution_count": 80,
   "metadata": {},
   "outputs": [
    {
     "name": "stdout",
     "output_type": "stream",
     "text": [
      "(1, 2, 3, 4, 17)\n",
      "4\n",
      "(1, 2, 19, 3, 4, 17)\n",
      "(1, 2, 3, 4, 17)\n"
     ]
    }
   ],
   "source": [
    "t1=(1,2,3,4)\n",
    "t2=(5,6,7,8)\n",
    "#inserting elements in the tuple\n",
    "t1=t1 + (17,)#we are appending a new item inside the tuple at the end\n",
    "print(t1)\n",
    "print(t1.index(17))\n",
    "#consider that we want to add a new element at pos 2 in t1\n",
    "t1=t1[: 2]+(19,)+t1[2 :]\n",
    "print(t1)\n",
    "#consider we want to delete 19 at pos 2 now\n",
    "t1=t1[: 2]+t1[3 :]#deleting an element from the tuple\n",
    "print(t1)\n",
    "#we can modify an element from the tuple in the same way."
   ]
  },
  {
   "cell_type": "code",
   "execution_count": null,
   "metadata": {},
   "outputs": [],
   "source": [
    "#tuples are created \n",
    "a=1,2,3\n",
    "type(a)"
   ]
  },
  {
   "cell_type": "code",
   "execution_count": null,
   "metadata": {},
   "outputs": [],
   "source": [
    "a=1\n",
    "b=2\n",
    "c=3\n",
    "d=4\n",
    "a,b=c,d\n",
    "print(a,b,c,d)"
   ]
  },
  {
   "cell_type": "code",
   "execution_count": null,
   "metadata": {},
   "outputs": [],
   "source": [
    "a=10\n",
    "b=20\n",
    "a,b=b,a\n",
    "print(a,b)#swapping 2 numbers in python"
   ]
  },
  {
   "cell_type": "markdown",
   "metadata": {},
   "source": [
    "### Dictionaries"
   ]
  },
  {
   "cell_type": "code",
   "execution_count": null,
   "metadata": {},
   "outputs": [],
   "source": [
    "dict1={'key1':1,'key2':'value2','key3':3}"
   ]
  },
  {
   "cell_type": "code",
   "execution_count": null,
   "metadata": {},
   "outputs": [],
   "source": [
    "#we can also create dictionaries using the dict() \n",
    "dict2=dict([('key1',1),('key2',2),(3,3)])"
   ]
  },
  {
   "cell_type": "code",
   "execution_count": null,
   "metadata": {},
   "outputs": [],
   "source": [
    "dict2.items()"
   ]
  },
  {
   "cell_type": "code",
   "execution_count": null,
   "metadata": {},
   "outputs": [],
   "source": [
    "dict2.keys()"
   ]
  },
  {
   "cell_type": "code",
   "execution_count": null,
   "metadata": {},
   "outputs": [],
   "source": [
    "#dictionaries are not indexed hence we need to make use of the key value pairs\n",
    "print(f'The value for key 3 is {dict2[3]} as declared in the dictionary above')#this is an example of a f string "
   ]
  },
  {
   "cell_type": "code",
   "execution_count": null,
   "metadata": {},
   "outputs": [],
   "source": [
    "#we can change the value of a particular key in the dictionary as \n",
    "dict2[3]='aqua'\n",
    "print(f'The value for key 3 is {dict2[3]} as declared in the dictionary above')\n",
    "del dict2[3]\n",
    "print(dict2.keys())"
   ]
  },
  {
   "cell_type": "code",
   "execution_count": null,
   "metadata": {},
   "outputs": [],
   "source": [
    "'key1' in dict2"
   ]
  },
  {
   "cell_type": "code",
   "execution_count": null,
   "metadata": {},
   "outputs": [],
   "source": [
    "dict2.update(key1=27)\n",
    "dict2"
   ]
  },
  {
   "cell_type": "code",
   "execution_count": null,
   "metadata": {},
   "outputs": [],
   "source": [
    "dict2.update([('Key3',33)])#we can also add keys into our dictionary using the update button.\n",
    "print(dict2)"
   ]
  },
  {
   "cell_type": "code",
   "execution_count": null,
   "metadata": {},
   "outputs": [],
   "source": [
    "#we can use the pop() to delete an entry by specifing the key \n",
    "dict2.pop('Key3')\n",
    "print(dict2)"
   ]
  },
  {
   "cell_type": "code",
   "execution_count": null,
   "metadata": {},
   "outputs": [],
   "source": [
    "dict2.get('key1')#wil return the value given by key1"
   ]
  },
  {
   "cell_type": "code",
   "execution_count": null,
   "metadata": {},
   "outputs": [],
   "source": [
    "new_str='helloworld'\n",
    "res=dict.fromkeys(new_str,0)\n",
    "print(res)"
   ]
  },
  {
   "cell_type": "code",
   "execution_count": null,
   "metadata": {},
   "outputs": [],
   "source": [
    "#we can access the values using dictionary elements\n",
    "dict1['key1']"
   ]
  },
  {
   "cell_type": "code",
   "execution_count": null,
   "metadata": {},
   "outputs": [],
   "source": [
    "#we can get a list containing all the keys of the dictionary \n",
    "#using the dictionary.keys()\n",
    "dict1.keys()"
   ]
  },
  {
   "cell_type": "code",
   "execution_count": null,
   "metadata": {},
   "outputs": [],
   "source": [
    "#and we can get all the values using the .values()\n",
    "dict1.values()"
   ]
  },
  {
   "cell_type": "code",
   "execution_count": null,
   "metadata": {},
   "outputs": [],
   "source": [
    "#if we get a list of tuples containing all the items use \n",
    "#the dictionary.items()\n",
    "dict1.items()"
   ]
  },
  {
   "cell_type": "code",
   "execution_count": null,
   "metadata": {},
   "outputs": [],
   "source": [
    "#we can check if a key is present inside the dictionary using the\n",
    "#in operator in the same way as that in lists and tuples\n",
    "print('key2' in dict1)\n",
    "print('l1' in dict1)"
   ]
  },
  {
   "cell_type": "code",
   "execution_count": null,
   "metadata": {},
   "outputs": [],
   "source": [
    "#we can get the values of a particular key as follows\n",
    "print(dict1['key1'])\n",
    "print(dict1['key11'])#we will get a keyerror "
   ]
  },
  {
   "cell_type": "code",
   "execution_count": null,
   "metadata": {},
   "outputs": [],
   "source": [
    "#we can make use of the get() instead\n",
    "print(dict1.get('key1'))\n",
    "print(dict1.get('key11'))"
   ]
  },
  {
   "cell_type": "code",
   "execution_count": null,
   "metadata": {},
   "outputs": [],
   "source": [
    "#we can also specify a default argument when we dont have that \n",
    "#key present\n",
    "dict1.get('four',4)#will return 4 as key named 'four' is not present"
   ]
  },
  {
   "cell_type": "code",
   "execution_count": null,
   "metadata": {},
   "outputs": [],
   "source": [
    "dict1['four']=4#we can add a new key value pair as follows\n",
    "dict1"
   ]
  },
  {
   "cell_type": "code",
   "execution_count": null,
   "metadata": {},
   "outputs": [],
   "source": [
    "dict1.setdefault('five',5)#the dictionary.setdefault() will add the key value pair if not present in the dictionary\n",
    "dict1"
   ]
  },
  {
   "cell_type": "code",
   "execution_count": null,
   "metadata": {},
   "outputs": [],
   "source": [
    "dict1={'key1':1,'key2':'value2','key3':3}#we can iterate through a dictionary as follows.\n",
    "\n",
    "for i,j in dict1.items():\n",
    "    print(f'The key value pair is given as {i} and {j}')"
   ]
  },
  {
   "cell_type": "code",
   "execution_count": null,
   "metadata": {},
   "outputs": [],
   "source": [
    "x=['a',2,'b',4,'c',6,7,'d',9]\n",
    "enum=enumerate(x)\n",
    "print(enum)\n",
    "print(list(enum))"
   ]
  },
  {
   "cell_type": "code",
   "execution_count": 82,
   "metadata": {},
   "outputs": [
    {
     "name": "stdout",
     "output_type": "stream",
     "text": [
      "{'a': 0, 'b': 0, 'c': 0, 'd': 0, 'e': 0}\n"
     ]
    }
   ],
   "source": [
    "#creating a ditionary from a list of keys and initializing all of them to 0\n",
    "l1=['a','b','c','d','e','a']\n",
    "res=dict.fromkeys(l1,0)\n",
    "print(res)#will initialize a dictionary from a list of keys with the initial value of 0"
   ]
  },
  {
   "cell_type": "code",
   "execution_count": 88,
   "metadata": {},
   "outputs": [
    {
     "name": "stdout",
     "output_type": "stream",
     "text": [
      "{'a': 1, 'b': 2, 'c': 3, 'd': 4}\n",
      "2\n",
      "['a', 'b', 'c', 'd']\n",
      "['a']\n"
     ]
    }
   ],
   "source": [
    "#if you have two lists and want to build a dictionary out of them\n",
    "l1=['a','b','c','d']\n",
    "l2=[1,2,3,4]\n",
    "dict1=dict(zip(l1,l2))\n",
    "print(dict1)\n",
    "print(dict1.get('b'))\n",
    "#if you want to create a list of all the keys in the dataset\n",
    "l1=list(dict1.keys())\n",
    "print(l1)\n",
    "#filtering the list based on the keys.\n",
    "l2=[i for i in dict1.keys() if i.startswith('a')]\n",
    "print(l2)"
   ]
  },
  {
   "cell_type": "code",
   "execution_count": 90,
   "metadata": {},
   "outputs": [
    {
     "name": "stdout",
     "output_type": "stream",
     "text": [
      "{'b': 2, 'c': 3, 'd': 4}\n",
      "{'c': 3, 'd': 4}\n"
     ]
    }
   ],
   "source": [
    "#to delete a key from the dictionary use the del\n",
    "l1=['a','b','c','d']\n",
    "l2=[1,2,3,4]\n",
    "dict1=dict(zip(l1,l2))\n",
    "del dict1['a']\n",
    "print(dict1)\n",
    "# we can also use \n",
    "dict1.pop('b',None)#will return None if key not found\n",
    "print(dict1)"
   ]
  },
  {
   "cell_type": "code",
   "execution_count": 91,
   "metadata": {},
   "outputs": [
    {
     "name": "stdout",
     "output_type": "stream",
     "text": [
      "['c']\n"
     ]
    }
   ],
   "source": [
    "l1=['a','b','c','d']\n",
    "l2=[1,2,3,4]\n",
    "dict1=dict(zip(l1,l2))\n",
    "\n",
    "l1=[key for (key,value) in dict1.items() if value==3] #this is how you would get the key based off the \n",
    "#value using list comprehension.\n",
    "print(l1)"
   ]
  },
  {
   "cell_type": "code",
   "execution_count": 92,
   "metadata": {},
   "outputs": [
    {
     "name": "stdout",
     "output_type": "stream",
     "text": [
      "{'b': 2, 'd': 4}\n"
     ]
    }
   ],
   "source": [
    "#filtering a dictionary based off conditions \n",
    "l1=['a','b','c','d']\n",
    "l2=[1,2,3,4]\n",
    "dict1=dict(zip(l1,l2))\n",
    "new_dict={key:value for (key,value) in dict1.items() if value%2==0}\n",
    "print(new_dict)"
   ]
  },
  {
   "cell_type": "code",
   "execution_count": 95,
   "metadata": {},
   "outputs": [
    {
     "name": "stdout",
     "output_type": "stream",
     "text": [
      "{'bcdef': 2, 'cefgh': 3}\n"
     ]
    }
   ],
   "source": [
    "l1=['abcd','bcdef','cefgh','dads']\n",
    "l2=[1,2,3,4]\n",
    "dict1=dict(zip(l1,l2))\n",
    "#filtering the dictionary\n",
    "dict_new={key:value for (key,value) in dict1.items() if len(key)==5}\n",
    "print(dict_new)"
   ]
  },
  {
   "cell_type": "code",
   "execution_count": 96,
   "metadata": {},
   "outputs": [
    {
     "name": "stdout",
     "output_type": "stream",
     "text": [
      "{'bcdef': 2, 'cefgh': 3}\n"
     ]
    }
   ],
   "source": [
    "l1=['abcd','bcdef','cefgh','dads']\n",
    "l2=[1,2,3,4]\n",
    "dict1=dict(zip(l1,l2))\n",
    "new_dict=dict(filter(lambda x:len(x[0])==5,dict1.items()))#we ca\n",
    "print(new_dict)"
   ]
  },
  {
   "cell_type": "code",
   "execution_count": 98,
   "metadata": {},
   "outputs": [
    {
     "name": "stdout",
     "output_type": "stream",
     "text": [
      "abcd 1\n",
      "bcdef 2\n",
      "cefgh 3\n",
      "dads 4\n"
     ]
    },
    {
     "data": {
      "text/plain": [
       "[None, None, None, None]"
      ]
     },
     "execution_count": 98,
     "metadata": {},
     "output_type": "execute_result"
    }
   ],
   "source": [
    "#printing a dictionary line by line.\n",
    "l1=['abcd','bcdef','cefgh','dads']\n",
    "l2=[1,2,3,4]\n",
    "dict1=dict(zip(l1,l2))\n",
    "[print(key,value) for (key,value) in dict1.items()]#printing a dictionary line by line."
   ]
  },
  {
   "cell_type": "code",
   "execution_count": 99,
   "metadata": {},
   "outputs": [
    {
     "name": "stdout",
     "output_type": "stream",
     "text": [
      "{\n",
      "   \"abcd\": 1,\n",
      "   \"bcdef\": 2,\n",
      "   \"cefgh\": 3,\n",
      "   \"dads\": 4\n",
      "}\n"
     ]
    }
   ],
   "source": [
    "import json\n",
    "l1=['abcd','bcdef','cefgh','dads']\n",
    "l2=[1,2,3,4]\n",
    "dict1=dict(zip(l1,l2))\n",
    "\n",
    "print(json.dumps(dict1,indent=3))#we can use json.dumps() can be used to serialize the object passed \n",
    "#to it in the form of json objects"
   ]
  },
  {
   "cell_type": "code",
   "execution_count": null,
   "metadata": {},
   "outputs": [],
   "source": []
  },
  {
   "cell_type": "markdown",
   "metadata": {},
   "source": [
    "### Sets"
   ]
  },
  {
   "cell_type": "code",
   "execution_count": null,
   "metadata": {},
   "outputs": [],
   "source": [
    "#we can create sets which are simmilar to lists but cannot hold\n",
    "#duplicate values \n",
    "s1=set()\n",
    "s2=set([1,2,3,4,1,2])\n",
    "print(s2)\n",
    "print(s2[0])#sets are not ordered hence we cannot select them using indexing."
   ]
  },
  {
   "cell_type": "code",
   "execution_count": null,
   "metadata": {},
   "outputs": [],
   "source": [
    "dict1={1:2,3:4,5:5}\n",
    "print(dict1.keys())\n",
    "set1={1,2,3,4,5,6}\n",
    "print(type(set1))\n",
    "set2=set([1,2,3,4,5])\n",
    "set3=set((1,2,3,4,5,6,99))\n",
    "print(set2,set3)\n",
    "print(type(set3))\n",
    "s1=set({'helloworld'})#key difference\n",
    "s2=set('helloworld')\n",
    "print(s1,s2)\n",
    "#s4=set([1,2,3,4],[4,5,6,7,8])\n",
    "print(type(s4),s4)\n",
    "#we can also do things like intersection and or etc wrt to sets\n",
    "print(set1 | set2)\n",
    "print(set1 & set2)\n",
    "print(set1 - set2)#set difference\n",
    "print(set2 <= set1)#set2 is a subset of set1\n",
    "print(set2 < set1)\n",
    "set4={1,2,3,8}\n",
    "print(set4 <= set1)\n",
    "print(set4 < set1)\n",
    "#we can use the set.remove() or the set.discard() the remove function will throw an error if the item is not present \n",
    "#in the set\n",
    "set4.remove(1)\n",
    "print(set4)\n",
    "#set4.remove(99)#throws error\n",
    "set4.discard(99)#does not throw an error\n",
    "set4.clear()#the set.clear() will remove all the items from the set.\n",
    "print(set4)\n",
    "print(set1.union(set2,set3))#instead of using | & etc we can use these functions.\n",
    "print(set1.intersection(set2,set3))\n",
    "set5=set1.copy()#the set.copy() returns a shallow copy of set1\n",
    "print(set5)\n",
    "set5.add(45)\n",
    "print(set1,id(set1))\n",
    "print(set5,id(set5))"
   ]
  },
  {
   "cell_type": "code",
   "execution_count": null,
   "metadata": {},
   "outputs": [],
   "source": [
    "print(s2)#will ignore the duplicate values"
   ]
  },
  {
   "cell_type": "code",
   "execution_count": null,
   "metadata": {},
   "outputs": [],
   "source": [
    "s3={1,2,3,4,5,6,7,89,1,2,3}#we can also declare a set as follows\n",
    "print(s3)"
   ]
  },
  {
   "cell_type": "code",
   "execution_count": null,
   "metadata": {},
   "outputs": [],
   "source": [
    "s3.add(123)#just like the list.append() the set has an add() which will insert the new value at the end of the list\n",
    "s3"
   ]
  },
  {
   "cell_type": "code",
   "execution_count": null,
   "metadata": {},
   "outputs": [],
   "source": [
    "s1={1,2,3,4}\n",
    "s2={1,5,6,7}\n",
    "#we can perform a union or an intersection between two sets using the & or the |\n",
    "print(s1 & s2) #returns a set with the intersection of set1 and set2\n",
    "print(s1 | s2)#returns the union of set1 with set2"
   ]
  },
  {
   "cell_type": "code",
   "execution_count": null,
   "metadata": {},
   "outputs": [],
   "source": [
    "#set difference with - \n",
    "{1,2,3,4}-{2,3,5}\n",
    "#symmetric difference with ^\n",
    "{1,2,3,4}^{2,3,4}"
   ]
  },
  {
   "cell_type": "code",
   "execution_count": null,
   "metadata": {},
   "outputs": [],
   "source": [
    "{1,2}>={1,2,3}"
   ]
  },
  {
   "cell_type": "code",
   "execution_count": null,
   "metadata": {},
   "outputs": [],
   "source": [
    "{1,2}<={1,2,3}#check if the set on the right is a subset of the one on the left"
   ]
  },
  {
   "cell_type": "code",
   "execution_count": null,
   "metadata": {},
   "outputs": [],
   "source": [
    "#the in operator can be used here as well\n",
    "print(2 in s1,\n",
    "5 not in s1)"
   ]
  },
  {
   "cell_type": "code",
   "execution_count": null,
   "metadata": {},
   "outputs": [],
   "source": [
    "i=10\n",
    "if i>10:\n",
    "    print(' > 10')\n",
    "elif i<10:\n",
    "    print('< 10')\n",
    "else:\n",
    "    print('10')"
   ]
  },
  {
   "cell_type": "code",
   "execution_count": null,
   "metadata": {},
   "outputs": [],
   "source": [
    "l1=['milk','eggs','rice','fish']\n",
    "for food in l1:\n",
    "    print('Tom loves to eat {stuff}'.format(stuff=food))"
   ]
  },
  {
   "cell_type": "code",
   "execution_count": null,
   "metadata": {},
   "outputs": [],
   "source": [
    "#The range(lower,upper) will return a set of numbers from the lower number to the higher number\n",
    "range(0,5)\n",
    "for i in range(0,5):\n",
    "    print(i)"
   ]
  },
  {
   "cell_type": "markdown",
   "metadata": {},
   "source": [
    "### Try catch block "
   ]
  },
  {
   "cell_type": "code",
   "execution_count": null,
   "metadata": {},
   "outputs": [],
   "source": [
    "try:\n",
    "    raise IndexError(\"Index error caused!\")\n",
    "except IndexError as e:\n",
    "    pass #no operation\n",
    "except (TypeError,NameError):\n",
    "    pass\n",
    "else:\n",
    "    print('done')\n",
    "finally:#perform cleanup of resources here\n",
    "    print('close')"
   ]
  },
  {
   "cell_type": "code",
   "execution_count": null,
   "metadata": {},
   "outputs": [],
   "source": [
    "#if we want to cleanup resources withought using the try/finally \n",
    "#we can use the with statement\n",
    "with open('file1.txt') as f:\n",
    "    for l in f:\n",
    "        print(l)"
   ]
  },
  {
   "cell_type": "code",
   "execution_count": null,
   "metadata": {},
   "outputs": [],
   "source": [
    "def add(x,y):\n",
    "    print('adding {a} and {b}'.format(a=x,b=y))\n",
    "    return x+y\n",
    "add(1,12)"
   ]
  },
  {
   "cell_type": "code",
   "execution_count": null,
   "metadata": {},
   "outputs": [],
   "source": [
    "def add_var(*args):#if we want to work with a variable number of parameters theyy will be interpreted as a tuple when we use *\n",
    "    sum=0\n",
    "    for i in args:\n",
    "        sum=sum+i\n",
    "    return sum\n",
    "add_var(1,2,3,4,5,6,7,8,9)"
   ]
  },
  {
   "cell_type": "code",
   "execution_count": null,
   "metadata": {},
   "outputs": [],
   "source": [
    "#we can also use ** to get the positional arguments which are\n",
    "#interpreted as a dictionary\n",
    "def add_pos(**kargs):\n",
    "    print(kargs.items())\n",
    "add_pos(one=1,two=2)"
   ]
  },
  {
   "cell_type": "code",
   "execution_count": null,
   "metadata": {},
   "outputs": [],
   "source": [
    "val1=16\n",
    "def func():\n",
    "    val1=20\n",
    "    print(val1)\n",
    "func()\n",
    "print(val1)"
   ]
  },
  {
   "cell_type": "code",
   "execution_count": null,
   "metadata": {},
   "outputs": [],
   "source": [
    "global val2\n",
    "val2=17\n",
    "def func():\n",
    "    val2=20\n",
    "    print(val2)\n",
    "func()\n",
    "print(val2)"
   ]
  },
  {
   "cell_type": "code",
   "execution_count": null,
   "metadata": {},
   "outputs": [],
   "source": [
    "#LAMBDA FUNCTIONS / ANONYMOUS FUNCTIONS\n",
    "(lambda x:x>=5)(10)"
   ]
  },
  {
   "cell_type": "code",
   "execution_count": 93,
   "metadata": {},
   "outputs": [
    {
     "data": {
      "text/plain": [
       "22"
      ]
     },
     "execution_count": 93,
     "metadata": {},
     "output_type": "execute_result"
    }
   ],
   "source": [
    "(lambda x,y:x+y)(12,10)#creating our add function using anonymous function"
   ]
  },
  {
   "cell_type": "code",
   "execution_count": null,
   "metadata": {},
   "outputs": [],
   "source": [
    "def add(x,y):\n",
    "    return x+y\n",
    "\n",
    "res=map(add,[1,2,3,4,5,6,7],[1,2,3,4,5,6])\n",
    "print(list(res))"
   ]
  },
  {
   "cell_type": "code",
   "execution_count": null,
   "metadata": {},
   "outputs": [],
   "source": [
    "list(map(max,[1,2,3],[4,2,1]))"
   ]
  },
  {
   "cell_type": "code",
   "execution_count": null,
   "metadata": {},
   "outputs": [],
   "source": [
    "res=filter(lambda x: x>3,[3,4,5,6,7,8,1,2,0])\n",
    "list(res)"
   ]
  },
  {
   "cell_type": "code",
   "execution_count": null,
   "metadata": {},
   "outputs": [],
   "source": [
    "where python\n"
   ]
  },
  {
   "cell_type": "code",
   "execution_count": 14,
   "metadata": {},
   "outputs": [],
   "source": [
    "import pandas as pd\n",
    "import numpy as np"
   ]
  },
  {
   "cell_type": "code",
   "execution_count": 15,
   "metadata": {},
   "outputs": [],
   "source": [
    "vals=[(1,2,4),\n",
    "     (3,4,5),\n",
    "    (5,6,6) ]\n",
    "df=pd.DataFrame(vals,columns=('one','two','three'))"
   ]
  },
  {
   "cell_type": "code",
   "execution_count": 29,
   "metadata": {},
   "outputs": [
    {
     "data": {
      "text/html": [
       "<div>\n",
       "<style scoped>\n",
       "    .dataframe tbody tr th:only-of-type {\n",
       "        vertical-align: middle;\n",
       "    }\n",
       "\n",
       "    .dataframe tbody tr th {\n",
       "        vertical-align: top;\n",
       "    }\n",
       "\n",
       "    .dataframe thead th {\n",
       "        text-align: right;\n",
       "    }\n",
       "</style>\n",
       "<table border=\"1\" class=\"dataframe\">\n",
       "  <thead>\n",
       "    <tr style=\"text-align: right;\">\n",
       "      <th></th>\n",
       "      <th>one</th>\n",
       "      <th>two</th>\n",
       "      <th>three</th>\n",
       "    </tr>\n",
       "  </thead>\n",
       "  <tbody>\n",
       "    <tr>\n",
       "      <td>0</td>\n",
       "      <td>1</td>\n",
       "      <td>2</td>\n",
       "      <td>4</td>\n",
       "    </tr>\n",
       "    <tr>\n",
       "      <td>1</td>\n",
       "      <td>3</td>\n",
       "      <td>4</td>\n",
       "      <td>5</td>\n",
       "    </tr>\n",
       "    <tr>\n",
       "      <td>2</td>\n",
       "      <td>5</td>\n",
       "      <td>6</td>\n",
       "      <td>6</td>\n",
       "    </tr>\n",
       "  </tbody>\n",
       "</table>\n",
       "</div>"
      ],
      "text/plain": [
       "   one  two  three\n",
       "0    1    2      4\n",
       "1    3    4      5\n",
       "2    5    6      6"
      ]
     },
     "execution_count": 29,
     "metadata": {},
     "output_type": "execute_result"
    }
   ],
   "source": [
    "df.head()"
   ]
  },
  {
   "cell_type": "code",
   "execution_count": 32,
   "metadata": {},
   "outputs": [
    {
     "data": {
      "text/html": [
       "<div>\n",
       "<style scoped>\n",
       "    .dataframe tbody tr th:only-of-type {\n",
       "        vertical-align: middle;\n",
       "    }\n",
       "\n",
       "    .dataframe tbody tr th {\n",
       "        vertical-align: top;\n",
       "    }\n",
       "\n",
       "    .dataframe thead th {\n",
       "        text-align: right;\n",
       "    }\n",
       "</style>\n",
       "<table border=\"1\" class=\"dataframe\">\n",
       "  <thead>\n",
       "    <tr style=\"text-align: right;\">\n",
       "      <th></th>\n",
       "      <th>one</th>\n",
       "      <th>two</th>\n",
       "      <th>three</th>\n",
       "    </tr>\n",
       "  </thead>\n",
       "  <tbody>\n",
       "    <tr>\n",
       "      <td>0</td>\n",
       "      <td>5</td>\n",
       "      <td>7</td>\n",
       "      <td>11</td>\n",
       "    </tr>\n",
       "    <tr>\n",
       "      <td>1</td>\n",
       "      <td>9</td>\n",
       "      <td>11</td>\n",
       "      <td>13</td>\n",
       "    </tr>\n",
       "    <tr>\n",
       "      <td>2</td>\n",
       "      <td>13</td>\n",
       "      <td>15</td>\n",
       "      <td>15</td>\n",
       "    </tr>\n",
       "  </tbody>\n",
       "</table>\n",
       "</div>"
      ],
      "text/plain": [
       "   one  two  three\n",
       "0    5    7     11\n",
       "1    9   11     13\n",
       "2   13   15     15"
      ]
     },
     "execution_count": 32,
     "metadata": {},
     "output_type": "execute_result"
    }
   ],
   "source": [
    "df.apply(star,axis=0,args=[2,3])"
   ]
  },
  {
   "cell_type": "code",
   "execution_count": 30,
   "metadata": {},
   "outputs": [],
   "source": [
    "def star(x,m,c):\n",
    "    return x*m+c\n",
    "    "
   ]
  },
  {
   "cell_type": "raw",
   "metadata": {},
   "source": [
    "df_new.head()"
   ]
  },
  {
   "cell_type": "code",
   "execution_count": 38,
   "metadata": {},
   "outputs": [
    {
     "data": {
      "text/plain": [
       "0    1\n",
       "1    3\n",
       "2    5\n",
       "Name: one, dtype: int64"
      ]
     },
     "execution_count": 38,
     "metadata": {},
     "output_type": "execute_result"
    }
   ],
   "source": [
    "df.loc[:,'one']"
   ]
  },
  {
   "cell_type": "code",
   "execution_count": 39,
   "metadata": {},
   "outputs": [
    {
     "data": {
      "text/plain": [
       "0     5\n",
       "1     9\n",
       "2    13\n",
       "Name: one, dtype: int64"
      ]
     },
     "execution_count": 39,
     "metadata": {},
     "output_type": "execute_result"
    }
   ],
   "source": [
    "df.loc[:,'one'].apply(star,args=[2,3])"
   ]
  },
  {
   "cell_type": "code",
   "execution_count": 48,
   "metadata": {},
   "outputs": [
    {
     "data": {
      "text/html": [
       "<div>\n",
       "<style scoped>\n",
       "    .dataframe tbody tr th:only-of-type {\n",
       "        vertical-align: middle;\n",
       "    }\n",
       "\n",
       "    .dataframe tbody tr th {\n",
       "        vertical-align: top;\n",
       "    }\n",
       "\n",
       "    .dataframe thead th {\n",
       "        text-align: right;\n",
       "    }\n",
       "</style>\n",
       "<table border=\"1\" class=\"dataframe\">\n",
       "  <thead>\n",
       "    <tr style=\"text-align: right;\">\n",
       "      <th></th>\n",
       "      <th>one</th>\n",
       "      <th>two</th>\n",
       "      <th>three</th>\n",
       "    </tr>\n",
       "  </thead>\n",
       "  <tbody>\n",
       "    <tr>\n",
       "      <td>0</td>\n",
       "      <td>3</td>\n",
       "      <td>4</td>\n",
       "      <td>6</td>\n",
       "    </tr>\n",
       "    <tr>\n",
       "      <td>1</td>\n",
       "      <td>11</td>\n",
       "      <td>14</td>\n",
       "      <td>17</td>\n",
       "    </tr>\n",
       "    <tr>\n",
       "      <td>2</td>\n",
       "      <td>27</td>\n",
       "      <td>32</td>\n",
       "      <td>32</td>\n",
       "    </tr>\n",
       "  </tbody>\n",
       "</table>\n",
       "</div>"
      ],
      "text/plain": [
       "   one  two  three\n",
       "0    3    4      6\n",
       "1   11   14     17\n",
       "2   27   32     32"
      ]
     },
     "execution_count": 48,
     "metadata": {},
     "output_type": "execute_result"
    }
   ],
   "source": [
    "df.apply(star,axis=0,args=[df['one'],2])"
   ]
  },
  {
   "cell_type": "code",
   "execution_count": null,
   "metadata": {},
   "outputs": [],
   "source": [
    "import numpy as np\n",
    "import pandas as pd\n",
    "def star(x,m,c):\n",
    "    return x*m+c\n",
    "vals=[(1,2,4),\n",
    "     (3,4,5),\n",
    "    (5,6,6) ]\n",
    "df=pd.DataFrame(vals,columns=('one','two','three'))\n",
    "res=df.apply(star,axis=0,args=[2,3])"
   ]
  },
  {
   "cell_type": "code",
   "execution_count": null,
   "metadata": {},
   "outputs": [],
   "source": [
    "i=[1,2,3,4,5]\n",
    "j=['a','b','c']\n",
    "k=[1,2,3,'a','t','p']\n",
    "z = zip(i,j)\n",
    "#print(z)\n",
    "#print(list(z))#tuple packing\n",
    "for a,b in z:\n",
    "    print(f'value of {a} is {b}')"
   ]
  },
  {
   "cell_type": "code",
   "execution_count": null,
   "metadata": {},
   "outputs": [],
   "source": [
    "#it is important to understand that the zip() and enumerate() return a special type of object which is iterable \n",
    "#these objects are known as generators these are designed to be used once and then destroyed"
   ]
  },
  {
   "cell_type": "code",
   "execution_count": null,
   "metadata": {},
   "outputs": [],
   "source": [
    "i = [1, 2, 3, 4, 5, 6, 7, 8, 9, 10]\n",
    "j = ['a','b','c','d']   \n",
    "z = zip(i,j)\n",
    "for a,b in z:\n",
    "    print(f'value of {a} is {b}')"
   ]
  },
  {
   "cell_type": "code",
   "execution_count": null,
   "metadata": {},
   "outputs": [],
   "source": [
    "i = [1, 2, 3, 4, 5, 6, 7, 8, 9, 10]\n",
    "j = ['a','b','c','d']   \n",
    "z = zip(i,j)\n",
    "for a,b in z:\n",
    "    print(f'value of {a} is {b}')\n",
    "print(list(z))#empty\n",
    "print(id(z))\n",
    "\n",
    "print(z)"
   ]
  },
  {
   "cell_type": "code",
   "execution_count": null,
   "metadata": {},
   "outputs": [],
   "source": [
    "#conversion from celsius to fahrenheit\n",
    "fahrenheit_temps=[]\n",
    "celsius_temps = [-60, -40, 0, 37, 100]\n",
    "for i in celsius_temps:\n",
    "    res=(i*(9/5))+32\n",
    "    fahrenheit_temps.append(res)\n",
    "print(fahrenheit_temps)"
   ]
  },
  {
   "cell_type": "code",
   "execution_count": null,
   "metadata": {},
   "outputs": [],
   "source": [
    "#doing the same with list comprehension\n",
    "fahrenheit_temps=[(i*(9/5))+32 for i in celsius_temps]\n",
    "print(fahrenheit_temps)"
   ]
  },
  {
   "cell_type": "code",
   "execution_count": null,
   "metadata": {},
   "outputs": [],
   "source": [
    "#Reverse the words in a string, but do not change the order of the words\n",
    "res=''\n",
    "input_str = 'the quick brown fox jumps over the lazy dog'\n",
    "temp=input_str.split()\n",
    "temp\n",
    "for i in temp:\n",
    "    print(i[::-1])#reverse it\n",
    "    res=res+' '+i[::-1]\n",
    "print(res)"
   ]
  },
  {
   "cell_type": "code",
   "execution_count": null,
   "metadata": {},
   "outputs": [],
   "source": [
    "#doing the same with list comprehensions\n",
    "res=[i[::-1] for i in input_str.split()]\n",
    "print(res)"
   ]
  },
  {
   "cell_type": "code",
   "execution_count": null,
   "metadata": {},
   "outputs": [],
   "source": [
    "input_str = 'the quick brown fox jumps over the lazy dog'\n",
    "temp=input_str.split()\n",
    "vowels=('a','e','i','o','u')\n",
    "res=input_str\n",
    "for i in input_str.lower():\n",
    "    if i in vowels:\n",
    "        res=res.replace(i,'')\n",
    "    else:\n",
    "        continue\n",
    "print(res)"
   ]
  },
  {
   "cell_type": "code",
   "execution_count": null,
   "metadata": {},
   "outputs": [],
   "source": []
  },
  {
   "cell_type": "code",
   "execution_count": null,
   "metadata": {},
   "outputs": [],
   "source": [
    "#Read in a string which has comma separated email addresses.\n",
    "#Create a dictionary where keys are the usernames and values are the email domains\n",
    "input_str = 'to@izmet.de,dadweg@jodbip.ga,agbegru@ki.gl,ricuwi@papkop.pt,bit@te.ss,onutodwun@hi.sa,aso@luc.mt'\n",
    "dict1={}\n",
    "l1=[]\n",
    "temp=input_str.split(',')\n",
    "#print(temp)\n",
    "for i in temp:\n",
    "    res=i.split('@')\n",
    "    #print(type(res))\n",
    "    temp=tuple(res)\n",
    "    l1.append(temp)\n",
    "print(l1)\n",
    "dict1.update(l1)\n",
    "print(dict1)\n",
    "    #print(list(res))\n",
    "    \n",
    "#print(dict1)\n",
    "    "
   ]
  },
  {
   "cell_type": "code",
   "execution_count": null,
   "metadata": {},
   "outputs": [],
   "source": [
    "#Python comprehensions \n",
    "#python comprehensions are used to generate collections on the fly using for loops\n",
    "#so we can have different types of comprehensions lists,generators,dictionaries etc\n"
   ]
  },
  {
   "cell_type": "code",
   "execution_count": null,
   "metadata": {},
   "outputs": [],
   "source": [
    "output=[]\n",
    "for i in range(1,9):\n",
    "    output.append(i+1)\n",
    "print(output)\n",
    "\n",
    "#we can do the same in one line with list comprehensions\n",
    "output_new=[i+1 for i in range(1,9)]\n",
    "print(output_new)"
   ]
  },
  {
   "cell_type": "code",
   "execution_count": null,
   "metadata": {},
   "outputs": [],
   "source": [
    "#if we want to give a particular condition which needs to be satisfied\n",
    "output_new=[i+1 for i in range(1,9) if i%2==0]\n",
    "print(output_new)"
   ]
  },
  {
   "cell_type": "code",
   "execution_count": null,
   "metadata": {},
   "outputs": [],
   "source": [
    "test_input=[i for i in range(1,11) if i%2==0]\n",
    "print(test_input)"
   ]
  },
  {
   "cell_type": "code",
   "execution_count": null,
   "metadata": {},
   "outputs": [],
   "source": [
    "output=[[i,j] for i in range(1,9) for j in range(1,6)]\n",
    "print(output)"
   ]
  },
  {
   "cell_type": "code",
   "execution_count": null,
   "metadata": {},
   "outputs": [],
   "source": [
    "output=[[i+j for j in range(1,5)]for i in range(1,6)]\n",
    "print(output)"
   ]
  },
  {
   "cell_type": "code",
   "execution_count": null,
   "metadata": {},
   "outputs": [],
   "source": [
    "output=[[(i,j)] for i in range(1,7) for j in range(1,5)]\n",
    "print(output)"
   ]
  },
  {
   "cell_type": "code",
   "execution_count": null,
   "metadata": {},
   "outputs": [],
   "source": [
    "z = [(i + j) for i, j in zip(range(11), range(10, 21))]\n",
    "print(z)"
   ]
  },
  {
   "cell_type": "code",
   "execution_count": null,
   "metadata": {},
   "outputs": [],
   "source": [
    "y=[i**2 if i%2==0 else i for i in range(1,10)]#we can also write a\n",
    "print(y)"
   ]
  },
  {
   "cell_type": "code",
   "execution_count": null,
   "metadata": {},
   "outputs": [],
   "source": [
    "#dictionary comprehensions\n",
    "l=list(range(1,20))\n",
    "print(l)\n",
    "d={i:'even' if i%2==0 else'odd' for i in l}\n",
    "print(d)"
   ]
  },
  {
   "cell_type": "code",
   "execution_count": null,
   "metadata": {},
   "outputs": [],
   "source": [
    "#count the number of times a letter appears in a string\n",
    "l='Project Alpha Version seven'\n",
    "d={i:l.count(i)for i in l}\n",
    "print(d)"
   ]
  },
  {
   "cell_type": "code",
   "execution_count": null,
   "metadata": {},
   "outputs": [],
   "source": [
    "item=['cycle','tea','phone']#Create a dictionary of the following items\n",
    "cost=[1,2,3]\n",
    "d={i:j for i,j in zip(item,cost)}\n",
    "print(d)"
   ]
  },
  {
   "cell_type": "code",
   "execution_count": null,
   "metadata": {},
   "outputs": [],
   "source": [
    "#we can also form a dictionary if u wanted to just zip the lists\n",
    "d=dict(zip(item,cost))\n",
    "print(d)"
   ]
  },
  {
   "cell_type": "code",
   "execution_count": null,
   "metadata": {},
   "outputs": [],
   "source": [
    "#set comprehensions\n",
    "l=list(range(1,20))\n",
    "s={i for i in l if i%2==0}\n",
    "print(s)"
   ]
  },
  {
   "cell_type": "code",
   "execution_count": null,
   "metadata": {},
   "outputs": [],
   "source": [
    "#generator comprehensions\n",
    "#a generator comprehension is memory efficient as it is not evaluated immediatley but is used as \n",
    "#an iterable and will generate values one by one in the iteration this makes it memory efficient.\n",
    "g=(i for i in range(100))\n",
    "sum=0\n",
    "for num in g:\n",
    "    sum=sum+num\n",
    "print(sum)\n",
    "print(list(g))"
   ]
  },
  {
   "cell_type": "code",
   "execution_count": null,
   "metadata": {},
   "outputs": [],
   "source": [
    "#python functions\n",
    "def add(x,y):\n",
    "    return x+y\n",
    "print(add(1,2))\n",
    "new_add=add\n",
    "print(new_add(5,6))\n",
    "def add(x,y,z):\n",
    "    return x+y+z\n",
    "print(add(1,2,3))\n",
    "#print(new_add(1,2,3))#error"
   ]
  },
  {
   "cell_type": "code",
   "execution_count": null,
   "metadata": {},
   "outputs": [],
   "source": [
    "def hi():\n",
    "    print('hellooooo')\n",
    "hi()\n",
    "a=hi()\n",
    "print(a)\n",
    "#every python function returns a value only difference is that if we dont specify a value python will return\n",
    "#none by default"
   ]
  },
  {
   "cell_type": "code",
   "execution_count": null,
   "metadata": {},
   "outputs": [],
   "source": [
    "def add(a=1,b=10):\n",
    "    return a+b\n",
    "print(add())\n",
    "print(add(1,2))\n",
    "print(add(1))\n",
    "print(add(b=12))"
   ]
  },
  {
   "cell_type": "code",
   "execution_count": null,
   "metadata": {},
   "outputs": [],
   "source": [
    "#to convert a character to its corresponding ASCII value and back\n",
    "res=ord('a')#converting 'a' to its ascii value use the ord()\n",
    "print(res)\n",
    "print(chr(res))#in python variables dont actually have a type its the value that is present inside\n",
    "#the variable which will actually dictate its type\n",
    "y=1.0\n",
    "print(type(y))\n",
    "y='a'\n",
    "print(type(y))"
   ]
  },
  {
   "cell_type": "code",
   "execution_count": null,
   "metadata": {},
   "outputs": [],
   "source": [
    "x=[1,2,3,4,5]\n",
    "y=x\n",
    "x.append(6)\n",
    "print(id(x),x)\n",
    "print(id(y),y)\n",
    "y.append(7)\n",
    "print(id(x),x)\n",
    "print(id(y),y)\n",
    "print(x==y)\n",
    "print(x is y)"
   ]
  },
  {
   "cell_type": "code",
   "execution_count": null,
   "metadata": {},
   "outputs": [],
   "source": [
    "#cartesian product using list comprehension\n",
    "a=[1,2,3,4,5]\n",
    "b=['a','b','b','c','d']\n",
    "res=[(i,j) for i in a for j in b]#this will do axb and save it in the value res.\n",
    "print(res)"
   ]
  },
  {
   "cell_type": "code",
   "execution_count": null,
   "metadata": {},
   "outputs": [],
   "source": [
    "def squared(x):\n",
    "    return x**2\n",
    "#we can call this function as \n",
    "res1=squared(2)\n",
    "#we can also call this function on an iterable\n",
    "res2=map(squared,[1,2,3,4,5])\n",
    "#we can also write the squared() as an anonymous function\n",
    "res3=map(lambda x:x**2,[1,2,3,4,5])\n",
    "#we can also use the filter()\n",
    "res4=filter(lambda x:x>2,[1,2,3,4,5])#we use filter to filter the list \n",
    "print(res1,list(res2),list(res3),list(res4))\n",
    "l1=[1,2,3,4,5]"
   ]
  },
  {
   "cell_type": "code",
   "execution_count": null,
   "metadata": {},
   "outputs": [],
   "source": [
    "#working with maps and filters in listcomprehensions\n",
    "values=list(range(30))\n",
    "#filtering this list by applying filtering in a list comprehension\n",
    "res1=[i for i in values if i%2==0]\n",
    "#we can also use a map while working with list comprehensions\n",
    "res2=[squared(i) for i in values if i%2!=0]\n",
    "print(res1)\n",
    "print(res2)"
   ]
  },
  {
   "cell_type": "code",
   "execution_count": null,
   "metadata": {},
   "outputs": [],
   "source": [
    "#The reduce function\n",
    "#the reduce function will recursivley apply the function and finally return a single value in the end\n",
    "from functools import reduce\n",
    "res=reduce(lambda x,y:x+y,[1,2,3,4,5])\n",
    "print(res)"
   ]
  },
  {
   "cell_type": "code",
   "execution_count": null,
   "metadata": {},
   "outputs": [],
   "source": []
  },
  {
   "cell_type": "code",
   "execution_count": null,
   "metadata": {},
   "outputs": [],
   "source": []
  },
  {
   "cell_type": "code",
   "execution_count": null,
   "metadata": {},
   "outputs": [],
   "source": []
  },
  {
   "cell_type": "code",
   "execution_count": null,
   "metadata": {},
   "outputs": [],
   "source": []
  },
  {
   "cell_type": "code",
   "execution_count": null,
   "metadata": {},
   "outputs": [],
   "source": []
  },
  {
   "cell_type": "code",
   "execution_count": null,
   "metadata": {},
   "outputs": [],
   "source": []
  },
  {
   "cell_type": "code",
   "execution_count": null,
   "metadata": {},
   "outputs": [],
   "source": []
  },
  {
   "cell_type": "code",
   "execution_count": null,
   "metadata": {},
   "outputs": [],
   "source": [
    "l1=[1,2,3,4,5,6,7,1,2,3,1,23]\n",
    "\n",
    "[index for index,val in enumerate(l1) if val==1]"
   ]
  },
  {
   "cell_type": "code",
   "execution_count": null,
   "metadata": {},
   "outputs": [],
   "source": []
  },
  {
   "cell_type": "markdown",
   "metadata": {},
   "source": []
  },
  {
   "cell_type": "code",
   "execution_count": null,
   "metadata": {},
   "outputs": [],
   "source": []
  },
  {
   "cell_type": "code",
   "execution_count": null,
   "metadata": {},
   "outputs": [],
   "source": []
  },
  {
   "cell_type": "code",
   "execution_count": null,
   "metadata": {},
   "outputs": [],
   "source": []
  },
  {
   "cell_type": "code",
   "execution_count": null,
   "metadata": {},
   "outputs": [],
   "source": []
  }
 ],
 "metadata": {
  "kernelspec": {
   "display_name": "Python 3",
   "language": "python",
   "name": "python3"
  },
  "language_info": {
   "codemirror_mode": {
    "name": "ipython",
    "version": 3
   },
   "file_extension": ".py",
   "mimetype": "text/x-python",
   "name": "python",
   "nbconvert_exporter": "python",
   "pygments_lexer": "ipython3",
   "version": "3.7.2"
  }
 },
 "nbformat": 4,
 "nbformat_minor": 2
}
