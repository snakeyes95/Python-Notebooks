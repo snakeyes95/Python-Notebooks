{
 "cells": [
  {
   "cell_type": "markdown",
   "metadata": {},
   "source": [
    "# Python fundamentals"
   ]
  },
  {
   "cell_type": "markdown",
   "metadata": {},
   "source": [
    "### Comments"
   ]
  },
  {
   "cell_type": "code",
   "execution_count": 1,
   "metadata": {},
   "outputs": [
    {
     "data": {
      "text/plain": [
       "'Multi-line comments\\ncan be written using the multi line comment\\n'"
      ]
     },
     "execution_count": 1,
     "metadata": {},
     "output_type": "execute_result"
    }
   ],
   "source": [
    "#We can write single line comments using # \n",
    "\"\"\"Multi-line comments\n",
    "can be written using the multi line comment\n",
    "\"\"\""
   ]
  },
  {
   "cell_type": "markdown",
   "metadata": {},
   "source": [
    "### Primitive Datatypes"
   ]
  },
  {
   "cell_type": "code",
   "execution_count": 2,
   "metadata": {},
   "outputs": [],
   "source": [
    "#immutable:-int, float, complex, string, tuple \n",
    "#mutable:-list, set, dictionary"
   ]
  },
  {
   "cell_type": "code",
   "execution_count": 3,
   "metadata": {},
   "outputs": [
    {
     "data": {
      "text/plain": [
       "11"
      ]
     },
     "execution_count": 3,
     "metadata": {},
     "output_type": "execute_result"
    }
   ],
   "source": [
    "1+10"
   ]
  },
  {
   "cell_type": "code",
   "execution_count": 4,
   "metadata": {},
   "outputs": [
    {
     "data": {
      "text/plain": [
       "3.5"
      ]
     },
     "execution_count": 4,
     "metadata": {},
     "output_type": "execute_result"
    }
   ],
   "source": [
    "7/2"
   ]
  },
  {
   "cell_type": "code",
   "execution_count": 5,
   "metadata": {},
   "outputs": [
    {
     "data": {
      "text/plain": [
       "3"
      ]
     },
     "execution_count": 5,
     "metadata": {},
     "output_type": "execute_result"
    }
   ],
   "source": [
    "7//2 # use the // to get only the int part of the division"
   ]
  },
  {
   "cell_type": "code",
   "execution_count": 6,
   "metadata": {},
   "outputs": [
    {
     "data": {
      "text/plain": [
       "8"
      ]
     },
     "execution_count": 6,
     "metadata": {},
     "output_type": "execute_result"
    }
   ],
   "source": [
    "2*4"
   ]
  },
  {
   "cell_type": "code",
   "execution_count": 7,
   "metadata": {},
   "outputs": [
    {
     "data": {
      "text/plain": [
       "2.5"
      ]
     },
     "execution_count": 7,
     "metadata": {},
     "output_type": "execute_result"
    }
   ],
   "source": [
    "5.0/2.0"
   ]
  },
  {
   "cell_type": "code",
   "execution_count": 8,
   "metadata": {},
   "outputs": [
    {
     "data": {
      "text/plain": [
       "2.0"
      ]
     },
     "execution_count": 8,
     "metadata": {},
     "output_type": "execute_result"
    }
   ],
   "source": [
    "5.0//2.0 #works on floats as well!"
   ]
  },
  {
   "cell_type": "code",
   "execution_count": 9,
   "metadata": {},
   "outputs": [
    {
     "data": {
      "text/plain": [
       "2.5"
      ]
     },
     "execution_count": 9,
     "metadata": {},
     "output_type": "execute_result"
    }
   ],
   "source": [
    "5/2"
   ]
  },
  {
   "cell_type": "code",
   "execution_count": 10,
   "metadata": {},
   "outputs": [
    {
     "data": {
      "text/plain": [
       "2"
      ]
     },
     "execution_count": 10,
     "metadata": {},
     "output_type": "execute_result"
    }
   ],
   "source": [
    "#modulo operator\n",
    "5%3"
   ]
  },
  {
   "cell_type": "code",
   "execution_count": 11,
   "metadata": {},
   "outputs": [
    {
     "data": {
      "text/plain": [
       "16"
      ]
     },
     "execution_count": 11,
     "metadata": {},
     "output_type": "execute_result"
    }
   ],
   "source": [
    "#exponents\n",
    "2**4"
   ]
  },
  {
   "cell_type": "code",
   "execution_count": 12,
   "metadata": {},
   "outputs": [
    {
     "name": "stdout",
     "output_type": "stream",
     "text": [
      "23\n",
      "35\n"
     ]
    }
   ],
   "source": [
    "#precedance can be enforced with parenthesis\n",
    "print(3+4*5)\n",
    "print((3+4)*5)"
   ]
  },
  {
   "cell_type": "code",
   "execution_count": 13,
   "metadata": {},
   "outputs": [
    {
     "name": "stdout",
     "output_type": "stream",
     "text": [
      "True\n",
      "False\n",
      "True\n",
      "True\n"
     ]
    }
   ],
   "source": [
    "print(True and True)\n",
    "print(True and False)\n",
    "print(True or False)\n",
    "print(True or True)"
   ]
  },
  {
   "cell_type": "code",
   "execution_count": 14,
   "metadata": {},
   "outputs": [
    {
     "data": {
      "text/plain": [
       "True"
      ]
     },
     "execution_count": 14,
     "metadata": {},
     "output_type": "execute_result"
    }
   ],
   "source": [
    "0 == False"
   ]
  },
  {
   "cell_type": "code",
   "execution_count": 15,
   "metadata": {},
   "outputs": [
    {
     "data": {
      "text/plain": [
       "True"
      ]
     },
     "execution_count": 15,
     "metadata": {},
     "output_type": "execute_result"
    }
   ],
   "source": [
    "1 == True"
   ]
  },
  {
   "cell_type": "code",
   "execution_count": 16,
   "metadata": {},
   "outputs": [
    {
     "data": {
      "text/plain": [
       "-5"
      ]
     },
     "execution_count": 16,
     "metadata": {},
     "output_type": "execute_result"
    }
   ],
   "source": [
    "0 or -5"
   ]
  },
  {
   "cell_type": "code",
   "execution_count": 17,
   "metadata": {},
   "outputs": [
    {
     "data": {
      "text/plain": [
       "0"
      ]
     },
     "execution_count": 17,
     "metadata": {},
     "output_type": "execute_result"
    }
   ],
   "source": [
    "0 and 2"
   ]
  },
  {
   "cell_type": "code",
   "execution_count": 18,
   "metadata": {},
   "outputs": [
    {
     "data": {
      "text/plain": [
       "True"
      ]
     },
     "execution_count": 18,
     "metadata": {},
     "output_type": "execute_result"
    }
   ],
   "source": [
    "1 == 1"
   ]
  },
  {
   "cell_type": "code",
   "execution_count": 19,
   "metadata": {},
   "outputs": [
    {
     "data": {
      "text/plain": [
       "False"
      ]
     },
     "execution_count": 19,
     "metadata": {},
     "output_type": "execute_result"
    }
   ],
   "source": [
    "1 == 3"
   ]
  },
  {
   "cell_type": "code",
   "execution_count": 20,
   "metadata": {},
   "outputs": [
    {
     "name": "stdout",
     "output_type": "stream",
     "text": [
      "False\n",
      "False\n",
      "True\n"
     ]
    }
   ],
   "source": [
    "print(1>2)\n",
    "print(1>=2)\n",
    "print(2<=2)"
   ]
  },
  {
   "cell_type": "code",
   "execution_count": 21,
   "metadata": {},
   "outputs": [],
   "source": [
    "a=x=y=20#chained assignment in python"
   ]
  },
  {
   "cell_type": "code",
   "execution_count": 22,
   "metadata": {},
   "outputs": [
    {
     "name": "stdout",
     "output_type": "stream",
     "text": [
      "20 20 20\n"
     ]
    }
   ],
   "source": [
    "print(a,x,y)"
   ]
  },
  {
   "cell_type": "code",
   "execution_count": 23,
   "metadata": {},
   "outputs": [],
   "source": [
    "a=40"
   ]
  },
  {
   "cell_type": "code",
   "execution_count": 24,
   "metadata": {},
   "outputs": [
    {
     "name": "stdout",
     "output_type": "stream",
     "text": [
      "40 20 20\n"
     ]
    }
   ],
   "source": [
    "print(a,x,y)"
   ]
  },
  {
   "cell_type": "code",
   "execution_count": 25,
   "metadata": {},
   "outputs": [],
   "source": [
    "a,x,y=1,'hello',3"
   ]
  },
  {
   "cell_type": "code",
   "execution_count": 26,
   "metadata": {},
   "outputs": [
    {
     "name": "stdout",
     "output_type": "stream",
     "text": [
      "1 hello 3\n"
     ]
    }
   ],
   "source": [
    "print(a,x,y)"
   ]
  },
  {
   "cell_type": "code",
   "execution_count": 27,
   "metadata": {},
   "outputs": [],
   "source": [
    "a=x=y=1,'hello',3# will end up creating a tuple in this case"
   ]
  },
  {
   "cell_type": "code",
   "execution_count": 28,
   "metadata": {},
   "outputs": [
    {
     "name": "stdout",
     "output_type": "stream",
     "text": [
      "(1, 'hello', 3) (1, 'hello', 3) (1, 'hello', 3)\n"
     ]
    }
   ],
   "source": [
    "print(a,x,y)"
   ]
  },
  {
   "cell_type": "code",
   "execution_count": 29,
   "metadata": {},
   "outputs": [
    {
     "name": "stdout",
     "output_type": "stream",
     "text": [
      "\n",
      "Here is a list of the Python keywords.  Enter any keyword to get more help.\n",
      "\n",
      "False               class               from                or\n",
      "None                continue            global              pass\n",
      "True                def                 if                  raise\n",
      "and                 del                 import              return\n",
      "as                  elif                in                  try\n",
      "assert              else                is                  while\n",
      "async               except              lambda              with\n",
      "await               finally             nonlocal            yield\n",
      "break               for                 not                 \n",
      "\n"
     ]
    }
   ],
   "source": [
    "help('keywords')"
   ]
  },
  {
   "cell_type": "code",
   "execution_count": 30,
   "metadata": {},
   "outputs": [
    {
     "name": "stdout",
     "output_type": "stream",
     "text": [
      "True\n",
      "8791210258352 8791210258352\n",
      "False\n",
      "8791210258352 85911312\n"
     ]
    }
   ],
   "source": [
    "a=100\n",
    "b=a\n",
    "print(a is b)\n",
    "print(id(a),id(b))\n",
    "b=500\n",
    "print(a is b)\n",
    "print(id(a),id(b))"
   ]
  },
  {
   "cell_type": "code",
   "execution_count": 31,
   "metadata": {},
   "outputs": [
    {
     "name": "stdout",
     "output_type": "stream",
     "text": [
      "8791210255472 8791210255792\n"
     ]
    }
   ],
   "source": [
    "a=10\n",
    "b=20\n",
    "print(id(a),id(b))"
   ]
  },
  {
   "cell_type": "code",
   "execution_count": 32,
   "metadata": {},
   "outputs": [
    {
     "name": "stdout",
     "output_type": "stream",
     "text": [
      "3\n",
      "3.0\n",
      "(4+4j)\n",
      "34\n",
      "3.2\n",
      "3.77\n",
      "True\n",
      "False\n"
     ]
    }
   ],
   "source": [
    "#type conversion in python\n",
    "print(int(3.62))\n",
    "print(float(3))\n",
    "print(complex(4,4))\n",
    "print(int(float('34.7')))\n",
    "print(float('3.2'))\n",
    "print(str(3.77))\n",
    "print(str(True))\n",
    "print(bool(0))"
   ]
  },
  {
   "cell_type": "code",
   "execution_count": 33,
   "metadata": {},
   "outputs": [
    {
     "name": "stdout",
     "output_type": "stream",
     "text": [
      "helloworld\n",
      "hello9\n",
      "5\n",
      "hellohellohello\n",
      "True\n",
      "False\n",
      "False\n",
      "hello\n",
      "llo\n",
      "['e', 'h', 'l', 'l', 'o']\n",
      "e\n",
      "o\n",
      "False\n",
      "True\n",
      "False\n",
      "True\n",
      "True\n",
      "HELLO\n",
      "hello\n",
      "bello\n",
      "2\n",
      "1\n",
      "2\n",
      "3\n",
      "a long string present here\n",
      "['a', 'long', 'string', 'present', 'here']\n",
      "['world']\n",
      "w o r l d\n",
      "w\to\tr\tl\td\n",
      "w\n",
      "o\n",
      "r\n",
      "l\n",
      "d\n",
      "['w', 'rld']\n",
      "['hello', 'world', '!!!!']\n"
     ]
    }
   ],
   "source": [
    "#python strings\n",
    "s1='hello'\n",
    "s2='world'\n",
    "print(s1+s2)\n",
    "print(s1+str(9))\n",
    "print(len(s1))\n",
    "print(s1*3)\n",
    "print('he' in s1)\n",
    "print('hl' in s1)\n",
    "print('ee' in s1)\n",
    "print(s1[::])\n",
    "print(s1[2::1])\n",
    "print(sorted(s1))#returns a list of characters sorted\n",
    "print(min(s1))\n",
    "print(max(s1))\n",
    "#we can use a dumber of methods on a string object but since our string object is immutable it will not do any changes to the \n",
    "#original string.\n",
    "print(s1.isupper())\n",
    "print(s1.islower())\n",
    "print(s1.isnumeric())\n",
    "print(s1.isalnum())\n",
    "print(s1.isalpha())\n",
    "print(s1.upper())\n",
    "print(s1.lower())\n",
    "print(s1.replace('h','b'))\n",
    "print(s1.find('ll'))#strings are 0 indexed\n",
    "print(s1.index('ell'))\n",
    "print(s1.count('l'))\n",
    "print((s1+s2).count('l'))\n",
    "s3='            a long string present here          '\n",
    "print(s3.strip())#remove any leading or trailing spaces present \n",
    "print(s3.strip().split())\n",
    "print(s2.split())#breaks by space by default can be changed\n",
    "print(' '.join(s2))\n",
    "print('\\t'.join(s2))\n",
    "print('\\n'.join(s2))\n",
    "print(s2.split('o'))#will now split on '0'\n",
    "s4='hello \\n world \\n !!!!'\n",
    "print(s4.split(' \\n '))#we can split files based on different delimeters using the string.split()"
   ]
  },
  {
   "cell_type": "code",
   "execution_count": 34,
   "metadata": {},
   "outputs": [
    {
     "name": "stdout",
     "output_type": "stream",
     "text": [
      "8791210255472 8791210255472\n",
      "8791210255792 8791210255792\n",
      "29 20 8791210255792 8791210256080\n"
     ]
    }
   ],
   "source": [
    "a=b=10\n",
    "print(id(a),id(b))#same id Memory location\n",
    "c=20\n",
    "d=c\n",
    "print(id(c),id(d))\n",
    "d=29\n",
    "print(d,c,id(c),id(d))"
   ]
  },
  {
   "cell_type": "code",
   "execution_count": 35,
   "metadata": {},
   "outputs": [
    {
     "data": {
      "text/plain": [
       "(9, 2)"
      ]
     },
     "execution_count": 35,
     "metadata": {},
     "output_type": "execute_result"
    }
   ],
   "source": [
    "a=4.5\n",
    "a.as_integer_ratio()#cool trick while working with float values"
   ]
  },
  {
   "cell_type": "code",
   "execution_count": 36,
   "metadata": {},
   "outputs": [
    {
     "name": "stdout",
     "output_type": "stream",
     "text": [
      "False\n"
     ]
    }
   ],
   "source": [
    "print(a.is_integer())#type checking in python\n"
   ]
  },
  {
   "cell_type": "code",
   "execution_count": 37,
   "metadata": {},
   "outputs": [
    {
     "name": "stdout",
     "output_type": "stream",
     "text": [
      "<class 'complex'>\n",
      "(3-5j) 3.0 5.0\n"
     ]
    }
   ],
   "source": [
    "#working with complex numbers\n",
    "a=3+5j\n",
    "print(type(a))\n",
    "print(a.conjugate(),a.real,a.imag)\n",
    "#a.real=5 we cannot do this as a complex type variable is immutable"
   ]
  },
  {
   "cell_type": "code",
   "execution_count": 38,
   "metadata": {},
   "outputs": [
    {
     "data": {
      "text/plain": [
       "True"
      ]
     },
     "execution_count": 38,
     "metadata": {},
     "output_type": "execute_result"
    }
   ],
   "source": [
    "# we can also chain comparison as follows\n",
    "1<4<5"
   ]
  },
  {
   "cell_type": "code",
   "execution_count": 39,
   "metadata": {},
   "outputs": [
    {
     "name": "stdout",
     "output_type": "stream",
     "text": [
      "Hello world\n"
     ]
    }
   ],
   "source": [
    "# We can also work with strings as shown\n",
    "a='Hello world'\n",
    "print(a)"
   ]
  },
  {
   "cell_type": "code",
   "execution_count": 40,
   "metadata": {},
   "outputs": [
    {
     "name": "stdout",
     "output_type": "stream",
     "text": [
      "Hello world!!!!!\n"
     ]
    },
    {
     "data": {
      "text/plain": [
       "'hellopython'"
      ]
     },
     "execution_count": 40,
     "metadata": {},
     "output_type": "execute_result"
    }
   ],
   "source": [
    "b='!!!!!'\n",
    "print(a+b)\n",
    "\"hello\" \"python\" #we can add two stings like this as well"
   ]
  },
  {
   "cell_type": "code",
   "execution_count": 41,
   "metadata": {},
   "outputs": [
    {
     "data": {
      "text/plain": [
       "'Hello worldHello worldHello world'"
      ]
     },
     "execution_count": 41,
     "metadata": {},
     "output_type": "execute_result"
    }
   ],
   "source": [
    "a*3"
   ]
  },
  {
   "cell_type": "code",
   "execution_count": 42,
   "metadata": {},
   "outputs": [
    {
     "data": {
      "text/plain": [
       "'H'"
      ]
     },
     "execution_count": 42,
     "metadata": {},
     "output_type": "execute_result"
    }
   ],
   "source": [
    "# a string can be considered as a list of characters\n",
    "a[0]"
   ]
  },
  {
   "cell_type": "code",
   "execution_count": 43,
   "metadata": {},
   "outputs": [
    {
     "data": {
      "text/plain": [
       "11"
      ]
     },
     "execution_count": 43,
     "metadata": {},
     "output_type": "execute_result"
    }
   ],
   "source": [
    "len(a) #length of the string"
   ]
  },
  {
   "cell_type": "code",
   "execution_count": 44,
   "metadata": {},
   "outputs": [
    {
     "name": "stdout",
     "output_type": "stream",
     "text": [
      "Mr Cat loves to sit on his mat\n",
      "Mr Matt loves to sit on his chair\n"
     ]
    }
   ],
   "source": [
    "a='Cat'\n",
    "b='mat'\n",
    "\n",
    "print('Mr {} loves to sit on his {}'.format(a,b))\n",
    "print('Mr {name} loves to sit on his {place}'.format(name='Matt',place='chair'))"
   ]
  },
  {
   "cell_type": "code",
   "execution_count": 45,
   "metadata": {},
   "outputs": [
    {
     "name": "stdout",
     "output_type": "stream",
     "text": [
      "None\n"
     ]
    }
   ],
   "source": [
    "#There is also a none type object\n",
    "a=None\n",
    "print(a)"
   ]
  },
  {
   "cell_type": "code",
   "execution_count": 46,
   "metadata": {},
   "outputs": [
    {
     "data": {
      "text/plain": [
       "True"
      ]
     },
     "execution_count": 46,
     "metadata": {},
     "output_type": "execute_result"
    }
   ],
   "source": [
    "#we should not use the == to compare objects to None \n",
    "val=None\n",
    "val is None #the is operator checks for object identity which is very useful wrt objects"
   ]
  },
  {
   "cell_type": "code",
   "execution_count": 47,
   "metadata": {},
   "outputs": [
    {
     "name": "stdout",
     "output_type": "stream",
     "text": [
      "False\n",
      "True\n",
      "False\n",
      "False\n",
      "True\n"
     ]
    }
   ],
   "source": [
    "#we can use the bool() for a variety of reasons \n",
    "print(bool(\"\"))\n",
    "print(bool(\"hello\"))\n",
    "print(bool(a))\n",
    "print(bool(0))\n",
    "print(bool(100000))"
   ]
  },
  {
   "cell_type": "code",
   "execution_count": 48,
   "metadata": {},
   "outputs": [
    {
     "name": "stdout",
     "output_type": "stream",
     "text": [
      "5\n"
     ]
    }
   ],
   "source": [
    "input_data=input() #use the input method to get user input"
   ]
  },
  {
   "cell_type": "code",
   "execution_count": 49,
   "metadata": {},
   "outputs": [
    {
     "name": "stdout",
     "output_type": "stream",
     "text": [
      "5\n"
     ]
    },
    {
     "data": {
      "text/plain": [
       "str"
      ]
     },
     "execution_count": 49,
     "metadata": {},
     "output_type": "execute_result"
    }
   ],
   "source": [
    "print(input_data)#will take in data as a string\n",
    "type(input_data) #use the type() to get the datatype of the variable."
   ]
  },
  {
   "cell_type": "code",
   "execution_count": 50,
   "metadata": {},
   "outputs": [
    {
     "data": {
      "text/plain": [
       "'amazing'"
      ]
     },
     "execution_count": 50,
     "metadata": {},
     "output_type": "execute_result"
    }
   ],
   "source": [
    "#we can write a ternary operator as follows\n",
    "a='abcdefg'\n",
    "b='hijklm'\n",
    "\"amazing\" if len(a) > len(b) else \"sorry\""
   ]
  },
  {
   "cell_type": "markdown",
   "metadata": {},
   "source": [
    "### Lists"
   ]
  },
  {
   "cell_type": "code",
   "execution_count": 51,
   "metadata": {},
   "outputs": [
    {
     "name": "stdout",
     "output_type": "stream",
     "text": [
      "l1[] l2[1, 2, 3, 'a'] l3[1, 3, 5, 7, 9] l4['H', 'e', 'l', 'l', 'o', ' ', 'w', 'o', 'r', 'l', 'd']\n"
     ]
    }
   ],
   "source": [
    "l1=[]\n",
    "l2=[1,2,3,'a']\n",
    "l3=list(range(1,10,2))\n",
    "l4=list('Hello world')#strings are iterable as well.\n",
    "print('l1{} l2{} l3{} l4{}'.format(l1,l2,l3,l4))"
   ]
  },
  {
   "cell_type": "code",
   "execution_count": 52,
   "metadata": {},
   "outputs": [
    {
     "name": "stdout",
     "output_type": "stream",
     "text": [
      "[1, 2, 3, 4, 5]\n",
      "2\n",
      "[1, 2, 3]\n",
      "1\n",
      "[1, 3, 5, 7, 9]\n",
      "[1, 1, 2, 3, 9]\n",
      "[1, 1, 2, 3, 4, 5, 6, 7, 8, 9, 1, 2, 3, 9]\n"
     ]
    }
   ],
   "source": [
    "#we can also have nested lists\n",
    "l5=[[1,2,3,4,5],['a',[1,2,3]],[3,4,5,6],7,9]\n",
    "print(l5[0])\n",
    "print(l5[0][1])\n",
    "print(l5[1][1])\n",
    "print(l5[1][1][0])\n",
    "\n",
    "print(l3)\n",
    "l3[1:4]=[1,2,3]\n",
    "print(l3)\n",
    "l3[1:1]=[1,2,3,4,5,6,7,8,9]#we can insert elements using this method\n",
    "print(l3)"
   ]
  },
  {
   "cell_type": "code",
   "execution_count": 53,
   "metadata": {},
   "outputs": [
    {
     "name": "stdout",
     "output_type": "stream",
     "text": [
      "44\n",
      "1\n",
      "[1, 2, 3, 'a']\n",
      "['a', 3, 2, 1]\n"
     ]
    }
   ],
   "source": [
    "sorted(l3)\n",
    "l3[12:12]=[44]\n",
    "print(max(l3))\n",
    "print(min(l3))\n",
    "print(l2)\n",
    "print(list(reversed(l2)))#reverse the entries present in the list"
   ]
  },
  {
   "cell_type": "code",
   "execution_count": 54,
   "metadata": {},
   "outputs": [
    {
     "name": "stdout",
     "output_type": "stream",
     "text": [
      "44\n",
      "[]\n"
     ]
    }
   ],
   "source": [
    "print(l3[12])\n",
    "l3[::]=[]\n",
    "print(l3)"
   ]
  },
  {
   "cell_type": "code",
   "execution_count": 55,
   "metadata": {},
   "outputs": [
    {
     "data": {
      "text/plain": [
       "['__add__',\n",
       " '__class__',\n",
       " '__contains__',\n",
       " '__delattr__',\n",
       " '__delitem__',\n",
       " '__dir__',\n",
       " '__doc__',\n",
       " '__eq__',\n",
       " '__format__',\n",
       " '__ge__',\n",
       " '__getattribute__',\n",
       " '__getitem__',\n",
       " '__gt__',\n",
       " '__hash__',\n",
       " '__iadd__',\n",
       " '__imul__',\n",
       " '__init__',\n",
       " '__init_subclass__',\n",
       " '__iter__',\n",
       " '__le__',\n",
       " '__len__',\n",
       " '__lt__',\n",
       " '__mul__',\n",
       " '__ne__',\n",
       " '__new__',\n",
       " '__reduce__',\n",
       " '__reduce_ex__',\n",
       " '__repr__',\n",
       " '__reversed__',\n",
       " '__rmul__',\n",
       " '__setattr__',\n",
       " '__setitem__',\n",
       " '__sizeof__',\n",
       " '__str__',\n",
       " '__subclasshook__',\n",
       " 'append',\n",
       " 'clear',\n",
       " 'copy',\n",
       " 'count',\n",
       " 'extend',\n",
       " 'index',\n",
       " 'insert',\n",
       " 'pop',\n",
       " 'remove',\n",
       " 'reverse',\n",
       " 'sort']"
      ]
     },
     "execution_count": 55,
     "metadata": {},
     "output_type": "execute_result"
    }
   ],
   "source": [
    "#use the dir() to check the list of attributes for the object\n",
    "#every thing in python is an object even functions\n",
    "dir(l2)"
   ]
  },
  {
   "cell_type": "code",
   "execution_count": 56,
   "metadata": {},
   "outputs": [
    {
     "name": "stdout",
     "output_type": "stream",
     "text": [
      "<class 'list'> <class 'list'>\n"
     ]
    }
   ],
   "source": [
    "print(type(l1),type(l2))"
   ]
  },
  {
   "cell_type": "code",
   "execution_count": 79,
   "metadata": {},
   "outputs": [
    {
     "name": "stdout",
     "output_type": "stream",
     "text": [
      "['h', 'a', 'g|', 12, 13, 14, 5, 66, 'g|', ['a', 'b', 'c'], 'g|', ['a', 'b', 'c'], 'g|', ['a', 'b', 'c'], 'g|', ['a', 'b', 'c']]\n",
      "[1, 1, 1, 1, 'h', 'a', 'g|', 12, 13, 14, 5, 66, 'g|', ['a', 'b', 'c'], 'g|', ['a', 'b', 'c'], 'g|', ['a', 'b', 'c'], 1]\n",
      "[1, 1, 1, 1, 'h', 'a', 'g|', 12, 13, 14, 5, 66, 'g|', ['a', 'b', 'c'], 'g|', ['a', 'b', 'c'], 'g|', ['a', 'b', 'c'], 1, 'h', 'a', 'g|', 12, 13, 14, 5, 66, 'g|', ['a', 'b', 'c'], 'g|', ['a', 'b', 'c'], 'g|', ['a', 'b', 'c'], 'g|', ['a', 'b', 'c']]\n",
      "['hello', 1, 1, 1, 1, 'h', 'a', 'g|', 12, 13, 14, 5, 66, 'g|', ['a', 'b', 'c'], 'g|', ['a', 'b', 'c'], 'g|', ['a', 'b', 'c'], 1, 'h', 'a', 'g|', 12, 13, 14, 5, 66, 'g|', ['a', 'b', 'c'], 'g|', ['a', 'b', 'c'], 'g|', ['a', 'b', 'c'], 'g|', ['a', 'b', 'c']]\n"
     ]
    }
   ],
   "source": [
    "l1.append(1)\n",
    "l2.append('g|')\n",
    "#we can also take this further and pass in an entire list as an argument to the list.append()\n",
    "l2.append(['a','b','c'])\n",
    "print(l2)\n",
    "print(l1)\n",
    "#if we want to merge the two lists together we can use the list.extend()\n",
    "l1.extend(l2)\n",
    "print(l1)\n",
    "#list.append() will add the entire list passed to it as an item and append it to the list\n",
    "#the list.extend() will add each list item present in the list passed to it as a separate list item\n",
    "#if we want to go ahead and now add an item to the list at a specific position\n",
    "l1.insert(0,'hello')\n",
    "print(l1)"
   ]
  },
  {
   "cell_type": "code",
   "execution_count": 82,
   "metadata": {},
   "outputs": [
    {
     "name": "stdout",
     "output_type": "stream",
     "text": [
      "0\n",
      "1\n",
      "2\n",
      "3\n",
      "4\n",
      "5\n",
      "6\n",
      "7\n",
      "8\n",
      "9\n",
      "0\n",
      "1\n",
      "2\n",
      "3\n",
      "4\n",
      "5\n",
      "6\n",
      "7\n",
      "8\n",
      "9\n"
     ]
    }
   ],
   "source": [
    "#differnet ways to iterate through a list\n",
    "data=list(range(10))\n",
    "i=0\n",
    "while i<len(data):\n",
    "    print(i)\n",
    "    i=i+1\n",
    "for i in range(len(data)):\n",
    "    print(i)"
   ]
  },
  {
   "cell_type": "code",
   "execution_count": 58,
   "metadata": {},
   "outputs": [
    {
     "name": "stdout",
     "output_type": "stream",
     "text": [
      "[1] [1, 2, 3, 'a', 'g|']\n"
     ]
    }
   ],
   "source": [
    "print(l1,l2)#the list.append() will add the newly added variable\n",
    "#to the end of the list"
   ]
  },
  {
   "cell_type": "code",
   "execution_count": 59,
   "metadata": {},
   "outputs": [
    {
     "name": "stdout",
     "output_type": "stream",
     "text": [
      "[1, 2, 3, 'a', 'g|', 12, 13, 14, 5, 66, 7]\n",
      "0\n",
      "3\n"
     ]
    }
   ],
   "source": [
    "#if we wish to append a iterable list to our list as individual members of the list we need to use the list.extend()\n",
    "l2.extend([12,13,14,5,66,7])\n",
    "print(l2)\n",
    "#we can use the list.index() to get the index of the first occurance of the list item \n",
    "print(l2.index(1))\n",
    "print(l2.index('a'))"
   ]
  },
  {
   "cell_type": "code",
   "execution_count": 60,
   "metadata": {},
   "outputs": [
    {
     "name": "stdout",
     "output_type": "stream",
     "text": [
      "7\n",
      "1\n",
      "[2, 3, 'a', 'g|', 12, 13, 14, 5, 66]\n"
     ]
    }
   ],
   "source": [
    "#to delete the last element from the list use the list.pop()\n",
    "print(l2.pop()) #the pop function will return the value it has popped\n",
    "print(l2.pop(0))#pop item at index 0\n",
    "print(l2)"
   ]
  },
  {
   "cell_type": "code",
   "execution_count": 61,
   "metadata": {},
   "outputs": [
    {
     "name": "stdout",
     "output_type": "stream",
     "text": [
      "[1] [2, 3, 'a', 'g|', 12, 13, 14, 5, 66]\n"
     ]
    }
   ],
   "source": [
    "print(l1,l2)"
   ]
  },
  {
   "cell_type": "code",
   "execution_count": 62,
   "metadata": {},
   "outputs": [
    {
     "name": "stdout",
     "output_type": "stream",
     "text": [
      "2 3\n"
     ]
    }
   ],
   "source": [
    "#indexing lists\n",
    "#we can index list elements as follows\n",
    "print(l2[0],l2[1])"
   ]
  },
  {
   "cell_type": "code",
   "execution_count": 63,
   "metadata": {},
   "outputs": [
    {
     "data": {
      "text/plain": [
       "66"
      ]
     },
     "execution_count": 63,
     "metadata": {},
     "output_type": "execute_result"
    }
   ],
   "source": [
    "l2[-1]#use -1 to access the last element present in the list"
   ]
  },
  {
   "cell_type": "code",
   "execution_count": 64,
   "metadata": {},
   "outputs": [
    {
     "name": "stdout",
     "output_type": "stream",
     "text": [
      "['h', 3, 'a', 'g|', 12, 13, 14, 5, 66]\n"
     ]
    }
   ],
   "source": [
    "l2[0]='h' #to set a value inside the list\n",
    "print(l2)"
   ]
  },
  {
   "cell_type": "code",
   "execution_count": 65,
   "metadata": {},
   "outputs": [
    {
     "data": {
      "text/plain": [
       "5"
      ]
     },
     "execution_count": 65,
     "metadata": {},
     "output_type": "execute_result"
    }
   ],
   "source": [
    "l2[7] #we will get an IndexError"
   ]
  },
  {
   "cell_type": "code",
   "execution_count": 66,
   "metadata": {},
   "outputs": [
    {
     "data": {
      "text/plain": [
       "[3, 'a']"
      ]
     },
     "execution_count": 66,
     "metadata": {},
     "output_type": "execute_result"
    }
   ],
   "source": [
    "l2[1:3]#we can get a range of values using the : operator"
   ]
  },
  {
   "cell_type": "code",
   "execution_count": 67,
   "metadata": {},
   "outputs": [
    {
     "data": {
      "text/plain": [
       "['h', 3, 'a']"
      ]
     },
     "execution_count": 67,
     "metadata": {},
     "output_type": "execute_result"
    }
   ],
   "source": [
    "l2[:3] #will return from the 0th index"
   ]
  },
  {
   "cell_type": "code",
   "execution_count": 68,
   "metadata": {},
   "outputs": [
    {
     "data": {
      "text/plain": [
       "['h', 'g|', 14]"
      ]
     },
     "execution_count": 68,
     "metadata": {},
     "output_type": "execute_result"
    }
   ],
   "source": [
    "l2[::3]#it will select every thrid entry\n",
    "#list[start:end:step]"
   ]
  },
  {
   "cell_type": "code",
   "execution_count": 69,
   "metadata": {},
   "outputs": [
    {
     "data": {
      "text/plain": [
       "[66, 5, 14, 13, 12, 'g|', 'a', 3, 'h']"
      ]
     },
     "execution_count": 69,
     "metadata": {},
     "output_type": "execute_result"
    }
   ],
   "source": [
    "l2[::-1]# this can be used to reverse a string."
   ]
  },
  {
   "cell_type": "code",
   "execution_count": 70,
   "metadata": {},
   "outputs": [
    {
     "name": "stdout",
     "output_type": "stream",
     "text": [
      "['h', 'a', 'g|', 12, 13, 14, 5, 66]\n"
     ]
    }
   ],
   "source": [
    "#To delete elements from our list we can use the del\n",
    "del l2[1]\n",
    "print(l2)"
   ]
  },
  {
   "cell_type": "code",
   "execution_count": 71,
   "metadata": {},
   "outputs": [
    {
     "name": "stdout",
     "output_type": "stream",
     "text": [
      "[1, 2, 3, 4, 5, 6, 7, 'a', 'b', 'c', 'd', 'e', 'f']\n",
      "[1, 2, 3, 4, 5, 6, 7, 'a', 'b', 'c', 'd', 'e', 'f']\n"
     ]
    }
   ],
   "source": [
    "l3=[1,2,3,4,5,6,7]\n",
    "l4=['a','b','c','d','e','f']\n",
    "#we can Concatenate 2 lists as \n",
    "print(l3+l4)\n",
    "#we can also make use of the list.extend()\n",
    "l3.extend(l4)#l3 will be changed in this case\n",
    "print(l3)"
   ]
  },
  {
   "cell_type": "code",
   "execution_count": 72,
   "metadata": {},
   "outputs": [
    {
     "name": "stdout",
     "output_type": "stream",
     "text": [
      "[1, 2, 3, 4, 5, 6, 7, 'a', 'b', 'c', 'd', 'e', 'f', 2]\n",
      "[1, 3, 4, 5, 6, 7, 'a', 'b', 'c', 'd', 'e', 'f', 2]\n"
     ]
    }
   ],
   "source": [
    "#to remove wrt to values instead of index we can use\n",
    "l3.append(2)\n",
    "print(l3)\n",
    "l3.remove(2)#the remove function will remove the first occurance\n",
    "#of 2\n",
    "print(l3)"
   ]
  },
  {
   "cell_type": "code",
   "execution_count": 73,
   "metadata": {},
   "outputs": [
    {
     "name": "stdout",
     "output_type": "stream",
     "text": [
      "['r', 1, 3, 4, 5, 6, 7, 'a', 'b', 'c', 'd', 'e', 'f', 2]\n"
     ]
    }
   ],
   "source": [
    "#list.append() will insert the value directly at the end of the\n",
    "#list if we want to add the list item at a specific location \n",
    "#we need to use the list.insert()\n",
    "l3.insert(0,'r')\n",
    "print(l3)#we have inserted r in the 0th index"
   ]
  },
  {
   "cell_type": "code",
   "execution_count": 74,
   "metadata": {},
   "outputs": [
    {
     "data": {
      "text/plain": [
       "7"
      ]
     },
     "execution_count": 74,
     "metadata": {},
     "output_type": "execute_result"
    }
   ],
   "source": [
    "#now to get the index of a value inside the list we use the \n",
    "#list.index()\n",
    "l3.index('a')"
   ]
  },
  {
   "cell_type": "code",
   "execution_count": 75,
   "metadata": {},
   "outputs": [
    {
     "ename": "ValueError",
     "evalue": "'z' is not in list",
     "output_type": "error",
     "traceback": [
      "\u001b[1;31m---------------------------------------------------------------------------\u001b[0m",
      "\u001b[1;31mValueError\u001b[0m                                Traceback (most recent call last)",
      "\u001b[1;32m<ipython-input-75-bca8c37a8b09>\u001b[0m in \u001b[0;36m<module>\u001b[1;34m\u001b[0m\n\u001b[0;32m      1\u001b[0m \u001b[1;31m#if we cannot find it in the list it will throw an error\u001b[0m\u001b[1;33m\u001b[0m\u001b[1;33m\u001b[0m\u001b[1;33m\u001b[0m\u001b[0m\n\u001b[1;32m----> 2\u001b[1;33m \u001b[0ml3\u001b[0m\u001b[1;33m.\u001b[0m\u001b[0mindex\u001b[0m\u001b[1;33m(\u001b[0m\u001b[1;34m'z'\u001b[0m\u001b[1;33m)\u001b[0m\u001b[1;33m\u001b[0m\u001b[1;33m\u001b[0m\u001b[0m\n\u001b[0m",
      "\u001b[1;31mValueError\u001b[0m: 'z' is not in list"
     ]
    }
   ],
   "source": [
    "#if we cannot find it in the list it will throw an error\n",
    "l3.index('z')"
   ]
  },
  {
   "cell_type": "code",
   "execution_count": null,
   "metadata": {},
   "outputs": [],
   "source": [
    "#we can check in a boolean fashion if some value is present \n",
    "#inside the list\n",
    "4 in l3"
   ]
  },
  {
   "cell_type": "code",
   "execution_count": null,
   "metadata": {},
   "outputs": [],
   "source": [
    "'z' in l3"
   ]
  },
  {
   "cell_type": "code",
   "execution_count": null,
   "metadata": {},
   "outputs": [],
   "source": [
    "#we can also find the length of the list using the len()\n",
    "len(l3)"
   ]
  },
  {
   "cell_type": "code",
   "execution_count": null,
   "metadata": {},
   "outputs": [],
   "source": [
    "%%time\n",
    "#any and all can be used to check if any of the item inside the iterable is empty.\n",
    "l3=[1,2,3,4,5]\n",
    "l4=[1,2,3,(),4]\n",
    "print(any(l3),any(l4))\n",
    "print(all(l3),all(l4))"
   ]
  },
  {
   "cell_type": "code",
   "execution_count": null,
   "metadata": {},
   "outputs": [],
   "source": [
    "l1=['hi']*20#will multiply hi 20 times\n",
    "print(l1)"
   ]
  },
  {
   "cell_type": "code",
   "execution_count": 90,
   "metadata": {},
   "outputs": [
    {
     "name": "stdout",
     "output_type": "stream",
     "text": [
      "[11, 2, 3, 14, 5, 61, 7, 1, 2, 3, 4, 5]\n",
      "[1, 2, 3, 4, 5, 7, 11, 14, 61]\n",
      "[11, 2, 3, 14, 5, 61, 7, 1, 4]\n"
     ]
    }
   ],
   "source": [
    "#how can we handle duplicate elements inside a list\n",
    "l1=[11,2,3,14,5,61,7,1,2,3,4,5]#we can see this list contains duplicates inside it.\n",
    "l2=list(set(l1))\n",
    "print(l1)\n",
    "print(l2)#we can see that the duplicate elements have been removed.\n",
    "#we can see that the order has been changed\n",
    "\n",
    "#if we wanted to keep the squence of items (ordering) intact\n",
    "def uniq_vals(x):\n",
    "    uniq=[]\n",
    "    for i in x:\n",
    "        if i not in uniq:\n",
    "            uniq.append(i)\n",
    "        else:\n",
    "            continue\n",
    "    return uniq\n",
    "    \n",
    "print(uniq_vals(l1))#here we can see that the ordering of the items is kept intact."
   ]
  },
  {
   "cell_type": "code",
   "execution_count": 97,
   "metadata": {},
   "outputs": [
    {
     "name": "stdout",
     "output_type": "stream",
     "text": [
      "0\n",
      "end of list index\n",
      "None\n"
     ]
    }
   ],
   "source": [
    "#search index of items repeating inside the list\n",
    "data=['a',2,1,3,'a',4,5,6,7,'a']\n",
    "print(data.index('a'))#this will by default return the index of only the first occurance in our list\n",
    "def multiples(x,y):\n",
    "    try:  \n",
    "        pos=[]\n",
    "        res=0\n",
    "        while True:\n",
    "            res=x.index(y,res)\n",
    "            pos.append(res)\n",
    "            res=res+1\n",
    "        return pos\n",
    "    except:\n",
    "        print('end of list index')\n",
    "print(multiples(data,'a'))\n",
    "        "
   ]
  },
  {
   "cell_type": "code",
   "execution_count": 112,
   "metadata": {},
   "outputs": [
    {
     "name": "stdout",
     "output_type": "stream",
     "text": [
      "[0, 4, 9]\n"
     ]
    }
   ],
   "source": [
    "#search index of items repeating inside the list\n",
    "data=['a',2,1,3,'a',4,5,6,7,'a']\n",
    "\n",
    "def multiples(x,y):\n",
    "        data_pos=[]\n",
    "        for i in range(len(x)):\n",
    "            if x[i]==y:\n",
    "                data_pos.append(i)\n",
    "            else:\n",
    "                continue\n",
    "        return data_pos\n",
    "\n",
    "print(multiples(data,'a'))\n",
    "    "
   ]
  },
  {
   "cell_type": "code",
   "execution_count": 103,
   "metadata": {},
   "outputs": [
    {
     "name": "stdout",
     "output_type": "stream",
     "text": [
      "Indexes of all occurrences of \"Ok\" in the list are :  [1, 3, 9]\n"
     ]
    }
   ],
   "source": [
    "def getIndexPositions(listOfElements, element):\n",
    "    ''' Returns the indexes of all occurrences of give element in\n",
    "    the list- listOfElements '''\n",
    "    indexPosList = []\n",
    "    indexPos = 0\n",
    "    while True:\n",
    "        try:\n",
    "        # Search for item in list from indexPos to the end of list\n",
    "            indexPos = listOfElements.index(element, indexPos)\n",
    "# Add the index position in list\n",
    "            indexPosList.append(indexPos)\n",
    "            indexPos += 1\n",
    "        except ValueError as e:\n",
    "            break\n",
    "    return indexPosList\n",
    "\n",
    "listOfElems = ['Hello', 'Ok', 'is', 'Ok', 'test', 'this', 'is', 'a', 'test', 'Ok']\n",
    "indexPosList = getIndexPositions(listOfElems, 'Ok')\n",
    "print('Indexes of all occurrences of \"Ok\" in the list are : ', indexPosList)\n",
    "listOfElems = ['Hello', 'Ok', 'is', 'Ok', 'test', 'this', 'is', 'a', 'test', 'Ok']\n",
    " \n",
    "# Get indexes of all occurrences of 'Ok' in the list\n",
    "indexPosList = getIndexPositions(listOfElems, 'Ok')"
   ]
  },
  {
   "cell_type": "code",
   "execution_count": 126,
   "metadata": {},
   "outputs": [
    {
     "name": "stdout",
     "output_type": "stream",
     "text": [
      "Item a found in list in position 1\n",
      "99 not found in list [1, 'a', 2, 'b', 'c', 1, 2, 3, 1]\n",
      "value found\n"
     ]
    }
   ],
   "source": [
    "#check if an item exists in the list\n",
    "data=[1,'a',2,'b','c',1,2,3,1]\n",
    "def checking(ls,item):\n",
    "    if item in ls:\n",
    "        print(f'Item {item} found in list in position {ls.index(item)}')\n",
    "    else:\n",
    "        print(f'{item} not found in list {ls}')\n",
    "checking(data,'a')\n",
    "checking(data,99)\n",
    "\n",
    "data.count(1)#we can find the number of times the item with value 1 is present in the list using the \n",
    "#list.count()\n",
    "\n",
    "#we can also work in this way\n",
    "if (any(i for i in data if type(i)==str)):\n",
    "    print('value found')\n",
    "else:\n",
    "    print('value not found')\n",
    "   "
   ]
  },
  {
   "cell_type": "code",
   "execution_count": 132,
   "metadata": {},
   "outputs": [
    {
     "name": "stdout",
     "output_type": "stream",
     "text": [
      "True\n",
      "False\n",
      "True\n"
     ]
    }
   ],
   "source": [
    "#how to check if all the elements present in list1 are present in list2\n",
    "l1=[1,2,3,4,599,71,9]\n",
    "l2=[2,3]\n",
    "l3=[2,'a']\n",
    "#check if l2 is present in l1\n",
    "res1=all(i in l1 for i in l2)\n",
    "res2=all(i in l1 for i in l3)\n",
    "res3=any(i in l1 for i in l3)\n",
    "print(res1)\n",
    "print(res2)\n",
    "print(res3)"
   ]
  },
  {
   "cell_type": "code",
   "execution_count": 152,
   "metadata": {},
   "outputs": [
    {
     "name": "stdout",
     "output_type": "stream",
     "text": [
      "All elements are same\n",
      "Elements are not the same\n",
      "all Elements are same\n",
      "Elements are different\n"
     ]
    }
   ],
   "source": [
    "#check if all the elements are same in a lis\n",
    "def same_vals(x):\n",
    "    if all(i==x[0] for i in x):\n",
    "        print('All elements are same')\n",
    "    else:\n",
    "        print('Elements are not the same')\n",
    "l1=['hi']*10\n",
    "l2=[1,2,3]\n",
    "same_vals(l1)\n",
    "same_vals(l2)\n",
    "\n",
    "\n",
    "#we can also do this by converting the list into a set and then checking the length\n",
    "def same_vals_set(x):\n",
    "    l1=list(set(x))\n",
    "    if len(l1)==1:\n",
    "        print('all Elements are same')\n",
    "    else:\n",
    "        print('Elements are different')\n",
    "same_vals_set(l1)\n",
    "same_vals_set(l2)"
   ]
  },
  {
   "cell_type": "code",
   "execution_count": 178,
   "metadata": {},
   "outputs": [
    {
     "name": "stdout",
     "output_type": "stream",
     "text": [
      "None\n",
      "None\n",
      "None\n"
     ]
    }
   ],
   "source": [
    "data_alpha=['at','this','party','we','will','try','our','code']\n",
    "data_num=[1,100,10,22,999,44]\n",
    "#sorting these arrays in different ways\n",
    "print(data_alpha.sort())\n",
    "print(data_num.sort())\n",
    "print(data_num.sort(reverse=True))"
   ]
  },
  {
   "cell_type": "code",
   "execution_count": 205,
   "metadata": {},
   "outputs": [
    {
     "name": "stdout",
     "output_type": "stream",
     "text": [
      "['at', 'code', 'our', 'party', 'this', 'try', 'we', 'will']\n",
      "['at', 'we', 'our', 'try', 'code', 'this', 'will', 'party']\n",
      "[1, 10, 22, 44, 100, 999]\n",
      "[999, 100, 44, 22, 10, 1]\n",
      "[1, 10, 22, 44, 100, 999]\n"
     ]
    }
   ],
   "source": [
    "data_alpha=['at','this','party','we','will','try','our','code']\n",
    "data_num=[1,100,10,22,999,44]\n",
    "#sorting these arrays in different ways\n",
    "data_alpha.sort()\n",
    "print(data_alpha)\n",
    "data_alpha.sort(key=len)\n",
    "print(data_alpha)\n",
    "data_num.sort()\n",
    "print(data_num)\n",
    "data_num.sort(reverse=True)\n",
    "print(data_num)\n",
    "data_num.sort(key=int)\n",
    "print(data_num)"
   ]
  },
  {
   "cell_type": "code",
   "execution_count": 211,
   "metadata": {},
   "outputs": [
    {
     "name": "stdout",
     "output_type": "stream",
     "text": [
      "[('a', 35), ('c', 40), ('e', 20)]\n",
      "[('e', 20), ('a', 35), ('c', 40)]\n",
      "[('e', 20), ('a', 35), ('c', 40)]\n"
     ]
    }
   ],
   "source": [
    "data=[('e',20),('a',35),('c',40)]\n",
    "data.sort()\n",
    "print(data)#we can see that by default it will sort only according to the first element in the tuple\n",
    "#if we want to sort according to the second element the frequency\n",
    "data.sort(key=lambda elem:elem[1])\n",
    "print(data)#sorting according to the second element in the tuple.\n",
    "\n",
    "def comparator(x):\n",
    "    return x[1]\n",
    "data.sort(key=comparator)\n",
    "print(data)\n",
    "#we can sort according to the frequency by writing a custom function and then passing it as a key in \n",
    "#the sort()"
   ]
  },
  {
   "cell_type": "code",
   "execution_count": 213,
   "metadata": {},
   "outputs": [
    {
     "name": "stdout",
     "output_type": "stream",
     "text": [
      "[1, 2, 3, 4, 5, 5, 6, 7, 8, 9, 10]\n",
      "[1, 2, 3, 4, 5, 5, 6, 7, 8, 9, 10]\n"
     ]
    }
   ],
   "source": [
    "#extending a list \n",
    "l1=[1,2,3,4,5]\n",
    "l2=[5,6,7,8,9,10]\n",
    "l3=l1+l2\n",
    "print(l3)\n",
    "l1.extend(l2)\n",
    "print(l1)"
   ]
  },
  {
   "cell_type": "code",
   "execution_count": 222,
   "metadata": {},
   "outputs": [
    {
     "name": "stdout",
     "output_type": "stream",
     "text": [
      "6\n",
      "3\n",
      "10\n",
      "10\n",
      "3\n",
      "8\n"
     ]
    }
   ],
   "source": [
    "l1=[[1,2,3,4],[1,2,3],[1,2,3]]\n",
    "l3=[1,2,3]\n",
    "print(sum(l3))\n",
    "print(len(l1))#what if we have to find the the length of the nested lists as well\n",
    "res=sum([len(i) for i in l1])\n",
    "print(res)\n",
    "l2=[[1,2,3],4,[2,4,5],5]\n",
    "#res2=sum([len(i) for i in l2])#wont work\n",
    "#print(res2)\n",
    "def list_value_count(x):\n",
    "    res=[]\n",
    "    for i in x:\n",
    "        if type(i)==list:\n",
    "            res.append(len(i))\n",
    "        else:\n",
    "            res.append(1)\n",
    "    return sum(res)\n",
    "\n",
    "print(list_value_count(l1))\n",
    "print(list_value_count(l3))\n",
    "print(list_value_count(l2))"
   ]
  },
  {
   "cell_type": "markdown",
   "metadata": {},
   "source": [
    "### Tuples"
   ]
  },
  {
   "cell_type": "code",
   "execution_count": 171,
   "metadata": {},
   "outputs": [
    {
     "data": {
      "text/plain": [
       "1"
      ]
     },
     "execution_count": 171,
     "metadata": {},
     "output_type": "execute_result"
    }
   ],
   "source": [
    "#Tuples are quite simmilar to lists but they are immutable\n",
    "t1=(1,2,3)\n",
    "t1[0]"
   ]
  },
  {
   "cell_type": "code",
   "execution_count": null,
   "metadata": {},
   "outputs": [],
   "source": [
    "t1[0]=8"
   ]
  },
  {
   "cell_type": "code",
   "execution_count": null,
   "metadata": {},
   "outputs": [],
   "source": [
    "#we can do most of the things we can do in lists in tuples \\\n",
    "#as well\n",
    "t1=(1,2,3)\n",
    "t2=(4,5,6)\n",
    "print(t1+t2)\n",
    "print(t1[:2])\n",
    "print(6 in t1)\n",
    "print(6 in t2)"
   ]
  },
  {
   "cell_type": "code",
   "execution_count": null,
   "metadata": {},
   "outputs": [],
   "source": [
    "#we can unpack lists as well as tuples inside a bunch of variables\n",
    "l1=[1,2,3,4,5,6]\n",
    "t1=(1,2,3,4,5,6)\n",
    "a,b,c=l1[::2]\n",
    "print(a,b,c)\n",
    "d,e,f=t1[::2]\n",
    "print(d,e,f)"
   ]
  },
  {
   "cell_type": "code",
   "execution_count": null,
   "metadata": {},
   "outputs": [],
   "source": [
    "#tuples are created \n",
    "a=1,2,3\n",
    "type(a)"
   ]
  },
  {
   "cell_type": "code",
   "execution_count": null,
   "metadata": {},
   "outputs": [],
   "source": [
    "a=1\n",
    "b=2\n",
    "c=3\n",
    "d=4\n",
    "a,b=c,d\n",
    "print(a,b,c,d)"
   ]
  },
  {
   "cell_type": "code",
   "execution_count": null,
   "metadata": {},
   "outputs": [],
   "source": [
    "a=10\n",
    "b=20\n",
    "a,b=b,a\n",
    "print(a,b)#swapping 2 numbers in python"
   ]
  },
  {
   "cell_type": "markdown",
   "metadata": {},
   "source": [
    "### Dictionaries"
   ]
  },
  {
   "cell_type": "code",
   "execution_count": null,
   "metadata": {},
   "outputs": [],
   "source": [
    "dict1={'key1':1,'key2':'value2','key3':3}"
   ]
  },
  {
   "cell_type": "code",
   "execution_count": null,
   "metadata": {},
   "outputs": [],
   "source": [
    "#we can also create dictionaries using the dict() \n",
    "dict2=dict([('key1',1),('key2',2),(3,3)])"
   ]
  },
  {
   "cell_type": "code",
   "execution_count": null,
   "metadata": {},
   "outputs": [],
   "source": [
    "dict2.items()"
   ]
  },
  {
   "cell_type": "code",
   "execution_count": null,
   "metadata": {},
   "outputs": [],
   "source": [
    "dict2.keys()"
   ]
  },
  {
   "cell_type": "code",
   "execution_count": null,
   "metadata": {},
   "outputs": [],
   "source": [
    "#dictionaries are not indexed hence we need to make use of the key value pairs\n",
    "print(f'The value for key 3 is {dict2[3]} as declared in the dictionary above')#this is an example of a f string "
   ]
  },
  {
   "cell_type": "code",
   "execution_count": null,
   "metadata": {},
   "outputs": [],
   "source": [
    "#we can change the value of a particular key in the dictionary as \n",
    "dict2[3]='aqua'\n",
    "print(f'The value for key 3 is {dict2[3]} as declared in the dictionary above')\n",
    "del dict2[3]\n",
    "print(dict2.keys())"
   ]
  },
  {
   "cell_type": "code",
   "execution_count": null,
   "metadata": {},
   "outputs": [],
   "source": [
    "'key1' in dict2"
   ]
  },
  {
   "cell_type": "code",
   "execution_count": null,
   "metadata": {},
   "outputs": [],
   "source": [
    "dict2.update(key1=27)\n",
    "dict2"
   ]
  },
  {
   "cell_type": "code",
   "execution_count": null,
   "metadata": {},
   "outputs": [],
   "source": [
    "dict2.update([('Key3',33)])#we can also add keys into our dictionary using the update button.\n",
    "print(dict2)"
   ]
  },
  {
   "cell_type": "code",
   "execution_count": null,
   "metadata": {},
   "outputs": [],
   "source": [
    "#we can use the pop() to delete an entry by specifing the key \n",
    "dict2.pop('Key3')\n",
    "print(dict2)"
   ]
  },
  {
   "cell_type": "code",
   "execution_count": null,
   "metadata": {},
   "outputs": [],
   "source": [
    "dict2.get('key1')#wil return the value given by key1"
   ]
  },
  {
   "cell_type": "code",
   "execution_count": null,
   "metadata": {},
   "outputs": [],
   "source": [
    "new_str='helloworld'\n",
    "res=dict.fromkeys(new_str,0)\n",
    "print(res)"
   ]
  },
  {
   "cell_type": "code",
   "execution_count": null,
   "metadata": {},
   "outputs": [],
   "source": [
    "#we can access the values using dictionary elements\n",
    "dict1['key1']"
   ]
  },
  {
   "cell_type": "code",
   "execution_count": null,
   "metadata": {},
   "outputs": [],
   "source": [
    "#we can get a list containing all the keys of the dictionary \n",
    "#using the dictionary.keys()\n",
    "dict1.keys()"
   ]
  },
  {
   "cell_type": "code",
   "execution_count": null,
   "metadata": {},
   "outputs": [],
   "source": [
    "#and we can get all the values using the .values()\n",
    "dict1.values()"
   ]
  },
  {
   "cell_type": "code",
   "execution_count": null,
   "metadata": {},
   "outputs": [],
   "source": [
    "#if we get a list of tuples containing all the items use \n",
    "#the dictionary.items()\n",
    "dict1.items()"
   ]
  },
  {
   "cell_type": "code",
   "execution_count": null,
   "metadata": {},
   "outputs": [],
   "source": [
    "#we can check if a key is present inside the dictionary using the\n",
    "#in operator in the same way as that in lists and tuples\n",
    "print('key2' in dict1)\n",
    "print('l1' in dict1)"
   ]
  },
  {
   "cell_type": "code",
   "execution_count": null,
   "metadata": {},
   "outputs": [],
   "source": [
    "#we can get the values of a particular key as follows\n",
    "print(dict1['key1'])\n",
    "print(dict1['key11'])#we will get a keyerror "
   ]
  },
  {
   "cell_type": "code",
   "execution_count": null,
   "metadata": {},
   "outputs": [],
   "source": [
    "#we can make use of the get() instead\n",
    "print(dict1.get('key1'))\n",
    "print(dict1.get('key11'))"
   ]
  },
  {
   "cell_type": "code",
   "execution_count": null,
   "metadata": {},
   "outputs": [],
   "source": [
    "#we can also specify a default argument when we dont have that \n",
    "#key present\n",
    "dict1.get('four',4)#will return 4 as key named 'four' is not present"
   ]
  },
  {
   "cell_type": "code",
   "execution_count": null,
   "metadata": {},
   "outputs": [],
   "source": [
    "dict1['four']=4#we can add a new key value pair as follows\n",
    "dict1"
   ]
  },
  {
   "cell_type": "code",
   "execution_count": null,
   "metadata": {},
   "outputs": [],
   "source": [
    "dict1.setdefault('five',5)#the dictionary.setdefault() will add the key value pair if not present in the dictionary\n",
    "dict1"
   ]
  },
  {
   "cell_type": "code",
   "execution_count": null,
   "metadata": {},
   "outputs": [],
   "source": [
    "dict1={'key1':1,'key2':'value2','key3':3}#we can iterate through a dictionary as follows.\n",
    "\n",
    "for i,j in dict1.items():\n",
    "    print(f'The key value pair is given as {i} and {j}')"
   ]
  },
  {
   "cell_type": "code",
   "execution_count": null,
   "metadata": {},
   "outputs": [],
   "source": [
    "x=['a',2,'b',4,'c',6,7,'d',9]\n",
    "enum=enumerate(x)\n",
    "print(enum)\n",
    "print(list(enum))"
   ]
  },
  {
   "cell_type": "markdown",
   "metadata": {},
   "source": [
    "### Sets"
   ]
  },
  {
   "cell_type": "code",
   "execution_count": null,
   "metadata": {},
   "outputs": [],
   "source": [
    "#we can create sets which are simmilar to lists but cannot hold\n",
    "#duplicate values \n",
    "s1=set()\n",
    "s2=set([1,2,3,4,1,2])\n",
    "print(s2)\n",
    "print(s2[0])#sets are not ordered hence we cannot select them using indexing."
   ]
  },
  {
   "cell_type": "code",
   "execution_count": null,
   "metadata": {},
   "outputs": [],
   "source": [
    "dict1={1:2,3:4,5:5}\n",
    "print(dict1.keys())\n",
    "set1={1,2,3,4,5,6}\n",
    "print(type(set1))\n",
    "set2=set([1,2,3,4,5])\n",
    "set3=set((1,2,3,4,5,6,99))\n",
    "print(set2,set3)\n",
    "print(type(set3))\n",
    "s1=set({'helloworld'})#key difference\n",
    "s2=set('helloworld')\n",
    "print(s1,s2)\n",
    "#s4=set([1,2,3,4],[4,5,6,7,8])\n",
    "print(type(s4),s4)\n",
    "#we can also do things like intersection and or etc wrt to sets\n",
    "print(set1 | set2)\n",
    "print(set1 & set2)\n",
    "print(set1 - set2)#set difference\n",
    "print(set2 <= set1)#set2 is a subset of set1\n",
    "print(set2 < set1)\n",
    "set4={1,2,3,8}\n",
    "print(set4 <= set1)\n",
    "print(set4 < set1)\n",
    "#we can use the set.remove() or the set.discard() the remove function will throw an error if the item is not present \n",
    "#in the set\n",
    "set4.remove(1)\n",
    "print(set4)\n",
    "#set4.remove(99)#throws error\n",
    "set4.discard(99)#does not throw an error\n",
    "set4.clear()#the set.clear() will remove all the items from the set.\n",
    "print(set4)\n",
    "print(set1.union(set2,set3))#instead of using | & etc we can use these functions.\n",
    "print(set1.intersection(set2,set3))\n",
    "set5=set1.copy()#the set.copy() returns a shallow copy of set1\n",
    "print(set5)\n",
    "set5.add(45)\n",
    "print(set1,id(set1))\n",
    "print(set5,id(set5))"
   ]
  },
  {
   "cell_type": "code",
   "execution_count": null,
   "metadata": {},
   "outputs": [],
   "source": [
    "print(s2)#will ignore the duplicate values"
   ]
  },
  {
   "cell_type": "code",
   "execution_count": null,
   "metadata": {},
   "outputs": [],
   "source": [
    "s3={1,2,3,4,5,6,7,89,1,2,3}#we can also declare a set as follows\n",
    "print(s3)"
   ]
  },
  {
   "cell_type": "code",
   "execution_count": null,
   "metadata": {},
   "outputs": [],
   "source": [
    "s3.add(123)#just like the list.append() the set has an add() which will insert the new value at the end of the list\n",
    "s3"
   ]
  },
  {
   "cell_type": "code",
   "execution_count": null,
   "metadata": {},
   "outputs": [],
   "source": [
    "s1={1,2,3,4}\n",
    "s2={1,5,6,7}\n",
    "#we can perform a union or an intersection between two sets using the & or the |\n",
    "print(s1 & s2) #returns a set with the intersection of set1 and set2\n",
    "print(s1 | s2)#returns the union of set1 with set2"
   ]
  },
  {
   "cell_type": "code",
   "execution_count": null,
   "metadata": {},
   "outputs": [],
   "source": [
    "#set difference with - \n",
    "{1,2,3,4}-{2,3,5}\n",
    "#symmetric difference with ^\n",
    "{1,2,3,4}^{2,3,4}"
   ]
  },
  {
   "cell_type": "code",
   "execution_count": null,
   "metadata": {},
   "outputs": [],
   "source": [
    "{1,2}>={1,2,3}"
   ]
  },
  {
   "cell_type": "code",
   "execution_count": null,
   "metadata": {},
   "outputs": [],
   "source": [
    "{1,2}<={1,2,3}#check if the set on the right is a subset of the one on the left"
   ]
  },
  {
   "cell_type": "code",
   "execution_count": null,
   "metadata": {},
   "outputs": [],
   "source": [
    "#the in operator can be used here as well\n",
    "print(2 in s1,\n",
    "5 not in s1)"
   ]
  },
  {
   "cell_type": "code",
   "execution_count": null,
   "metadata": {},
   "outputs": [],
   "source": [
    "i=10\n",
    "if i>10:\n",
    "    print(' > 10')\n",
    "elif i<10:\n",
    "    print('< 10')\n",
    "else:\n",
    "    print('10')"
   ]
  },
  {
   "cell_type": "code",
   "execution_count": null,
   "metadata": {},
   "outputs": [],
   "source": [
    "l1=['milk','eggs','rice','fish']\n",
    "for food in l1:\n",
    "    print('Tom loves to eat {stuff}'.format(stuff=food))"
   ]
  },
  {
   "cell_type": "code",
   "execution_count": null,
   "metadata": {},
   "outputs": [],
   "source": [
    "#The range(lower,upper) will return a set of numbers from the lower number to the higher number\n",
    "range(0,5)\n",
    "for i in range(0,5):\n",
    "    print(i)"
   ]
  },
  {
   "cell_type": "markdown",
   "metadata": {},
   "source": [
    "### Try catch block "
   ]
  },
  {
   "cell_type": "code",
   "execution_count": null,
   "metadata": {},
   "outputs": [],
   "source": [
    "try:\n",
    "    raise IndexError(\"Index error caused!\")\n",
    "except IndexError as e:\n",
    "    pass #no operation\n",
    "except (TypeError,NameError):\n",
    "    pass\n",
    "else:\n",
    "    print('done')\n",
    "finally:#perform cleanup of resources here\n",
    "    print('close')"
   ]
  },
  {
   "cell_type": "code",
   "execution_count": null,
   "metadata": {},
   "outputs": [],
   "source": [
    "#if we want to cleanup resources withought using the try/finally \n",
    "#we can use the with statement\n",
    "with open('file1.txt') as f:\n",
    "    for l in f:\n",
    "        print(l)"
   ]
  },
  {
   "cell_type": "code",
   "execution_count": null,
   "metadata": {},
   "outputs": [],
   "source": [
    "def add(x,y):\n",
    "    print('adding {a} and {b}'.format(a=x,b=y))\n",
    "    return x+y\n",
    "add(1,12)"
   ]
  },
  {
   "cell_type": "code",
   "execution_count": null,
   "metadata": {},
   "outputs": [],
   "source": [
    "def add_var(*args):#if we want to work with a variable number of parameters theyy will be interpreted as a tuple when we use *\n",
    "    sum=0\n",
    "    for i in args:\n",
    "        sum=sum+i\n",
    "    return sum\n",
    "add_var(1,2,3,4,5,6,7,8,9)"
   ]
  },
  {
   "cell_type": "code",
   "execution_count": null,
   "metadata": {},
   "outputs": [],
   "source": [
    "#we can also use ** to get the positional arguments which are\n",
    "#interpreted as a dictionary\n",
    "def add_pos(**kargs):\n",
    "    print(kargs.items())\n",
    "add_pos(one=1,two=2)"
   ]
  },
  {
   "cell_type": "code",
   "execution_count": null,
   "metadata": {},
   "outputs": [],
   "source": [
    "val1=16\n",
    "def func():\n",
    "    val1=20\n",
    "    print(val1)\n",
    "func()\n",
    "print(val1)"
   ]
  },
  {
   "cell_type": "code",
   "execution_count": null,
   "metadata": {},
   "outputs": [],
   "source": [
    "global val2\n",
    "val2=17\n",
    "def func():\n",
    "    val2=20\n",
    "    print(val2)\n",
    "func()\n",
    "print(val2)"
   ]
  },
  {
   "cell_type": "code",
   "execution_count": null,
   "metadata": {},
   "outputs": [],
   "source": [
    "#LAMBDA FUNCTIONS / ANONYMOUS FUNCTIONS\n",
    "(lambda x:x>=5)(10)"
   ]
  },
  {
   "cell_type": "code",
   "execution_count": null,
   "metadata": {},
   "outputs": [],
   "source": [
    "(lambda x,y:x+y)(12,10)#creating our add function using anonymous function"
   ]
  },
  {
   "cell_type": "code",
   "execution_count": null,
   "metadata": {},
   "outputs": [],
   "source": [
    "def add(x,y):\n",
    "    return x+y\n",
    "\n",
    "res=map(add,[1,2,3,4,5,6,7],[1,2,3,4,5,6])\n",
    "print(list(res))"
   ]
  },
  {
   "cell_type": "code",
   "execution_count": null,
   "metadata": {},
   "outputs": [],
   "source": [
    "list(map(max,[1,2,3],[4,2,1]))"
   ]
  },
  {
   "cell_type": "code",
   "execution_count": null,
   "metadata": {},
   "outputs": [],
   "source": [
    "res=filter(lambda x: x>3,[3,4,5,6,7,8,1,2,0])\n",
    "list(res)"
   ]
  },
  {
   "cell_type": "code",
   "execution_count": null,
   "metadata": {},
   "outputs": [],
   "source": [
    "where python\n"
   ]
  },
  {
   "cell_type": "code",
   "execution_count": null,
   "metadata": {},
   "outputs": [],
   "source": []
  },
  {
   "cell_type": "code",
   "execution_count": null,
   "metadata": {},
   "outputs": [],
   "source": [
    "vals=[(1,2,4),\n",
    "     (3,4,5),\n",
    "    (5,6,6) ]\n",
    "df=pd.DataFrame(vals,columns=('one','two','three'))"
   ]
  },
  {
   "cell_type": "code",
   "execution_count": null,
   "metadata": {},
   "outputs": [],
   "source": [
    "df.head()"
   ]
  },
  {
   "cell_type": "code",
   "execution_count": null,
   "metadata": {},
   "outputs": [],
   "source": [
    "df_new=df.apply(star,axis=0,args=[2,3])"
   ]
  },
  {
   "cell_type": "code",
   "execution_count": null,
   "metadata": {},
   "outputs": [],
   "source": [
    "def star(x,m,c):\n",
    "    return x*m+c\n",
    "    "
   ]
  },
  {
   "cell_type": "raw",
   "metadata": {},
   "source": []
  },
  {
   "cell_type": "code",
   "execution_count": null,
   "metadata": {},
   "outputs": [],
   "source": [
    "res"
   ]
  },
  {
   "cell_type": "code",
   "execution_count": null,
   "metadata": {},
   "outputs": [],
   "source": []
  },
  {
   "cell_type": "code",
   "execution_count": null,
   "metadata": {},
   "outputs": [],
   "source": [
    "import numpy as np\n",
    "import pandas as pd\n",
    "def star(x,m,c):\n",
    "    return x*m+c\n",
    "vals=[(1,2,4),\n",
    "     (3,4,5),\n",
    "    (5,6,6) ]\n",
    "df=pd.DataFrame(vals,columns=('one','two','three'))\n",
    "res=df.apply(star,axis=0,args=[2,3])"
   ]
  },
  {
   "cell_type": "code",
   "execution_count": null,
   "metadata": {},
   "outputs": [],
   "source": [
    "i=[1,2,3,4,5]\n",
    "j=['a','b','c']\n",
    "k=[1,2,3,'a','t','p']\n",
    "z = zip(i,j)\n",
    "#print(z)\n",
    "#print(list(z))#tuple packing\n",
    "for a,b in z:\n",
    "    print(f'value of {a} is {b}')"
   ]
  },
  {
   "cell_type": "code",
   "execution_count": null,
   "metadata": {},
   "outputs": [],
   "source": [
    "#it is important to understand that the zip() and enumerate() return a special type of object which is iterable \n",
    "#these objects are known as generators these are designed to be used once and then destroyed"
   ]
  },
  {
   "cell_type": "code",
   "execution_count": null,
   "metadata": {},
   "outputs": [],
   "source": [
    "i = [1, 2, 3, 4, 5, 6, 7, 8, 9, 10]\n",
    "j = ['a','b','c','d']   \n",
    "z = zip(i,j)\n",
    "for a,b in z:\n",
    "    print(f'value of {a} is {b}')"
   ]
  },
  {
   "cell_type": "code",
   "execution_count": null,
   "metadata": {},
   "outputs": [],
   "source": [
    "i = [1, 2, 3, 4, 5, 6, 7, 8, 9, 10]\n",
    "j = ['a','b','c','d']   \n",
    "z = zip(i,j)\n",
    "for a,b in z:\n",
    "    print(f'value of {a} is {b}')\n",
    "print(list(z))#empty\n",
    "print(id(z))\n",
    "\n",
    "print(z)"
   ]
  },
  {
   "cell_type": "code",
   "execution_count": null,
   "metadata": {},
   "outputs": [],
   "source": [
    "#conversion from celsius to fahrenheit\n",
    "fahrenheit_temps=[]\n",
    "celsius_temps = [-60, -40, 0, 37, 100]\n",
    "for i in celsius_temps:\n",
    "    res=(i*(9/5))+32\n",
    "    fahrenheit_temps.append(res)\n",
    "print(fahrenheit_temps)"
   ]
  },
  {
   "cell_type": "code",
   "execution_count": null,
   "metadata": {},
   "outputs": [],
   "source": [
    "#doing the same with list comprehension\n",
    "fahrenheit_temps=[(i*(9/5))+32 for i in celsius_temps]\n",
    "print(fahrenheit_temps)"
   ]
  },
  {
   "cell_type": "code",
   "execution_count": null,
   "metadata": {},
   "outputs": [],
   "source": [
    "#Reverse the words in a string, but do not change the order of the words\n",
    "res=''\n",
    "input_str = 'the quick brown fox jumps over the lazy dog'\n",
    "temp=input_str.split()\n",
    "temp\n",
    "for i in temp:\n",
    "    print(i[::-1])#reverse it\n",
    "    res=res+' '+i[::-1]\n",
    "print(res)"
   ]
  },
  {
   "cell_type": "code",
   "execution_count": null,
   "metadata": {},
   "outputs": [],
   "source": [
    "#doing the same with list comprehensions\n",
    "res=[i[::-1] for i in input_str.split()]\n",
    "print(res)"
   ]
  },
  {
   "cell_type": "code",
   "execution_count": null,
   "metadata": {},
   "outputs": [],
   "source": [
    "input_str = 'the quick brown fox jumps over the lazy dog'\n",
    "temp=input_str.split()\n",
    "vowels=('a','e','i','o','u')\n",
    "res=input_str\n",
    "for i in input_str.lower():\n",
    "    if i in vowels:\n",
    "        res=res.replace(i,'')\n",
    "    else:\n",
    "        continue\n",
    "print(res)"
   ]
  },
  {
   "cell_type": "code",
   "execution_count": null,
   "metadata": {},
   "outputs": [],
   "source": []
  },
  {
   "cell_type": "code",
   "execution_count": null,
   "metadata": {},
   "outputs": [],
   "source": [
    "#Read in a string which has comma separated email addresses.\n",
    "#Create a dictionary where keys are the usernames and values are the email domains\n",
    "input_str = 'to@izmet.de,dadweg@jodbip.ga,agbegru@ki.gl,ricuwi@papkop.pt,bit@te.ss,onutodwun@hi.sa,aso@luc.mt'\n",
    "dict1={}\n",
    "l1=[]\n",
    "temp=input_str.split(',')\n",
    "#print(temp)\n",
    "for i in temp:\n",
    "    res=i.split('@')\n",
    "    #print(type(res))\n",
    "    temp=tuple(res)\n",
    "    l1.append(temp)\n",
    "print(l1)\n",
    "dict1.update(l1)\n",
    "print(dict1)\n",
    "    #print(list(res))\n",
    "    \n",
    "#print(dict1)\n",
    "    "
   ]
  },
  {
   "cell_type": "code",
   "execution_count": null,
   "metadata": {},
   "outputs": [],
   "source": [
    "#Python comprehensions \n",
    "#python comprehensions are used to generate collections on the fly using for loops\n",
    "#so we can have different types of comprehensions lists,generators,dictionaries etc\n"
   ]
  },
  {
   "cell_type": "code",
   "execution_count": null,
   "metadata": {},
   "outputs": [],
   "source": [
    "output=[]\n",
    "for i in range(1,9):\n",
    "    output.append(i+1)\n",
    "print(output)\n",
    "\n",
    "#we can do the same in one line with list comprehensions\n",
    "output_new=[i+1 for i in range(1,9)]\n",
    "print(output_new)"
   ]
  },
  {
   "cell_type": "code",
   "execution_count": null,
   "metadata": {},
   "outputs": [],
   "source": [
    "#if we want to give a particular condition which needs to be satisfied\n",
    "output_new=[i+1 for i in range(1,9) if i%2==0]\n",
    "print(output_new)"
   ]
  },
  {
   "cell_type": "code",
   "execution_count": null,
   "metadata": {},
   "outputs": [],
   "source": [
    "test_input=[i for i in range(1,11) if i%2==0]\n",
    "print(test_input)"
   ]
  },
  {
   "cell_type": "code",
   "execution_count": null,
   "metadata": {},
   "outputs": [],
   "source": [
    "output=[[i,j] for i in range(1,9) for j in range(1,6)]\n",
    "print(output)"
   ]
  },
  {
   "cell_type": "code",
   "execution_count": null,
   "metadata": {},
   "outputs": [],
   "source": [
    "output=[[i+j for j in range(1,5)]for i in range(1,6)]\n",
    "print(output)"
   ]
  },
  {
   "cell_type": "code",
   "execution_count": null,
   "metadata": {},
   "outputs": [],
   "source": [
    "output=[[(i,j)] for i in range(1,7) for j in range(1,5)]\n",
    "print(output)"
   ]
  },
  {
   "cell_type": "code",
   "execution_count": null,
   "metadata": {},
   "outputs": [],
   "source": [
    "z = [(i + j) for i, j in zip(range(11), range(10, 21))]\n",
    "print(z)"
   ]
  },
  {
   "cell_type": "code",
   "execution_count": null,
   "metadata": {},
   "outputs": [],
   "source": [
    "y=[i**2 if i%2==0 else i for i in range(1,10)]#we can also write a\n",
    "print(y)"
   ]
  },
  {
   "cell_type": "code",
   "execution_count": null,
   "metadata": {},
   "outputs": [],
   "source": [
    "#dictionary comprehensions\n",
    "l=list(range(1,20))\n",
    "print(l)\n",
    "d={i:'even' if i%2==0 else'odd' for i in l}\n",
    "print(d)"
   ]
  },
  {
   "cell_type": "code",
   "execution_count": null,
   "metadata": {},
   "outputs": [],
   "source": [
    "#count the number of times a letter appears in a string\n",
    "l='Project Alpha Version seven'\n",
    "d={i:l.count(i)for i in l}\n",
    "print(d)"
   ]
  },
  {
   "cell_type": "code",
   "execution_count": null,
   "metadata": {},
   "outputs": [],
   "source": [
    "item=['cycle','tea','phone']#Create a dictionary of the following items\n",
    "cost=[1,2,3]\n",
    "d={i:j for i,j in zip(item,cost)}\n",
    "print(d)"
   ]
  },
  {
   "cell_type": "code",
   "execution_count": null,
   "metadata": {},
   "outputs": [],
   "source": [
    "#we can also form a dictionary if u wanted to just zip the lists\n",
    "d=dict(zip(item,cost))\n",
    "print(d)"
   ]
  },
  {
   "cell_type": "code",
   "execution_count": null,
   "metadata": {},
   "outputs": [],
   "source": [
    "#set comprehensions\n",
    "l=list(range(1,20))\n",
    "s={i for i in l if i%2==0}\n",
    "print(s)"
   ]
  },
  {
   "cell_type": "code",
   "execution_count": null,
   "metadata": {},
   "outputs": [],
   "source": [
    "#generator comprehensions\n",
    "#a generator comprehension is memory efficient as it is not evaluated immediatley but is used as \n",
    "#an iterable and will generate values one by one in the iteration this makes it memory efficient.\n",
    "g=(i for i in range(100))\n",
    "sum=0\n",
    "for num in g:\n",
    "    sum=sum+num\n",
    "print(sum)\n",
    "print(list(g))"
   ]
  },
  {
   "cell_type": "code",
   "execution_count": null,
   "metadata": {},
   "outputs": [],
   "source": [
    "#python functions\n",
    "def add(x,y):\n",
    "    return x+y\n",
    "print(add(1,2))\n",
    "new_add=add\n",
    "print(new_add(5,6))\n",
    "def add(x,y,z):\n",
    "    return x+y+z\n",
    "print(add(1,2,3))\n",
    "#print(new_add(1,2,3))#error"
   ]
  },
  {
   "cell_type": "code",
   "execution_count": null,
   "metadata": {},
   "outputs": [],
   "source": [
    "def hi():\n",
    "    print('hellooooo')\n",
    "hi()\n",
    "a=hi()\n",
    "print(a)\n",
    "#every python function returns a value only difference is that if we dont specify a value python will return\n",
    "#none by default"
   ]
  },
  {
   "cell_type": "code",
   "execution_count": null,
   "metadata": {},
   "outputs": [],
   "source": [
    "def add(a=1,b=10):\n",
    "    return a+b\n",
    "print(add())\n",
    "print(add(1,2))\n",
    "print(add(1))\n",
    "print(add(b=12))"
   ]
  },
  {
   "cell_type": "code",
   "execution_count": null,
   "metadata": {},
   "outputs": [],
   "source": [
    "#to convert a character to its corresponding ASCII value and back\n",
    "res=ord('a')#converting 'a' to its ascii value use the ord()\n",
    "print(res)\n",
    "print(chr(res))#in python variables dont actually have a type its the value that is present inside\n",
    "#the variable which will actually dictate its type\n",
    "y=1.0\n",
    "print(type(y))\n",
    "y='a'\n",
    "print(type(y))"
   ]
  },
  {
   "cell_type": "code",
   "execution_count": null,
   "metadata": {},
   "outputs": [],
   "source": [
    "x=[1,2,3,4,5]\n",
    "y=x\n",
    "x.append(6)\n",
    "print(id(x),x)\n",
    "print(id(y),y)\n",
    "y.append(7)\n",
    "print(id(x),x)\n",
    "print(id(y),y)\n",
    "print(x==y)\n",
    "print(x is y)"
   ]
  },
  {
   "cell_type": "code",
   "execution_count": null,
   "metadata": {},
   "outputs": [],
   "source": [
    "#cartesian product using list comprehension\n",
    "a=[1,2,3,4,5]\n",
    "b=['a','b','b','c','d']\n",
    "res=[(i,j) for i in a for j in b]#this will do axb and save it in the value res.\n",
    "print(res)"
   ]
  },
  {
   "cell_type": "code",
   "execution_count": null,
   "metadata": {},
   "outputs": [],
   "source": [
    "def squared(x):\n",
    "    return x**2\n",
    "#we can call this function as \n",
    "res1=squared(2)\n",
    "#we can also call this function on an iterable\n",
    "res2=map(squared,[1,2,3,4,5])\n",
    "#we can also write the squared() as an anonymous function\n",
    "res3=map(lambda x:x**2,[1,2,3,4,5])\n",
    "#we can also use the filter()\n",
    "res4=filter(lambda x:x>2,[1,2,3,4,5])#we use filter to filter the list \n",
    "print(res1,list(res2),list(res3),list(res4))\n",
    "l1=[1,2,3,4,5]"
   ]
  },
  {
   "cell_type": "code",
   "execution_count": null,
   "metadata": {},
   "outputs": [],
   "source": [
    "#working with maps and filters in listcomprehensions\n",
    "values=list(range(30))\n",
    "#filtering this list by applying filtering in a list comprehension\n",
    "res1=[i for i in values if i%2==0]\n",
    "#we can also use a map while working with list comprehensions\n",
    "res2=[squared(i) for i in values if i%2!=0]\n",
    "print(res1)\n",
    "print(res2)"
   ]
  },
  {
   "cell_type": "code",
   "execution_count": null,
   "metadata": {},
   "outputs": [],
   "source": [
    "#The reduce function\n",
    "#the reduce function will recursivley apply the function and finally return a single value in the end\n",
    "from functools import reduce\n",
    "res=reduce(lambda x,y:x+y,[1,2,3,4,5])\n",
    "print(res)"
   ]
  },
  {
   "cell_type": "code",
   "execution_count": null,
   "metadata": {},
   "outputs": [],
   "source": []
  },
  {
   "cell_type": "code",
   "execution_count": null,
   "metadata": {},
   "outputs": [],
   "source": []
  },
  {
   "cell_type": "code",
   "execution_count": null,
   "metadata": {},
   "outputs": [],
   "source": []
  },
  {
   "cell_type": "code",
   "execution_count": null,
   "metadata": {},
   "outputs": [],
   "source": []
  },
  {
   "cell_type": "code",
   "execution_count": null,
   "metadata": {},
   "outputs": [],
   "source": []
  },
  {
   "cell_type": "code",
   "execution_count": null,
   "metadata": {},
   "outputs": [],
   "source": []
  },
  {
   "cell_type": "code",
   "execution_count": null,
   "metadata": {},
   "outputs": [],
   "source": []
  },
  {
   "cell_type": "code",
   "execution_count": 138,
   "metadata": {},
   "outputs": [
    {
     "data": {
      "text/plain": [
       "[0, 7, 10]"
      ]
     },
     "execution_count": 138,
     "metadata": {},
     "output_type": "execute_result"
    }
   ],
   "source": [
    "l1=[1,2,3,4,5,6,7,1,2,3,1,23]\n",
    "\n",
    "[index for index,val in enumerate(l1) if val==1]"
   ]
  },
  {
   "cell_type": "code",
   "execution_count": 133,
   "metadata": {},
   "outputs": [],
   "source": []
  },
  {
   "cell_type": "markdown",
   "metadata": {},
   "source": []
  },
  {
   "cell_type": "code",
   "execution_count": 134,
   "metadata": {},
   "outputs": [
    {
     "data": {
      "text/plain": [
       "[(1, 'a'), (2, 'b'), (3, 'c')]"
      ]
     },
     "execution_count": 134,
     "metadata": {},
     "output_type": "execute_result"
    }
   ],
   "source": []
  },
  {
   "cell_type": "code",
   "execution_count": 136,
   "metadata": {},
   "outputs": [
    {
     "data": {
      "text/plain": [
       "[(1, 'a'),\n",
       " (1, 'b'),\n",
       " (1, 'c'),\n",
       " (2, 'a'),\n",
       " (2, 'b'),\n",
       " (2, 'c'),\n",
       " (3, 'a'),\n",
       " (3, 'b'),\n",
       " (3, 'c')]"
      ]
     },
     "execution_count": 136,
     "metadata": {},
     "output_type": "execute_result"
    }
   ],
   "source": []
  },
  {
   "cell_type": "code",
   "execution_count": null,
   "metadata": {},
   "outputs": [],
   "source": []
  },
  {
   "cell_type": "code",
   "execution_count": null,
   "metadata": {},
   "outputs": [],
   "source": []
  }
 ],
 "metadata": {
  "kernelspec": {
   "display_name": "Python 3",
   "language": "python",
   "name": "python3"
  },
  "language_info": {
   "codemirror_mode": {
    "name": "ipython",
    "version": 3
   },
   "file_extension": ".py",
   "mimetype": "text/x-python",
   "name": "python",
   "nbconvert_exporter": "python",
   "pygments_lexer": "ipython3",
   "version": "3.7.2"
  }
 },
 "nbformat": 4,
 "nbformat_minor": 2
}
