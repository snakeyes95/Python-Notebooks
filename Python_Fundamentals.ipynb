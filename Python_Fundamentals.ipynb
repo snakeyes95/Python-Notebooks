{
 "cells": [
  {
   "cell_type": "markdown",
   "metadata": {},
   "source": [
    "# Python fundamentals"
   ]
  },
  {
   "cell_type": "markdown",
   "metadata": {},
   "source": [
    "### Comments"
   ]
  },
  {
   "cell_type": "code",
   "execution_count": 1,
   "metadata": {},
   "outputs": [
    {
     "data": {
      "text/plain": [
       "'Multi-line comments\\ncan be written using the multi line comment\\n'"
      ]
     },
     "execution_count": 1,
     "metadata": {},
     "output_type": "execute_result"
    }
   ],
   "source": [
    "#We can write single line comments using # \n",
    "\"\"\"Multi-line comments\n",
    "can be written using the multi line comment\n",
    "\"\"\""
   ]
  },
  {
   "cell_type": "markdown",
   "metadata": {},
   "source": [
    "### Primitive Datatypes"
   ]
  },
  {
   "cell_type": "code",
   "execution_count": 2,
   "metadata": {},
   "outputs": [],
   "source": [
    "#immutable:-int, float, complex, string, tuple \n",
    "#mutable:-list, set, dictionary"
   ]
  },
  {
   "cell_type": "code",
   "execution_count": 3,
   "metadata": {},
   "outputs": [
    {
     "data": {
      "text/plain": [
       "11"
      ]
     },
     "execution_count": 3,
     "metadata": {},
     "output_type": "execute_result"
    }
   ],
   "source": [
    "1+10"
   ]
  },
  {
   "cell_type": "code",
   "execution_count": 4,
   "metadata": {},
   "outputs": [
    {
     "data": {
      "text/plain": [
       "3.5"
      ]
     },
     "execution_count": 4,
     "metadata": {},
     "output_type": "execute_result"
    }
   ],
   "source": [
    "7/2"
   ]
  },
  {
   "cell_type": "code",
   "execution_count": 5,
   "metadata": {},
   "outputs": [
    {
     "data": {
      "text/plain": [
       "3"
      ]
     },
     "execution_count": 5,
     "metadata": {},
     "output_type": "execute_result"
    }
   ],
   "source": [
    "7//2 # use the // to get only the int part of the division"
   ]
  },
  {
   "cell_type": "code",
   "execution_count": 6,
   "metadata": {},
   "outputs": [
    {
     "data": {
      "text/plain": [
       "8"
      ]
     },
     "execution_count": 6,
     "metadata": {},
     "output_type": "execute_result"
    }
   ],
   "source": [
    "2*4"
   ]
  },
  {
   "cell_type": "code",
   "execution_count": 7,
   "metadata": {},
   "outputs": [
    {
     "data": {
      "text/plain": [
       "2.5"
      ]
     },
     "execution_count": 7,
     "metadata": {},
     "output_type": "execute_result"
    }
   ],
   "source": [
    "5.0/2.0"
   ]
  },
  {
   "cell_type": "code",
   "execution_count": 8,
   "metadata": {},
   "outputs": [
    {
     "data": {
      "text/plain": [
       "2.0"
      ]
     },
     "execution_count": 8,
     "metadata": {},
     "output_type": "execute_result"
    }
   ],
   "source": [
    "5.0//2.0 #works on floats as well!"
   ]
  },
  {
   "cell_type": "code",
   "execution_count": 9,
   "metadata": {},
   "outputs": [
    {
     "data": {
      "text/plain": [
       "2.5"
      ]
     },
     "execution_count": 9,
     "metadata": {},
     "output_type": "execute_result"
    }
   ],
   "source": [
    "5/2"
   ]
  },
  {
   "cell_type": "code",
   "execution_count": 10,
   "metadata": {},
   "outputs": [
    {
     "data": {
      "text/plain": [
       "2"
      ]
     },
     "execution_count": 10,
     "metadata": {},
     "output_type": "execute_result"
    }
   ],
   "source": [
    "#modulo operator\n",
    "5%3"
   ]
  },
  {
   "cell_type": "code",
   "execution_count": 11,
   "metadata": {},
   "outputs": [
    {
     "data": {
      "text/plain": [
       "16"
      ]
     },
     "execution_count": 11,
     "metadata": {},
     "output_type": "execute_result"
    }
   ],
   "source": [
    "#exponents\n",
    "2**4"
   ]
  },
  {
   "cell_type": "code",
   "execution_count": 12,
   "metadata": {},
   "outputs": [
    {
     "name": "stdout",
     "output_type": "stream",
     "text": [
      "23\n",
      "35\n"
     ]
    }
   ],
   "source": [
    "#precedance can be enforced with parenthesis\n",
    "print(3+4*5)\n",
    "print((3+4)*5)"
   ]
  },
  {
   "cell_type": "code",
   "execution_count": 13,
   "metadata": {},
   "outputs": [
    {
     "name": "stdout",
     "output_type": "stream",
     "text": [
      "True\n",
      "False\n",
      "True\n",
      "True\n"
     ]
    }
   ],
   "source": [
    "print(True and True)\n",
    "print(True and False)\n",
    "print(True or False)\n",
    "print(True or True)"
   ]
  },
  {
   "cell_type": "code",
   "execution_count": 14,
   "metadata": {},
   "outputs": [
    {
     "data": {
      "text/plain": [
       "True"
      ]
     },
     "execution_count": 14,
     "metadata": {},
     "output_type": "execute_result"
    }
   ],
   "source": [
    "0 == False"
   ]
  },
  {
   "cell_type": "code",
   "execution_count": 15,
   "metadata": {},
   "outputs": [
    {
     "data": {
      "text/plain": [
       "True"
      ]
     },
     "execution_count": 15,
     "metadata": {},
     "output_type": "execute_result"
    }
   ],
   "source": [
    "1 == True"
   ]
  },
  {
   "cell_type": "code",
   "execution_count": 16,
   "metadata": {},
   "outputs": [
    {
     "data": {
      "text/plain": [
       "-5"
      ]
     },
     "execution_count": 16,
     "metadata": {},
     "output_type": "execute_result"
    }
   ],
   "source": [
    "0 or -5"
   ]
  },
  {
   "cell_type": "code",
   "execution_count": 17,
   "metadata": {},
   "outputs": [
    {
     "data": {
      "text/plain": [
       "0"
      ]
     },
     "execution_count": 17,
     "metadata": {},
     "output_type": "execute_result"
    }
   ],
   "source": [
    "0 and 2"
   ]
  },
  {
   "cell_type": "code",
   "execution_count": 18,
   "metadata": {},
   "outputs": [
    {
     "data": {
      "text/plain": [
       "True"
      ]
     },
     "execution_count": 18,
     "metadata": {},
     "output_type": "execute_result"
    }
   ],
   "source": [
    "1 == 1"
   ]
  },
  {
   "cell_type": "code",
   "execution_count": 19,
   "metadata": {},
   "outputs": [
    {
     "data": {
      "text/plain": [
       "False"
      ]
     },
     "execution_count": 19,
     "metadata": {},
     "output_type": "execute_result"
    }
   ],
   "source": [
    "1 == 3"
   ]
  },
  {
   "cell_type": "code",
   "execution_count": 20,
   "metadata": {},
   "outputs": [
    {
     "name": "stdout",
     "output_type": "stream",
     "text": [
      "False\n",
      "False\n",
      "True\n"
     ]
    }
   ],
   "source": [
    "print(1>2)\n",
    "print(1>=2)\n",
    "print(2<=2)"
   ]
  },
  {
   "cell_type": "code",
   "execution_count": 21,
   "metadata": {},
   "outputs": [],
   "source": [
    "a=x=y=20#chained assignment in python"
   ]
  },
  {
   "cell_type": "code",
   "execution_count": 22,
   "metadata": {},
   "outputs": [
    {
     "name": "stdout",
     "output_type": "stream",
     "text": [
      "20 20 20\n"
     ]
    }
   ],
   "source": [
    "print(a,x,y)"
   ]
  },
  {
   "cell_type": "code",
   "execution_count": 23,
   "metadata": {},
   "outputs": [],
   "source": [
    "a=40"
   ]
  },
  {
   "cell_type": "code",
   "execution_count": 24,
   "metadata": {},
   "outputs": [
    {
     "name": "stdout",
     "output_type": "stream",
     "text": [
      "40 20 20\n"
     ]
    }
   ],
   "source": [
    "print(a,x,y)"
   ]
  },
  {
   "cell_type": "code",
   "execution_count": 25,
   "metadata": {},
   "outputs": [],
   "source": [
    "a,x,y=1,'hello',3"
   ]
  },
  {
   "cell_type": "code",
   "execution_count": 26,
   "metadata": {},
   "outputs": [
    {
     "name": "stdout",
     "output_type": "stream",
     "text": [
      "1 hello 3\n"
     ]
    }
   ],
   "source": [
    "print(a,x,y)"
   ]
  },
  {
   "cell_type": "code",
   "execution_count": 27,
   "metadata": {},
   "outputs": [],
   "source": [
    "a=x=y=1,'hello',3# will end up creating a tuple in this case"
   ]
  },
  {
   "cell_type": "code",
   "execution_count": 28,
   "metadata": {},
   "outputs": [
    {
     "name": "stdout",
     "output_type": "stream",
     "text": [
      "(1, 'hello', 3) (1, 'hello', 3) (1, 'hello', 3)\n"
     ]
    }
   ],
   "source": [
    "print(a,x,y)"
   ]
  },
  {
   "cell_type": "code",
   "execution_count": 29,
   "metadata": {},
   "outputs": [
    {
     "name": "stdout",
     "output_type": "stream",
     "text": [
      "\n",
      "Here is a list of the Python keywords.  Enter any keyword to get more help.\n",
      "\n",
      "False               class               from                or\n",
      "None                continue            global              pass\n",
      "True                def                 if                  raise\n",
      "and                 del                 import              return\n",
      "as                  elif                in                  try\n",
      "assert              else                is                  while\n",
      "async               except              lambda              with\n",
      "await               finally             nonlocal            yield\n",
      "break               for                 not                 \n",
      "\n"
     ]
    }
   ],
   "source": [
    "help('keywords')"
   ]
  },
  {
   "cell_type": "code",
   "execution_count": 30,
   "metadata": {},
   "outputs": [
    {
     "name": "stdout",
     "output_type": "stream",
     "text": [
      "True\n",
      "8791201148848 8791201148848\n",
      "False\n",
      "8791201148848 81718768\n"
     ]
    }
   ],
   "source": [
    "a=100\n",
    "b=a\n",
    "print(a is b)\n",
    "print(id(a),id(b))\n",
    "b=500\n",
    "print(a is b)\n",
    "print(id(a),id(b))"
   ]
  },
  {
   "cell_type": "code",
   "execution_count": 31,
   "metadata": {},
   "outputs": [
    {
     "name": "stdout",
     "output_type": "stream",
     "text": [
      "8791201145968 8791201146288\n"
     ]
    }
   ],
   "source": [
    "a=10\n",
    "b=20\n",
    "print(id(a),id(b))"
   ]
  },
  {
   "cell_type": "code",
   "execution_count": 32,
   "metadata": {},
   "outputs": [
    {
     "name": "stdout",
     "output_type": "stream",
     "text": [
      "3\n",
      "3.0\n",
      "(4+4j)\n",
      "34\n",
      "3.2\n",
      "3.77\n",
      "True\n",
      "False\n"
     ]
    }
   ],
   "source": [
    "#type conversion in python\n",
    "print(int(3.62))\n",
    "print(float(3))\n",
    "print(complex(4,4))\n",
    "print(int(float('34.7')))\n",
    "print(float('3.2'))\n",
    "print(str(3.77))\n",
    "print(str(True))\n",
    "print(bool(0))"
   ]
  },
  {
   "cell_type": "code",
   "execution_count": 33,
   "metadata": {},
   "outputs": [
    {
     "name": "stdout",
     "output_type": "stream",
     "text": [
      "helloworld\n",
      "hello9\n",
      "5\n",
      "hellohellohello\n",
      "True\n",
      "False\n",
      "False\n",
      "hello\n",
      "llo\n",
      "['e', 'h', 'l', 'l', 'o']\n",
      "e\n",
      "o\n",
      "False\n",
      "True\n",
      "False\n",
      "True\n",
      "True\n",
      "HELLO\n",
      "hello\n",
      "bello\n",
      "2\n",
      "1\n",
      "2\n",
      "3\n",
      "a long string present here\n",
      "['a', 'long', 'string', 'present', 'here']\n",
      "['world']\n",
      "w o r l d\n",
      "w\to\tr\tl\td\n",
      "w\n",
      "o\n",
      "r\n",
      "l\n",
      "d\n",
      "['w', 'rld']\n",
      "['hello', 'world', '!!!!']\n"
     ]
    }
   ],
   "source": [
    "#python strings\n",
    "s1='hello'\n",
    "s2='world'\n",
    "print(s1+s2)\n",
    "print(s1+str(9))\n",
    "print(len(s1))\n",
    "print(s1*3)\n",
    "print('he' in s1)\n",
    "print('hl' in s1)\n",
    "print('ee' in s1)\n",
    "print(s1[::])\n",
    "print(s1[2::1])\n",
    "print(sorted(s1))#returns a list of characters sorted\n",
    "print(min(s1))\n",
    "print(max(s1))\n",
    "#we can use a dumber of methods on a string object but since our string object is immutable it will not do any changes to the \n",
    "#original string.\n",
    "print(s1.isupper())\n",
    "print(s1.islower())\n",
    "print(s1.isnumeric())\n",
    "print(s1.isalnum())\n",
    "print(s1.isalpha())\n",
    "print(s1.upper())\n",
    "print(s1.lower())\n",
    "print(s1.replace('h','b'))\n",
    "print(s1.find('ll'))#strings are 0 indexed\n",
    "print(s1.index('ell'))\n",
    "print(s1.count('l'))\n",
    "print((s1+s2).count('l'))\n",
    "s3='            a long string present here          '\n",
    "print(s3.strip())#remove any leading or trailing spaces present \n",
    "print(s3.strip().split())\n",
    "print(s2.split())#breaks by space by default can be changed\n",
    "print(' '.join(s2))\n",
    "print('\\t'.join(s2))\n",
    "print('\\n'.join(s2))\n",
    "print(s2.split('o'))#will now split on '0'\n",
    "s4='hello \\n world \\n !!!!'\n",
    "print(s4.split(' \\n '))#we can split files based on different delimeters using the string.split()"
   ]
  },
  {
   "cell_type": "code",
   "execution_count": 34,
   "metadata": {},
   "outputs": [
    {
     "name": "stdout",
     "output_type": "stream",
     "text": [
      "8791201145968 8791201145968\n",
      "8791201146288 8791201146288\n",
      "29 20 8791201146288 8791201146576\n"
     ]
    }
   ],
   "source": [
    "a=b=10\n",
    "print(id(a),id(b))#same id Memory location\n",
    "c=20\n",
    "d=c\n",
    "print(id(c),id(d))\n",
    "d=29\n",
    "print(d,c,id(c),id(d))"
   ]
  },
  {
   "cell_type": "code",
   "execution_count": 35,
   "metadata": {},
   "outputs": [
    {
     "data": {
      "text/plain": [
       "(9, 2)"
      ]
     },
     "execution_count": 35,
     "metadata": {},
     "output_type": "execute_result"
    }
   ],
   "source": [
    "a=4.5\n",
    "a.as_integer_ratio()#cool trick while working with float values"
   ]
  },
  {
   "cell_type": "code",
   "execution_count": 36,
   "metadata": {},
   "outputs": [
    {
     "name": "stdout",
     "output_type": "stream",
     "text": [
      "False\n"
     ]
    }
   ],
   "source": [
    "print(a.is_integer())#type checking in python\n"
   ]
  },
  {
   "cell_type": "code",
   "execution_count": 37,
   "metadata": {},
   "outputs": [
    {
     "name": "stdout",
     "output_type": "stream",
     "text": [
      "<class 'complex'>\n",
      "(3-5j) 3.0 5.0\n"
     ]
    }
   ],
   "source": [
    "#working with complex numbers\n",
    "a=3+5j\n",
    "print(type(a))\n",
    "print(a.conjugate(),a.real,a.imag)\n",
    "#a.real=5 we cannot do this as a complex type variable is immutable"
   ]
  },
  {
   "cell_type": "code",
   "execution_count": 38,
   "metadata": {},
   "outputs": [
    {
     "data": {
      "text/plain": [
       "True"
      ]
     },
     "execution_count": 38,
     "metadata": {},
     "output_type": "execute_result"
    }
   ],
   "source": [
    "# we can also chain comparison as follows\n",
    "1<4<5"
   ]
  },
  {
   "cell_type": "code",
   "execution_count": 39,
   "metadata": {},
   "outputs": [
    {
     "name": "stdout",
     "output_type": "stream",
     "text": [
      "Hello world\n"
     ]
    }
   ],
   "source": [
    "# We can also work with strings as shown\n",
    "a='Hello world'\n",
    "print(a)"
   ]
  },
  {
   "cell_type": "code",
   "execution_count": 40,
   "metadata": {},
   "outputs": [
    {
     "name": "stdout",
     "output_type": "stream",
     "text": [
      "Hello world!!!!!\n"
     ]
    },
    {
     "data": {
      "text/plain": [
       "'hellopython'"
      ]
     },
     "execution_count": 40,
     "metadata": {},
     "output_type": "execute_result"
    }
   ],
   "source": [
    "b='!!!!!'\n",
    "print(a+b)\n",
    "\"hello\" \"python\" #we can add two stings like this as well"
   ]
  },
  {
   "cell_type": "code",
   "execution_count": 41,
   "metadata": {},
   "outputs": [
    {
     "data": {
      "text/plain": [
       "'Hello worldHello worldHello world'"
      ]
     },
     "execution_count": 41,
     "metadata": {},
     "output_type": "execute_result"
    }
   ],
   "source": [
    "a*3"
   ]
  },
  {
   "cell_type": "code",
   "execution_count": 42,
   "metadata": {},
   "outputs": [
    {
     "data": {
      "text/plain": [
       "'H'"
      ]
     },
     "execution_count": 42,
     "metadata": {},
     "output_type": "execute_result"
    }
   ],
   "source": [
    "# a string can be considered as a list of characters\n",
    "a[0]"
   ]
  },
  {
   "cell_type": "code",
   "execution_count": 43,
   "metadata": {},
   "outputs": [
    {
     "data": {
      "text/plain": [
       "11"
      ]
     },
     "execution_count": 43,
     "metadata": {},
     "output_type": "execute_result"
    }
   ],
   "source": [
    "len(a) #length of the string"
   ]
  },
  {
   "cell_type": "code",
   "execution_count": 44,
   "metadata": {},
   "outputs": [
    {
     "name": "stdout",
     "output_type": "stream",
     "text": [
      "Mr Cat loves to sit on his mat\n",
      "Mr Matt loves to sit on his chair\n"
     ]
    }
   ],
   "source": [
    "a='Cat'\n",
    "b='mat'\n",
    "\n",
    "print('Mr {} loves to sit on his {}'.format(a,b))\n",
    "print('Mr {name} loves to sit on his {place}'.format(name='Matt',place='chair'))"
   ]
  },
  {
   "cell_type": "code",
   "execution_count": 45,
   "metadata": {},
   "outputs": [
    {
     "name": "stdout",
     "output_type": "stream",
     "text": [
      "None\n"
     ]
    }
   ],
   "source": [
    "#There is also a none type object\n",
    "a=None\n",
    "print(a)"
   ]
  },
  {
   "cell_type": "code",
   "execution_count": 46,
   "metadata": {},
   "outputs": [
    {
     "data": {
      "text/plain": [
       "True"
      ]
     },
     "execution_count": 46,
     "metadata": {},
     "output_type": "execute_result"
    }
   ],
   "source": [
    "#we should not use the == to compare objects to None \n",
    "val=None\n",
    "val is None #the is operator checks for object identity which is very useful wrt objects"
   ]
  },
  {
   "cell_type": "code",
   "execution_count": 47,
   "metadata": {},
   "outputs": [
    {
     "name": "stdout",
     "output_type": "stream",
     "text": [
      "False\n",
      "True\n",
      "False\n",
      "False\n",
      "True\n"
     ]
    }
   ],
   "source": [
    "#we can use the bool() for a variety of reasons \n",
    "print(bool(\"\"))\n",
    "print(bool(\"hello\"))\n",
    "print(bool(a))\n",
    "print(bool(0))\n",
    "print(bool(100000))"
   ]
  },
  {
   "cell_type": "code",
   "execution_count": null,
   "metadata": {},
   "outputs": [],
   "source": [
    "input_data=input() #use the input method to get user input"
   ]
  },
  {
   "cell_type": "code",
   "execution_count": null,
   "metadata": {},
   "outputs": [],
   "source": [
    "print(input_data)#will take in data as a string\n",
    "type(input_data) #use the type() to get the datatype of the variable."
   ]
  },
  {
   "cell_type": "code",
   "execution_count": null,
   "metadata": {},
   "outputs": [],
   "source": [
    "#we can write a ternary operator as follows\n",
    "a='abcdefg'\n",
    "b='hijklm'\n",
    "\"amazing\" if len(a) > len(b) else \"sorry\""
   ]
  },
  {
   "cell_type": "markdown",
   "metadata": {},
   "source": [
    "### Lists"
   ]
  },
  {
   "cell_type": "code",
   "execution_count": null,
   "metadata": {},
   "outputs": [],
   "source": [
    "l1=[]\n",
    "l2=[1,2,3,'a']\n",
    "l3=list(range(1,10,2))\n",
    "l4=list('Hello world')#strings are iterable as well.\n",
    "print('l1{} l2{} l3{} l4{}'.format(l1,l2,l3,l4))"
   ]
  },
  {
   "cell_type": "code",
   "execution_count": null,
   "metadata": {},
   "outputs": [],
   "source": [
    "#we can also have nested lists\n",
    "l5=[[1,2,3,4,5],['a',[1,2,3]],[3,4,5,6],7,9]\n",
    "print(l5[0])\n",
    "print(l5[0][1])\n",
    "print(l5[1][1])\n",
    "print(l5[1][1][0])\n",
    "\n",
    "print(l3)\n",
    "l3[1:4]=[1,2,3]\n",
    "print(l3)\n",
    "l3[1:1]=[1,2,3,4,5,6,7,8,9]#we can insert elements using this method\n",
    "print(l3)"
   ]
  },
  {
   "cell_type": "code",
   "execution_count": null,
   "metadata": {},
   "outputs": [],
   "source": [
    "sorted(l3)\n",
    "l3[12:12]=[44]\n",
    "print(max(l3))\n",
    "print(min(l3))\n",
    "print(l2)\n",
    "print(list(reversed(l2)))#reverse the entries present in the list"
   ]
  },
  {
   "cell_type": "code",
   "execution_count": null,
   "metadata": {},
   "outputs": [],
   "source": [
    "print(l3[12])\n",
    "l3[::]=[]\n",
    "print(l3)"
   ]
  },
  {
   "cell_type": "code",
   "execution_count": null,
   "metadata": {},
   "outputs": [],
   "source": [
    "#use the dir() to check the list of attributes for the object\n",
    "#every thing in python is an object even functions\n",
    "dir(l2)"
   ]
  },
  {
   "cell_type": "code",
   "execution_count": null,
   "metadata": {},
   "outputs": [],
   "source": [
    "print(type(l1),type(l2))"
   ]
  },
  {
   "cell_type": "code",
   "execution_count": null,
   "metadata": {},
   "outputs": [],
   "source": [
    "l1.append(1)\n",
    "l2.append('g|')\n",
    "#we can also take this further and pass in an entire list as an argument to the list.append()\n",
    "l2.append(['a','b','c'])\n",
    "print(l2)\n",
    "print(l1)\n",
    "#if we want to merge the two lists together we can use the list.extend()\n",
    "l1.extend(l2)\n",
    "print(l1)\n",
    "#list.append() will add the entire list passed to it as an item and append it to the list\n",
    "#the list.extend() will add each list item present in the list passed to it as a separate list item\n",
    "#if we want to go ahead and now add an item to the list at a specific position\n",
    "l1.insert(0,'hello')\n",
    "print(l1)"
   ]
  },
  {
   "cell_type": "code",
   "execution_count": null,
   "metadata": {},
   "outputs": [],
   "source": [
    "#differnet ways to iterate through a list\n",
    "data=list(range(10))\n",
    "i=0\n",
    "while i<len(data):\n",
    "    print(i)\n",
    "    i=i+1\n",
    "for i in range(len(data)):\n",
    "    print(i)"
   ]
  },
  {
   "cell_type": "code",
   "execution_count": null,
   "metadata": {},
   "outputs": [],
   "source": [
    "print(l1,l2)#the list.append() will add the newly added variable\n",
    "#to the end of the list"
   ]
  },
  {
   "cell_type": "code",
   "execution_count": null,
   "metadata": {},
   "outputs": [],
   "source": [
    "#if we wish to append a iterable list to our list as individual members of the list we need to use the list.extend()\n",
    "l2.extend([12,13,14,5,66,7])\n",
    "print(l2)\n",
    "#we can use the list.index() to get the index of the first occurance of the list item \n",
    "print(l2.index(1))\n",
    "print(l2.index('a'))"
   ]
  },
  {
   "cell_type": "code",
   "execution_count": null,
   "metadata": {},
   "outputs": [],
   "source": [
    "#to delete the last element from the list use the list.pop()\n",
    "print(l2.pop()) #the pop function will return the value it has popped\n",
    "print(l2.pop(0))#pop item at index 0\n",
    "print(l2)"
   ]
  },
  {
   "cell_type": "code",
   "execution_count": null,
   "metadata": {},
   "outputs": [],
   "source": [
    "print(l1,l2)"
   ]
  },
  {
   "cell_type": "code",
   "execution_count": null,
   "metadata": {},
   "outputs": [],
   "source": [
    "#indexing lists\n",
    "#we can index list elements as follows\n",
    "print(l2[0],l2[1])"
   ]
  },
  {
   "cell_type": "code",
   "execution_count": null,
   "metadata": {},
   "outputs": [],
   "source": [
    "l2[-1]#use -1 to access the last element present in the list"
   ]
  },
  {
   "cell_type": "code",
   "execution_count": null,
   "metadata": {},
   "outputs": [],
   "source": [
    "l2[0]='h' #to set a value inside the list\n",
    "print(l2)"
   ]
  },
  {
   "cell_type": "code",
   "execution_count": null,
   "metadata": {},
   "outputs": [],
   "source": [
    "l2[7] #we will get an IndexError"
   ]
  },
  {
   "cell_type": "code",
   "execution_count": null,
   "metadata": {},
   "outputs": [],
   "source": [
    "l2[1:3]#we can get a range of values using the : operator"
   ]
  },
  {
   "cell_type": "code",
   "execution_count": null,
   "metadata": {},
   "outputs": [],
   "source": [
    "l2[:3] #will return from the 0th index"
   ]
  },
  {
   "cell_type": "code",
   "execution_count": null,
   "metadata": {},
   "outputs": [],
   "source": [
    "l2[::3]#it will select every thrid entry\n",
    "#list[start:end:step]"
   ]
  },
  {
   "cell_type": "code",
   "execution_count": null,
   "metadata": {},
   "outputs": [],
   "source": [
    "l2[::-1]# this can be used to reverse a string."
   ]
  },
  {
   "cell_type": "code",
   "execution_count": null,
   "metadata": {},
   "outputs": [],
   "source": [
    "#To delete elements from our list we can use the del\n",
    "del l2[1]\n",
    "print(l2)"
   ]
  },
  {
   "cell_type": "code",
   "execution_count": null,
   "metadata": {},
   "outputs": [],
   "source": [
    "l3=[1,2,3,4,5,6,7]\n",
    "l4=['a','b','c','d','e','f']\n",
    "#we can Concatenate 2 lists as \n",
    "print(l3+l4)\n",
    "#we can also make use of the list.extend()\n",
    "l3.extend(l4)#l3 will be changed in this case\n",
    "print(l3)"
   ]
  },
  {
   "cell_type": "code",
   "execution_count": null,
   "metadata": {},
   "outputs": [],
   "source": [
    "#to remove wrt to values instead of index we can use\n",
    "l3.append(2)\n",
    "print(l3)\n",
    "l3.remove(2)#the remove function will remove the first occurance\n",
    "#of 2\n",
    "print(l3)"
   ]
  },
  {
   "cell_type": "code",
   "execution_count": null,
   "metadata": {},
   "outputs": [],
   "source": [
    "#list.append() will insert the value directly at the end of the\n",
    "#list if we want to add the list item at a specific location \n",
    "#we need to use the list.insert()\n",
    "l3.insert(0,'r')\n",
    "print(l3)#we have inserted r in the 0th index"
   ]
  },
  {
   "cell_type": "code",
   "execution_count": null,
   "metadata": {},
   "outputs": [],
   "source": [
    "#now to get the index of a value inside the list we use the \n",
    "#list.index()\n",
    "l3.index('a')"
   ]
  },
  {
   "cell_type": "code",
   "execution_count": null,
   "metadata": {},
   "outputs": [],
   "source": [
    "#if we cannot find it in the list it will throw an error\n",
    "l3.index('z')"
   ]
  },
  {
   "cell_type": "code",
   "execution_count": null,
   "metadata": {},
   "outputs": [],
   "source": [
    "#we can check in a boolean fashion if some value is present \n",
    "#inside the list\n",
    "4 in l3"
   ]
  },
  {
   "cell_type": "code",
   "execution_count": null,
   "metadata": {},
   "outputs": [],
   "source": [
    "'z' in l3"
   ]
  },
  {
   "cell_type": "code",
   "execution_count": null,
   "metadata": {},
   "outputs": [],
   "source": [
    "#we can also find the length of the list using the len()\n",
    "len(l3)"
   ]
  },
  {
   "cell_type": "code",
   "execution_count": null,
   "metadata": {},
   "outputs": [],
   "source": [
    "%%time\n",
    "#any and all can be used to check if any of the item inside the iterable is empty.\n",
    "l3=[1,2,3,4,5]\n",
    "l4=[1,2,3,(),4]\n",
    "print(any(l3),any(l4))\n",
    "print(all(l3),all(l4))"
   ]
  },
  {
   "cell_type": "code",
   "execution_count": null,
   "metadata": {},
   "outputs": [],
   "source": [
    "l1=['hi']*20#will multiply hi 20 times\n",
    "print(l1)"
   ]
  },
  {
   "cell_type": "code",
   "execution_count": null,
   "metadata": {},
   "outputs": [],
   "source": [
    "#how can we handle duplicate elements inside a list\n",
    "l1=[11,2,3,14,5,61,7,1,2,3,4,5]#we can see this list contains duplicates inside it.\n",
    "l2=list(set(l1))\n",
    "print(l1)\n",
    "print(l2)#we can see that the duplicate elements have been removed.\n",
    "#we can see that the order has been changed\n",
    "\n",
    "#if we wanted to keep the squence of items (ordering) intact\n",
    "def uniq_vals(x):\n",
    "    uniq=[]\n",
    "    for i in x:\n",
    "        if i not in uniq:\n",
    "            uniq.append(i)\n",
    "        else:\n",
    "            continue\n",
    "    return uniq\n",
    "    \n",
    "print(uniq_vals(l1))#here we can see that the ordering of the items is kept intact."
   ]
  },
  {
   "cell_type": "code",
   "execution_count": null,
   "metadata": {},
   "outputs": [],
   "source": [
    "#search index of items repeating inside the list\n",
    "data=['a',2,1,3,'a',4,5,6,7,'a']\n",
    "print(data.index('a'))#this will by default return the index of only the first occurance in our list\n",
    "def multiples(x,y):\n",
    "    try:  \n",
    "        pos=[]\n",
    "        res=0\n",
    "        while True:\n",
    "            res=x.index(y,res)\n",
    "            pos.append(res)\n",
    "            res=res+1\n",
    "        return pos\n",
    "    except:\n",
    "        print('end of list index')\n",
    "print(multiples(data,'a'))\n",
    "        "
   ]
  },
  {
   "cell_type": "code",
   "execution_count": null,
   "metadata": {},
   "outputs": [],
   "source": [
    "#search index of items repeating inside the list\n",
    "data=['a',2,1,3,'a',4,5,6,7,'a']\n",
    "\n",
    "def multiples(x,y):\n",
    "        data_pos=[]\n",
    "        for i in range(len(x)):\n",
    "            if x[i]==y:\n",
    "                data_pos.append(i)\n",
    "            else:\n",
    "                continue\n",
    "        return data_pos\n",
    "\n",
    "print(multiples(data,'a'))\n",
    "    "
   ]
  },
  {
   "cell_type": "code",
   "execution_count": null,
   "metadata": {},
   "outputs": [],
   "source": [
    "def getIndexPositions(listOfElements, element):\n",
    "    ''' Returns the indexes of all occurrences of give element in\n",
    "    the list- listOfElements '''\n",
    "    indexPosList = []\n",
    "    indexPos = 0\n",
    "    while True:\n",
    "        try:\n",
    "        # Search for item in list from indexPos to the end of list\n",
    "            indexPos = listOfElements.index(element, indexPos)\n",
    "# Add the index position in list\n",
    "            indexPosList.append(indexPos)\n",
    "            indexPos += 1\n",
    "        except ValueError as e:\n",
    "            break\n",
    "    return indexPosList\n",
    "\n",
    "listOfElems = ['Hello', 'Ok', 'is', 'Ok', 'test', 'this', 'is', 'a', 'test', 'Ok']\n",
    "indexPosList = getIndexPositions(listOfElems, 'Ok')\n",
    "print('Indexes of all occurrences of \"Ok\" in the list are : ', indexPosList)\n",
    "listOfElems = ['Hello', 'Ok', 'is', 'Ok', 'test', 'this', 'is', 'a', 'test', 'Ok']\n",
    " \n",
    "# Get indexes of all occurrences of 'Ok' in the list\n",
    "indexPosList = getIndexPositions(listOfElems, 'Ok')"
   ]
  },
  {
   "cell_type": "code",
   "execution_count": null,
   "metadata": {},
   "outputs": [],
   "source": [
    "#check if an item exists in the list\n",
    "data=[1,'a',2,'b','c',1,2,3,1]\n",
    "def checking(ls,item):\n",
    "    if item in ls:\n",
    "        print(f'Item {item} found in list in position {ls.index(item)}')\n",
    "    else:\n",
    "        print(f'{item} not found in list {ls}')\n",
    "checking(data,'a')\n",
    "checking(data,99)\n",
    "\n",
    "data.count(1)#we can find the number of times the item with value 1 is present in the list using the \n",
    "#list.count()\n",
    "\n",
    "#we can also work in this way\n",
    "if (any(i for i in data if type(i)==str)):\n",
    "    print('value found')\n",
    "else:\n",
    "    print('value not found')\n",
    "   "
   ]
  },
  {
   "cell_type": "code",
   "execution_count": null,
   "metadata": {},
   "outputs": [],
   "source": [
    "#how to check if all the elements present in list1 are present in list2\n",
    "l1=[1,2,3,4,599,71,9]\n",
    "l2=[2,3]\n",
    "l3=[2,'a']\n",
    "#check if l2 is present in l1\n",
    "res1=all(i in l1 for i in l2)\n",
    "res2=all(i in l1 for i in l3)\n",
    "res3=any(i in l1 for i in l3)\n",
    "print(res1)\n",
    "print(res2)\n",
    "print(res3)"
   ]
  },
  {
   "cell_type": "code",
   "execution_count": null,
   "metadata": {},
   "outputs": [],
   "source": [
    "#check if all the elements are same in a lis\n",
    "def same_vals(x):\n",
    "    if all(i==x[0] for i in x):\n",
    "        print('All elements are same')\n",
    "    else:\n",
    "        print('Elements are not the same')\n",
    "l1=['hi']*10\n",
    "l2=[1,2,3]\n",
    "same_vals(l1)\n",
    "same_vals(l2)\n",
    "\n",
    "\n",
    "#we can also do this by converting the list into a set and then checking the length\n",
    "def same_vals_set(x):\n",
    "    l1=list(set(x))\n",
    "    if len(l1)==1:\n",
    "        print('all Elements are same')\n",
    "    else:\n",
    "        print('Elements are different')\n",
    "same_vals_set(l1)\n",
    "same_vals_set(l2)"
   ]
  },
  {
   "cell_type": "code",
   "execution_count": null,
   "metadata": {},
   "outputs": [],
   "source": [
    "data_alpha=['at','this','party','we','will','try','our','code']\n",
    "data_num=[1,100,10,22,999,44]\n",
    "#sorting these arrays in different ways\n",
    "print(data_alpha.sort())\n",
    "print(data_num.sort())\n",
    "print(data_num.sort(reverse=True))"
   ]
  },
  {
   "cell_type": "code",
   "execution_count": null,
   "metadata": {},
   "outputs": [],
   "source": [
    "data_alpha=['at','this','party','we','will','try','our','code']\n",
    "data_num=[1,100,10,22,999,44]\n",
    "#sorting these arrays in different ways\n",
    "data_alpha.sort()\n",
    "print(data_alpha)\n",
    "data_alpha.sort(key=len)\n",
    "print(data_alpha)\n",
    "data_num.sort()\n",
    "print(data_num)\n",
    "data_num.sort(reverse=True)\n",
    "print(data_num)\n",
    "data_num.sort(key=int)\n",
    "print(data_num)"
   ]
  },
  {
   "cell_type": "code",
   "execution_count": null,
   "metadata": {},
   "outputs": [],
   "source": [
    "data=[('e',20),('a',35),('c',40)]\n",
    "data.sort()\n",
    "print(data)#we can see that by default it will sort only according to the first element in the tuple\n",
    "#if we want to sort according to the second element the frequency\n",
    "data.sort(key=lambda elem:elem[1])\n",
    "print(data)#sorting according to the second element in the tuple.\n",
    "\n",
    "def comparator(x):\n",
    "    return x[1]\n",
    "data.sort(key=comparator)\n",
    "print(data)\n",
    "#we can sort according to the frequency by writing a custom function and then passing it as a key in \n",
    "#the sort()"
   ]
  },
  {
   "cell_type": "code",
   "execution_count": null,
   "metadata": {},
   "outputs": [],
   "source": [
    "#extending a list \n",
    "l1=[1,2,3,4,5]\n",
    "l2=[5,6,7,8,9,10]\n",
    "l3=l1+l2\n",
    "print(l3)\n",
    "l1.extend(l2)\n",
    "print(l1)"
   ]
  },
  {
   "cell_type": "code",
   "execution_count": null,
   "metadata": {},
   "outputs": [],
   "source": [
    "l1=[[1,2,3,4],[1,2,3],[1,2,3]]\n",
    "l3=[1,2,3]\n",
    "print(sum(l3))\n",
    "print(len(l1))#what if we have to find the the length of the nested lists as well\n",
    "res=sum([len(i) for i in l1])\n",
    "print(res)\n",
    "l2=[[1,2,3],4,[2,4,5],5]\n",
    "#res2=sum([len(i) for i in l2])#wont work\n",
    "#print(res2)\n",
    "def list_value_count(x):\n",
    "    res=[]\n",
    "    for i in x:\n",
    "        if type(i)==list:\n",
    "            res.append(len(i))\n",
    "        else:\n",
    "            res.append(1)\n",
    "    return sum(res)\n",
    "\n",
    "print(list_value_count(l1))\n",
    "print(list_value_count(l3))\n",
    "print(list_value_count(l2))"
   ]
  },
  {
   "cell_type": "code",
   "execution_count": 8,
   "metadata": {},
   "outputs": [
    {
     "name": "stdout",
     "output_type": "stream",
     "text": [
      "{'hello': [1, [0]], 'hi': [2, [1, 3]], 'yum': [1, [2]], 'this': [2, [3, 7]], 'that': [1, [4]], 'a': [2, [5, 6]], 'the': [1, [6]], 'and': [1, [7]]}\n"
     ]
    }
   ],
   "source": [
    "#finding if there are duplicates in the list along with frequency and index\n",
    "l1=['hello','hi','yum','hi','this','that','a','a','the','this','and']\n",
    "\n",
    "def duplicates_with_index(l):\n",
    "    dic=dict()\n",
    "    index=0\n",
    "    for i in l:\n",
    "        if i in dic:\n",
    "            dic[i][0]+=1\n",
    "            dic[i][1].append(index)\n",
    "        else:\n",
    "            dic[i]=[1,[index]]\n",
    "            index=index+1\n",
    "    dic={key:value for key,value in dic.items()}\n",
    "    return dic\n",
    "print(duplicates_with_index(l1))    \n"
   ]
  },
  {
   "cell_type": "code",
   "execution_count": 12,
   "metadata": {},
   "outputs": [
    {
     "name": "stdout",
     "output_type": "stream",
     "text": [
      "This is a sample string\n",
      "This is a 1 2 3\n"
     ]
    }
   ],
   "source": [
    "#converting a list to a string in python\n",
    "l2=['This','is','a','sample','string']\n",
    "result=' '.join(l2)\n",
    "print(result)\n",
    "l2=['This','is','a',1,2,3]\n",
    "#we need to first convert the ints before calling the string.join()\n",
    "res=' '.join([str(i) for i in l2])\n",
    "print(res)"
   ]
  },
  {
   "cell_type": "code",
   "execution_count": 59,
   "metadata": {},
   "outputs": [
    {
     "ename": "SyntaxError",
     "evalue": "invalid syntax (<ipython-input-59-53968fc00777>, line 7)",
     "output_type": "error",
     "traceback": [
      "\u001b[1;36m  File \u001b[1;32m\"<ipython-input-59-53968fc00777>\"\u001b[1;36m, line \u001b[1;32m7\u001b[0m\n\u001b[1;33m    flat_list2=[l3.append(i) for i in l2 if type(i)!=list for j in i else for j in i]\u001b[0m\n\u001b[1;37m                                                                        ^\u001b[0m\n\u001b[1;31mSyntaxError\u001b[0m\u001b[1;31m:\u001b[0m invalid syntax\n"
     ]
    }
   ],
   "source": [
    "#converting a list of lists/nested list to a flat list\n",
    "l1=[[1,2,3,4,5,6],['a','b','c','d','e'],[1,2,3,4,5]]\n",
    "flat_list=[j for i in l1 for j in i]\n",
    "print(flat_list)\n"
   ]
  },
  {
   "cell_type": "markdown",
   "metadata": {},
   "source": [
    "### Tuples"
   ]
  },
  {
   "cell_type": "code",
   "execution_count": null,
   "metadata": {},
   "outputs": [],
   "source": [
    "#Tuples are quite simmilar to lists but they are immutable\n",
    "t1=(1,2,3)\n",
    "t1[0]"
   ]
  },
  {
   "cell_type": "code",
   "execution_count": null,
   "metadata": {},
   "outputs": [],
   "source": [
    "t1[0]=8"
   ]
  },
  {
   "cell_type": "code",
   "execution_count": 66,
   "metadata": {},
   "outputs": [
    {
     "name": "stdout",
     "output_type": "stream",
     "text": [
      "(1, 2, 3, 4, 5, 6)\n",
      "(1, 2)\n",
      "False\n",
      "True\n",
      "1\n"
     ]
    },
    {
     "data": {
      "text/plain": [
       "2"
      ]
     },
     "execution_count": 66,
     "metadata": {},
     "output_type": "execute_result"
    }
   ],
   "source": [
    "#we can do most of the things we can do in lists in tuples \\\n",
    "#as well\n",
    "t1=(1,2,3)\n",
    "t2=(4,5,6)\n",
    "print(t1+t2)\n",
    "print(t1[:2])\n",
    "print(6 in t1)\n",
    "print(6 in t2)\n",
    "print(t1.index(2))#we can use the index method to get the index position of the item in the tuple.\n",
    "#print(t1.index(9))#will throw a valueerror if it doesnt find the item in the tuple.\n",
    "t3=(1,2,3,2,3)\n",
    "print(t3.count(2))#will return the number of times that 2 is present as an item in the tuple."
   ]
  },
  {
   "cell_type": "code",
   "execution_count": null,
   "metadata": {},
   "outputs": [],
   "source": [
    "#we can unpack lists as well as tuples inside a bunch of variables\n",
    "l1=[1,2,3,4,5,6]\n",
    "t1=(1,2,3,4,5,6)\n",
    "a,b,c=l1[::2]\n",
    "print(a,b,c)\n",
    "d,e,f=t1[::2]\n",
    "print(d,e,f)"
   ]
  },
  {
   "cell_type": "code",
   "execution_count": 80,
   "metadata": {},
   "outputs": [
    {
     "name": "stdout",
     "output_type": "stream",
     "text": [
      "(1, 2, 3, 4, 17)\n",
      "4\n",
      "(1, 2, 19, 3, 4, 17)\n",
      "(1, 2, 3, 4, 17)\n"
     ]
    }
   ],
   "source": [
    "t1=(1,2,3,4)\n",
    "t2=(5,6,7,8)\n",
    "#inserting elements in the tuple\n",
    "t1=t1 + (17,)#we are appending a new item inside the tuple at the end\n",
    "print(t1)\n",
    "print(t1.index(17))\n",
    "#consider that we want to add a new element at pos 2 in t1\n",
    "t1=t1[: 2]+(19,)+t1[2 :]\n",
    "print(t1)\n",
    "#consider we want to delete 19 at pos 2 now\n",
    "t1=t1[: 2]+t1[3 :]#deleting an element from the tuple\n",
    "print(t1)\n",
    "#we can modify an element from the tuple in the same way."
   ]
  },
  {
   "cell_type": "code",
   "execution_count": null,
   "metadata": {},
   "outputs": [],
   "source": [
    "#tuples are created \n",
    "a=1,2,3\n",
    "type(a)"
   ]
  },
  {
   "cell_type": "code",
   "execution_count": null,
   "metadata": {},
   "outputs": [],
   "source": [
    "a=1\n",
    "b=2\n",
    "c=3\n",
    "d=4\n",
    "a,b=c,d\n",
    "print(a,b,c,d)"
   ]
  },
  {
   "cell_type": "code",
   "execution_count": null,
   "metadata": {},
   "outputs": [],
   "source": [
    "a=10\n",
    "b=20\n",
    "a,b=b,a\n",
    "print(a,b)#swapping 2 numbers in python"
   ]
  },
  {
   "cell_type": "markdown",
   "metadata": {},
   "source": [
    "### Dictionaries"
   ]
  },
  {
   "cell_type": "code",
   "execution_count": null,
   "metadata": {},
   "outputs": [],
   "source": [
    "dict1={'key1':1,'key2':'value2','key3':3}"
   ]
  },
  {
   "cell_type": "code",
   "execution_count": null,
   "metadata": {},
   "outputs": [],
   "source": [
    "#we can also create dictionaries using the dict() \n",
    "dict2=dict([('key1',1),('key2',2),(3,3)])"
   ]
  },
  {
   "cell_type": "code",
   "execution_count": null,
   "metadata": {},
   "outputs": [],
   "source": [
    "dict2.items()"
   ]
  },
  {
   "cell_type": "code",
   "execution_count": null,
   "metadata": {},
   "outputs": [],
   "source": [
    "dict2.keys()"
   ]
  },
  {
   "cell_type": "code",
   "execution_count": null,
   "metadata": {},
   "outputs": [],
   "source": [
    "#dictionaries are not indexed hence we need to make use of the key value pairs\n",
    "print(f'The value for key 3 is {dict2[3]} as declared in the dictionary above')#this is an example of a f string "
   ]
  },
  {
   "cell_type": "code",
   "execution_count": null,
   "metadata": {},
   "outputs": [],
   "source": [
    "#we can change the value of a particular key in the dictionary as \n",
    "dict2[3]='aqua'\n",
    "print(f'The value for key 3 is {dict2[3]} as declared in the dictionary above')\n",
    "del dict2[3]\n",
    "print(dict2.keys())"
   ]
  },
  {
   "cell_type": "code",
   "execution_count": null,
   "metadata": {},
   "outputs": [],
   "source": [
    "'key1' in dict2"
   ]
  },
  {
   "cell_type": "code",
   "execution_count": null,
   "metadata": {},
   "outputs": [],
   "source": [
    "dict2.update(key1=27)\n",
    "dict2"
   ]
  },
  {
   "cell_type": "code",
   "execution_count": null,
   "metadata": {},
   "outputs": [],
   "source": [
    "dict2.update([('Key3',33)])#we can also add keys into our dictionary using the update button.\n",
    "print(dict2)"
   ]
  },
  {
   "cell_type": "code",
   "execution_count": null,
   "metadata": {},
   "outputs": [],
   "source": [
    "#we can use the pop() to delete an entry by specifing the key \n",
    "dict2.pop('Key3')\n",
    "print(dict2)"
   ]
  },
  {
   "cell_type": "code",
   "execution_count": null,
   "metadata": {},
   "outputs": [],
   "source": [
    "dict2.get('key1')#wil return the value given by key1"
   ]
  },
  {
   "cell_type": "code",
   "execution_count": null,
   "metadata": {},
   "outputs": [],
   "source": [
    "new_str='helloworld'\n",
    "res=dict.fromkeys(new_str,0)\n",
    "print(res)"
   ]
  },
  {
   "cell_type": "code",
   "execution_count": null,
   "metadata": {},
   "outputs": [],
   "source": [
    "#we can access the values using dictionary elements\n",
    "dict1['key1']"
   ]
  },
  {
   "cell_type": "code",
   "execution_count": null,
   "metadata": {},
   "outputs": [],
   "source": [
    "#we can get a list containing all the keys of the dictionary \n",
    "#using the dictionary.keys()\n",
    "dict1.keys()"
   ]
  },
  {
   "cell_type": "code",
   "execution_count": null,
   "metadata": {},
   "outputs": [],
   "source": [
    "#and we can get all the values using the .values()\n",
    "dict1.values()"
   ]
  },
  {
   "cell_type": "code",
   "execution_count": null,
   "metadata": {},
   "outputs": [],
   "source": [
    "#if we get a list of tuples containing all the items use \n",
    "#the dictionary.items()\n",
    "dict1.items()"
   ]
  },
  {
   "cell_type": "code",
   "execution_count": null,
   "metadata": {},
   "outputs": [],
   "source": [
    "#we can check if a key is present inside the dictionary using the\n",
    "#in operator in the same way as that in lists and tuples\n",
    "print('key2' in dict1)\n",
    "print('l1' in dict1)"
   ]
  },
  {
   "cell_type": "code",
   "execution_count": null,
   "metadata": {},
   "outputs": [],
   "source": [
    "#we can get the values of a particular key as follows\n",
    "print(dict1['key1'])\n",
    "print(dict1['key11'])#we will get a keyerror "
   ]
  },
  {
   "cell_type": "code",
   "execution_count": null,
   "metadata": {},
   "outputs": [],
   "source": [
    "#we can make use of the get() instead\n",
    "print(dict1.get('key1'))\n",
    "print(dict1.get('key11'))"
   ]
  },
  {
   "cell_type": "code",
   "execution_count": null,
   "metadata": {},
   "outputs": [],
   "source": [
    "#we can also specify a default argument when we dont have that \n",
    "#key present\n",
    "dict1.get('four',4)#will return 4 as key named 'four' is not present"
   ]
  },
  {
   "cell_type": "code",
   "execution_count": null,
   "metadata": {},
   "outputs": [],
   "source": [
    "dict1['four']=4#we can add a new key value pair as follows\n",
    "dict1"
   ]
  },
  {
   "cell_type": "code",
   "execution_count": null,
   "metadata": {},
   "outputs": [],
   "source": [
    "dict1.setdefault('five',5)#the dictionary.setdefault() will add the key value pair if not present in the dictionary\n",
    "dict1"
   ]
  },
  {
   "cell_type": "code",
   "execution_count": null,
   "metadata": {},
   "outputs": [],
   "source": [
    "dict1={'key1':1,'key2':'value2','key3':3}#we can iterate through a dictionary as follows.\n",
    "\n",
    "for i,j in dict1.items():\n",
    "    print(f'The key value pair is given as {i} and {j}')"
   ]
  },
  {
   "cell_type": "code",
   "execution_count": null,
   "metadata": {},
   "outputs": [],
   "source": [
    "x=['a',2,'b',4,'c',6,7,'d',9]\n",
    "enum=enumerate(x)\n",
    "print(enum)\n",
    "print(list(enum))"
   ]
  },
  {
   "cell_type": "code",
   "execution_count": 82,
   "metadata": {},
   "outputs": [
    {
     "name": "stdout",
     "output_type": "stream",
     "text": [
      "{'a': 0, 'b': 0, 'c': 0, 'd': 0, 'e': 0}\n"
     ]
    }
   ],
   "source": [
    "#creating a ditionary from a list of keys and initializing all of them to 0\n",
    "l1=['a','b','c','d','e','a']\n",
    "res=dict.fromkeys(l1,0)\n",
    "print(res)#will initialize a dictionary from a list of keys with the initial value of 0"
   ]
  },
  {
   "cell_type": "code",
   "execution_count": 88,
   "metadata": {},
   "outputs": [
    {
     "name": "stdout",
     "output_type": "stream",
     "text": [
      "{'a': 1, 'b': 2, 'c': 3, 'd': 4}\n",
      "2\n",
      "['a', 'b', 'c', 'd']\n",
      "['a']\n"
     ]
    }
   ],
   "source": [
    "#if you have two lists and want to build a dictionary out of them\n",
    "l1=['a','b','c','d']\n",
    "l2=[1,2,3,4]\n",
    "dict1=dict(zip(l1,l2))\n",
    "print(dict1)\n",
    "print(dict1.get('b'))\n",
    "#if you want to create a list of all the keys in the dataset\n",
    "l1=list(dict1.keys())\n",
    "print(l1)\n",
    "#filtering the list based on the keys.\n",
    "l2=[i for i in dict1.keys() if i.startswith('a')]\n",
    "print(l2)"
   ]
  },
  {
   "cell_type": "code",
   "execution_count": 90,
   "metadata": {},
   "outputs": [
    {
     "name": "stdout",
     "output_type": "stream",
     "text": [
      "{'b': 2, 'c': 3, 'd': 4}\n",
      "{'c': 3, 'd': 4}\n"
     ]
    }
   ],
   "source": [
    "#to delete a key from the dictionary use the del\n",
    "l1=['a','b','c','d']\n",
    "l2=[1,2,3,4]\n",
    "dict1=dict(zip(l1,l2))\n",
    "del dict1['a']\n",
    "print(dict1)\n",
    "# we can also use \n",
    "dict1.pop('b',None)#will return None if key not found\n",
    "print(dict1)"
   ]
  },
  {
   "cell_type": "code",
   "execution_count": 91,
   "metadata": {},
   "outputs": [
    {
     "name": "stdout",
     "output_type": "stream",
     "text": [
      "['c']\n"
     ]
    }
   ],
   "source": [
    "l1=['a','b','c','d']\n",
    "l2=[1,2,3,4]\n",
    "dict1=dict(zip(l1,l2))\n",
    "\n",
    "l1=[key for (key,value) in dict1.items() if value==3] #this is how you would get the key based off the \n",
    "#value using list comprehension.\n",
    "print(l1)"
   ]
  },
  {
   "cell_type": "code",
   "execution_count": 92,
   "metadata": {},
   "outputs": [
    {
     "name": "stdout",
     "output_type": "stream",
     "text": [
      "{'b': 2, 'd': 4}\n"
     ]
    }
   ],
   "source": [
    "#filtering a dictionary based off conditions \n",
    "l1=['a','b','c','d']\n",
    "l2=[1,2,3,4]\n",
    "dict1=dict(zip(l1,l2))\n",
    "new_dict={key:value for (key,value) in dict1.items() if value%2==0}\n",
    "print(new_dict)"
   ]
  },
  {
   "cell_type": "code",
   "execution_count": 95,
   "metadata": {},
   "outputs": [
    {
     "name": "stdout",
     "output_type": "stream",
     "text": [
      "{'bcdef': 2, 'cefgh': 3}\n"
     ]
    }
   ],
   "source": [
    "l1=['abcd','bcdef','cefgh','dads']\n",
    "l2=[1,2,3,4]\n",
    "dict1=dict(zip(l1,l2))\n",
    "#filtering the dictionary\n",
    "dict_new={key:value for (key,value) in dict1.items() if len(key)==5}\n",
    "print(dict_new)"
   ]
  },
  {
   "cell_type": "code",
   "execution_count": 96,
   "metadata": {},
   "outputs": [
    {
     "name": "stdout",
     "output_type": "stream",
     "text": [
      "{'bcdef': 2, 'cefgh': 3}\n"
     ]
    }
   ],
   "source": [
    "l1=['abcd','bcdef','cefgh','dads']\n",
    "l2=[1,2,3,4]\n",
    "dict1=dict(zip(l1,l2))\n",
    "new_dict=dict(filter(lambda x:len(x[0])==5,dict1.items()))#we ca\n",
    "print(new_dict)"
   ]
  },
  {
   "cell_type": "code",
   "execution_count": 98,
   "metadata": {},
   "outputs": [
    {
     "name": "stdout",
     "output_type": "stream",
     "text": [
      "abcd 1\n",
      "bcdef 2\n",
      "cefgh 3\n",
      "dads 4\n"
     ]
    },
    {
     "data": {
      "text/plain": [
       "[None, None, None, None]"
      ]
     },
     "execution_count": 98,
     "metadata": {},
     "output_type": "execute_result"
    }
   ],
   "source": [
    "#printing a dictionary line by line.\n",
    "l1=['abcd','bcdef','cefgh','dads']\n",
    "l2=[1,2,3,4]\n",
    "dict1=dict(zip(l1,l2))\n",
    "[print(key,value) for (key,value) in dict1.items()]#printing a dictionary line by line."
   ]
  },
  {
   "cell_type": "code",
   "execution_count": 99,
   "metadata": {},
   "outputs": [
    {
     "name": "stdout",
     "output_type": "stream",
     "text": [
      "{\n",
      "   \"abcd\": 1,\n",
      "   \"bcdef\": 2,\n",
      "   \"cefgh\": 3,\n",
      "   \"dads\": 4\n",
      "}\n"
     ]
    }
   ],
   "source": [
    "import json\n",
    "l1=['abcd','bcdef','cefgh','dads']\n",
    "l2=[1,2,3,4]\n",
    "dict1=dict(zip(l1,l2))\n",
    "\n",
    "print(json.dumps(dict1,indent=3))#we can use json.dumps() can be used to serialize the object passed \n",
    "#to it in the form of json objects"
   ]
  },
  {
   "cell_type": "code",
   "execution_count": 3,
   "metadata": {},
   "outputs": [
    {
     "name": "stdout",
     "output_type": "stream",
     "text": [
      "{'a': 0, 'b': 0, 'c': 0, 'd': 0}\n",
      "{'a': 1, 'b': 2, 'c': 3}\n",
      "{'a': 1, 'b': 2, 'c': 3}\n"
     ]
    }
   ],
   "source": [
    "#dictionary conversions\n",
    "l1=['a','b','c','d']\n",
    "#if we have a list of keys\n",
    "dict1=dict.fromkeys(l1,0)\n",
    "print(dict1)\n",
    "l1=['a','b','c']\n",
    "l2=[1,2,3]\n",
    "#if we have two lists one containing keys and one containing values\n",
    "dict1=dict(zip(l1,l2))\n",
    "print(dict1)\n",
    "#if we have a list of tuples\n",
    "l1=[('a',1),('b',2),('c',3)]\n",
    "dict1=dict(l1)\n",
    "print(dict1)"
   ]
  },
  {
   "cell_type": "code",
   "execution_count": 12,
   "metadata": {},
   "outputs": [
    {
     "name": "stdout",
     "output_type": "stream",
     "text": [
      "['a', 'b', 'd', 'f']\n",
      "a : 2\n",
      "b : 1\n",
      "d : 4\n",
      "f : 3\n",
      "\n",
      "\n",
      "f : 3\n",
      "d : 4\n",
      "b : 1\n",
      "a : 2\n"
     ]
    }
   ],
   "source": [
    "l1=[('b',1),('a',2),('f',3),('d',4)]\n",
    "dict1=dict(l1)\n",
    "print(sorted(dict1.keys()))\n",
    "#to print the dictionary in a sorted order.\n",
    "for i in  sorted(dict1.keys()):\n",
    "    print(i ,':', dict1[i])\n",
    "#to do the same in the reverse order\n",
    "print('\\n')\n",
    "for i in  sorted(dict1.keys(),reverse=True):\n",
    "    print(i ,':', dict1[i])"
   ]
  },
  {
   "cell_type": "code",
   "execution_count": 21,
   "metadata": {},
   "outputs": [
    {
     "name": "stdout",
     "output_type": "stream",
     "text": [
      "[('key1', 1), ('Key123', 4), ('key1234', 2)]\n",
      "[('key1234', 2), ('Key123', 4), ('key1', 1)]\n",
      "[('key1', 1), ('key1234', 2), ('Key123', 4)]\n"
     ]
    }
   ],
   "source": [
    "#sorting a dictionary based on custom functions\n",
    "d1={'key1':1,'key1234':2,'Key123':4}\n",
    "#consider that we wanted to sort our dictionary based on the length of the key\n",
    "print(sorted(d1.items(),key=lambda x:len(x[0])))\n",
    "print(sorted(d1.items(),key=lambda x:len(x[0]),reverse=True))#we are sorting according to the length of the key\n",
    "print(sorted(d1.items(),key=lambda x: x[1]))#we can use the same logic to sort a dictionary based on its value.\n"
   ]
  },
  {
   "cell_type": "code",
   "execution_count": 32,
   "metadata": {},
   "outputs": [
    {
     "name": "stdout",
     "output_type": "stream",
     "text": [
      "{'key1': 1, 'key2': 2, 'key4': [1, 2, 3, 4]}\n",
      "{'key1': 1, 'key2': 2, 'key4': [1, 2, 3, 4]}\n",
      "\n",
      "\n",
      "{'key1': 1, 'key2': 2, 'key4': [1, 2, 3, 4]}\n",
      "{'key1': 12, 'key2': 2, 'key4': [1, 2, 3, 4]}\n",
      "\n",
      "\n",
      "{'key1': 1, 'key2': 2, 'key4': [1, 2, 3, 4, 44]}\n",
      "{'key1': 12, 'key2': 2, 'key4': [1, 2, 3, 4, 44]}\n",
      "\n",
      "\n",
      "{'key1': 1, 'key2': 2, 'key4': [1, 2, 3, 4]}\n",
      "{'key1': 12, 'key2': 2, 'key4': [1, 2, 3, 4]}\n",
      "\n",
      "\n",
      "{'key1': 1, 'key2': 2, 'key4': [1, 2, 3, 4]}\n",
      "{'key1': 12, 'key2': 2, 'key4': [1, 2, 3, 4, 44]}\n",
      "\n",
      "\n"
     ]
    }
   ],
   "source": [
    "#shallow copy\n",
    "dict1={'key1':1,'key2':2,'key4':[1,2,3,4]}\n",
    "dict2=dict1.copy()#the copy() will create a shallow copy of the object\n",
    "print(dict1)\n",
    "print(dict2)\n",
    "print('\\n')\n",
    "dict2['key1']=12\n",
    "print(dict1)\n",
    "print(dict2)\n",
    "print('\\n')\n",
    "#we can see although we are saying it is a shallow copy the changes are not reflected\n",
    "#but if we change the list ie key3\n",
    "dict2['key4'].append(44)\n",
    "print(dict1)\n",
    "print(dict2)\n",
    "print('\\n')\n",
    "#we can see that now when we changed the value inside the list the changes were seen in the original\n",
    "#as well as the copy this is because the reference of the list was stored inside dict1 and dict2\n",
    "#to prevent this we need to use the deepcopy()\n",
    "import copy\n",
    "dict1={'key1':1,'key2':2,'key4':[1,2,3,4]}\n",
    "dict2=copy.deepcopy(dict1)#the copy() will create a deep copy of the object\n",
    "dict2['key1']=12\n",
    "print(dict1)\n",
    "print(dict2)\n",
    "print('\\n')\n",
    "dict2['key4'].append(44)\n",
    "print(dict1)\n",
    "print(dict2)\n",
    "print('\\n')"
   ]
  },
  {
   "cell_type": "code",
   "execution_count": 34,
   "metadata": {},
   "outputs": [
    {
     "name": "stdout",
     "output_type": "stream",
     "text": [
      "['key2', 'key4']\n",
      "{'key1': 1, 'key3': 11, 'key5': 19}\n"
     ]
    }
   ],
   "source": [
    "#deleting items from the dictionary\n",
    "#we cannot delete directly while iterating the dictionary\n",
    "l1=list()\n",
    "dict1={'key1':1,'key2':9,'key3':11,'key4':15,'key5':19}\n",
    "\n",
    "for (key,value) in dict1.items():\n",
    "    if value%3==0:\n",
    "        l1.append(key)\n",
    "    else:\n",
    "        continue\n",
    "print(l1)\n",
    "for i in l1:\n",
    "    del dict1[i]\n",
    "print(dict1)"
   ]
  },
  {
   "cell_type": "code",
   "execution_count": 50,
   "metadata": {},
   "outputs": [
    {
     "name": "stdout",
     "output_type": "stream",
     "text": [
      "xyz\n"
     ]
    },
    {
     "data": {
      "text/plain": [
       "('math', 72)"
      ]
     },
     "execution_count": 50,
     "metadata": {},
     "output_type": "execute_result"
    }
   ],
   "source": [
    "#find the key with the maximum value in the dictionary\n",
    "dict1={'eng':33,'hind':45,'math':72,'xyz':1}\n",
    "print(max(dict1))#cannot do this directly as default behaviour is by keys\n",
    "max(dict1.items(),key=lambda x:x[1])"
   ]
  },
  {
   "cell_type": "code",
   "execution_count": 55,
   "metadata": {},
   "outputs": [
    {
     "name": "stdout",
     "output_type": "stream",
     "text": [
      "{'pt': 44, 'geo': 55, 'eng': 33, 'hind': 45, 'math': 72, 'xyz': 1}\n",
      "{'pt': 44, 'geo': 55, 'eng': 33, 'hind': 45, 'math': 72, 'xyz': 1}\n"
     ]
    }
   ],
   "source": [
    "#merging two dictionaries\n",
    "dict1={'pt':44,'geo':55,'eng':44}\n",
    "dict2={'eng':33,'hind':45,'math':72,'xyz':1}\n",
    "dict1.update(dict2)\n",
    "print(dict1)#we can see that the value of the common key ie eng has changed to the value in dict2 and also \n",
    "#the contents of dict1 has changed\n",
    "#using **kwargs we can send variable length key vale pairs to a function.\n",
    "#using ** to a dictionary will deserialize its contents to key/value pairs\n",
    "#we can use this to merge the two dictionaries\n",
    "dict3={**dict1,**dict2}\n",
    "print(dict3)#what happened here is that the **dict1 and **dict2 expanded the contents and for eng as we specified dict2 as the second arg it resulted as eng value as 33\n",
    "#we can hence merge any number of dictionaries into one dictionary."
   ]
  },
  {
   "cell_type": "code",
   "execution_count": 58,
   "metadata": {},
   "outputs": [
    {
     "name": "stdout",
     "output_type": "stream",
     "text": [
      "{'pt': 44, 'geo': 55, 'eng': [33, 44], 'hind': 45, 'math': 72, 'xyz': 1}\n"
     ]
    }
   ],
   "source": [
    "#what if we wanted to keep all the values for the common key?\n",
    "def megedict(dict1,dict2):\n",
    "    dict3={**dict1,**dict2}\n",
    "    for (key,value) in dict3.items():\n",
    "        if key in dict1 and key in dict2:\n",
    "            dict3[key]=[value,dict1[key]]\n",
    "    return dict3\n",
    "dict1={'pt':44,'geo':55,'eng':44}\n",
    "dict2={'eng':33,'hind':45,'math':72,'xyz':1}\n",
    "print(megedict(dict1,dict2))"
   ]
  },
  {
   "cell_type": "markdown",
   "metadata": {},
   "source": [
    "### Sets"
   ]
  },
  {
   "cell_type": "code",
   "execution_count": null,
   "metadata": {},
   "outputs": [],
   "source": [
    "#we can create sets which are simmilar to lists but cannot hold\n",
    "#duplicate values \n",
    "s1=set()\n",
    "s2=set([1,2,3,4,1,2])\n",
    "print(s2)\n",
    "print(s2[0])#sets are not ordered hence we cannot select them using indexing."
   ]
  },
  {
   "cell_type": "code",
   "execution_count": null,
   "metadata": {},
   "outputs": [],
   "source": [
    "dict1={1:2,3:4,5:5}\n",
    "print(dict1.keys())\n",
    "set1={1,2,3,4,5,6}\n",
    "print(type(set1))\n",
    "set2=set([1,2,3,4,5])\n",
    "set3=set((1,2,3,4,5,6,99))\n",
    "print(set2,set3)\n",
    "print(type(set3))\n",
    "s1=set({'helloworld'})#key difference\n",
    "s2=set('helloworld')\n",
    "print(s1,s2)\n",
    "#s4=set([1,2,3,4],[4,5,6,7,8])\n",
    "print(type(s4),s4)\n",
    "#we can also do things like intersection and or etc wrt to sets\n",
    "print(set1 | set2)\n",
    "print(set1 & set2)\n",
    "print(set1 - set2)#set difference\n",
    "print(set2 <= set1)#set2 is a subset of set1\n",
    "print(set2 < set1)\n",
    "set4={1,2,3,8}\n",
    "print(set4 <= set1)\n",
    "print(set4 < set1)\n",
    "#we can use the set.remove() or the set.discard() the remove function will throw an error if the item is not present \n",
    "#in the set\n",
    "set4.remove(1)\n",
    "print(set4)\n",
    "#set4.remove(99)#throws error\n",
    "set4.discard(99)#does not throw an error\n",
    "set4.clear()#the set.clear() will remove all the items from the set.\n",
    "print(set4)\n",
    "print(set1.union(set2,set3))#instead of using | & etc we can use these functions.\n",
    "print(set1.intersection(set2,set3))\n",
    "set5=set1.copy()#the set.copy() returns a shallow copy of set1\n",
    "print(set5)\n",
    "set5.add(45)\n",
    "print(set1,id(set1))\n",
    "print(set5,id(set5))"
   ]
  },
  {
   "cell_type": "code",
   "execution_count": null,
   "metadata": {},
   "outputs": [],
   "source": [
    "print(s2)#will ignore the duplicate values"
   ]
  },
  {
   "cell_type": "code",
   "execution_count": null,
   "metadata": {},
   "outputs": [],
   "source": [
    "s3={1,2,3,4,5,6,7,89,1,2,3}#we can also declare a set as follows\n",
    "print(s3)"
   ]
  },
  {
   "cell_type": "code",
   "execution_count": null,
   "metadata": {},
   "outputs": [],
   "source": [
    "s3.add(123)#just like the list.append() the set has an add() which will insert the new value at the end of the list\n",
    "s3"
   ]
  },
  {
   "cell_type": "code",
   "execution_count": null,
   "metadata": {},
   "outputs": [],
   "source": [
    "s1={1,2,3,4}\n",
    "s2={1,5,6,7}\n",
    "#we can perform a union or an intersection between two sets using the & or the |\n",
    "print(s1 & s2) #returns a set with the intersection of set1 and set2\n",
    "print(s1 | s2)#returns the union of set1 with set2"
   ]
  },
  {
   "cell_type": "code",
   "execution_count": null,
   "metadata": {},
   "outputs": [],
   "source": [
    "#set difference with - \n",
    "{1,2,3,4}-{2,3,5}\n",
    "#symmetric difference with ^\n",
    "{1,2,3,4}^{2,3,4}"
   ]
  },
  {
   "cell_type": "code",
   "execution_count": null,
   "metadata": {},
   "outputs": [],
   "source": [
    "{1,2}>={1,2,3}"
   ]
  },
  {
   "cell_type": "code",
   "execution_count": null,
   "metadata": {},
   "outputs": [],
   "source": [
    "{1,2}<={1,2,3}#check if the set on the right is a subset of the one on the left"
   ]
  },
  {
   "cell_type": "code",
   "execution_count": null,
   "metadata": {},
   "outputs": [],
   "source": [
    "#the in operator can be used here as well\n",
    "print(2 in s1,\n",
    "5 not in s1)"
   ]
  },
  {
   "cell_type": "code",
   "execution_count": null,
   "metadata": {},
   "outputs": [],
   "source": [
    "i=10\n",
    "if i>10:\n",
    "    print(' > 10')\n",
    "elif i<10:\n",
    "    print('< 10')\n",
    "else:\n",
    "    print('10')"
   ]
  },
  {
   "cell_type": "code",
   "execution_count": null,
   "metadata": {},
   "outputs": [],
   "source": [
    "l1=['milk','eggs','rice','fish']\n",
    "for food in l1:\n",
    "    print('Tom loves to eat {stuff}'.format(stuff=food))"
   ]
  },
  {
   "cell_type": "code",
   "execution_count": null,
   "metadata": {},
   "outputs": [],
   "source": [
    "#The range(lower,upper) will return a set of numbers from the lower number to the higher number\n",
    "range(0,5)\n",
    "for i in range(0,5):\n",
    "    print(i)"
   ]
  },
  {
   "cell_type": "markdown",
   "metadata": {},
   "source": [
    "### Try catch block "
   ]
  },
  {
   "cell_type": "code",
   "execution_count": null,
   "metadata": {},
   "outputs": [],
   "source": [
    "try:\n",
    "    raise IndexError(\"Index error caused!\")\n",
    "except IndexError as e:\n",
    "    pass #no operation\n",
    "except (TypeError,NameError):\n",
    "    pass\n",
    "else:\n",
    "    print('done')\n",
    "finally:#perform cleanup of resources here\n",
    "    print('close')"
   ]
  },
  {
   "cell_type": "code",
   "execution_count": null,
   "metadata": {},
   "outputs": [],
   "source": [
    "#if we want to cleanup resources withought using the try/finally \n",
    "#we can use the with statement\n",
    "with open('file1.txt') as f:\n",
    "    for l in f:\n",
    "        print(l)"
   ]
  },
  {
   "cell_type": "code",
   "execution_count": null,
   "metadata": {},
   "outputs": [],
   "source": [
    "def add(x,y):\n",
    "    print('adding {a} and {b}'.format(a=x,b=y))\n",
    "    return x+y\n",
    "add(1,12)"
   ]
  },
  {
   "cell_type": "code",
   "execution_count": null,
   "metadata": {},
   "outputs": [],
   "source": [
    "def add_var(*args):#if we want to work with a variable number of parameters theyy will be interpreted as a tuple when we use *\n",
    "    sum=0\n",
    "    for i in args:\n",
    "        sum=sum+i\n",
    "    return sum\n",
    "add_var(1,2,3,4,5,6,7,8,9)"
   ]
  },
  {
   "cell_type": "code",
   "execution_count": null,
   "metadata": {},
   "outputs": [],
   "source": [
    "#we can also use ** to get the positional arguments which are\n",
    "#interpreted as a dictionary\n",
    "def add_pos(**kargs):\n",
    "    print(kargs.items())\n",
    "add_pos(one=1,two=2)"
   ]
  },
  {
   "cell_type": "code",
   "execution_count": null,
   "metadata": {},
   "outputs": [],
   "source": [
    "val1=16\n",
    "def func():\n",
    "    val1=20\n",
    "    print(val1)\n",
    "func()\n",
    "print(val1)"
   ]
  },
  {
   "cell_type": "code",
   "execution_count": null,
   "metadata": {},
   "outputs": [],
   "source": [
    "global val2\n",
    "val2=17\n",
    "def func():\n",
    "    val2=20\n",
    "    print(val2)\n",
    "func()\n",
    "print(val2)"
   ]
  },
  {
   "cell_type": "code",
   "execution_count": null,
   "metadata": {},
   "outputs": [],
   "source": [
    "#LAMBDA FUNCTIONS / ANONYMOUS FUNCTIONS\n",
    "(lambda x:x>=5)(10)"
   ]
  },
  {
   "cell_type": "code",
   "execution_count": 93,
   "metadata": {},
   "outputs": [
    {
     "data": {
      "text/plain": [
       "22"
      ]
     },
     "execution_count": 93,
     "metadata": {},
     "output_type": "execute_result"
    }
   ],
   "source": [
    "(lambda x,y:x+y)(12,10)#creating our add function using anonymous function"
   ]
  },
  {
   "cell_type": "code",
   "execution_count": null,
   "metadata": {},
   "outputs": [],
   "source": [
    "def add(x,y):\n",
    "    return x+y\n",
    "\n",
    "res=map(add,[1,2,3,4,5,6,7],[1,2,3,4,5,6])\n",
    "print(list(res))"
   ]
  },
  {
   "cell_type": "code",
   "execution_count": null,
   "metadata": {},
   "outputs": [],
   "source": [
    "list(map(max,[1,2,3],[4,2,1]))"
   ]
  },
  {
   "cell_type": "code",
   "execution_count": null,
   "metadata": {},
   "outputs": [],
   "source": [
    "res=filter(lambda x: x>3,[3,4,5,6,7,8,1,2,0])\n",
    "list(res)"
   ]
  },
  {
   "cell_type": "code",
   "execution_count": null,
   "metadata": {},
   "outputs": [],
   "source": [
    "where python\n"
   ]
  },
  {
   "cell_type": "code",
   "execution_count": 14,
   "metadata": {},
   "outputs": [],
   "source": [
    "import pandas as pd\n",
    "import numpy as np"
   ]
  },
  {
   "cell_type": "code",
   "execution_count": 15,
   "metadata": {},
   "outputs": [],
   "source": [
    "vals=[(1,2,4),\n",
    "     (3,4,5),\n",
    "    (5,6,6) ]\n",
    "df=pd.DataFrame(vals,columns=('one','two','three'))"
   ]
  },
  {
   "cell_type": "code",
   "execution_count": 29,
   "metadata": {},
   "outputs": [
    {
     "data": {
      "text/html": [
       "<div>\n",
       "<style scoped>\n",
       "    .dataframe tbody tr th:only-of-type {\n",
       "        vertical-align: middle;\n",
       "    }\n",
       "\n",
       "    .dataframe tbody tr th {\n",
       "        vertical-align: top;\n",
       "    }\n",
       "\n",
       "    .dataframe thead th {\n",
       "        text-align: right;\n",
       "    }\n",
       "</style>\n",
       "<table border=\"1\" class=\"dataframe\">\n",
       "  <thead>\n",
       "    <tr style=\"text-align: right;\">\n",
       "      <th></th>\n",
       "      <th>one</th>\n",
       "      <th>two</th>\n",
       "      <th>three</th>\n",
       "    </tr>\n",
       "  </thead>\n",
       "  <tbody>\n",
       "    <tr>\n",
       "      <td>0</td>\n",
       "      <td>1</td>\n",
       "      <td>2</td>\n",
       "      <td>4</td>\n",
       "    </tr>\n",
       "    <tr>\n",
       "      <td>1</td>\n",
       "      <td>3</td>\n",
       "      <td>4</td>\n",
       "      <td>5</td>\n",
       "    </tr>\n",
       "    <tr>\n",
       "      <td>2</td>\n",
       "      <td>5</td>\n",
       "      <td>6</td>\n",
       "      <td>6</td>\n",
       "    </tr>\n",
       "  </tbody>\n",
       "</table>\n",
       "</div>"
      ],
      "text/plain": [
       "   one  two  three\n",
       "0    1    2      4\n",
       "1    3    4      5\n",
       "2    5    6      6"
      ]
     },
     "execution_count": 29,
     "metadata": {},
     "output_type": "execute_result"
    }
   ],
   "source": [
    "df.head()"
   ]
  },
  {
   "cell_type": "code",
   "execution_count": 32,
   "metadata": {},
   "outputs": [
    {
     "data": {
      "text/html": [
       "<div>\n",
       "<style scoped>\n",
       "    .dataframe tbody tr th:only-of-type {\n",
       "        vertical-align: middle;\n",
       "    }\n",
       "\n",
       "    .dataframe tbody tr th {\n",
       "        vertical-align: top;\n",
       "    }\n",
       "\n",
       "    .dataframe thead th {\n",
       "        text-align: right;\n",
       "    }\n",
       "</style>\n",
       "<table border=\"1\" class=\"dataframe\">\n",
       "  <thead>\n",
       "    <tr style=\"text-align: right;\">\n",
       "      <th></th>\n",
       "      <th>one</th>\n",
       "      <th>two</th>\n",
       "      <th>three</th>\n",
       "    </tr>\n",
       "  </thead>\n",
       "  <tbody>\n",
       "    <tr>\n",
       "      <td>0</td>\n",
       "      <td>5</td>\n",
       "      <td>7</td>\n",
       "      <td>11</td>\n",
       "    </tr>\n",
       "    <tr>\n",
       "      <td>1</td>\n",
       "      <td>9</td>\n",
       "      <td>11</td>\n",
       "      <td>13</td>\n",
       "    </tr>\n",
       "    <tr>\n",
       "      <td>2</td>\n",
       "      <td>13</td>\n",
       "      <td>15</td>\n",
       "      <td>15</td>\n",
       "    </tr>\n",
       "  </tbody>\n",
       "</table>\n",
       "</div>"
      ],
      "text/plain": [
       "   one  two  three\n",
       "0    5    7     11\n",
       "1    9   11     13\n",
       "2   13   15     15"
      ]
     },
     "execution_count": 32,
     "metadata": {},
     "output_type": "execute_result"
    }
   ],
   "source": [
    "df.apply(star,axis=0,args=[2,3])"
   ]
  },
  {
   "cell_type": "code",
   "execution_count": 30,
   "metadata": {},
   "outputs": [],
   "source": [
    "def star(x,m,c):\n",
    "    return x*m+c\n",
    "    "
   ]
  },
  {
   "cell_type": "raw",
   "metadata": {},
   "source": [
    "df_new.head()"
   ]
  },
  {
   "cell_type": "code",
   "execution_count": 38,
   "metadata": {},
   "outputs": [
    {
     "data": {
      "text/plain": [
       "0    1\n",
       "1    3\n",
       "2    5\n",
       "Name: one, dtype: int64"
      ]
     },
     "execution_count": 38,
     "metadata": {},
     "output_type": "execute_result"
    }
   ],
   "source": [
    "df.loc[:,'one']"
   ]
  },
  {
   "cell_type": "code",
   "execution_count": 39,
   "metadata": {},
   "outputs": [
    {
     "data": {
      "text/plain": [
       "0     5\n",
       "1     9\n",
       "2    13\n",
       "Name: one, dtype: int64"
      ]
     },
     "execution_count": 39,
     "metadata": {},
     "output_type": "execute_result"
    }
   ],
   "source": [
    "df.loc[:,'one'].apply(star,args=[2,3])"
   ]
  },
  {
   "cell_type": "code",
   "execution_count": 48,
   "metadata": {},
   "outputs": [
    {
     "data": {
      "text/html": [
       "<div>\n",
       "<style scoped>\n",
       "    .dataframe tbody tr th:only-of-type {\n",
       "        vertical-align: middle;\n",
       "    }\n",
       "\n",
       "    .dataframe tbody tr th {\n",
       "        vertical-align: top;\n",
       "    }\n",
       "\n",
       "    .dataframe thead th {\n",
       "        text-align: right;\n",
       "    }\n",
       "</style>\n",
       "<table border=\"1\" class=\"dataframe\">\n",
       "  <thead>\n",
       "    <tr style=\"text-align: right;\">\n",
       "      <th></th>\n",
       "      <th>one</th>\n",
       "      <th>two</th>\n",
       "      <th>three</th>\n",
       "    </tr>\n",
       "  </thead>\n",
       "  <tbody>\n",
       "    <tr>\n",
       "      <td>0</td>\n",
       "      <td>3</td>\n",
       "      <td>4</td>\n",
       "      <td>6</td>\n",
       "    </tr>\n",
       "    <tr>\n",
       "      <td>1</td>\n",
       "      <td>11</td>\n",
       "      <td>14</td>\n",
       "      <td>17</td>\n",
       "    </tr>\n",
       "    <tr>\n",
       "      <td>2</td>\n",
       "      <td>27</td>\n",
       "      <td>32</td>\n",
       "      <td>32</td>\n",
       "    </tr>\n",
       "  </tbody>\n",
       "</table>\n",
       "</div>"
      ],
      "text/plain": [
       "   one  two  three\n",
       "0    3    4      6\n",
       "1   11   14     17\n",
       "2   27   32     32"
      ]
     },
     "execution_count": 48,
     "metadata": {},
     "output_type": "execute_result"
    }
   ],
   "source": [
    "df.apply(star,axis=0,args=[df['one'],2])"
   ]
  },
  {
   "cell_type": "code",
   "execution_count": null,
   "metadata": {},
   "outputs": [],
   "source": [
    "import numpy as np\n",
    "import pandas as pd\n",
    "def star(x,m,c):\n",
    "    return x*m+c\n",
    "vals=[(1,2,4),\n",
    "     (3,4,5),\n",
    "    (5,6,6) ]\n",
    "df=pd.DataFrame(vals,columns=('one','two','three'))\n",
    "res=df.apply(star,axis=0,args=[2,3])"
   ]
  },
  {
   "cell_type": "code",
   "execution_count": 59,
   "metadata": {},
   "outputs": [
    {
     "name": "stdout",
     "output_type": "stream",
     "text": [
      "value of 1 is a\n",
      "value of 2 is b\n",
      "value of 3 is c\n"
     ]
    }
   ],
   "source": [
    "i=[1,2,3,4,5]\n",
    "j=['a','b','c']\n",
    "k=[1,2,3,'a','t','p']\n",
    "z = zip(i,j)\n",
    "#print(z)\n",
    "#print(list(z))#tuple packing\n",
    "for a,b in z:\n",
    "    print(f'value of {a} is {b}')"
   ]
  },
  {
   "cell_type": "code",
   "execution_count": null,
   "metadata": {},
   "outputs": [],
   "source": [
    "#it is important to understand that the zip() and enumerate() return a special type of object which is iterable \n",
    "#these objects are known as generators these are designed to be used once and then destroyed"
   ]
  },
  {
   "cell_type": "code",
   "execution_count": null,
   "metadata": {},
   "outputs": [],
   "source": [
    "i = [1, 2, 3, 4, 5, 6, 7, 8, 9, 10]\n",
    "j = ['a','b','c','d']   \n",
    "z = zip(i,j)\n",
    "for a,b in z:\n",
    "    print(f'value of {a} is {b}')"
   ]
  },
  {
   "cell_type": "code",
   "execution_count": null,
   "metadata": {},
   "outputs": [],
   "source": [
    "i = [1, 2, 3, 4, 5, 6, 7, 8, 9, 10]\n",
    "j = ['a','b','c','d']   \n",
    "z = zip(i,j)\n",
    "for a,b in z:\n",
    "    print(f'value of {a} is {b}')\n",
    "print(list(z))#empty\n",
    "print(id(z))\n",
    "\n",
    "print(z)"
   ]
  },
  {
   "cell_type": "code",
   "execution_count": null,
   "metadata": {},
   "outputs": [],
   "source": [
    "#conversion from celsius to fahrenheit\n",
    "fahrenheit_temps=[]\n",
    "celsius_temps = [-60, -40, 0, 37, 100]\n",
    "for i in celsius_temps:\n",
    "    res=(i*(9/5))+32\n",
    "    fahrenheit_temps.append(res)\n",
    "print(fahrenheit_temps)"
   ]
  },
  {
   "cell_type": "code",
   "execution_count": null,
   "metadata": {},
   "outputs": [],
   "source": [
    "#doing the same with list comprehension\n",
    "fahrenheit_temps=[(i*(9/5))+32 for i in celsius_temps]\n",
    "print(fahrenheit_temps)"
   ]
  },
  {
   "cell_type": "code",
   "execution_count": null,
   "metadata": {},
   "outputs": [],
   "source": [
    "#Reverse the words in a string, but do not change the order of the words\n",
    "res=''\n",
    "input_str = 'the quick brown fox jumps over the lazy dog'\n",
    "temp=input_str.split()\n",
    "temp\n",
    "for i in temp:\n",
    "    print(i[::-1])#reverse it\n",
    "    res=res+' '+i[::-1]\n",
    "print(res)"
   ]
  },
  {
   "cell_type": "code",
   "execution_count": null,
   "metadata": {},
   "outputs": [],
   "source": [
    "#doing the same with list comprehensions\n",
    "res=[i[::-1] for i in input_str.split()]\n",
    "print(res)"
   ]
  },
  {
   "cell_type": "code",
   "execution_count": null,
   "metadata": {},
   "outputs": [],
   "source": [
    "input_str = 'the quick brown fox jumps over the lazy dog'\n",
    "temp=input_str.split()\n",
    "vowels=('a','e','i','o','u')\n",
    "res=input_str\n",
    "for i in input_str.lower():\n",
    "    if i in vowels:\n",
    "        res=res.replace(i,'')\n",
    "    else:\n",
    "        continue\n",
    "print(res)"
   ]
  },
  {
   "cell_type": "code",
   "execution_count": null,
   "metadata": {},
   "outputs": [],
   "source": []
  },
  {
   "cell_type": "code",
   "execution_count": 115,
   "metadata": {},
   "outputs": [
    {
     "name": "stdout",
     "output_type": "stream",
     "text": [
      "[('to', 'izmet.de'), ('dadweg', 'jodbip.ga'), ('agbegru', 'ki.gl'), ('ricuwi', 'papkop.pt'), ('bit', 'te.ss'), ('onutodwun', 'hi.sa'), ('aso', 'luc.mt')]\n",
      "{'to': 'izmet.de', 'dadweg': 'jodbip.ga', 'agbegru': 'ki.gl', 'ricuwi': 'papkop.pt', 'bit': 'te.ss', 'onutodwun': 'hi.sa', 'aso': 'luc.mt'}\n"
     ]
    }
   ],
   "source": [
    "#Read in a string which has comma separated email addresses.\n",
    "#Create a dictionary where keys are the usernames and values are the email domains\n",
    "input_str = 'to@izmet.de,dadweg@jodbip.ga,agbegru@ki.gl,ricuwi@papkop.pt,bit@te.ss,onutodwun@hi.sa,aso@luc.mt'\n",
    "dict1={}\n",
    "l1=[]\n",
    "temp=input_str.split(',')\n",
    "#print(temp)\n",
    "for i in temp:\n",
    "    res=i.split('@')\n",
    "    #print(type(res))\n",
    "    temp=tuple(res)\n",
    "    l1.append(temp)\n",
    "print(l1)\n",
    "dict1.update(l1)\n",
    "print(dict1)\n",
    "    #print(list(res))\n",
    "    \n",
    "#print(dict1)\n",
    "    "
   ]
  },
  {
   "cell_type": "code",
   "execution_count": null,
   "metadata": {},
   "outputs": [],
   "source": [
    "#Python comprehensions \n",
    "#python comprehensions are used to generate collections on the fly using for loops\n",
    "#so we can have different types of comprehensions lists,generators,dictionaries etc\n"
   ]
  },
  {
   "cell_type": "code",
   "execution_count": null,
   "metadata": {},
   "outputs": [],
   "source": [
    "output=[]\n",
    "for i in range(1,9):\n",
    "    output.append(i+1)\n",
    "print(output)\n",
    "\n",
    "#we can do the same in one line with list comprehensions\n",
    "output_new=[i+1 for i in range(1,9)]\n",
    "print(output_new)"
   ]
  },
  {
   "cell_type": "code",
   "execution_count": null,
   "metadata": {},
   "outputs": [],
   "source": [
    "#if we want to give a particular condition which needs to be satisfied\n",
    "output_new=[i+1 for i in range(1,9) if i%2==0]\n",
    "print(output_new)"
   ]
  },
  {
   "cell_type": "code",
   "execution_count": null,
   "metadata": {},
   "outputs": [],
   "source": [
    "test_input=[i for i in range(1,11) if i%2==0]\n",
    "print(test_input)"
   ]
  },
  {
   "cell_type": "code",
   "execution_count": null,
   "metadata": {},
   "outputs": [],
   "source": [
    "output=[[i,j] for i in range(1,9) for j in range(1,6)]\n",
    "print(output)"
   ]
  },
  {
   "cell_type": "code",
   "execution_count": null,
   "metadata": {},
   "outputs": [],
   "source": [
    "output=[[i+j for j in range(1,5)]for i in range(1,6)]\n",
    "print(output)"
   ]
  },
  {
   "cell_type": "code",
   "execution_count": null,
   "metadata": {},
   "outputs": [],
   "source": [
    "output=[[(i,j)] for i in range(1,7) for j in range(1,5)]\n",
    "print(output)"
   ]
  },
  {
   "cell_type": "code",
   "execution_count": null,
   "metadata": {},
   "outputs": [],
   "source": [
    "z = [(i + j) for i, j in zip(range(11), range(10, 21))]\n",
    "print(z)"
   ]
  },
  {
   "cell_type": "code",
   "execution_count": null,
   "metadata": {},
   "outputs": [],
   "source": [
    "y=[i**2 if i%2==0 else i for i in range(1,10)]#we can also write a\n",
    "print(y)"
   ]
  },
  {
   "cell_type": "code",
   "execution_count": null,
   "metadata": {},
   "outputs": [],
   "source": [
    "#dictionary comprehensions\n",
    "l=list(range(1,20))\n",
    "print(l)\n",
    "d={i:'even' if i%2==0 else'odd' for i in l}\n",
    "print(d)"
   ]
  },
  {
   "cell_type": "code",
   "execution_count": null,
   "metadata": {},
   "outputs": [],
   "source": [
    "#count the number of times a letter appears in a string\n",
    "l='Project Alpha Version seven'\n",
    "d={i:l.count(i)for i in l}\n",
    "print(d)"
   ]
  },
  {
   "cell_type": "code",
   "execution_count": null,
   "metadata": {},
   "outputs": [],
   "source": [
    "item=['cycle','tea','phone']#Create a dictionary of the following items\n",
    "cost=[1,2,3]\n",
    "d={i:j for i,j in zip(item,cost)}\n",
    "print(d)"
   ]
  },
  {
   "cell_type": "code",
   "execution_count": null,
   "metadata": {},
   "outputs": [],
   "source": [
    "#we can also form a dictionary if u wanted to just zip the lists\n",
    "d=dict(zip(item,cost))\n",
    "print(d)"
   ]
  },
  {
   "cell_type": "code",
   "execution_count": null,
   "metadata": {},
   "outputs": [],
   "source": [
    "#set comprehensions\n",
    "l=list(range(1,20))\n",
    "s={i for i in l if i%2==0}\n",
    "print(s)"
   ]
  },
  {
   "cell_type": "code",
   "execution_count": null,
   "metadata": {},
   "outputs": [],
   "source": [
    "#generator comprehensions\n",
    "#a generator comprehension is memory efficient as it is not evaluated immediatley but is used as \n",
    "#an iterable and will generate values one by one in the iteration this makes it memory efficient.\n",
    "g=(i for i in range(100))\n",
    "sum=0\n",
    "for num in g:\n",
    "    sum=sum+num\n",
    "print(sum)\n",
    "print(list(g))"
   ]
  },
  {
   "cell_type": "code",
   "execution_count": null,
   "metadata": {},
   "outputs": [],
   "source": [
    "#python functions\n",
    "def add(x,y):\n",
    "    return x+y\n",
    "print(add(1,2))\n",
    "new_add=add\n",
    "print(new_add(5,6))\n",
    "def add(x,y,z):\n",
    "    return x+y+z\n",
    "print(add(1,2,3))\n",
    "#print(new_add(1,2,3))#error"
   ]
  },
  {
   "cell_type": "code",
   "execution_count": null,
   "metadata": {},
   "outputs": [],
   "source": [
    "def hi():\n",
    "    print('hellooooo')\n",
    "hi()\n",
    "a=hi()\n",
    "print(a)\n",
    "#every python function returns a value only difference is that if we dont specify a value python will return\n",
    "#none by default"
   ]
  },
  {
   "cell_type": "code",
   "execution_count": null,
   "metadata": {},
   "outputs": [],
   "source": [
    "def add(a=1,b=10):\n",
    "    return a+b\n",
    "print(add())\n",
    "print(add(1,2))\n",
    "print(add(1))\n",
    "print(add(b=12))"
   ]
  },
  {
   "cell_type": "code",
   "execution_count": null,
   "metadata": {},
   "outputs": [],
   "source": [
    "#to convert a character to its corresponding ASCII value and back\n",
    "res=ord('a')#converting 'a' to its ascii value use the ord()\n",
    "print(res)\n",
    "print(chr(res))#in python variables dont actually have a type its the value that is present inside\n",
    "#the variable which will actually dictate its type\n",
    "y=1.0\n",
    "print(type(y))\n",
    "y='a'\n",
    "print(type(y))"
   ]
  },
  {
   "cell_type": "code",
   "execution_count": null,
   "metadata": {},
   "outputs": [],
   "source": [
    "x=[1,2,3,4,5]\n",
    "y=x\n",
    "x.append(6)\n",
    "print(id(x),x)\n",
    "print(id(y),y)\n",
    "y.append(7)\n",
    "print(id(x),x)\n",
    "print(id(y),y)\n",
    "print(x==y)\n",
    "print(x is y)"
   ]
  },
  {
   "cell_type": "code",
   "execution_count": null,
   "metadata": {},
   "outputs": [],
   "source": [
    "#cartesian product using list comprehension\n",
    "a=[1,2,3,4,5]\n",
    "b=['a','b','b','c','d']\n",
    "res=[(i,j) for i in a for j in b]#this will do axb and save it in the value res.\n",
    "print(res)"
   ]
  },
  {
   "cell_type": "code",
   "execution_count": null,
   "metadata": {},
   "outputs": [],
   "source": [
    "def squared(x):\n",
    "    return x**2\n",
    "#we can call this function as \n",
    "res1=squared(2)\n",
    "#we can also call this function on an iterable\n",
    "res2=map(squared,[1,2,3,4,5])\n",
    "#we can also write the squared() as an anonymous function\n",
    "res3=map(lambda x:x**2,[1,2,3,4,5])\n",
    "#we can also use the filter()\n",
    "res4=filter(lambda x:x>2,[1,2,3,4,5])#we use filter to filter the list \n",
    "print(res1,list(res2),list(res3),list(res4))\n",
    "l1=[1,2,3,4,5]"
   ]
  },
  {
   "cell_type": "code",
   "execution_count": null,
   "metadata": {},
   "outputs": [],
   "source": [
    "#working with maps and filters in listcomprehensions\n",
    "values=list(range(30))\n",
    "#filtering this list by applying filtering in a list comprehension\n",
    "res1=[i for i in values if i%2==0]\n",
    "#we can also use a map while working with list comprehensions\n",
    "res2=[squared(i) for i in values if i%2!=0]\n",
    "print(res1)\n",
    "print(res2)"
   ]
  },
  {
   "cell_type": "code",
   "execution_count": null,
   "metadata": {},
   "outputs": [],
   "source": [
    "#The reduce function\n",
    "#the reduce function will recursivley apply the function and finally return a single value in the end\n",
    "from functools import reduce\n",
    "res=reduce(lambda x,y:x+y,[1,2,3,4,5])\n",
    "print(res)"
   ]
  },
  {
   "cell_type": "code",
   "execution_count": 64,
   "metadata": {},
   "outputs": [
    {
     "name": "stdout",
     "output_type": "stream",
     "text": [
      "<class 'list_iterator'>\n",
      "<list_iterator object at 0x0000000006C01278>\n",
      "1\n",
      "2\n",
      "3\n",
      "4\n",
      "5\n",
      "6\n",
      "\n",
      "\n"
     ]
    }
   ],
   "source": [
    "#iterable iterative and iteration in python.\n",
    "#if we call the iter() over something which contains other elements within it then it returns an iterable\n",
    "l1=[1,2,3,4,5,6]\n",
    "iterable=iter(l1)\n",
    "print(type(iterable))\n",
    "print(iterable)\n",
    "while True:\n",
    "    try:\n",
    "        print(next(iterable))\n",
    "    except StopIteration:\n",
    "        break\n",
    "print('\\n')\n"
   ]
  },
  {
   "cell_type": "code",
   "execution_count": 67,
   "metadata": {},
   "outputs": [
    {
     "name": "stdout",
     "output_type": "stream",
     "text": [
      "<list_iterator object at 0x0000000006BB3E48>\n",
      "1\n",
      "2\n",
      "3\n",
      "4\n",
      "5\n",
      "6\n"
     ]
    }
   ],
   "source": [
    "#we can do the same with a for loop as well but this time we will not have to use the try except block as it does all of this internally automatically\n",
    "l1=[1,2,3,4,5,6]\n",
    "iterable=iter(l1)\n",
    "print(iterable)\n",
    "for i in iterable:\n",
    "    print(i)"
   ]
  },
  {
   "cell_type": "markdown",
   "metadata": {},
   "source": [
    "### Strings in python"
   ]
  },
  {
   "cell_type": "code",
   "execution_count": 68,
   "metadata": {},
   "outputs": [
    {
     "name": "stdout",
     "output_type": "stream",
     "text": [
      "h\n"
     ]
    }
   ],
   "source": [
    "#if we have a string we can access the characters of the string by index[]\n",
    "str_test='hello world !!!'\n",
    "print(str_test[0])"
   ]
  },
  {
   "cell_type": "code",
   "execution_count": 69,
   "metadata": {},
   "outputs": [
    {
     "name": "stdout",
     "output_type": "stream",
     "text": [
      "found\n"
     ]
    }
   ],
   "source": [
    "#check if the string contains a substring in python\n",
    "str_new='I am almost broke'\n",
    "if 'broke' in str_new:\n",
    "    print('found')\n",
    "else:\n",
    "    print('Not found')"
   ]
  },
  {
   "cell_type": "code",
   "execution_count": 70,
   "metadata": {},
   "outputs": [
    {
     "name": "stdout",
     "output_type": "stream",
     "text": [
      "found\n"
     ]
    }
   ],
   "source": [
    "#check if the string contains a substring in python\n",
    "str_new='I am almost Broke'\n",
    "if 'broke'.lower() in str_new.lower():\n",
    "    print('found')\n",
    "else:\n",
    "    print('Not found')"
   ]
  },
  {
   "cell_type": "code",
   "execution_count": 71,
   "metadata": {},
   "outputs": [
    {
     "name": "stdout",
     "output_type": "stream",
     "text": [
      "present\n",
      "not present\n",
      "not present\n",
      "not present\n"
     ]
    }
   ],
   "source": [
    "string1='hello world !!!'\n",
    "l1=['hello','this','that','all']\n",
    "#check if the list contains any word which is in the string\n",
    "for i in l1:\n",
    "    if i in string1:\n",
    "        print('present')\n",
    "    else:\n",
    "        print('not present')"
   ]
  },
  {
   "cell_type": "code",
   "execution_count": 73,
   "metadata": {},
   "outputs": [
    {
     "name": "stdout",
     "output_type": "stream",
     "text": [
      "atleast one of the list items present in the string\n"
     ]
    }
   ],
   "source": [
    "#we can also use the any() it will take in an iterable and check if all of the items in the iterable satisfy the condition.\n",
    "res=any([True if i in string1 else False for i in l1])\n",
    "if res:\n",
    "    print('atleast one of the list items present in the string')\n",
    "else:\n",
    "    print('not found')"
   ]
  },
  {
   "cell_type": "code",
   "execution_count": 74,
   "metadata": {},
   "outputs": [
    {
     "name": "stdout",
     "output_type": "stream",
     "text": [
      "all of the list items not present in the string\n"
     ]
    }
   ],
   "source": [
    "#simmilarly we can also make use of the all()\n",
    "res=all([True if i in string1 else False for i in l1])\n",
    "if res:\n",
    "    print('all of the list items present in the string')\n",
    "else:\n",
    "    print('all of the list items not present in the string')"
   ]
  },
  {
   "cell_type": "code",
   "execution_count": 81,
   "metadata": {},
   "outputs": [
    {
     "name": "stdout",
     "output_type": "stream",
     "text": [
      "<re.Match object; span=(0, 5), match='hello'>\n",
      "None\n",
      "found\n"
     ]
    }
   ],
   "source": [
    "#we can also work with regex when it comes to string searching.\n",
    "import re\n",
    "obj=re.compile('hello')\n",
    "obj1=re.compile('hi')\n",
    "res=obj.search(string1)\n",
    "res2=obj1.search(string1)#to do a caseinsensitive search flags=re.IGNORECASE \n",
    "print(res)\n",
    "print(res2)#if not found will return None\n",
    "if res:\n",
    "    print('found')\n",
    "else:\n",
    "    print('Not found')"
   ]
  },
  {
   "cell_type": "code",
   "execution_count": 82,
   "metadata": {},
   "outputs": [
    {
     "name": "stdout",
     "output_type": "stream",
     "text": [
      "2\n",
      "['name', 'name']\n"
     ]
    }
   ],
   "source": [
    "string2='hi my name is Alex and his name is Andrew'\n",
    "obj=re.compile('name')\n",
    "res=obj.findall(string2)\n",
    "print(len(res))\n",
    "print(res)"
   ]
  },
  {
   "cell_type": "code",
   "execution_count": 85,
   "metadata": {},
   "outputs": [
    {
     "name": "stdout",
     "output_type": "stream",
     "text": [
      "True\n",
      "True\n",
      "112901736 112901736\n"
     ]
    }
   ],
   "source": [
    "#comparing two stings\n",
    "string1='hello'\n",
    "string2='hello'\n",
    "print(string1==string2)\n",
    "print(string1 is string2)\n",
    "print(id(string1),id(string2)"
   ]
  },
  {
   "cell_type": "code",
   "execution_count": 87,
   "metadata": {},
   "outputs": [
    {
     "data": {
      "text/plain": [
       "'hell& world'"
      ]
     },
     "execution_count": 87,
     "metadata": {},
     "output_type": "execute_result"
    }
   ],
   "source": [
    "str1='hello world'\n",
    "str1.replace('o','$')#by default replace all occurance\n",
    "str1.replace('o','&',1)#replace only first occurance"
   ]
  },
  {
   "cell_type": "code",
   "execution_count": 88,
   "metadata": {},
   "outputs": [
    {
     "name": "stdout",
     "output_type": "stream",
     "text": [
      "hello world!!\n"
     ]
    }
   ],
   "source": [
    "str1='hello world!!!'\n",
    "#remove the last character from the string\n",
    "print(str1[:-1:])"
   ]
  },
  {
   "cell_type": "code",
   "execution_count": 97,
   "metadata": {},
   "outputs": [
    {
     "name": "stdout",
     "output_type": "stream",
     "text": [
      "hello\n",
      "first character is h and last character will be o\n"
     ]
    }
   ],
   "source": [
    "#left padding a string in python rjust and ljust\n",
    "string1='hello'\n",
    "string2=string1.rjust(4,' ')\n",
    "print(string2)\n",
    "#getting first and last character in the string\n",
    "print(f'first character is {string1[0]} and last character will be {string1[-1]}')"
   ]
  },
  {
   "cell_type": "code",
   "execution_count": 109,
   "metadata": {},
   "outputs": [
    {
     "name": "stdout",
     "output_type": "stream",
     "text": [
      "6\n",
      "29\n",
      "99\n",
      "55\n",
      "{'__name__': '__main__', '__doc__': 'Automatically created module for IPython interactive environment', '__package__': None, '__loader__': None, '__spec__': None, '__builtin__': <module 'builtins' (built-in)>, '__builtins__': <module 'builtins' (built-in)>, '_ih': ['', \"#dictionary conversions\\nl1=['a','b','c','d']\\n#if we have a list of keys\\ndict1=dict.fromkeys(l1,0)\\nprint(dict1)\", \"#dictionary conversions\\nl1=['a','b','c','d']\\n#if we have a list of keys\\ndict1=dict.fromkeys(l1,0)\\nprint(dict1)\\nl1=['a','b','c']\\nl2=[1,2,3]\\n#if we have two lists one containing keys and one containing values\\ndict1=dict(zip(l1,l2))\\nprint(dict1)\", \"#dictionary conversions\\nl1=['a','b','c','d']\\n#if we have a list of keys\\ndict1=dict.fromkeys(l1,0)\\nprint(dict1)\\nl1=['a','b','c']\\nl2=[1,2,3]\\n#if we have two lists one containing keys and one containing values\\ndict1=dict(zip(l1,l2))\\nprint(dict1)\\n#if we have a list of tuples\\nl1=[('a',1),('b',2),('c',3)]\\ndict1=dict(l1)\\nprint(dict1)\", 'sorted(dict1.keys())', \"l1=[('b',1),('a',2),('f',3),('d',4)]\\ndict1=dict(l1)\\nprint(sorted(dict1.keys()))\", \"l1=[('b',1),('a',2),('f',3),('d',4)]\\ndict1=dict(l1)\\nprint(sorted(dict1.keys()))\\n#to print the dictionary in a sorted order.\\nfor i in  sorted(dict1.keys()):\\n    print(i : dict1[i])\", \"l1=[('b',1),('a',2),('f',3),('d',4)]\\ndict1=dict(l1)\\nprint(sorted(dict1.keys()))\\n#to print the dictionary in a sorted order.\\nfor i in  sorted(dict1.keys()):\\n    print(i , dict1[i])\", \"l1=[('b',1),('a',2),('f',3),('d',4)]\\ndict1=dict(l1)\\nprint(sorted(dict1.keys()))\\n#to print the dictionary in a sorted order.\\nfor i in  sorted(dict1.keys()):\\n    print(i ':' dict1[i])\", \"l1=[('b',1),('a',2),('f',3),('d',4)]\\ndict1=dict(l1)\\nprint(sorted(dict1.keys()))\\n#to print the dictionary in a sorted order.\\nfor i in  sorted(dict1.keys()):\\n    print(i ,':', dict1[i])\", \"l1=[('b',1),('a',2),('f',3),('d',4)]\\ndict1=dict(l1)\\nprint(sorted(dict1.keys()))\\n#to print the dictionary in a sorted order.\\nfor i in  sorted(dict1.keys()):\\n    print(i ,':', dict1[i])\\n#to do the same in the reverse order\\nfor i in  sorted(dict1.keys(),reverse=True):\\n    print(i ,':', dict1[i])\", \"l1=[('b',1),('a',2),('f',3),('d',4)]\\ndict1=dict(l1)\\nprint(sorted(dict1.keys()))\\n#to print the dictionary in a sorted order.\\nfor i in  sorted(dict1.keys()):\\n    print(i ,':', dict1[i])\\n#to do the same in the reverse order\\nprint(\\\\n)\\nfor i in  sorted(dict1.keys(),reverse=True):\\n    print(i ,':', dict1[i])\", \"l1=[('b',1),('a',2),('f',3),('d',4)]\\ndict1=dict(l1)\\nprint(sorted(dict1.keys()))\\n#to print the dictionary in a sorted order.\\nfor i in  sorted(dict1.keys()):\\n    print(i ,':', dict1[i])\\n#to do the same in the reverse order\\nprint('\\\\n')\\nfor i in  sorted(dict1.keys(),reverse=True):\\n    print(i ,':', dict1[i])\", \"#sorting a dictionary based on custom functions\\nd1={'key1':1,'key1234':2,'Key123':4}\\n#consider that we wanted to sort our dictionary based on the length of the key\\nsorted(d1.items(),key lambda x:len(x[0]))\", \"#sorting a dictionary based on custom functions\\nd1={'key1':1,'key1234':2,'Key123':4}\\n#consider that we wanted to sort our dictionary based on the length of the key\\nsorted(d1.items(),key=lambda x:len(x[0]))\", \"#sorting a dictionary based on custom functions\\nd1={'key1':1,'key1234':2,'Key123':4}\\n#consider that we wanted to sort our dictionary based on the length of the key\\nsorted(d1.items(),key=lambda x:len(x[1]))\", \"#sorting a dictionary based on custom functions\\nd1={'key1':1,'key1234':2,'Key123':4}\\n#consider that we wanted to sort our dictionary based on the length of the key\\nsorted(d1.items(),key=lambda x:len(x[0]))\", \"#sorting a dictionary based on custom functions\\nd1={'key1':1,'key1234':2,'Key123':4}\\n#consider that we wanted to sort our dictionary based on the length of the key\\nprint(sorted(d1.items(),key=lambda x:len(x[0])))\\nprint(sorted(d1.items(),key=lambda x:len(x[0],reversed=True)))\", \"#sorting a dictionary based on custom functions\\nd1={'key1':1,'key1234':2,'Key123':4}\\n#consider that we wanted to sort our dictionary based on the length of the key\\nprint(sorted(d1.items(),key=lambda x:len(x[0])))\\nprint(sorted(d1.items(),key=lambda x:len(x[0]))\", \"#sorting a dictionary based on custom functions\\nd1={'key1':1,'key1234':2,'Key123':4}\\n#consider that we wanted to sort our dictionary based on the length of the key\\nprint(sorted(d1.items(),key=lambda x:len(x[0])))\\nprint(sorted(d1.items(),key=lambda x:len(x[0],reversed)))\", \"#sorting a dictionary based on custom functions\\nd1={'key1':1,'key1234':2,'Key123':4}\\n#consider that we wanted to sort our dictionary based on the length of the key\\nprint(sorted(d1.items(),key=lambda x:len(x[0])))\\nprint(sorted(d1.items(),key=lambda x:len(x[0]),reverse=True))\", \"#sorting a dictionary based on custom functions\\nd1={'key1':1,'key1234':2,'Key123':4}\\n#consider that we wanted to sort our dictionary based on the length of the key\\nprint(sorted(d1.items(),key=lambda x:len(x[0])))\\nprint(sorted(d1.items(),key=lambda x:len(x[0]),reverse=True))#we are sorting according to the length of the key\\nprint(sorted(d1.items(),key=lambda x: x[1]))\", \"#shallow copy\\ndict1={'key1':1,'key2':2,'key4':[1,2,3,4]}\\ndict2=dict1.copy()\\nprint(dict1)\\nprint('\\\\n')\\nprint(dict2)\", \"#shallow copy\\ndict1={'key1':1,'key2':2,'key4':[1,2,3,4]}\\ndict2=dict1.copy()\\nprint(dict1)\\nprint('\\\\n')\\nprint(dict2)\\ndict2['key1']=12\\nprint(dict1)\\nprint('\\\\n')\\nprint(dict2)\", \"#shallow copy\\ndict1={'key1':1,'key2':2,'key4':[1,2,3,4]}\\ndict2=dict1.copy()\\nprint(dict1)\\nprint('\\\\n')\\nprint(dict2)\\ndict2['key1']=12\\nprint(dict1)\\nprint('\\\\n')\\nprint(dict2)\", \"#shallow copy\\ndict1={'key1':1,'key2':2,'key4':[1,2,3,4]}\\ndict2=dict1.copy()\\nprint(dict1)\\nprint('\\\\n')\\nprint(dict2)\\ndict2['key1']=12\\nprint(dict1)\\nprint('\\\\n')\\nprint(dict2)\", \"#shallow copy\\ndict1={'key1':1,'key2':2,'key4':[1,2,3,4]}\\ndict2=dict1.copy()#the copy() will create a shallow copy of the object\\nprint(dict1)\\nprint('\\\\n')\\nprint(dict2)\\ndict2['key1']=12\\nprint(dict1)\\nprint('\\\\n')\\nprint(dict2)\\n#we can see although we are saying it is a shallow copy the changes are not reflected\\n#but if we change the list ie key3\\ndict2['key4'].append(44)\\nprint(dict1)\\nprint('\\\\n')\\nprint(dict2)\", \"#shallow copy\\ndict1={'key1':1,'key2':2,'key4':[1,2,3,4]}\\ndict2=dict1.copy()#the copy() will create a shallow copy of the object\\nprint(dict1)\\nprint(dict2)\\nprint('\\\\n')\\ndict2['key1']=12\\nprint(dict1)\\nprint(dict2)\\nprint('\\\\n')\\n#we can see although we are saying it is a shallow copy the changes are not reflected\\n#but if we change the list ie key3\\ndict2['key4'].append(44)\\nprint(dict1)\\nprint(dict2)\", \"#shallow copy\\ndict1={'key1':1,'key2':2,'key4':[1,2,3,4]}\\ndict2=dict1.copy()#the copy() will create a shallow copy of the object\\nprint(dict1)\\nprint(dict2)\\nprint('\\\\n')\\ndict2['key1']=12\\nprint(dict1)\\nprint(dict2)\\nprint('\\\\n')\\n#we can see although we are saying it is a shallow copy the changes are not reflected\\n#but if we change the list ie key3\\ndict2['key4'].append(44)\\nprint(dict1)\\nprint(dict2)\\nprint('\\\\n')\\n#we can see that now when we changed the value inside the list the changes were seen in the original\\n#as well as the copy this is because the reference of the list was stored inside dict1 and dict2\\n#to prevent this we need to use the deepcopy()\\ndict1={'key1':1,'key2':2,'key4':[1,2,3,4]}\\ndict2=dict1.deepcopy()#the copy() will create a deep copy of the object\\ndict2['key1']=12\\nprint(dict1)\\nprint(dict2)\\nprint('\\\\n')\\ndict2['key4'].append(44)\\nprint(dict1)\\nprint(dict2)\\nprint('\\\\n')\", \"#shallow copy\\ndict1={'key1':1,'key2':2,'key4':[1,2,3,4]}\\ndict2=dict1.copy()#the copy() will create a shallow copy of the object\\nprint(dict1)\\nprint(dict2)\\nprint('\\\\n')\\ndict2['key1']=12\\nprint(dict1)\\nprint(dict2)\\nprint('\\\\n')\\n#we can see although we are saying it is a shallow copy the changes are not reflected\\n#but if we change the list ie key3\\ndict2['key4'].append(44)\\nprint(dict1)\\nprint(dict2)\\nprint('\\\\n')\\n#we can see that now when we changed the value inside the list the changes were seen in the original\\n#as well as the copy this is because the reference of the list was stored inside dict1 and dict2\\n#to prevent this we need to use the deepcopy()\\nimport copy\\ndict1={'key1':1,'key2':2,'key4':[1,2,3,4]}\\ndict2=dict1.deepcopy()#the copy() will create a deep copy of the object\\ndict2['key1']=12\\nprint(dict1)\\nprint(dict2)\\nprint('\\\\n')\\ndict2['key4'].append(44)\\nprint(dict1)\\nprint(dict2)\\nprint('\\\\n')\", \"#shallow copy\\ndict1={'key1':1,'key2':2,'key4':[1,2,3,4]}\\ndict2=dict1.copy()#the copy() will create a shallow copy of the object\\nprint(dict1)\\nprint(dict2)\\nprint('\\\\n')\\ndict2['key1']=12\\nprint(dict1)\\nprint(dict2)\\nprint('\\\\n')\\n#we can see although we are saying it is a shallow copy the changes are not reflected\\n#but if we change the list ie key3\\ndict2['key4'].append(44)\\nprint(dict1)\\nprint(dict2)\\nprint('\\\\n')\\n#we can see that now when we changed the value inside the list the changes were seen in the original\\n#as well as the copy this is because the reference of the list was stored inside dict1 and dict2\\n#to prevent this we need to use the deepcopy()\\nimport copy\\ndict1={'key1':1,'key2':2,'key4':[1,2,3,4]}\\ndict2=dict1.deepcopy()#the copy() will create a deep copy of the object\\ndict2['key1']=12\\nprint(dict1)\\nprint(dict2)\\nprint('\\\\n')\\ndict2['key4'].append(44)\\nprint(dict1)\\nprint(dict2)\\nprint('\\\\n')\", 'import copy', \"#shallow copy\\ndict1={'key1':1,'key2':2,'key4':[1,2,3,4]}\\ndict2=dict1.copy()#the copy() will create a shallow copy of the object\\nprint(dict1)\\nprint(dict2)\\nprint('\\\\n')\\ndict2['key1']=12\\nprint(dict1)\\nprint(dict2)\\nprint('\\\\n')\\n#we can see although we are saying it is a shallow copy the changes are not reflected\\n#but if we change the list ie key3\\ndict2['key4'].append(44)\\nprint(dict1)\\nprint(dict2)\\nprint('\\\\n')\\n#we can see that now when we changed the value inside the list the changes were seen in the original\\n#as well as the copy this is because the reference of the list was stored inside dict1 and dict2\\n#to prevent this we need to use the deepcopy()\\nimport copy\\ndict1={'key1':1,'key2':2,'key4':[1,2,3,4]}\\ndict2=copy.deepcopy(dict1)#the copy() will create a deep copy of the object\\ndict2['key1']=12\\nprint(dict1)\\nprint(dict2)\\nprint('\\\\n')\\ndict2['key4'].append(44)\\nprint(dict1)\\nprint(dict2)\\nprint('\\\\n')\", \"#deleting items from the dictionary \\ndict1={'key1':1,'key2':9,'key3':11,'key4':15,'key5':19}\\nfor (key,value) in dict1.items():\\n    if value%3==0:\\n        del dict1[key]\\n    else:\\n        continue\\nprint(dict1)\", \"#deleting items from the dictionary\\n#we cannot delete directly while iterating the dictionary\\nl1=list()\\ndict1={'key1':1,'key2':9,'key3':11,'key4':15,'key5':19}\\n\\nfor (key,value) in dict1.items():\\n    if value%3==0:\\n        l1.append(key)\\n    else:\\n        continue\\nprint(l1)\\nfor i in l1:\\n    del dict1[i]\\nprint(dict1)\", 'max(1,2,3)', \"#find the key with the maximum value in the dictionary\\ndict1={'eng':33,'hind':45,'math':72}\\nmax(dict1)\", \"#find the key with the maximum value in the dictionary\\ndict1={'eng':33,'hind':45,'math':72,'xyz':1}\\nmax(dict1)\", \"#find the key with the maximum value in the dictionary\\ndict1={'eng':33,'hind':45,'math':72,'xyz':1}\\nprint(max(dict1))#cannot do this directly as default behaviour is by keys\\nx[max(value) for (key,value) in dict1.items()]\", \"#find the key with the maximum value in the dictionary\\ndict1={'eng':33,'hind':45,'math':72,'xyz':1}\\nprint(max(dict1))#cannot do this directly as default behaviour is by keys\\nx=[max(value) for (key,value) in dict1.items()]\", \"#find the key with the maximum value in the dictionary\\ndict1={'eng':33,'hind':45,'math':72,'xyz':1}\\nprint(max(dict1))#cannot do this directly as default behaviour is by keys\\nx=[for (key,value) in dict1.items()]\", \"#find the key with the maximum value in the dictionary\\ndict1={'eng':33,'hind':45,'math':72,'xyz':1}\\nprint(max(dict1))#cannot do this directly as default behaviour is by keys\\nx=[for (key,value) in dict1.items()]\\ndict1.items()\", \"#find the key with the maximum value in the dictionary\\ndict1={'eng':33,'hind':45,'math':72,'xyz':1}\\nprint(max(dict1))#cannot do this directly as default behaviour is by keys\\n#x=[for (key,value) in dict1.items()]\\ndict1.items()\", \"#find the key with the maximum value in the dictionary\\ndict1={'eng':33,'hind':45,'math':72,'xyz':1}\\nprint(max(dict1))#cannot do this directly as default behaviour is by keys\\nx=[lambda x: x[0] for (key,value) in dict1.items()]\", \"#find the key with the maximum value in the dictionary\\ndict1={'eng':33,'hind':45,'math':72,'xyz':1}\\nprint(max(dict1))#cannot do this directly as default behaviour is by keys\\nx=[lambda x: x[1] for (key,value) in dict1.items()]\", \"#find the key with the maximum value in the dictionary\\ndict1={'eng':33,'hind':45,'math':72,'xyz':1}\\nprint(max(dict1))#cannot do this directly as default behaviour is by keys\\nx=[lambda x,y: x[0] for (key,value) in dict1.items()]\", \"#find the key with the maximum value in the dictionary\\ndict1={'eng':33,'hind':45,'math':72,'xyz':1}\\nprint(max(dict1))#cannot do this directly as default behaviour is by keys\\nx=[lambda x,y: max(x) for (key,value) in dict1.items()]\", \"#find the key with the maximum value in the dictionary\\ndict1={'eng':33,'hind':45,'math':72,'xyz':1}\\nprint(max(dict1))#cannot do this directly as default behaviour is by keys\\nx=[lambda x,y: max(y) for (key,value) in dict1.items()]\", \"#find the key with the maximum value in the dictionary\\ndict1={'eng':33,'hind':45,'math':72,'xyz':1}\\nprint(max(dict1))#cannot do this directly as default behaviour is by keys\\nx=[lambda x,y: max(y) for (key,value) in dict1.items()]\\nprint(x)\", \"#find the key with the maximum value in the dictionary\\ndict1={'eng':33,'hind':45,'math':72,'xyz':1}\\nprint(max(dict1))#cannot do this directly as default behaviour is by keys\\nmax(dict1.items(),key=lambda x:x[0])\", \"#find the key with the maximum value in the dictionary\\ndict1={'eng':33,'hind':45,'math':72,'xyz':1}\\nprint(max(dict1))#cannot do this directly as default behaviour is by keys\\nmax(dict1.items(),key=lambda x:x[1])\", \"#merging two dictionaries\\ndict1={'pt':44,'geo':55}\\ndict2={'eng':33,'hind':45,'math':72,'xyz':1}\\ndict1.update(dict2)\", \"#merging two dictionaries\\ndict1={'pt':44,'geo':55}\\ndict2={'eng':33,'hind':45,'math':72,'xyz':1}\\ndict1.update(dict2)\\nprint(dict1)\", \"#merging two dictionaries\\ndict1={'pt':44,'geo':55,'eng':44}\\ndict2={'eng':33,'hind':45,'math':72,'xyz':1}\\ndict1.update(dict2)\\nprint(dict1)\", \"#merging two dictionaries\\ndict1={'pt':44,'geo':55,'eng':44}\\ndict2={'eng':33,'hind':45,'math':72,'xyz':1}\\ndict1.update(dict2)\\nprint(dict1)#we can see that the value of the common key ie eng has changed to the value in dict2 and also \\n#the contents of dict1 has changed\\n#using **kwargs we can send variable length key vale pairs to a function.\\n#using ** to a dictionary will deserialize its contents to key/value pairs\\n**dict1\", \"#merging two dictionaries\\ndict1={'pt':44,'geo':55,'eng':44}\\ndict2={'eng':33,'hind':45,'math':72,'xyz':1}\\ndict1.update(dict2)\\nprint(dict1)#we can see that the value of the common key ie eng has changed to the value in dict2 and also \\n#the contents of dict1 has changed\\n#using **kwargs we can send variable length key vale pairs to a function.\\n#using ** to a dictionary will deserialize its contents to key/value pairs\\n#we can use this to merge the two dictionaries\\ndict3={**dict1,**dict2}\\nprint(dict3)\", \"#what if we wanted to keep all the values for the common key?\\ndef megedict(dict1,dict2):\\n    dict3={**dict1,**dict2}\\n    for (key,value) in dict3.items():\\n        if key in dict1 and key in dict2:\\n            dict3[key]=[value,[dict1[key]]]\\n    return dict3\\ndict1={'pt':44,'geo':55,'eng':44}\\ndict2={'eng':33,'hind':45,'math':72,'xyz':1}\\nprint(mergedict(dict1,dict2))\", \"#what if we wanted to keep all the values for the common key?\\ndef megedict(dict1,dict2):\\n    dict3={**dict1,**dict2}\\n    for (key,value) in dict3.items():\\n        if key in dict1 and key in dict2:\\n            dict3[key]=[value,[dict1[key]]]\\n    return dict3\\ndict1={'pt':44,'geo':55,'eng':44}\\ndict2={'eng':33,'hind':45,'math':72,'xyz':1}\\nprint(megedict(dict1,dict2))\", \"#what if we wanted to keep all the values for the common key?\\ndef megedict(dict1,dict2):\\n    dict3={**dict1,**dict2}\\n    for (key,value) in dict3.items():\\n        if key in dict1 and key in dict2:\\n            dict3[key]=[value,dict1[key]]\\n    return dict3\\ndict1={'pt':44,'geo':55,'eng':44}\\ndict2={'eng':33,'hind':45,'math':72,'xyz':1}\\nprint(megedict(dict1,dict2))\", \"i=[1,2,3,4,5]\\nj=['a','b','c']\\nk=[1,2,3,'a','t','p']\\nz = zip(i,j)\\n#print(z)\\n#print(list(z))#tuple packing\\nfor a,b in z:\\n    print(f'value of {a} is {b}')\", '#iterable iterative and iteration in python.\\n#if we call the iter() over something which contains other elements within it then it returns an iterable\\nl1=[1,2,3,4,5,6]\\niterable=itr(l1)\\nprint(type(iterable))\\nprint(iterable)\\nwhile True:\\n    try:\\n        print(next(iterable))\\n    except StopIteration:\\n        break\\n        ', '#iterable iterative and iteration in python.\\n#if we call the iter() over something which contains other elements within it then it returns an iterable\\nl1=[1,2,3,4,5,6]\\niterable=iter(l1)\\nprint(type(iterable))\\nprint(iterable)\\nwhile True:\\n    try:\\n        print(next(iterable))\\n    except StopIteration:\\n        break\\n        ', \"#iterable iterative and iteration in python.\\n#if we call the iter() over something which contains other elements within it then it returns an iterable\\nl1=[1,2,3,4,5,6]\\niterable=iter(l1)\\nprint(type(iterable))\\nprint(iterable)\\nwhile True:\\n    try:\\n        print(next(iterable))\\n    except StopIteration:\\n        break\\nprint('\\\\n')\\n#we can do the same with a for loop as well but this time we will not have to use the try except block as it does all of this internally automatically\\n\\nfor i in iterable:\\n    print(i)\", \"#iterable iterative and iteration in python.\\n#if we call the iter() over something which contains other elements within it then it returns an iterable\\nl1=[1,2,3,4,5,6]\\niterable=iter(l1)\\nprint(type(iterable))\\nprint(iterable)\\nwhile True:\\n    try:\\n        print(next(iterable))\\n    except StopIteration:\\n        break\\nprint('\\\\n')\\n#we can do the same with a for loop as well but this time we will not have to use the try except block as it does all of this internally automatically\\n\\nfor i in iterable:\\n    print(i)\", \"#iterable iterative and iteration in python.\\n#if we call the iter() over something which contains other elements within it then it returns an iterable\\nl1=[1,2,3,4,5,6]\\niterable=iter(l1)\\nprint(type(iterable))\\nprint(iterable)\\nwhile True:\\n    try:\\n        print(next(iterable))\\n    except StopIteration:\\n        break\\nprint('\\\\n')\\n#we can do the same with a for loop as well but this time we will not have to use the try except block as it does all of this internally automatically\\n\\nfor i in iterable:\\n    print('hello')\", '#we can do the same with a for loop as well but this time we will not have to use the try except block as it does all of this internally automatically\\nl1=[1,2,3,4,5,6]\\niterable=iter(l1)\\nprint(iterable)', '#we can do the same with a for loop as well but this time we will not have to use the try except block as it does all of this internally automatically\\nl1=[1,2,3,4,5,6]\\niterable=iter(l1)\\nprint(iterable)\\nfor i in iterable:\\n    print(next(i))', '#we can do the same with a for loop as well but this time we will not have to use the try except block as it does all of this internally automatically\\nl1=[1,2,3,4,5,6]\\niterable=iter(l1)\\nprint(iterable)\\nfor i in iterable:\\n    print(i)', \"#if we have a string we can access the characters of the string by index[]\\nstr_test='hello world !!!'\\nprint(str_test[0])\", \"#check if the string contains a substring in python\\nstr_new='I am almost broke'\\nif 'broke' in str_new:\\n    print('found')\\nelse:\\n    print('Not found')\", \"#check if the string contains a substring in python\\nstr_new='I am almost Broke'\\nif 'broke'.lower() in str_new.lower():\\n    print('found')\\nelse:\\n    print('Not found')\", \"string1='hello world !!!'\\nl1=['hello','this','that','all']\\n#check if the list contains any word which is in the string\\nfor i in l1:\\n    if i in string1:\\n        print('present')\\n    else:\\n        print('not present')\", \"#we can also use the any() it will take in an iterable and check if all of the items in the iterable satisfy the condition.\\nres=any([True if i in string1 else False for i in l1])\\nif res:\\n    print('atlest one of the list items present in the string')\\nelse:\\n    print('not found')\", \"#we can also use the any() it will take in an iterable and check if all of the items in the iterable satisfy the condition.\\nres=any([True if i in string1 else False for i in l1])\\nif res:\\n    print('atleast one of the list items present in the string')\\nelse:\\n    print('not found')\", \"#simmilarly we can also make use of the all()\\nres=all([True if i in string1 else False for i in l1])\\nif res:\\n    print('all of the list items present in the string')\\nelse:\\n    print('all of the list items not present in the string')\", \"#we can also work with regex when it comes to string searching.\\nimport re\\nre.compile('hello')\", \"#we can also work with regex when it comes to string searching.\\nimport re\\nobj=re.compile('hello')\", \"#we can also work with regex when it comes to string searching.\\nimport re\\nobj=re.compile('hello')\\nres=obj.search(string1)\\nprint(res)\", \"#we can also work with regex when it comes to string searching.\\nimport re\\nstring2='hello hi world'\\nobj=re.compile('hello')\\nobj1=re.compile('hi')\\nres=obj.search(string1)\\nprint(res)\\nif res:\\n    print('found')\\nelse:\\n    print('Not found')\", \"#we can also work with regex when it comes to string searching.\\nimport re\\nobj=re.compile('hello')\\nobj1=re.compile('hi')\\nres=obj.search(string1)\\nres2=obj1.compile(string1)\\nprint(res)\\nprint(res2)\\nif res:\\n    print('found')\\nelse:\\n    print('Not found')\", \"#we can also work with regex when it comes to string searching.\\nimport re\\nobj=re.compile('hello')\\nobj1=re.compile('hi')\\nres=obj.search(string1)\\nres2=obj1.search(string1)\\nprint(res)\\nprint(res2)\\nif res:\\n    print('found')\\nelse:\\n    print('Not found')\", \"#we can also work with regex when it comes to string searching.\\nimport re\\nobj=re.compile('hello')\\nobj1=re.compile('hi')\\nres=obj.search(string1)\\nres2=obj1.search(string1)\\nprint(res)\\nprint(res2)#if not found will return None\\nif res:\\n    print('found')\\nelse:\\n    print('Not found')\", \"string2='hi my name is Alex and his name is Andrew'\\nobj=re.compile('name')\\nres=obj.findall(string2)\\nprint(len(res))\\nprint(res)\", \"#comparing two stings\\nstring1='hello'\\nstring2='hello'\\nprint(string1==string2)\\nprint(string1 is string2)\", \"#comparing two stings\\nstring1='hello'\\nstring2='hello'\\nprint(string1==string2)\\nprint(string1 is string2)\\nprint(id(string1,string2))\", \"#comparing two stings\\nstring1='hello'\\nstring2='hello'\\nprint(string1==string2)\\nprint(string1 is string2)\\nprint(id(string1),id(string2))\", \"str1='hello world'\\nstr1.replace('o','$')\", \"str1='hello world'\\nstr1.replace('o','$')\\nstr1.replace('o','&',1)\", \"str1='hello world!!!'\\n#remove the last character from the string\\nprint(str1[:-1:])\", \"#left padding a string in python\\nstring1='hello'\\nstring1.rjust(3,'a')\", \"#left padding a string in python\\nstring1='hello'\\nstring1=string1.rjust(3,'a')\\nprint(string1)\", \"#left padding a string in python\\nstring1='hello'\\nstring1=string1.rjust(3,'aaa')\\nprint(string1)\", \"#left padding a string in python\\nstring1='hello'\\nstring1=string1.rjust(3,'a')\\nprint(string1)\", \"#left padding a string in python\\nstring1='hello'\\nstring2=string1.rjust(3,'a')\\nprint(string2)\", \"#left padding a string in python\\nstring1='hello'\\nstring2=string1.rjust(4,'a')\\nprint(string2)\", \"#left padding a string in python\\nstring1='hello'\\nstring2=string1.rjust(4,' ')\\nprint(string2)\", \"#left padding a string in python\\nstring1='hello'\\nstring2=string1.rjust(4,' ')\\nprint(string2)\", \"#left padding a string in python rjust and ljust\\nstring1='hello'\\nstring2=string1.rjust(4,' ')\\nprint(string2)\\n#getting first and last character in the string\\nprint(f'first character is {string1[0]} and last character will be {string1[-1]}')\", '#declaring global variables in python\\nmarks=29\\ndef test():', '#declaring global variables in python\\nmarks=29\\ndef test():\\n    marks=6\\n    print(marks)\\nprint(marks)', '#declaring global variables in python\\nmarks=29\\ndef test():\\n    marks=6\\n    print(marks)\\ntest()\\nprint(marks)', '#declaring global variables in python\\nmarks=29\\ndef test():\\n    marks=6\\n    print(marks)\\ntest()\\nprint(marks)\\n\\n\\n\\nglobal val=36\\ndef test_1():\\n    val=36\\n    print(val)\\n    print(global val)\\nprint(val)', '#declaring global variables in python\\nmarks=29\\ndef test():\\n    marks=6\\n    print(marks)\\ntest()\\nprint(marks)\\n\\n\\n\\nglobal val=36\\ndef test_1():\\n    val=36\\n    print(val)\\n    list_of_globals=globals()\\n    print(list_of_globals)\\nprint(val)', '#declaring global variables in python\\nmarks=29\\ndef test():\\n    marks=6\\n    print(marks)\\ntest()\\nprint(marks)\\n\\n\\n\\nglobal val\\ndef test_1():\\n    val=36\\n    print(val)\\n    list_of_globals=globals()\\n    print(list_of_globals)\\ntest_1()\\nprint(val)', '#declaring global variables in python\\nmarks=29\\ndef test():\\n    marks=6\\n    print(marks)\\ntest()\\nprint(marks)\\n\\n\\n\\nglobal val\\ndef test_1():\\n    val=36\\n    print(val)\\n    list_of_globals=globals()\\n    print(list_of_globals)\\ntest_1()\\nprint(val)', '#declaring global variables in python\\nmarks=29\\ndef test():\\n    marks=6\\n    print(marks)\\ntest()\\nprint(marks)\\n\\n\\n\\nglobal val\\ndef test_1():\\n    list_of_globals=globals()\\n    list_of_globals[val]=36\\n    val=55\\n    print(val)\\n    print(list_of_globals)\\ntest_1()\\nprint(val)', '#declaring global variables in python\\nmarks=29\\ndef test():\\n    marks=6\\n    print(marks)\\ntest()\\nprint(marks)\\n\\n\\nval=99\\ndef test_1():\\n    list_of_globals=globals()\\n    list_of_globals[val]=36\\n    val=55\\n    print(val)\\n    print(list_of_globals)\\ntest_1()\\nprint(val)', '#declaring global variables in python\\nmarks=29\\ndef test():\\n    marks=6\\n    print(marks)\\ntest()\\nprint(marks)\\n\\n\\nval=99\\ndef test_1():\\n    list_of_globals=globals()\\n    list_of_globals[val]=36\\n    val=55\\n    print(val)\\n    print(list_of_globals)\\nprint(val)\\ntest_1()', \"#declaring global variables in python\\nmarks=29\\ndef test():\\n    marks=6\\n    print(marks)\\ntest()\\nprint(marks)\\n\\n\\nval=99\\ndef test_1():\\n    list_of_globals=globals()\\n    list_of_globals['val']=36\\n    val=55\\n    print(val)\\n    print(list_of_globals)\\nprint(val)\\ntest_1()\", \"#declaring global variables in python\\nmarks=29\\ndef test():\\n    marks=6\\n    print(marks)\\ntest()\\nprint(marks)\\n\\n\\nval=99\\ndef test_1():\\n    list_of_globals=globals()\\n    list_of_globals['val']=36\\n    val=55\\n    print(val)\\n    print(list_of_globals)\\nprint(val)\\ntest_1()\\nprint(val)\"], '_oh': {4: ['a', 'b', 'c'], 14: [('key1', 1), ('Key123', 4), ('key1234', 2)], 16: [('key1', 1), ('Key123', 4), ('key1234', 2)], 35: 3, 36: 'math', 37: 'xyz', 42: dict_items([('eng', 33), ('hind', 45), ('math', 72), ('xyz', 1)]), 49: ('xyz', 1), 50: ('math', 72), 75: re.compile('hello'), 86: 'hell$ w$rld', 87: 'hell& world', 89: 'hello'}, '_dh': ['E:\\\\Python-Notebooks'], 'In': ['', \"#dictionary conversions\\nl1=['a','b','c','d']\\n#if we have a list of keys\\ndict1=dict.fromkeys(l1,0)\\nprint(dict1)\", \"#dictionary conversions\\nl1=['a','b','c','d']\\n#if we have a list of keys\\ndict1=dict.fromkeys(l1,0)\\nprint(dict1)\\nl1=['a','b','c']\\nl2=[1,2,3]\\n#if we have two lists one containing keys and one containing values\\ndict1=dict(zip(l1,l2))\\nprint(dict1)\", \"#dictionary conversions\\nl1=['a','b','c','d']\\n#if we have a list of keys\\ndict1=dict.fromkeys(l1,0)\\nprint(dict1)\\nl1=['a','b','c']\\nl2=[1,2,3]\\n#if we have two lists one containing keys and one containing values\\ndict1=dict(zip(l1,l2))\\nprint(dict1)\\n#if we have a list of tuples\\nl1=[('a',1),('b',2),('c',3)]\\ndict1=dict(l1)\\nprint(dict1)\", 'sorted(dict1.keys())', \"l1=[('b',1),('a',2),('f',3),('d',4)]\\ndict1=dict(l1)\\nprint(sorted(dict1.keys()))\", \"l1=[('b',1),('a',2),('f',3),('d',4)]\\ndict1=dict(l1)\\nprint(sorted(dict1.keys()))\\n#to print the dictionary in a sorted order.\\nfor i in  sorted(dict1.keys()):\\n    print(i : dict1[i])\", \"l1=[('b',1),('a',2),('f',3),('d',4)]\\ndict1=dict(l1)\\nprint(sorted(dict1.keys()))\\n#to print the dictionary in a sorted order.\\nfor i in  sorted(dict1.keys()):\\n    print(i , dict1[i])\", \"l1=[('b',1),('a',2),('f',3),('d',4)]\\ndict1=dict(l1)\\nprint(sorted(dict1.keys()))\\n#to print the dictionary in a sorted order.\\nfor i in  sorted(dict1.keys()):\\n    print(i ':' dict1[i])\", \"l1=[('b',1),('a',2),('f',3),('d',4)]\\ndict1=dict(l1)\\nprint(sorted(dict1.keys()))\\n#to print the dictionary in a sorted order.\\nfor i in  sorted(dict1.keys()):\\n    print(i ,':', dict1[i])\", \"l1=[('b',1),('a',2),('f',3),('d',4)]\\ndict1=dict(l1)\\nprint(sorted(dict1.keys()))\\n#to print the dictionary in a sorted order.\\nfor i in  sorted(dict1.keys()):\\n    print(i ,':', dict1[i])\\n#to do the same in the reverse order\\nfor i in  sorted(dict1.keys(),reverse=True):\\n    print(i ,':', dict1[i])\", \"l1=[('b',1),('a',2),('f',3),('d',4)]\\ndict1=dict(l1)\\nprint(sorted(dict1.keys()))\\n#to print the dictionary in a sorted order.\\nfor i in  sorted(dict1.keys()):\\n    print(i ,':', dict1[i])\\n#to do the same in the reverse order\\nprint(\\\\n)\\nfor i in  sorted(dict1.keys(),reverse=True):\\n    print(i ,':', dict1[i])\", \"l1=[('b',1),('a',2),('f',3),('d',4)]\\ndict1=dict(l1)\\nprint(sorted(dict1.keys()))\\n#to print the dictionary in a sorted order.\\nfor i in  sorted(dict1.keys()):\\n    print(i ,':', dict1[i])\\n#to do the same in the reverse order\\nprint('\\\\n')\\nfor i in  sorted(dict1.keys(),reverse=True):\\n    print(i ,':', dict1[i])\", \"#sorting a dictionary based on custom functions\\nd1={'key1':1,'key1234':2,'Key123':4}\\n#consider that we wanted to sort our dictionary based on the length of the key\\nsorted(d1.items(),key lambda x:len(x[0]))\", \"#sorting a dictionary based on custom functions\\nd1={'key1':1,'key1234':2,'Key123':4}\\n#consider that we wanted to sort our dictionary based on the length of the key\\nsorted(d1.items(),key=lambda x:len(x[0]))\", \"#sorting a dictionary based on custom functions\\nd1={'key1':1,'key1234':2,'Key123':4}\\n#consider that we wanted to sort our dictionary based on the length of the key\\nsorted(d1.items(),key=lambda x:len(x[1]))\", \"#sorting a dictionary based on custom functions\\nd1={'key1':1,'key1234':2,'Key123':4}\\n#consider that we wanted to sort our dictionary based on the length of the key\\nsorted(d1.items(),key=lambda x:len(x[0]))\", \"#sorting a dictionary based on custom functions\\nd1={'key1':1,'key1234':2,'Key123':4}\\n#consider that we wanted to sort our dictionary based on the length of the key\\nprint(sorted(d1.items(),key=lambda x:len(x[0])))\\nprint(sorted(d1.items(),key=lambda x:len(x[0],reversed=True)))\", \"#sorting a dictionary based on custom functions\\nd1={'key1':1,'key1234':2,'Key123':4}\\n#consider that we wanted to sort our dictionary based on the length of the key\\nprint(sorted(d1.items(),key=lambda x:len(x[0])))\\nprint(sorted(d1.items(),key=lambda x:len(x[0]))\", \"#sorting a dictionary based on custom functions\\nd1={'key1':1,'key1234':2,'Key123':4}\\n#consider that we wanted to sort our dictionary based on the length of the key\\nprint(sorted(d1.items(),key=lambda x:len(x[0])))\\nprint(sorted(d1.items(),key=lambda x:len(x[0],reversed)))\", \"#sorting a dictionary based on custom functions\\nd1={'key1':1,'key1234':2,'Key123':4}\\n#consider that we wanted to sort our dictionary based on the length of the key\\nprint(sorted(d1.items(),key=lambda x:len(x[0])))\\nprint(sorted(d1.items(),key=lambda x:len(x[0]),reverse=True))\", \"#sorting a dictionary based on custom functions\\nd1={'key1':1,'key1234':2,'Key123':4}\\n#consider that we wanted to sort our dictionary based on the length of the key\\nprint(sorted(d1.items(),key=lambda x:len(x[0])))\\nprint(sorted(d1.items(),key=lambda x:len(x[0]),reverse=True))#we are sorting according to the length of the key\\nprint(sorted(d1.items(),key=lambda x: x[1]))\", \"#shallow copy\\ndict1={'key1':1,'key2':2,'key4':[1,2,3,4]}\\ndict2=dict1.copy()\\nprint(dict1)\\nprint('\\\\n')\\nprint(dict2)\", \"#shallow copy\\ndict1={'key1':1,'key2':2,'key4':[1,2,3,4]}\\ndict2=dict1.copy()\\nprint(dict1)\\nprint('\\\\n')\\nprint(dict2)\\ndict2['key1']=12\\nprint(dict1)\\nprint('\\\\n')\\nprint(dict2)\", \"#shallow copy\\ndict1={'key1':1,'key2':2,'key4':[1,2,3,4]}\\ndict2=dict1.copy()\\nprint(dict1)\\nprint('\\\\n')\\nprint(dict2)\\ndict2['key1']=12\\nprint(dict1)\\nprint('\\\\n')\\nprint(dict2)\", \"#shallow copy\\ndict1={'key1':1,'key2':2,'key4':[1,2,3,4]}\\ndict2=dict1.copy()\\nprint(dict1)\\nprint('\\\\n')\\nprint(dict2)\\ndict2['key1']=12\\nprint(dict1)\\nprint('\\\\n')\\nprint(dict2)\", \"#shallow copy\\ndict1={'key1':1,'key2':2,'key4':[1,2,3,4]}\\ndict2=dict1.copy()#the copy() will create a shallow copy of the object\\nprint(dict1)\\nprint('\\\\n')\\nprint(dict2)\\ndict2['key1']=12\\nprint(dict1)\\nprint('\\\\n')\\nprint(dict2)\\n#we can see although we are saying it is a shallow copy the changes are not reflected\\n#but if we change the list ie key3\\ndict2['key4'].append(44)\\nprint(dict1)\\nprint('\\\\n')\\nprint(dict2)\", \"#shallow copy\\ndict1={'key1':1,'key2':2,'key4':[1,2,3,4]}\\ndict2=dict1.copy()#the copy() will create a shallow copy of the object\\nprint(dict1)\\nprint(dict2)\\nprint('\\\\n')\\ndict2['key1']=12\\nprint(dict1)\\nprint(dict2)\\nprint('\\\\n')\\n#we can see although we are saying it is a shallow copy the changes are not reflected\\n#but if we change the list ie key3\\ndict2['key4'].append(44)\\nprint(dict1)\\nprint(dict2)\", \"#shallow copy\\ndict1={'key1':1,'key2':2,'key4':[1,2,3,4]}\\ndict2=dict1.copy()#the copy() will create a shallow copy of the object\\nprint(dict1)\\nprint(dict2)\\nprint('\\\\n')\\ndict2['key1']=12\\nprint(dict1)\\nprint(dict2)\\nprint('\\\\n')\\n#we can see although we are saying it is a shallow copy the changes are not reflected\\n#but if we change the list ie key3\\ndict2['key4'].append(44)\\nprint(dict1)\\nprint(dict2)\\nprint('\\\\n')\\n#we can see that now when we changed the value inside the list the changes were seen in the original\\n#as well as the copy this is because the reference of the list was stored inside dict1 and dict2\\n#to prevent this we need to use the deepcopy()\\ndict1={'key1':1,'key2':2,'key4':[1,2,3,4]}\\ndict2=dict1.deepcopy()#the copy() will create a deep copy of the object\\ndict2['key1']=12\\nprint(dict1)\\nprint(dict2)\\nprint('\\\\n')\\ndict2['key4'].append(44)\\nprint(dict1)\\nprint(dict2)\\nprint('\\\\n')\", \"#shallow copy\\ndict1={'key1':1,'key2':2,'key4':[1,2,3,4]}\\ndict2=dict1.copy()#the copy() will create a shallow copy of the object\\nprint(dict1)\\nprint(dict2)\\nprint('\\\\n')\\ndict2['key1']=12\\nprint(dict1)\\nprint(dict2)\\nprint('\\\\n')\\n#we can see although we are saying it is a shallow copy the changes are not reflected\\n#but if we change the list ie key3\\ndict2['key4'].append(44)\\nprint(dict1)\\nprint(dict2)\\nprint('\\\\n')\\n#we can see that now when we changed the value inside the list the changes were seen in the original\\n#as well as the copy this is because the reference of the list was stored inside dict1 and dict2\\n#to prevent this we need to use the deepcopy()\\nimport copy\\ndict1={'key1':1,'key2':2,'key4':[1,2,3,4]}\\ndict2=dict1.deepcopy()#the copy() will create a deep copy of the object\\ndict2['key1']=12\\nprint(dict1)\\nprint(dict2)\\nprint('\\\\n')\\ndict2['key4'].append(44)\\nprint(dict1)\\nprint(dict2)\\nprint('\\\\n')\", \"#shallow copy\\ndict1={'key1':1,'key2':2,'key4':[1,2,3,4]}\\ndict2=dict1.copy()#the copy() will create a shallow copy of the object\\nprint(dict1)\\nprint(dict2)\\nprint('\\\\n')\\ndict2['key1']=12\\nprint(dict1)\\nprint(dict2)\\nprint('\\\\n')\\n#we can see although we are saying it is a shallow copy the changes are not reflected\\n#but if we change the list ie key3\\ndict2['key4'].append(44)\\nprint(dict1)\\nprint(dict2)\\nprint('\\\\n')\\n#we can see that now when we changed the value inside the list the changes were seen in the original\\n#as well as the copy this is because the reference of the list was stored inside dict1 and dict2\\n#to prevent this we need to use the deepcopy()\\nimport copy\\ndict1={'key1':1,'key2':2,'key4':[1,2,3,4]}\\ndict2=dict1.deepcopy()#the copy() will create a deep copy of the object\\ndict2['key1']=12\\nprint(dict1)\\nprint(dict2)\\nprint('\\\\n')\\ndict2['key4'].append(44)\\nprint(dict1)\\nprint(dict2)\\nprint('\\\\n')\", 'import copy', \"#shallow copy\\ndict1={'key1':1,'key2':2,'key4':[1,2,3,4]}\\ndict2=dict1.copy()#the copy() will create a shallow copy of the object\\nprint(dict1)\\nprint(dict2)\\nprint('\\\\n')\\ndict2['key1']=12\\nprint(dict1)\\nprint(dict2)\\nprint('\\\\n')\\n#we can see although we are saying it is a shallow copy the changes are not reflected\\n#but if we change the list ie key3\\ndict2['key4'].append(44)\\nprint(dict1)\\nprint(dict2)\\nprint('\\\\n')\\n#we can see that now when we changed the value inside the list the changes were seen in the original\\n#as well as the copy this is because the reference of the list was stored inside dict1 and dict2\\n#to prevent this we need to use the deepcopy()\\nimport copy\\ndict1={'key1':1,'key2':2,'key4':[1,2,3,4]}\\ndict2=copy.deepcopy(dict1)#the copy() will create a deep copy of the object\\ndict2['key1']=12\\nprint(dict1)\\nprint(dict2)\\nprint('\\\\n')\\ndict2['key4'].append(44)\\nprint(dict1)\\nprint(dict2)\\nprint('\\\\n')\", \"#deleting items from the dictionary \\ndict1={'key1':1,'key2':9,'key3':11,'key4':15,'key5':19}\\nfor (key,value) in dict1.items():\\n    if value%3==0:\\n        del dict1[key]\\n    else:\\n        continue\\nprint(dict1)\", \"#deleting items from the dictionary\\n#we cannot delete directly while iterating the dictionary\\nl1=list()\\ndict1={'key1':1,'key2':9,'key3':11,'key4':15,'key5':19}\\n\\nfor (key,value) in dict1.items():\\n    if value%3==0:\\n        l1.append(key)\\n    else:\\n        continue\\nprint(l1)\\nfor i in l1:\\n    del dict1[i]\\nprint(dict1)\", 'max(1,2,3)', \"#find the key with the maximum value in the dictionary\\ndict1={'eng':33,'hind':45,'math':72}\\nmax(dict1)\", \"#find the key with the maximum value in the dictionary\\ndict1={'eng':33,'hind':45,'math':72,'xyz':1}\\nmax(dict1)\", \"#find the key with the maximum value in the dictionary\\ndict1={'eng':33,'hind':45,'math':72,'xyz':1}\\nprint(max(dict1))#cannot do this directly as default behaviour is by keys\\nx[max(value) for (key,value) in dict1.items()]\", \"#find the key with the maximum value in the dictionary\\ndict1={'eng':33,'hind':45,'math':72,'xyz':1}\\nprint(max(dict1))#cannot do this directly as default behaviour is by keys\\nx=[max(value) for (key,value) in dict1.items()]\", \"#find the key with the maximum value in the dictionary\\ndict1={'eng':33,'hind':45,'math':72,'xyz':1}\\nprint(max(dict1))#cannot do this directly as default behaviour is by keys\\nx=[for (key,value) in dict1.items()]\", \"#find the key with the maximum value in the dictionary\\ndict1={'eng':33,'hind':45,'math':72,'xyz':1}\\nprint(max(dict1))#cannot do this directly as default behaviour is by keys\\nx=[for (key,value) in dict1.items()]\\ndict1.items()\", \"#find the key with the maximum value in the dictionary\\ndict1={'eng':33,'hind':45,'math':72,'xyz':1}\\nprint(max(dict1))#cannot do this directly as default behaviour is by keys\\n#x=[for (key,value) in dict1.items()]\\ndict1.items()\", \"#find the key with the maximum value in the dictionary\\ndict1={'eng':33,'hind':45,'math':72,'xyz':1}\\nprint(max(dict1))#cannot do this directly as default behaviour is by keys\\nx=[lambda x: x[0] for (key,value) in dict1.items()]\", \"#find the key with the maximum value in the dictionary\\ndict1={'eng':33,'hind':45,'math':72,'xyz':1}\\nprint(max(dict1))#cannot do this directly as default behaviour is by keys\\nx=[lambda x: x[1] for (key,value) in dict1.items()]\", \"#find the key with the maximum value in the dictionary\\ndict1={'eng':33,'hind':45,'math':72,'xyz':1}\\nprint(max(dict1))#cannot do this directly as default behaviour is by keys\\nx=[lambda x,y: x[0] for (key,value) in dict1.items()]\", \"#find the key with the maximum value in the dictionary\\ndict1={'eng':33,'hind':45,'math':72,'xyz':1}\\nprint(max(dict1))#cannot do this directly as default behaviour is by keys\\nx=[lambda x,y: max(x) for (key,value) in dict1.items()]\", \"#find the key with the maximum value in the dictionary\\ndict1={'eng':33,'hind':45,'math':72,'xyz':1}\\nprint(max(dict1))#cannot do this directly as default behaviour is by keys\\nx=[lambda x,y: max(y) for (key,value) in dict1.items()]\", \"#find the key with the maximum value in the dictionary\\ndict1={'eng':33,'hind':45,'math':72,'xyz':1}\\nprint(max(dict1))#cannot do this directly as default behaviour is by keys\\nx=[lambda x,y: max(y) for (key,value) in dict1.items()]\\nprint(x)\", \"#find the key with the maximum value in the dictionary\\ndict1={'eng':33,'hind':45,'math':72,'xyz':1}\\nprint(max(dict1))#cannot do this directly as default behaviour is by keys\\nmax(dict1.items(),key=lambda x:x[0])\", \"#find the key with the maximum value in the dictionary\\ndict1={'eng':33,'hind':45,'math':72,'xyz':1}\\nprint(max(dict1))#cannot do this directly as default behaviour is by keys\\nmax(dict1.items(),key=lambda x:x[1])\", \"#merging two dictionaries\\ndict1={'pt':44,'geo':55}\\ndict2={'eng':33,'hind':45,'math':72,'xyz':1}\\ndict1.update(dict2)\", \"#merging two dictionaries\\ndict1={'pt':44,'geo':55}\\ndict2={'eng':33,'hind':45,'math':72,'xyz':1}\\ndict1.update(dict2)\\nprint(dict1)\", \"#merging two dictionaries\\ndict1={'pt':44,'geo':55,'eng':44}\\ndict2={'eng':33,'hind':45,'math':72,'xyz':1}\\ndict1.update(dict2)\\nprint(dict1)\", \"#merging two dictionaries\\ndict1={'pt':44,'geo':55,'eng':44}\\ndict2={'eng':33,'hind':45,'math':72,'xyz':1}\\ndict1.update(dict2)\\nprint(dict1)#we can see that the value of the common key ie eng has changed to the value in dict2 and also \\n#the contents of dict1 has changed\\n#using **kwargs we can send variable length key vale pairs to a function.\\n#using ** to a dictionary will deserialize its contents to key/value pairs\\n**dict1\", \"#merging two dictionaries\\ndict1={'pt':44,'geo':55,'eng':44}\\ndict2={'eng':33,'hind':45,'math':72,'xyz':1}\\ndict1.update(dict2)\\nprint(dict1)#we can see that the value of the common key ie eng has changed to the value in dict2 and also \\n#the contents of dict1 has changed\\n#using **kwargs we can send variable length key vale pairs to a function.\\n#using ** to a dictionary will deserialize its contents to key/value pairs\\n#we can use this to merge the two dictionaries\\ndict3={**dict1,**dict2}\\nprint(dict3)\", \"#what if we wanted to keep all the values for the common key?\\ndef megedict(dict1,dict2):\\n    dict3={**dict1,**dict2}\\n    for (key,value) in dict3.items():\\n        if key in dict1 and key in dict2:\\n            dict3[key]=[value,[dict1[key]]]\\n    return dict3\\ndict1={'pt':44,'geo':55,'eng':44}\\ndict2={'eng':33,'hind':45,'math':72,'xyz':1}\\nprint(mergedict(dict1,dict2))\", \"#what if we wanted to keep all the values for the common key?\\ndef megedict(dict1,dict2):\\n    dict3={**dict1,**dict2}\\n    for (key,value) in dict3.items():\\n        if key in dict1 and key in dict2:\\n            dict3[key]=[value,[dict1[key]]]\\n    return dict3\\ndict1={'pt':44,'geo':55,'eng':44}\\ndict2={'eng':33,'hind':45,'math':72,'xyz':1}\\nprint(megedict(dict1,dict2))\", \"#what if we wanted to keep all the values for the common key?\\ndef megedict(dict1,dict2):\\n    dict3={**dict1,**dict2}\\n    for (key,value) in dict3.items():\\n        if key in dict1 and key in dict2:\\n            dict3[key]=[value,dict1[key]]\\n    return dict3\\ndict1={'pt':44,'geo':55,'eng':44}\\ndict2={'eng':33,'hind':45,'math':72,'xyz':1}\\nprint(megedict(dict1,dict2))\", \"i=[1,2,3,4,5]\\nj=['a','b','c']\\nk=[1,2,3,'a','t','p']\\nz = zip(i,j)\\n#print(z)\\n#print(list(z))#tuple packing\\nfor a,b in z:\\n    print(f'value of {a} is {b}')\", '#iterable iterative and iteration in python.\\n#if we call the iter() over something which contains other elements within it then it returns an iterable\\nl1=[1,2,3,4,5,6]\\niterable=itr(l1)\\nprint(type(iterable))\\nprint(iterable)\\nwhile True:\\n    try:\\n        print(next(iterable))\\n    except StopIteration:\\n        break\\n        ', '#iterable iterative and iteration in python.\\n#if we call the iter() over something which contains other elements within it then it returns an iterable\\nl1=[1,2,3,4,5,6]\\niterable=iter(l1)\\nprint(type(iterable))\\nprint(iterable)\\nwhile True:\\n    try:\\n        print(next(iterable))\\n    except StopIteration:\\n        break\\n        ', \"#iterable iterative and iteration in python.\\n#if we call the iter() over something which contains other elements within it then it returns an iterable\\nl1=[1,2,3,4,5,6]\\niterable=iter(l1)\\nprint(type(iterable))\\nprint(iterable)\\nwhile True:\\n    try:\\n        print(next(iterable))\\n    except StopIteration:\\n        break\\nprint('\\\\n')\\n#we can do the same with a for loop as well but this time we will not have to use the try except block as it does all of this internally automatically\\n\\nfor i in iterable:\\n    print(i)\", \"#iterable iterative and iteration in python.\\n#if we call the iter() over something which contains other elements within it then it returns an iterable\\nl1=[1,2,3,4,5,6]\\niterable=iter(l1)\\nprint(type(iterable))\\nprint(iterable)\\nwhile True:\\n    try:\\n        print(next(iterable))\\n    except StopIteration:\\n        break\\nprint('\\\\n')\\n#we can do the same with a for loop as well but this time we will not have to use the try except block as it does all of this internally automatically\\n\\nfor i in iterable:\\n    print(i)\", \"#iterable iterative and iteration in python.\\n#if we call the iter() over something which contains other elements within it then it returns an iterable\\nl1=[1,2,3,4,5,6]\\niterable=iter(l1)\\nprint(type(iterable))\\nprint(iterable)\\nwhile True:\\n    try:\\n        print(next(iterable))\\n    except StopIteration:\\n        break\\nprint('\\\\n')\\n#we can do the same with a for loop as well but this time we will not have to use the try except block as it does all of this internally automatically\\n\\nfor i in iterable:\\n    print('hello')\", '#we can do the same with a for loop as well but this time we will not have to use the try except block as it does all of this internally automatically\\nl1=[1,2,3,4,5,6]\\niterable=iter(l1)\\nprint(iterable)', '#we can do the same with a for loop as well but this time we will not have to use the try except block as it does all of this internally automatically\\nl1=[1,2,3,4,5,6]\\niterable=iter(l1)\\nprint(iterable)\\nfor i in iterable:\\n    print(next(i))', '#we can do the same with a for loop as well but this time we will not have to use the try except block as it does all of this internally automatically\\nl1=[1,2,3,4,5,6]\\niterable=iter(l1)\\nprint(iterable)\\nfor i in iterable:\\n    print(i)', \"#if we have a string we can access the characters of the string by index[]\\nstr_test='hello world !!!'\\nprint(str_test[0])\", \"#check if the string contains a substring in python\\nstr_new='I am almost broke'\\nif 'broke' in str_new:\\n    print('found')\\nelse:\\n    print('Not found')\", \"#check if the string contains a substring in python\\nstr_new='I am almost Broke'\\nif 'broke'.lower() in str_new.lower():\\n    print('found')\\nelse:\\n    print('Not found')\", \"string1='hello world !!!'\\nl1=['hello','this','that','all']\\n#check if the list contains any word which is in the string\\nfor i in l1:\\n    if i in string1:\\n        print('present')\\n    else:\\n        print('not present')\", \"#we can also use the any() it will take in an iterable and check if all of the items in the iterable satisfy the condition.\\nres=any([True if i in string1 else False for i in l1])\\nif res:\\n    print('atlest one of the list items present in the string')\\nelse:\\n    print('not found')\", \"#we can also use the any() it will take in an iterable and check if all of the items in the iterable satisfy the condition.\\nres=any([True if i in string1 else False for i in l1])\\nif res:\\n    print('atleast one of the list items present in the string')\\nelse:\\n    print('not found')\", \"#simmilarly we can also make use of the all()\\nres=all([True if i in string1 else False for i in l1])\\nif res:\\n    print('all of the list items present in the string')\\nelse:\\n    print('all of the list items not present in the string')\", \"#we can also work with regex when it comes to string searching.\\nimport re\\nre.compile('hello')\", \"#we can also work with regex when it comes to string searching.\\nimport re\\nobj=re.compile('hello')\", \"#we can also work with regex when it comes to string searching.\\nimport re\\nobj=re.compile('hello')\\nres=obj.search(string1)\\nprint(res)\", \"#we can also work with regex when it comes to string searching.\\nimport re\\nstring2='hello hi world'\\nobj=re.compile('hello')\\nobj1=re.compile('hi')\\nres=obj.search(string1)\\nprint(res)\\nif res:\\n    print('found')\\nelse:\\n    print('Not found')\", \"#we can also work with regex when it comes to string searching.\\nimport re\\nobj=re.compile('hello')\\nobj1=re.compile('hi')\\nres=obj.search(string1)\\nres2=obj1.compile(string1)\\nprint(res)\\nprint(res2)\\nif res:\\n    print('found')\\nelse:\\n    print('Not found')\", \"#we can also work with regex when it comes to string searching.\\nimport re\\nobj=re.compile('hello')\\nobj1=re.compile('hi')\\nres=obj.search(string1)\\nres2=obj1.search(string1)\\nprint(res)\\nprint(res2)\\nif res:\\n    print('found')\\nelse:\\n    print('Not found')\", \"#we can also work with regex when it comes to string searching.\\nimport re\\nobj=re.compile('hello')\\nobj1=re.compile('hi')\\nres=obj.search(string1)\\nres2=obj1.search(string1)\\nprint(res)\\nprint(res2)#if not found will return None\\nif res:\\n    print('found')\\nelse:\\n    print('Not found')\", \"string2='hi my name is Alex and his name is Andrew'\\nobj=re.compile('name')\\nres=obj.findall(string2)\\nprint(len(res))\\nprint(res)\", \"#comparing two stings\\nstring1='hello'\\nstring2='hello'\\nprint(string1==string2)\\nprint(string1 is string2)\", \"#comparing two stings\\nstring1='hello'\\nstring2='hello'\\nprint(string1==string2)\\nprint(string1 is string2)\\nprint(id(string1,string2))\", \"#comparing two stings\\nstring1='hello'\\nstring2='hello'\\nprint(string1==string2)\\nprint(string1 is string2)\\nprint(id(string1),id(string2))\", \"str1='hello world'\\nstr1.replace('o','$')\", \"str1='hello world'\\nstr1.replace('o','$')\\nstr1.replace('o','&',1)\", \"str1='hello world!!!'\\n#remove the last character from the string\\nprint(str1[:-1:])\", \"#left padding a string in python\\nstring1='hello'\\nstring1.rjust(3,'a')\", \"#left padding a string in python\\nstring1='hello'\\nstring1=string1.rjust(3,'a')\\nprint(string1)\", \"#left padding a string in python\\nstring1='hello'\\nstring1=string1.rjust(3,'aaa')\\nprint(string1)\", \"#left padding a string in python\\nstring1='hello'\\nstring1=string1.rjust(3,'a')\\nprint(string1)\", \"#left padding a string in python\\nstring1='hello'\\nstring2=string1.rjust(3,'a')\\nprint(string2)\", \"#left padding a string in python\\nstring1='hello'\\nstring2=string1.rjust(4,'a')\\nprint(string2)\", \"#left padding a string in python\\nstring1='hello'\\nstring2=string1.rjust(4,' ')\\nprint(string2)\", \"#left padding a string in python\\nstring1='hello'\\nstring2=string1.rjust(4,' ')\\nprint(string2)\", \"#left padding a string in python rjust and ljust\\nstring1='hello'\\nstring2=string1.rjust(4,' ')\\nprint(string2)\\n#getting first and last character in the string\\nprint(f'first character is {string1[0]} and last character will be {string1[-1]}')\", '#declaring global variables in python\\nmarks=29\\ndef test():', '#declaring global variables in python\\nmarks=29\\ndef test():\\n    marks=6\\n    print(marks)\\nprint(marks)', '#declaring global variables in python\\nmarks=29\\ndef test():\\n    marks=6\\n    print(marks)\\ntest()\\nprint(marks)', '#declaring global variables in python\\nmarks=29\\ndef test():\\n    marks=6\\n    print(marks)\\ntest()\\nprint(marks)\\n\\n\\n\\nglobal val=36\\ndef test_1():\\n    val=36\\n    print(val)\\n    print(global val)\\nprint(val)', '#declaring global variables in python\\nmarks=29\\ndef test():\\n    marks=6\\n    print(marks)\\ntest()\\nprint(marks)\\n\\n\\n\\nglobal val=36\\ndef test_1():\\n    val=36\\n    print(val)\\n    list_of_globals=globals()\\n    print(list_of_globals)\\nprint(val)', '#declaring global variables in python\\nmarks=29\\ndef test():\\n    marks=6\\n    print(marks)\\ntest()\\nprint(marks)\\n\\n\\n\\nglobal val\\ndef test_1():\\n    val=36\\n    print(val)\\n    list_of_globals=globals()\\n    print(list_of_globals)\\ntest_1()\\nprint(val)', '#declaring global variables in python\\nmarks=29\\ndef test():\\n    marks=6\\n    print(marks)\\ntest()\\nprint(marks)\\n\\n\\n\\nglobal val\\ndef test_1():\\n    val=36\\n    print(val)\\n    list_of_globals=globals()\\n    print(list_of_globals)\\ntest_1()\\nprint(val)', '#declaring global variables in python\\nmarks=29\\ndef test():\\n    marks=6\\n    print(marks)\\ntest()\\nprint(marks)\\n\\n\\n\\nglobal val\\ndef test_1():\\n    list_of_globals=globals()\\n    list_of_globals[val]=36\\n    val=55\\n    print(val)\\n    print(list_of_globals)\\ntest_1()\\nprint(val)', '#declaring global variables in python\\nmarks=29\\ndef test():\\n    marks=6\\n    print(marks)\\ntest()\\nprint(marks)\\n\\n\\nval=99\\ndef test_1():\\n    list_of_globals=globals()\\n    list_of_globals[val]=36\\n    val=55\\n    print(val)\\n    print(list_of_globals)\\ntest_1()\\nprint(val)', '#declaring global variables in python\\nmarks=29\\ndef test():\\n    marks=6\\n    print(marks)\\ntest()\\nprint(marks)\\n\\n\\nval=99\\ndef test_1():\\n    list_of_globals=globals()\\n    list_of_globals[val]=36\\n    val=55\\n    print(val)\\n    print(list_of_globals)\\nprint(val)\\ntest_1()', \"#declaring global variables in python\\nmarks=29\\ndef test():\\n    marks=6\\n    print(marks)\\ntest()\\nprint(marks)\\n\\n\\nval=99\\ndef test_1():\\n    list_of_globals=globals()\\n    list_of_globals['val']=36\\n    val=55\\n    print(val)\\n    print(list_of_globals)\\nprint(val)\\ntest_1()\", \"#declaring global variables in python\\nmarks=29\\ndef test():\\n    marks=6\\n    print(marks)\\ntest()\\nprint(marks)\\n\\n\\nval=99\\ndef test_1():\\n    list_of_globals=globals()\\n    list_of_globals['val']=36\\n    val=55\\n    print(val)\\n    print(list_of_globals)\\nprint(val)\\ntest_1()\\nprint(val)\"], 'Out': {4: ['a', 'b', 'c'], 14: [('key1', 1), ('Key123', 4), ('key1234', 2)], 16: [('key1', 1), ('Key123', 4), ('key1234', 2)], 35: 3, 36: 'math', 37: 'xyz', 42: dict_items([('eng', 33), ('hind', 45), ('math', 72), ('xyz', 1)]), 49: ('xyz', 1), 50: ('math', 72), 75: re.compile('hello'), 86: 'hell$ w$rld', 87: 'hell& world', 89: 'hello'}, 'get_ipython': <bound method InteractiveShell.get_ipython of <ipykernel.zmqshell.ZMQInteractiveShell object at 0x0000000002F02588>>, 'exit': <IPython.core.autocall.ZMQExitAutocall object at 0x0000000004D45128>, 'quit': <IPython.core.autocall.ZMQExitAutocall object at 0x0000000004D45128>, '_': 'hello', '__': 'hell& world', '___': 'hell$ w$rld', '_i': \"#declaring global variables in python\\nmarks=29\\ndef test():\\n    marks=6\\n    print(marks)\\ntest()\\nprint(marks)\\n\\n\\nval=99\\ndef test_1():\\n    list_of_globals=globals()\\n    list_of_globals['val']=36\\n    val=55\\n    print(val)\\n    print(list_of_globals)\\nprint(val)\\ntest_1()\", '_ii': '#declaring global variables in python\\nmarks=29\\ndef test():\\n    marks=6\\n    print(marks)\\ntest()\\nprint(marks)\\n\\n\\nval=99\\ndef test_1():\\n    list_of_globals=globals()\\n    list_of_globals[val]=36\\n    val=55\\n    print(val)\\n    print(list_of_globals)\\nprint(val)\\ntest_1()', '_iii': '#declaring global variables in python\\nmarks=29\\ndef test():\\n    marks=6\\n    print(marks)\\ntest()\\nprint(marks)\\n\\n\\nval=99\\ndef test_1():\\n    list_of_globals=globals()\\n    list_of_globals[val]=36\\n    val=55\\n    print(val)\\n    print(list_of_globals)\\ntest_1()\\nprint(val)', '_i1': \"#dictionary conversions\\nl1=['a','b','c','d']\\n#if we have a list of keys\\ndict1=dict.fromkeys(l1,0)\\nprint(dict1)\", 'l1': ['hello', 'this', 'that', 'all'], 'dict1': {'pt': 44, 'geo': 55, 'eng': 44}, '_i2': \"#dictionary conversions\\nl1=['a','b','c','d']\\n#if we have a list of keys\\ndict1=dict.fromkeys(l1,0)\\nprint(dict1)\\nl1=['a','b','c']\\nl2=[1,2,3]\\n#if we have two lists one containing keys and one containing values\\ndict1=dict(zip(l1,l2))\\nprint(dict1)\", 'l2': [1, 2, 3], '_i3': \"#dictionary conversions\\nl1=['a','b','c','d']\\n#if we have a list of keys\\ndict1=dict.fromkeys(l1,0)\\nprint(dict1)\\nl1=['a','b','c']\\nl2=[1,2,3]\\n#if we have two lists one containing keys and one containing values\\ndict1=dict(zip(l1,l2))\\nprint(dict1)\\n#if we have a list of tuples\\nl1=[('a',1),('b',2),('c',3)]\\ndict1=dict(l1)\\nprint(dict1)\", '_i4': 'sorted(dict1.keys())', '_4': ['a', 'b', 'c'], '_i5': \"l1=[('b',1),('a',2),('f',3),('d',4)]\\ndict1=dict(l1)\\nprint(sorted(dict1.keys()))\", '_i6': \"l1=[('b',1),('a',2),('f',3),('d',4)]\\ndict1=dict(l1)\\nprint(sorted(dict1.keys()))\\n#to print the dictionary in a sorted order.\\nfor i in  sorted(dict1.keys()):\\n    print(i : dict1[i])\", '_i7': \"l1=[('b',1),('a',2),('f',3),('d',4)]\\ndict1=dict(l1)\\nprint(sorted(dict1.keys()))\\n#to print the dictionary in a sorted order.\\nfor i in  sorted(dict1.keys()):\\n    print(i , dict1[i])\", 'i': 'all', '_i8': \"l1=[('b',1),('a',2),('f',3),('d',4)]\\ndict1=dict(l1)\\nprint(sorted(dict1.keys()))\\n#to print the dictionary in a sorted order.\\nfor i in  sorted(dict1.keys()):\\n    print(i ':' dict1[i])\", '_i9': \"l1=[('b',1),('a',2),('f',3),('d',4)]\\ndict1=dict(l1)\\nprint(sorted(dict1.keys()))\\n#to print the dictionary in a sorted order.\\nfor i in  sorted(dict1.keys()):\\n    print(i ,':', dict1[i])\", '_i10': \"l1=[('b',1),('a',2),('f',3),('d',4)]\\ndict1=dict(l1)\\nprint(sorted(dict1.keys()))\\n#to print the dictionary in a sorted order.\\nfor i in  sorted(dict1.keys()):\\n    print(i ,':', dict1[i])\\n#to do the same in the reverse order\\nfor i in  sorted(dict1.keys(),reverse=True):\\n    print(i ,':', dict1[i])\", '_i11': \"l1=[('b',1),('a',2),('f',3),('d',4)]\\ndict1=dict(l1)\\nprint(sorted(dict1.keys()))\\n#to print the dictionary in a sorted order.\\nfor i in  sorted(dict1.keys()):\\n    print(i ,':', dict1[i])\\n#to do the same in the reverse order\\nprint(\\\\n)\\nfor i in  sorted(dict1.keys(),reverse=True):\\n    print(i ,':', dict1[i])\", '_i12': \"l1=[('b',1),('a',2),('f',3),('d',4)]\\ndict1=dict(l1)\\nprint(sorted(dict1.keys()))\\n#to print the dictionary in a sorted order.\\nfor i in  sorted(dict1.keys()):\\n    print(i ,':', dict1[i])\\n#to do the same in the reverse order\\nprint('\\\\n')\\nfor i in  sorted(dict1.keys(),reverse=True):\\n    print(i ,':', dict1[i])\", '_i13': \"#sorting a dictionary based on custom functions\\nd1={'key1':1,'key1234':2,'Key123':4}\\n#consider that we wanted to sort our dictionary based on the length of the key\\nsorted(d1.items(),key lambda x:len(x[0]))\", '_i14': \"#sorting a dictionary based on custom functions\\nd1={'key1':1,'key1234':2,'Key123':4}\\n#consider that we wanted to sort our dictionary based on the length of the key\\nsorted(d1.items(),key=lambda x:len(x[0]))\", 'd1': {'key1': 1, 'key1234': 2, 'Key123': 4}, '_14': [('key1', 1), ('Key123', 4), ('key1234', 2)], '_i15': \"#sorting a dictionary based on custom functions\\nd1={'key1':1,'key1234':2,'Key123':4}\\n#consider that we wanted to sort our dictionary based on the length of the key\\nsorted(d1.items(),key=lambda x:len(x[1]))\", '_i16': \"#sorting a dictionary based on custom functions\\nd1={'key1':1,'key1234':2,'Key123':4}\\n#consider that we wanted to sort our dictionary based on the length of the key\\nsorted(d1.items(),key=lambda x:len(x[0]))\", '_16': [('key1', 1), ('Key123', 4), ('key1234', 2)], '_i17': \"#sorting a dictionary based on custom functions\\nd1={'key1':1,'key1234':2,'Key123':4}\\n#consider that we wanted to sort our dictionary based on the length of the key\\nprint(sorted(d1.items(),key=lambda x:len(x[0])))\\nprint(sorted(d1.items(),key=lambda x:len(x[0],reversed=True)))\", '_i18': \"#sorting a dictionary based on custom functions\\nd1={'key1':1,'key1234':2,'Key123':4}\\n#consider that we wanted to sort our dictionary based on the length of the key\\nprint(sorted(d1.items(),key=lambda x:len(x[0])))\\nprint(sorted(d1.items(),key=lambda x:len(x[0]))\", '_i19': \"#sorting a dictionary based on custom functions\\nd1={'key1':1,'key1234':2,'Key123':4}\\n#consider that we wanted to sort our dictionary based on the length of the key\\nprint(sorted(d1.items(),key=lambda x:len(x[0])))\\nprint(sorted(d1.items(),key=lambda x:len(x[0],reversed)))\", '_i20': \"#sorting a dictionary based on custom functions\\nd1={'key1':1,'key1234':2,'Key123':4}\\n#consider that we wanted to sort our dictionary based on the length of the key\\nprint(sorted(d1.items(),key=lambda x:len(x[0])))\\nprint(sorted(d1.items(),key=lambda x:len(x[0]),reverse=True))\", '_i21': \"#sorting a dictionary based on custom functions\\nd1={'key1':1,'key1234':2,'Key123':4}\\n#consider that we wanted to sort our dictionary based on the length of the key\\nprint(sorted(d1.items(),key=lambda x:len(x[0])))\\nprint(sorted(d1.items(),key=lambda x:len(x[0]),reverse=True))#we are sorting according to the length of the key\\nprint(sorted(d1.items(),key=lambda x: x[1]))\", '_i22': \"#shallow copy\\ndict1={'key1':1,'key2':2,'key4':[1,2,3,4]}\\ndict2=dict1.copy()\\nprint(dict1)\\nprint('\\\\n')\\nprint(dict2)\", 'dict2': {'eng': 33, 'hind': 45, 'math': 72, 'xyz': 1}, '_i23': \"#shallow copy\\ndict1={'key1':1,'key2':2,'key4':[1,2,3,4]}\\ndict2=dict1.copy()\\nprint(dict1)\\nprint('\\\\n')\\nprint(dict2)\\ndict2['key1']=12\\nprint(dict1)\\nprint('\\\\n')\\nprint(dict2)\", '_i24': \"#shallow copy\\ndict1={'key1':1,'key2':2,'key4':[1,2,3,4]}\\ndict2=dict1.copy()\\nprint(dict1)\\nprint('\\\\n')\\nprint(dict2)\\ndict2['key1']=12\\nprint(dict1)\\nprint('\\\\n')\\nprint(dict2)\", '_i25': \"#shallow copy\\ndict1={'key1':1,'key2':2,'key4':[1,2,3,4]}\\ndict2=dict1.copy()\\nprint(dict1)\\nprint('\\\\n')\\nprint(dict2)\\ndict2['key1']=12\\nprint(dict1)\\nprint('\\\\n')\\nprint(dict2)\", '_i26': \"#shallow copy\\ndict1={'key1':1,'key2':2,'key4':[1,2,3,4]}\\ndict2=dict1.copy()#the copy() will create a shallow copy of the object\\nprint(dict1)\\nprint('\\\\n')\\nprint(dict2)\\ndict2['key1']=12\\nprint(dict1)\\nprint('\\\\n')\\nprint(dict2)\\n#we can see although we are saying it is a shallow copy the changes are not reflected\\n#but if we change the list ie key3\\ndict2['key4'].append(44)\\nprint(dict1)\\nprint('\\\\n')\\nprint(dict2)\", '_i27': \"#shallow copy\\ndict1={'key1':1,'key2':2,'key4':[1,2,3,4]}\\ndict2=dict1.copy()#the copy() will create a shallow copy of the object\\nprint(dict1)\\nprint(dict2)\\nprint('\\\\n')\\ndict2['key1']=12\\nprint(dict1)\\nprint(dict2)\\nprint('\\\\n')\\n#we can see although we are saying it is a shallow copy the changes are not reflected\\n#but if we change the list ie key3\\ndict2['key4'].append(44)\\nprint(dict1)\\nprint(dict2)\", '_i28': \"#shallow copy\\ndict1={'key1':1,'key2':2,'key4':[1,2,3,4]}\\ndict2=dict1.copy()#the copy() will create a shallow copy of the object\\nprint(dict1)\\nprint(dict2)\\nprint('\\\\n')\\ndict2['key1']=12\\nprint(dict1)\\nprint(dict2)\\nprint('\\\\n')\\n#we can see although we are saying it is a shallow copy the changes are not reflected\\n#but if we change the list ie key3\\ndict2['key4'].append(44)\\nprint(dict1)\\nprint(dict2)\\nprint('\\\\n')\\n#we can see that now when we changed the value inside the list the changes were seen in the original\\n#as well as the copy this is because the reference of the list was stored inside dict1 and dict2\\n#to prevent this we need to use the deepcopy()\\ndict1={'key1':1,'key2':2,'key4':[1,2,3,4]}\\ndict2=dict1.deepcopy()#the copy() will create a deep copy of the object\\ndict2['key1']=12\\nprint(dict1)\\nprint(dict2)\\nprint('\\\\n')\\ndict2['key4'].append(44)\\nprint(dict1)\\nprint(dict2)\\nprint('\\\\n')\", '_i29': \"#shallow copy\\ndict1={'key1':1,'key2':2,'key4':[1,2,3,4]}\\ndict2=dict1.copy()#the copy() will create a shallow copy of the object\\nprint(dict1)\\nprint(dict2)\\nprint('\\\\n')\\ndict2['key1']=12\\nprint(dict1)\\nprint(dict2)\\nprint('\\\\n')\\n#we can see although we are saying it is a shallow copy the changes are not reflected\\n#but if we change the list ie key3\\ndict2['key4'].append(44)\\nprint(dict1)\\nprint(dict2)\\nprint('\\\\n')\\n#we can see that now when we changed the value inside the list the changes were seen in the original\\n#as well as the copy this is because the reference of the list was stored inside dict1 and dict2\\n#to prevent this we need to use the deepcopy()\\nimport copy\\ndict1={'key1':1,'key2':2,'key4':[1,2,3,4]}\\ndict2=dict1.deepcopy()#the copy() will create a deep copy of the object\\ndict2['key1']=12\\nprint(dict1)\\nprint(dict2)\\nprint('\\\\n')\\ndict2['key4'].append(44)\\nprint(dict1)\\nprint(dict2)\\nprint('\\\\n')\", 'copy': <module 'copy' from 'e:\\\\myenv\\\\lib\\\\copy.py'>, '_i30': \"#shallow copy\\ndict1={'key1':1,'key2':2,'key4':[1,2,3,4]}\\ndict2=dict1.copy()#the copy() will create a shallow copy of the object\\nprint(dict1)\\nprint(dict2)\\nprint('\\\\n')\\ndict2['key1']=12\\nprint(dict1)\\nprint(dict2)\\nprint('\\\\n')\\n#we can see although we are saying it is a shallow copy the changes are not reflected\\n#but if we change the list ie key3\\ndict2['key4'].append(44)\\nprint(dict1)\\nprint(dict2)\\nprint('\\\\n')\\n#we can see that now when we changed the value inside the list the changes were seen in the original\\n#as well as the copy this is because the reference of the list was stored inside dict1 and dict2\\n#to prevent this we need to use the deepcopy()\\nimport copy\\ndict1={'key1':1,'key2':2,'key4':[1,2,3,4]}\\ndict2=dict1.deepcopy()#the copy() will create a deep copy of the object\\ndict2['key1']=12\\nprint(dict1)\\nprint(dict2)\\nprint('\\\\n')\\ndict2['key4'].append(44)\\nprint(dict1)\\nprint(dict2)\\nprint('\\\\n')\", '_i31': 'import copy', '_i32': \"#shallow copy\\ndict1={'key1':1,'key2':2,'key4':[1,2,3,4]}\\ndict2=dict1.copy()#the copy() will create a shallow copy of the object\\nprint(dict1)\\nprint(dict2)\\nprint('\\\\n')\\ndict2['key1']=12\\nprint(dict1)\\nprint(dict2)\\nprint('\\\\n')\\n#we can see although we are saying it is a shallow copy the changes are not reflected\\n#but if we change the list ie key3\\ndict2['key4'].append(44)\\nprint(dict1)\\nprint(dict2)\\nprint('\\\\n')\\n#we can see that now when we changed the value inside the list the changes were seen in the original\\n#as well as the copy this is because the reference of the list was stored inside dict1 and dict2\\n#to prevent this we need to use the deepcopy()\\nimport copy\\ndict1={'key1':1,'key2':2,'key4':[1,2,3,4]}\\ndict2=copy.deepcopy(dict1)#the copy() will create a deep copy of the object\\ndict2['key1']=12\\nprint(dict1)\\nprint(dict2)\\nprint('\\\\n')\\ndict2['key4'].append(44)\\nprint(dict1)\\nprint(dict2)\\nprint('\\\\n')\", '_i33': \"#deleting items from the dictionary \\ndict1={'key1':1,'key2':9,'key3':11,'key4':15,'key5':19}\\nfor (key,value) in dict1.items():\\n    if value%3==0:\\n        del dict1[key]\\n    else:\\n        continue\\nprint(dict1)\", 'key': 'key5', 'value': 19, '_i34': \"#deleting items from the dictionary\\n#we cannot delete directly while iterating the dictionary\\nl1=list()\\ndict1={'key1':1,'key2':9,'key3':11,'key4':15,'key5':19}\\n\\nfor (key,value) in dict1.items():\\n    if value%3==0:\\n        l1.append(key)\\n    else:\\n        continue\\nprint(l1)\\nfor i in l1:\\n    del dict1[i]\\nprint(dict1)\", '_i35': 'max(1,2,3)', '_35': 3, '_i36': \"#find the key with the maximum value in the dictionary\\ndict1={'eng':33,'hind':45,'math':72}\\nmax(dict1)\", '_36': 'math', '_i37': \"#find the key with the maximum value in the dictionary\\ndict1={'eng':33,'hind':45,'math':72,'xyz':1}\\nmax(dict1)\", '_37': 'xyz', '_i38': \"#find the key with the maximum value in the dictionary\\ndict1={'eng':33,'hind':45,'math':72,'xyz':1}\\nprint(max(dict1))#cannot do this directly as default behaviour is by keys\\nx[max(value) for (key,value) in dict1.items()]\", '_i39': \"#find the key with the maximum value in the dictionary\\ndict1={'eng':33,'hind':45,'math':72,'xyz':1}\\nprint(max(dict1))#cannot do this directly as default behaviour is by keys\\nx=[max(value) for (key,value) in dict1.items()]\", '_i40': \"#find the key with the maximum value in the dictionary\\ndict1={'eng':33,'hind':45,'math':72,'xyz':1}\\nprint(max(dict1))#cannot do this directly as default behaviour is by keys\\nx=[for (key,value) in dict1.items()]\", '_i41': \"#find the key with the maximum value in the dictionary\\ndict1={'eng':33,'hind':45,'math':72,'xyz':1}\\nprint(max(dict1))#cannot do this directly as default behaviour is by keys\\nx=[for (key,value) in dict1.items()]\\ndict1.items()\", '_i42': \"#find the key with the maximum value in the dictionary\\ndict1={'eng':33,'hind':45,'math':72,'xyz':1}\\nprint(max(dict1))#cannot do this directly as default behaviour is by keys\\n#x=[for (key,value) in dict1.items()]\\ndict1.items()\", '_42': dict_items([('eng', 33), ('hind', 45), ('math', 72), ('xyz', 1)]), '_i43': \"#find the key with the maximum value in the dictionary\\ndict1={'eng':33,'hind':45,'math':72,'xyz':1}\\nprint(max(dict1))#cannot do this directly as default behaviour is by keys\\nx=[lambda x: x[0] for (key,value) in dict1.items()]\", 'x': [<function <listcomp>.<lambda> at 0x0000000006C31158>, <function <listcomp>.<lambda> at 0x0000000006C31400>, <function <listcomp>.<lambda> at 0x0000000006C31488>, <function <listcomp>.<lambda> at 0x0000000006C319D8>], '_i44': \"#find the key with the maximum value in the dictionary\\ndict1={'eng':33,'hind':45,'math':72,'xyz':1}\\nprint(max(dict1))#cannot do this directly as default behaviour is by keys\\nx=[lambda x: x[1] for (key,value) in dict1.items()]\", '_i45': \"#find the key with the maximum value in the dictionary\\ndict1={'eng':33,'hind':45,'math':72,'xyz':1}\\nprint(max(dict1))#cannot do this directly as default behaviour is by keys\\nx=[lambda x,y: x[0] for (key,value) in dict1.items()]\", '_i46': \"#find the key with the maximum value in the dictionary\\ndict1={'eng':33,'hind':45,'math':72,'xyz':1}\\nprint(max(dict1))#cannot do this directly as default behaviour is by keys\\nx=[lambda x,y: max(x) for (key,value) in dict1.items()]\", '_i47': \"#find the key with the maximum value in the dictionary\\ndict1={'eng':33,'hind':45,'math':72,'xyz':1}\\nprint(max(dict1))#cannot do this directly as default behaviour is by keys\\nx=[lambda x,y: max(y) for (key,value) in dict1.items()]\", '_i48': \"#find the key with the maximum value in the dictionary\\ndict1={'eng':33,'hind':45,'math':72,'xyz':1}\\nprint(max(dict1))#cannot do this directly as default behaviour is by keys\\nx=[lambda x,y: max(y) for (key,value) in dict1.items()]\\nprint(x)\", '_i49': \"#find the key with the maximum value in the dictionary\\ndict1={'eng':33,'hind':45,'math':72,'xyz':1}\\nprint(max(dict1))#cannot do this directly as default behaviour is by keys\\nmax(dict1.items(),key=lambda x:x[0])\", '_49': ('xyz', 1), '_i50': \"#find the key with the maximum value in the dictionary\\ndict1={'eng':33,'hind':45,'math':72,'xyz':1}\\nprint(max(dict1))#cannot do this directly as default behaviour is by keys\\nmax(dict1.items(),key=lambda x:x[1])\", '_50': ('math', 72), '_i51': \"#merging two dictionaries\\ndict1={'pt':44,'geo':55}\\ndict2={'eng':33,'hind':45,'math':72,'xyz':1}\\ndict1.update(dict2)\", '_i52': \"#merging two dictionaries\\ndict1={'pt':44,'geo':55}\\ndict2={'eng':33,'hind':45,'math':72,'xyz':1}\\ndict1.update(dict2)\\nprint(dict1)\", '_i53': \"#merging two dictionaries\\ndict1={'pt':44,'geo':55,'eng':44}\\ndict2={'eng':33,'hind':45,'math':72,'xyz':1}\\ndict1.update(dict2)\\nprint(dict1)\", '_i54': \"#merging two dictionaries\\ndict1={'pt':44,'geo':55,'eng':44}\\ndict2={'eng':33,'hind':45,'math':72,'xyz':1}\\ndict1.update(dict2)\\nprint(dict1)#we can see that the value of the common key ie eng has changed to the value in dict2 and also \\n#the contents of dict1 has changed\\n#using **kwargs we can send variable length key vale pairs to a function.\\n#using ** to a dictionary will deserialize its contents to key/value pairs\\n**dict1\", '_i55': \"#merging two dictionaries\\ndict1={'pt':44,'geo':55,'eng':44}\\ndict2={'eng':33,'hind':45,'math':72,'xyz':1}\\ndict1.update(dict2)\\nprint(dict1)#we can see that the value of the common key ie eng has changed to the value in dict2 and also \\n#the contents of dict1 has changed\\n#using **kwargs we can send variable length key vale pairs to a function.\\n#using ** to a dictionary will deserialize its contents to key/value pairs\\n#we can use this to merge the two dictionaries\\ndict3={**dict1,**dict2}\\nprint(dict3)\", 'dict3': {'pt': 44, 'geo': 55, 'eng': 33, 'hind': 45, 'math': 72, 'xyz': 1}, '_i56': \"#what if we wanted to keep all the values for the common key?\\ndef megedict(dict1,dict2):\\n    dict3={**dict1,**dict2}\\n    for (key,value) in dict3.items():\\n        if key in dict1 and key in dict2:\\n            dict3[key]=[value,[dict1[key]]]\\n    return dict3\\ndict1={'pt':44,'geo':55,'eng':44}\\ndict2={'eng':33,'hind':45,'math':72,'xyz':1}\\nprint(mergedict(dict1,dict2))\", 'megedict': <function megedict at 0x00000000078758C8>, '_i57': \"#what if we wanted to keep all the values for the common key?\\ndef megedict(dict1,dict2):\\n    dict3={**dict1,**dict2}\\n    for (key,value) in dict3.items():\\n        if key in dict1 and key in dict2:\\n            dict3[key]=[value,[dict1[key]]]\\n    return dict3\\ndict1={'pt':44,'geo':55,'eng':44}\\ndict2={'eng':33,'hind':45,'math':72,'xyz':1}\\nprint(megedict(dict1,dict2))\", '_i58': \"#what if we wanted to keep all the values for the common key?\\ndef megedict(dict1,dict2):\\n    dict3={**dict1,**dict2}\\n    for (key,value) in dict3.items():\\n        if key in dict1 and key in dict2:\\n            dict3[key]=[value,dict1[key]]\\n    return dict3\\ndict1={'pt':44,'geo':55,'eng':44}\\ndict2={'eng':33,'hind':45,'math':72,'xyz':1}\\nprint(megedict(dict1,dict2))\", '_i59': \"i=[1,2,3,4,5]\\nj=['a','b','c']\\nk=[1,2,3,'a','t','p']\\nz = zip(i,j)\\n#print(z)\\n#print(list(z))#tuple packing\\nfor a,b in z:\\n    print(f'value of {a} is {b}')\", 'j': ['a', 'b', 'c'], 'k': [1, 2, 3, 'a', 't', 'p'], 'z': <zip object at 0x0000000007097848>, 'a': 3, 'b': 'c', '_i60': '#iterable iterative and iteration in python.\\n#if we call the iter() over something which contains other elements within it then it returns an iterable\\nl1=[1,2,3,4,5,6]\\niterable=itr(l1)\\nprint(type(iterable))\\nprint(iterable)\\nwhile True:\\n    try:\\n        print(next(iterable))\\n    except StopIteration:\\n        break\\n        ', '_i61': '#iterable iterative and iteration in python.\\n#if we call the iter() over something which contains other elements within it then it returns an iterable\\nl1=[1,2,3,4,5,6]\\niterable=iter(l1)\\nprint(type(iterable))\\nprint(iterable)\\nwhile True:\\n    try:\\n        print(next(iterable))\\n    except StopIteration:\\n        break\\n        ', 'iterable': <list_iterator object at 0x0000000006BB3E48>, '_i62': \"#iterable iterative and iteration in python.\\n#if we call the iter() over something which contains other elements within it then it returns an iterable\\nl1=[1,2,3,4,5,6]\\niterable=iter(l1)\\nprint(type(iterable))\\nprint(iterable)\\nwhile True:\\n    try:\\n        print(next(iterable))\\n    except StopIteration:\\n        break\\nprint('\\\\n')\\n#we can do the same with a for loop as well but this time we will not have to use the try except block as it does all of this internally automatically\\n\\nfor i in iterable:\\n    print(i)\", '_i63': \"#iterable iterative and iteration in python.\\n#if we call the iter() over something which contains other elements within it then it returns an iterable\\nl1=[1,2,3,4,5,6]\\niterable=iter(l1)\\nprint(type(iterable))\\nprint(iterable)\\nwhile True:\\n    try:\\n        print(next(iterable))\\n    except StopIteration:\\n        break\\nprint('\\\\n')\\n#we can do the same with a for loop as well but this time we will not have to use the try except block as it does all of this internally automatically\\n\\nfor i in iterable:\\n    print(i)\", '_i64': \"#iterable iterative and iteration in python.\\n#if we call the iter() over something which contains other elements within it then it returns an iterable\\nl1=[1,2,3,4,5,6]\\niterable=iter(l1)\\nprint(type(iterable))\\nprint(iterable)\\nwhile True:\\n    try:\\n        print(next(iterable))\\n    except StopIteration:\\n        break\\nprint('\\\\n')\\n#we can do the same with a for loop as well but this time we will not have to use the try except block as it does all of this internally automatically\\n\\nfor i in iterable:\\n    print('hello')\", '_i65': '#we can do the same with a for loop as well but this time we will not have to use the try except block as it does all of this internally automatically\\nl1=[1,2,3,4,5,6]\\niterable=iter(l1)\\nprint(iterable)', '_i66': '#we can do the same with a for loop as well but this time we will not have to use the try except block as it does all of this internally automatically\\nl1=[1,2,3,4,5,6]\\niterable=iter(l1)\\nprint(iterable)\\nfor i in iterable:\\n    print(next(i))', '_i67': '#we can do the same with a for loop as well but this time we will not have to use the try except block as it does all of this internally automatically\\nl1=[1,2,3,4,5,6]\\niterable=iter(l1)\\nprint(iterable)\\nfor i in iterable:\\n    print(i)', '_i68': \"#if we have a string we can access the characters of the string by index[]\\nstr_test='hello world !!!'\\nprint(str_test[0])\", 'str_test': 'hello world !!!', '_i69': \"#check if the string contains a substring in python\\nstr_new='I am almost broke'\\nif 'broke' in str_new:\\n    print('found')\\nelse:\\n    print('Not found')\", 'str_new': 'I am almost Broke', '_i70': \"#check if the string contains a substring in python\\nstr_new='I am almost Broke'\\nif 'broke'.lower() in str_new.lower():\\n    print('found')\\nelse:\\n    print('Not found')\", '_i71': \"string1='hello world !!!'\\nl1=['hello','this','that','all']\\n#check if the list contains any word which is in the string\\nfor i in l1:\\n    if i in string1:\\n        print('present')\\n    else:\\n        print('not present')\", 'string1': 'hello', '_i72': \"#we can also use the any() it will take in an iterable and check if all of the items in the iterable satisfy the condition.\\nres=any([True if i in string1 else False for i in l1])\\nif res:\\n    print('atlest one of the list items present in the string')\\nelse:\\n    print('not found')\", 'res': ['name', 'name'], '_i73': \"#we can also use the any() it will take in an iterable and check if all of the items in the iterable satisfy the condition.\\nres=any([True if i in string1 else False for i in l1])\\nif res:\\n    print('atleast one of the list items present in the string')\\nelse:\\n    print('not found')\", '_i74': \"#simmilarly we can also make use of the all()\\nres=all([True if i in string1 else False for i in l1])\\nif res:\\n    print('all of the list items present in the string')\\nelse:\\n    print('all of the list items not present in the string')\", '_i75': \"#we can also work with regex when it comes to string searching.\\nimport re\\nre.compile('hello')\", 're': <module 're' from 'e:\\\\myenv\\\\lib\\\\re.py'>, '_75': re.compile('hello'), '_i76': \"#we can also work with regex when it comes to string searching.\\nimport re\\nobj=re.compile('hello')\", 'obj': re.compile('name'), '_i77': \"#we can also work with regex when it comes to string searching.\\nimport re\\nobj=re.compile('hello')\\nres=obj.search(string1)\\nprint(res)\", '_i78': \"#we can also work with regex when it comes to string searching.\\nimport re\\nstring2='hello hi world'\\nobj=re.compile('hello')\\nobj1=re.compile('hi')\\nres=obj.search(string1)\\nprint(res)\\nif res:\\n    print('found')\\nelse:\\n    print('Not found')\", 'string2': 'hello', 'obj1': re.compile('hi'), '_i79': \"#we can also work with regex when it comes to string searching.\\nimport re\\nobj=re.compile('hello')\\nobj1=re.compile('hi')\\nres=obj.search(string1)\\nres2=obj1.compile(string1)\\nprint(res)\\nprint(res2)\\nif res:\\n    print('found')\\nelse:\\n    print('Not found')\", '_i80': \"#we can also work with regex when it comes to string searching.\\nimport re\\nobj=re.compile('hello')\\nobj1=re.compile('hi')\\nres=obj.search(string1)\\nres2=obj1.search(string1)\\nprint(res)\\nprint(res2)\\nif res:\\n    print('found')\\nelse:\\n    print('Not found')\", 'res2': None, '_i81': \"#we can also work with regex when it comes to string searching.\\nimport re\\nobj=re.compile('hello')\\nobj1=re.compile('hi')\\nres=obj.search(string1)\\nres2=obj1.search(string1)\\nprint(res)\\nprint(res2)#if not found will return None\\nif res:\\n    print('found')\\nelse:\\n    print('Not found')\", '_i82': \"string2='hi my name is Alex and his name is Andrew'\\nobj=re.compile('name')\\nres=obj.findall(string2)\\nprint(len(res))\\nprint(res)\", '_i83': \"#comparing two stings\\nstring1='hello'\\nstring2='hello'\\nprint(string1==string2)\\nprint(string1 is string2)\", '_i84': \"#comparing two stings\\nstring1='hello'\\nstring2='hello'\\nprint(string1==string2)\\nprint(string1 is string2)\\nprint(id(string1,string2))\", '_i85': \"#comparing two stings\\nstring1='hello'\\nstring2='hello'\\nprint(string1==string2)\\nprint(string1 is string2)\\nprint(id(string1),id(string2))\", '_i86': \"str1='hello world'\\nstr1.replace('o','$')\", 'str1': 'hello world!!!', '_86': 'hell$ w$rld', '_i87': \"str1='hello world'\\nstr1.replace('o','$')\\nstr1.replace('o','&',1)\", '_87': 'hell& world', '_i88': \"str1='hello world!!!'\\n#remove the last character from the string\\nprint(str1[:-1:])\", '_i89': \"#left padding a string in python\\nstring1='hello'\\nstring1.rjust(3,'a')\", '_89': 'hello', '_i90': \"#left padding a string in python\\nstring1='hello'\\nstring1=string1.rjust(3,'a')\\nprint(string1)\", '_i91': \"#left padding a string in python\\nstring1='hello'\\nstring1=string1.rjust(3,'aaa')\\nprint(string1)\", '_i92': \"#left padding a string in python\\nstring1='hello'\\nstring1=string1.rjust(3,'a')\\nprint(string1)\", '_i93': \"#left padding a string in python\\nstring1='hello'\\nstring2=string1.rjust(3,'a')\\nprint(string2)\", '_i94': \"#left padding a string in python\\nstring1='hello'\\nstring2=string1.rjust(4,'a')\\nprint(string2)\", '_i95': \"#left padding a string in python\\nstring1='hello'\\nstring2=string1.rjust(4,' ')\\nprint(string2)\", '_i96': \"#left padding a string in python\\nstring1='hello'\\nstring2=string1.rjust(4,' ')\\nprint(string2)\", '_i97': \"#left padding a string in python rjust and ljust\\nstring1='hello'\\nstring2=string1.rjust(4,' ')\\nprint(string2)\\n#getting first and last character in the string\\nprint(f'first character is {string1[0]} and last character will be {string1[-1]}')\", '_i98': '#declaring global variables in python\\nmarks=29\\ndef test():', '_i99': '#declaring global variables in python\\nmarks=29\\ndef test():\\n    marks=6\\n    print(marks)\\nprint(marks)', 'marks': 29, 'test': <function test at 0x0000000008C51BF8>, '_i100': '#declaring global variables in python\\nmarks=29\\ndef test():\\n    marks=6\\n    print(marks)\\ntest()\\nprint(marks)', '_i101': '#declaring global variables in python\\nmarks=29\\ndef test():\\n    marks=6\\n    print(marks)\\ntest()\\nprint(marks)\\n\\n\\n\\nglobal val=36\\ndef test_1():\\n    val=36\\n    print(val)\\n    print(global val)\\nprint(val)', '_i102': '#declaring global variables in python\\nmarks=29\\ndef test():\\n    marks=6\\n    print(marks)\\ntest()\\nprint(marks)\\n\\n\\n\\nglobal val=36\\ndef test_1():\\n    val=36\\n    print(val)\\n    list_of_globals=globals()\\n    print(list_of_globals)\\nprint(val)', '_i103': '#declaring global variables in python\\nmarks=29\\ndef test():\\n    marks=6\\n    print(marks)\\ntest()\\nprint(marks)\\n\\n\\n\\nglobal val\\ndef test_1():\\n    val=36\\n    print(val)\\n    list_of_globals=globals()\\n    print(list_of_globals)\\ntest_1()\\nprint(val)', 'test_1': <function test_1 at 0x00000000074839D8>, '_i104': '#declaring global variables in python\\nmarks=29\\ndef test():\\n    marks=6\\n    print(marks)\\ntest()\\nprint(marks)\\n\\n\\n\\nglobal val\\ndef test_1():\\n    val=36\\n    print(val)\\n    list_of_globals=globals()\\n    print(list_of_globals)\\ntest_1()\\nprint(val)', '_i105': '#declaring global variables in python\\nmarks=29\\ndef test():\\n    marks=6\\n    print(marks)\\ntest()\\nprint(marks)\\n\\n\\n\\nglobal val\\ndef test_1():\\n    list_of_globals=globals()\\n    list_of_globals[val]=36\\n    val=55\\n    print(val)\\n    print(list_of_globals)\\ntest_1()\\nprint(val)', '_i106': '#declaring global variables in python\\nmarks=29\\ndef test():\\n    marks=6\\n    print(marks)\\ntest()\\nprint(marks)\\n\\n\\nval=99\\ndef test_1():\\n    list_of_globals=globals()\\n    list_of_globals[val]=36\\n    val=55\\n    print(val)\\n    print(list_of_globals)\\ntest_1()\\nprint(val)', 'val': 36, '_i107': '#declaring global variables in python\\nmarks=29\\ndef test():\\n    marks=6\\n    print(marks)\\ntest()\\nprint(marks)\\n\\n\\nval=99\\ndef test_1():\\n    list_of_globals=globals()\\n    list_of_globals[val]=36\\n    val=55\\n    print(val)\\n    print(list_of_globals)\\nprint(val)\\ntest_1()', '_i108': \"#declaring global variables in python\\nmarks=29\\ndef test():\\n    marks=6\\n    print(marks)\\ntest()\\nprint(marks)\\n\\n\\nval=99\\ndef test_1():\\n    list_of_globals=globals()\\n    list_of_globals['val']=36\\n    val=55\\n    print(val)\\n    print(list_of_globals)\\nprint(val)\\ntest_1()\", '_i109': \"#declaring global variables in python\\nmarks=29\\ndef test():\\n    marks=6\\n    print(marks)\\ntest()\\nprint(marks)\\n\\n\\nval=99\\ndef test_1():\\n    list_of_globals=globals()\\n    list_of_globals['val']=36\\n    val=55\\n    print(val)\\n    print(list_of_globals)\\nprint(val)\\ntest_1()\\nprint(val)\"}\n",
      "36\n"
     ]
    }
   ],
   "source": [
    "#declaring global variables in python\n",
    "marks=29\n",
    "def test():\n",
    "    marks=6\n",
    "    print(marks)\n",
    "test()\n",
    "print(marks)\n",
    "\n",
    "\n",
    "val=99\n",
    "def test_1():\n",
    "    list_of_globals=globals()\n",
    "    list_of_globals['val']=36\n",
    "    val=55\n",
    "    print(val)\n",
    "    print(list_of_globals)\n",
    "print(val)\n",
    "test_1()\n",
    "print(val)"
   ]
  },
  {
   "cell_type": "code",
   "execution_count": 4,
   "metadata": {},
   "outputs": [
    {
     "name": "stdout",
     "output_type": "stream",
     "text": [
      "4.375\n"
     ]
    }
   ],
   "source": [
    "#writing a function which will take a variable number of arguments\n",
    "def avg(*args):\n",
    "    length_of_args=len(args)\n",
    "    sum_val=0\n",
    "    for i in args:\n",
    "        sum_val+=i\n",
    "    return sum_val/length_of_args\n",
    "print(avg(1,2,3,4,5,6,6,8))"
   ]
  },
  {
   "cell_type": "code",
   "execution_count": 21,
   "metadata": {},
   "outputs": [
    {
     "name": "stdout",
     "output_type": "stream",
     "text": [
      "{'name': 'Alex', 'country': 'Australia', 'prof': 'Driver'}\n",
      "2.5\n",
      "name is Alex\n",
      "country is Australia\n",
      "profession is Driver\n",
      "None\n"
     ]
    }
   ],
   "source": [
    "#unpacking lists and dictionary \n",
    "l1=[1,2,3,4]\n",
    "l2=[1,2,3,4,4,5,6,7,8,9]\n",
    "dict1={'name':'Alex',\n",
    "        'country':'Australia',\n",
    "          'prof':'Driver'}\n",
    "print(dict1)\n",
    "\n",
    "def unpack_list(*args):\n",
    "    length=len(args)\n",
    "    sum=0\n",
    "    for i in args:\n",
    "        sum+=i\n",
    "    return sum/length\n",
    "\n",
    "def unpack_dict(**kwargs):\n",
    "    \n",
    "    if 'name' in kwargs :\n",
    "        print(f'name is', kwargs['name'])\n",
    "    if 'country' in kwargs:\n",
    "        print(f'country is', kwargs['country'])\n",
    "    if 'prof'  in kwargs:\n",
    "        print(f'profession is', kwargs['prof'])\n",
    "        \n",
    "\n",
    "print(unpack_list(*l1))\n",
    "print(unpack_dict(**dict1))"
   ]
  },
  {
   "cell_type": "code",
   "execution_count": 31,
   "metadata": {},
   "outputs": [
    {
     "name": "stdout",
     "output_type": "stream",
     "text": [
      "1089\n",
      "[1, 4, 9, 16, 25]\n",
      "[1, 4, 9, 16, 25]\n"
     ]
    }
   ],
   "source": [
    "#Lambda functions are also called Anonymous functions because they don’t have any name \n",
    "#they can be assigned to variables and passed to other functions as arguments.\n",
    "#lambda arguments : expression general syntax of a lambda function\n",
    "\n",
    "square = lambda x:x*x\n",
    "print(square(33))\n",
    "#we will usually make use of lambda functions when we want to run a piece of code only once ,\n",
    "#but then we can write this code directly as well instead of declaring an entire function.\n",
    "#the main usecase of lambda functions is that we can pass the lambda function as an argument to the function\n",
    "\n",
    "def change_list(list_vals,callback):\n",
    "    new_list=list()\n",
    "    for i in list_vals:\n",
    "        new_list.append(callback(i))\n",
    "    return new_list\n",
    "\n",
    "def convert(l1):\n",
    "    return l1**2\n",
    "l1=[1,2,3,4,5]\n",
    "print(change_list(l1,convert))\n",
    "\n",
    "\n",
    "#we can do the same thing with lambda functions as well where in we will no longer have to create this one time use function\n",
    "print(change_list(l1,lambda x:x**2))#just change the lambda function everytime you want to reuse the change_list ()"
   ]
  },
  {
   "cell_type": "code",
   "execution_count": 32,
   "metadata": {},
   "outputs": [
    {
     "name": "stdout",
     "output_type": "stream",
     "text": [
      "False\n",
      "True\n",
      "True\n"
     ]
    }
   ],
   "source": [
    "#using if else elif in lambda functions.\n",
    "check=lambda x : True if (x>10 and x!=2) else False\n",
    "print(check(2))\n",
    "print(check(13))\n",
    "print(check(99))"
   ]
  },
  {
   "cell_type": "code",
   "execution_count": 34,
   "metadata": {},
   "outputs": [
    {
     "name": "stdout",
     "output_type": "stream",
     "text": [
      "[3, 6]\n"
     ]
    }
   ],
   "source": [
    "#A filter() takes two arguments it will take a callback function and the iterable or list of elements \n",
    "#it will then run the callback() on each item of the iterable and will only append the items for which the callback function\n",
    "#is true and then returns the filtered list in the end.\n",
    "l1=[1,2,3,4,5,6,7,8]\n",
    "res=filter(lambda x:x%3==0,l1)\n",
    "print(list(res))"
   ]
  },
  {
   "cell_type": "code",
   "execution_count": 38,
   "metadata": {},
   "outputs": [
    {
     "name": "stdout",
     "output_type": "stream",
     "text": [
      "25\n",
      "1331\n",
      "27\n"
     ]
    }
   ],
   "source": [
    "#using if elif else in lambda functions()\n",
    "convert=lambda x:x**2 if x<8 else(x**3 if x>10 else x*3)\n",
    "print(convert(5))\n",
    "print(convert(11))\n",
    "print(convert(9))"
   ]
  },
  {
   "cell_type": "code",
   "execution_count": 44,
   "metadata": {},
   "outputs": [
    {
     "name": "stdout",
     "output_type": "stream",
     "text": [
      "[2, 5, 3, 4, 4]\n",
      "['ih', 'olleh', 'eyb', 'siht', 'taht']\n",
      "['ihxelA', 'ollehnhoJ', 'eybenaJ']\n"
     ]
    }
   ],
   "source": [
    "#working with map() in  python\n",
    "#the map() will take two arguments 1 sequence (iterables) and a callback function it will pass each item of the iterable into\n",
    "#the callback function and then store the final changed squence and return that\n",
    "\n",
    "l1=['hi','hello','bye','this','that']\n",
    "l2=['Alex','John','Jane']\n",
    "res=map(len,l1)\n",
    "print(list(res))#returning the length of each item of the list l1\n",
    "\n",
    "\n",
    "res2=map(lambda x:x[::-1],l1)\n",
    "print(list(res2))#reversing each item in the list\n",
    "\n",
    "#we can also pass multiple items into the map function\n",
    "res3=map(lambda x,y:x[::-1]+y[::-1],l1,l2)\n",
    "print(list(res3))\n"
   ]
  },
  {
   "cell_type": "markdown",
   "metadata": {},
   "source": [
    "### Directories\n"
   ]
  },
  {
   "cell_type": "code",
   "execution_count": 4,
   "metadata": {},
   "outputs": [],
   "source": [
    "#import os\n",
    "#os.mkdir(path)#create a directory\n",
    "#os.mkdirs(path)#will create intermediate directories on the way as well\n",
    "#how to check if a path exists\n",
    "#os.path.exists(path)\n",
    "#os.path.isfile(path)#check if the file exists at that path\n",
    "#os.path.isdir(path)#check if the directory exists\n",
    "#os.path.islink(path)#check if the link is present at that path"
   ]
  },
  {
   "cell_type": "code",
   "execution_count": 38,
   "metadata": {},
   "outputs": [
    {
     "name": "stdout",
     "output_type": "stream",
     "text": [
      "['.git', '.ipynb_checkpoints', 'demo', 'Python_Fundamentals.ipynb', 'README.md', 'sample.txt', 'samplefile.zip']\n"
     ]
    }
   ],
   "source": [
    "import os\n",
    "print(os.listdir(path='.'))#it will give us a list of file and folders in the directory.\n",
    "#if len(os.listdir(path) ) == 0 #how to check if the directory is empty.\n",
    "#to delete a directory os.rmdir(path)\n"
   ]
  },
  {
   "cell_type": "code",
   "execution_count": 6,
   "metadata": {},
   "outputs": [
    {
     "data": {
      "text/plain": [
       "'E:\\\\Python-Notebooks'"
      ]
     },
     "execution_count": 6,
     "metadata": {},
     "output_type": "execute_result"
    }
   ],
   "source": [
    "os.walk('.')\n",
    "os.getcwd()#get current working directory\n",
    "#to change the current working directory use\n",
    "#os.chdir(path)\n"
   ]
  },
  {
   "cell_type": "markdown",
   "metadata": {},
   "source": [
    "### File handling "
   ]
  },
  {
   "cell_type": "code",
   "execution_count": 39,
   "metadata": {},
   "outputs": [
    {
     "name": "stdout",
     "output_type": "stream",
     "text": [
      "Earlier the State Governments used to increase circle rate for stamp duty.\n",
      "People used to pay stamp duty as per circle rate but used to make purchasing as per actual rate.\n",
      "Now, this is against the Income Tax law.\n",
      "As per the law, no purchasing will be carried out below circle rate.\n",
      "This has created a lot of problems for the farmers.\n",
      "They are not able to sell their agricultural land.\n",
      "The Government is not going to help them in case of emergency because this Government is anti-farmers.\n",
      "It is a major problem before the country.\n"
     ]
    }
   ],
   "source": [
    "with open(\"sample.txt\",'r') as f:#we can open multiple files as well with a single with\n",
    "    for line in f:\n",
    "        print(line.strip())#every line will have a new line character at the end so we strip it"
   ]
  },
  {
   "cell_type": "code",
   "execution_count": 8,
   "metadata": {
    "scrolled": true
   },
   "outputs": [
    {
     "data": {
      "text/plain": [
       "os.stat_result(st_mode=33206, st_ino=15762598695883587, st_dev=4273477504, st_nlink=1, st_uid=0, st_gid=0, st_size=538, st_atime=1576055413, st_mtime=1576055421, st_ctime=1576055413)"
      ]
     },
     "execution_count": 8,
     "metadata": {},
     "output_type": "execute_result"
    }
   ],
   "source": [
    "#delete a file using \n",
    "#os.remove(path)\n",
    "os.stat(\"./sample.txt\")#you can get the file modification time as well as the file creation time from this last access time,last modification time and creation time\n",
    "#m_time= time.strftime('%d/%m/%Y', time.localtime(os.path.getmtime(path)))"
   ]
  },
  {
   "cell_type": "code",
   "execution_count": 29,
   "metadata": {},
   "outputs": [],
   "source": [
    "#creting a zipfile\n",
    "from zipfile import ZipFile\n",
    "with ZipFile('samplefile.zip','w') as f:\n",
    "    f.write('sample.txt')"
   ]
  },
  {
   "cell_type": "code",
   "execution_count": 37,
   "metadata": {},
   "outputs": [],
   "source": [
    "#extract all the files from a zip file in python\n",
    "with ZipFile('samplefile.zip','r') as z:\n",
    "    z.extractall()"
   ]
  },
  {
   "cell_type": "code",
   "execution_count": 50,
   "metadata": {},
   "outputs": [
    {
     "name": "stdout",
     "output_type": "stream",
     "text": [
      "['sample.txt']\n",
      "[<ZipInfo filename='sample.txt' compress_type=deflate external_attr=0x20 file_size=538 compress_size=290>]\n",
      "File Name                                             Modified             Size\n",
      "sample.txt                                     2019-12-11 15:28:28          538\n",
      "None\n"
     ]
    }
   ],
   "source": [
    "with ZipFile('samplefile.zip','r') as z:\n",
    "    print(z.namelist())#print the list of all the files inside the zipfile\n",
    "    print(z.infolist())#print info of all the files inside the zipfile\n",
    "    print(z.printdir())#print info of all the files along with modified time\n",
    "    "
   ]
  },
  {
   "cell_type": "code",
   "execution_count": 45,
   "metadata": {},
   "outputs": [],
   "source": []
  },
  {
   "cell_type": "code",
   "execution_count": 46,
   "metadata": {},
   "outputs": [
    {
     "data": {
      "text/plain": [
       "'hi'"
      ]
     },
     "execution_count": 46,
     "metadata": {},
     "output_type": "execute_result"
    }
   ],
   "source": []
  },
  {
   "cell_type": "code",
   "execution_count": null,
   "metadata": {},
   "outputs": [],
   "source": []
  },
  {
   "cell_type": "code",
   "execution_count": null,
   "metadata": {},
   "outputs": [],
   "source": []
  },
  {
   "cell_type": "code",
   "execution_count": null,
   "metadata": {},
   "outputs": [],
   "source": []
  },
  {
   "cell_type": "code",
   "execution_count": null,
   "metadata": {},
   "outputs": [],
   "source": []
  }
 ],
 "metadata": {
  "kernelspec": {
   "display_name": "Python 3",
   "language": "python",
   "name": "python3"
  },
  "language_info": {
   "codemirror_mode": {
    "name": "ipython",
    "version": 3
   },
   "file_extension": ".py",
   "mimetype": "text/x-python",
   "name": "python",
   "nbconvert_exporter": "python",
   "pygments_lexer": "ipython3",
   "version": "3.7.2"
  }
 },
 "nbformat": 4,
 "nbformat_minor": 2
}
