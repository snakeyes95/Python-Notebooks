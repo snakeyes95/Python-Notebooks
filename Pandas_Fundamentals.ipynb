{
 "cells": [
  {
   "cell_type": "markdown",
   "metadata": {},
   "source": [
    "### Pandas_Fundamentals"
   ]
  },
  {
   "cell_type": "code",
   "execution_count": 2,
   "metadata": {},
   "outputs": [
    {
     "name": "stdout",
     "output_type": "stream",
     "text": [
      "     Name  Class  Age\n",
      "0    Alex      1   16\n",
      "1    John      2   17\n",
      "2  Nicole      3   17\n",
      "3  Andrew      4   18\n"
     ]
    }
   ],
   "source": [
    "#creating a pandas dataframe using a dictionary\n",
    "import pandas as pd\n",
    "student_data={\n",
    "    'Name':['Alex','John','Nicole','Andrew'],\n",
    "    'Class':[1,2,3,4],\n",
    "    'Age':[16,17,17,18]\n",
    "}\n",
    "\n",
    "df_new=pd.DataFrame(student_data)\n",
    "print(df_new)"
   ]
  },
  {
   "cell_type": "code",
   "execution_count": 3,
   "metadata": {},
   "outputs": [
    {
     "name": "stdout",
     "output_type": "stream",
     "text": [
      "     Name  Class  Age\n",
      "a    Alex      1   16\n",
      "b    John      2   17\n",
      "c  Nicole      3   17\n",
      "d  Andrew      4   18\n"
     ]
    }
   ],
   "source": [
    "#Creating a dataframe from a dictionary with custom indexing\n",
    "df_new=pd.DataFrame(student_data,index=['a','b','c','d'])\n",
    "print(df_new)"
   ]
  },
  {
   "cell_type": "code",
   "execution_count": 8,
   "metadata": {},
   "outputs": [
    {
     "name": "stdout",
     "output_type": "stream",
     "text": [
      "  House   Cost\n",
      "0    H1  12000\n",
      "1    H2  15323\n",
      "2    H3  18000\n",
      "<class 'pandas.core.frame.DataFrame'>\n"
     ]
    }
   ],
   "source": [
    "#by default pandas will take a dictionary which will have a list as its value \n",
    "#if we have a dictionary which does not have a list for the values\n",
    "house_data={\n",
    "    'H1':12000,\n",
    "    'H2':15323,\n",
    "    'H3':18000\n",
    "}\n",
    "df_new=pd.DataFrame(house_data.items(),columns=['House','Cost'])#can also send a list of tuples\n",
    "print(df_new)\n",
    "print(type(df_new))"
   ]
  },
  {
   "cell_type": "code",
   "execution_count": 9,
   "metadata": {},
   "outputs": [
    {
     "name": "stdout",
     "output_type": "stream",
     "text": [
      "     Name  Age\n",
      "0    Alex   16\n",
      "1    John   17\n",
      "2  Nicole   17\n",
      "3  Andrew   18\n"
     ]
    }
   ],
   "source": [
    "student_data={\n",
    "    'Name':['Alex','John','Nicole','Andrew'],\n",
    "    'Class':[1,2,3,4],\n",
    "    'Age':[16,17,17,18]\n",
    "}\n",
    "#if we had a huge dictionary and we didnt want to use every column in the dataframe\n",
    "new_df=pd.DataFrame(student_data,columns=['Name','Age'])\n",
    "print(new_df)"
   ]
  },
  {
   "cell_type": "code",
   "execution_count": 10,
   "metadata": {},
   "outputs": [
    {
     "name": "stdout",
     "output_type": "stream",
     "text": [
      "          0     1       2       3\n",
      "Name   Alex  John  Nicole  Andrew\n",
      "Class     1     2       3       4\n",
      "Age      16    17      17      18\n"
     ]
    }
   ],
   "source": [
    "#if we wanted to change the orientation while creating the dataframe\n",
    "new_df=pd.DataFrame.from_dict(student_data,orient='index')\n",
    "print(new_df)"
   ]
  },
  {
   "cell_type": "code",
   "execution_count": 12,
   "metadata": {},
   "outputs": [
    {
     "name": "stdout",
     "output_type": "stream",
     "text": [
      "          0       1\n",
      "name   Alex  Andrew\n",
      "age      12      10\n",
      "class     5       4\n",
      "     name age class\n",
      "0    Alex  12     5\n",
      "1  Andrew  10     4\n"
     ]
    }
   ],
   "source": [
    "#Creating a Dataframe from a nested Dictionary\n",
    "student_new={\n",
    "    0:{\n",
    "        'name':'Alex',\n",
    "        'age':12,\n",
    "        'class':5\n",
    "    },\n",
    "    1:{\n",
    "        'name':'Andrew',\n",
    "        'age':10,\n",
    "        'class':4\n",
    "    }\n",
    "}\n",
    "\n",
    "\n",
    "new_df=pd.DataFrame(student_new)\n",
    "print(new_df)\n",
    "new_df=new_df.transpose()\n",
    "print(new_df)"
   ]
  },
  {
   "cell_type": "code",
   "execution_count": 19,
   "metadata": {},
   "outputs": [
    {
     "name": "stdout",
     "output_type": "stream",
     "text": [
      "Empty DataFrame\n",
      "Columns: [Name, Age, Marks]\n",
      "Index: []\n"
     ]
    }
   ],
   "source": [
    "#Creating an empty Dataframe and then appending rows and columns to it\n",
    "new_df=pd.DataFrame(columns=['Name','Age','Marks'])\n",
    "print(new_df)#printing an empty dataframe"
   ]
  },
  {
   "cell_type": "code",
   "execution_count": 16,
   "metadata": {},
   "outputs": [
    {
     "name": "stdout",
     "output_type": "stream",
     "text": [
      "Empty DataFrame\n",
      "Columns: [Name, Age, Marks]\n",
      "Index: []\n"
     ]
    }
   ],
   "source": [
    "#we can now append values inside this empty df\n",
    "new_df.append({'Name':'alex','Age':12,'Marks':33},ignore_index=True)#no change in the new_df\n",
    "print(new_df)"
   ]
  },
  {
   "cell_type": "code",
   "execution_count": 20,
   "metadata": {},
   "outputs": [
    {
     "name": "stdout",
     "output_type": "stream",
     "text": [
      "     Name Age Marks\n",
      "0    alex  12    33\n",
      "1  andrew  22    43\n",
      "2    June  32    13\n"
     ]
    }
   ],
   "source": [
    "new_df=new_df.append({'Name':'alex','Age':12,'Marks':33},ignore_index=True)#ignore_index=True because we are appending a series object to the df\n",
    "new_df=new_df.append({'Name':'andrew','Age':22,'Marks':43},ignore_index=True)\n",
    "new_df=new_df.append({'Name':'June','Age':32,'Marks':13},ignore_index=True)\n",
    "print(new_df)"
   ]
  },
  {
   "cell_type": "code",
   "execution_count": 22,
   "metadata": {},
   "outputs": [
    {
     "name": "stdout",
     "output_type": "stream",
     "text": [
      "     Name Age Marks  Area_code\n",
      "0    alex  12    33          1\n",
      "1  andrew  22    43          2\n",
      "2    June  32    13          3\n"
     ]
    }
   ],
   "source": [
    "#appending a new column to the df\n",
    "new_df['Area_code']=[1,2,3]\n",
    "print(new_df)#added a new column to the dataframe."
   ]
  },
  {
   "cell_type": "code",
   "execution_count": 27,
   "metadata": {},
   "outputs": [
    {
     "name": "stdout",
     "output_type": "stream",
     "text": [
      "     a    b    c\n",
      "0  NaN  NaN  NaN\n",
      "1  NaN  NaN  NaN\n",
      "2  NaN  NaN  NaN\n",
      "     a    b    c\n",
      "0    1    2    3\n",
      "1  NaN  NaN  NaN\n",
      "2  NaN  NaN  NaN\n",
      "     a    b    c\n",
      "0    1    2    3\n",
      "1   12   12   13\n",
      "2  NaN  NaN  NaN\n"
     ]
    }
   ],
   "source": [
    "#creating an empty dataframe with all NaN\n",
    "new_df=pd.DataFrame(index=[0,1,2],columns=['a','b','c'])\n",
    "print(new_df)\n",
    "#appending values in the dataframe\n",
    "new_df.loc[0]=[1,2,3]#appending the row\n",
    "print(new_df)\n",
    "new_df.loc[1]=[12,12,13]\n",
    "print(new_df)"
   ]
  },
  {
   "cell_type": "code",
   "execution_count": 29,
   "metadata": {},
   "outputs": [
    {
     "name": "stdout",
     "output_type": "stream",
     "text": [
      "[['Alex', 12, 4], ['Andrew', 23, 4], ['June', 3, 12]]\n",
      "        0   1   2\n",
      "0    Alex  12   4\n",
      "1  Andrew  23   4\n",
      "2    June   3  12\n"
     ]
    }
   ],
   "source": [
    "#converting a list to a dictionary.\n",
    "l1=[['Alex',12,4],['Andrew',23,4],['June',3,12]]\n",
    "new_df=pd.DataFrame(l1)\n",
    "print(l1)\n",
    "print(new_df)"
   ]
  },
  {
   "cell_type": "code",
   "execution_count": 30,
   "metadata": {},
   "outputs": [
    {
     "name": "stdout",
     "output_type": "stream",
     "text": [
      "     Name  Grade\n",
      "0    Alex      4\n",
      "1  Andrew      4\n",
      "2    June     12\n"
     ]
    }
   ],
   "source": [
    "new_df=pd.DataFrame.from_records(l1,exclude=['Age'],columns=['Name','Age','Grade'])\n",
    "print(new_df)#we can do this by passing a list of tuples as well"
   ]
  },
  {
   "cell_type": "code",
   "execution_count": 31,
   "metadata": {},
   "outputs": [
    {
     "name": "stdout",
     "output_type": "stream",
     "text": [
      "[('Alex', 1, 12), ('June', 3, 15), ('Jane', 44, 17)]\n",
      "   Name  Age  Grade\n",
      "0  Alex    1     12\n",
      "1  June    3     15\n",
      "2  Jane   44     17\n"
     ]
    }
   ],
   "source": [
    "#We can also have a number of lists containing the values of each columns\n",
    "Names=['Alex','June','Jane']\n",
    "Age=[1,3,44]\n",
    "grade=[12,15,17]\n",
    "\n",
    "zipped_folder=list(zip(Names,Age,grade))\n",
    "print(zipped_folder)\n",
    "\n",
    "new_df=pd.DataFrame(zipped_folder,columns=['Name','Age','Grade'])\n",
    "print(new_df)"
   ]
  },
  {
   "cell_type": "code",
   "execution_count": 36,
   "metadata": {},
   "outputs": [
    {
     "name": "stdout",
     "output_type": "stream",
     "text": [
      "   1  2  3\n",
      "0  4  5  6\n"
     ]
    }
   ],
   "source": [
    "#reading a csv file into a dataframe\n",
    "new_df=pd.read_csv('./samplenp_new.csv') #sep='\\s+' one or more whitespace\n",
    "print(new_df)\n",
    "#while reading certain csv files if we wish to skip some of the top and or bottom rows we can use skiprows and skipfooter\n",
    "#in pd.read_csv()"
   ]
  },
  {
   "cell_type": "code",
   "execution_count": 42,
   "metadata": {
    "scrolled": true
   },
   "outputs": [
    {
     "name": "stdout",
     "output_type": "stream",
     "text": [
      "     Name  Class  Age\n",
      "0    Alex      1   16\n",
      "1    John      2   17\n",
      "2  Nicole      3   17\n",
      "3  Andrew      4   18\n",
      "     Name  Age\n",
      "0    Alex   16\n",
      "1    John   17\n",
      "2  Nicole   17\n",
      "3  Andrew   18\n",
      "Name     Alex\n",
      "Class       1\n",
      "Age        16\n",
      "Name: 0, dtype: object\n",
      "     Name  Class  Age\n",
      "0    Alex      1   16\n",
      "1    John      2   17\n",
      "2  Nicole      3   17\n"
     ]
    }
   ],
   "source": [
    "#selecting rows/columns from a dataframe\n",
    "student_data={\n",
    "    'Name':['Alex','John','Nicole','Andrew'],\n",
    "    'Class':[1,2,3,4],\n",
    "    'Age':[16,17,17,18]\n",
    "}\n",
    "\n",
    "new_df=pd.DataFrame(student_data,columns=['Name','Class','Age'])\n",
    "print(new_df)\n",
    "\n",
    "#If we wish to select/index the dataframe via column names we can use the df.loc()\n",
    "#Basic syntax is df.loc[row_name range,column_name range]\n",
    "print(new_df.loc[:,['Name','Age']])\n",
    "#if we wish to only select a single row of the dataframe using loc\n",
    "print(new_df.loc[0,:])\n",
    "#we can pass a range as well\n",
    "print(new_df.loc[0:2,:])"
   ]
  },
  {
   "cell_type": "code",
   "execution_count": 45,
   "metadata": {},
   "outputs": [
    {
     "name": "stdout",
     "output_type": "stream",
     "text": [
      "   Name  Class\n",
      "0  Alex      1\n",
      "1  John      2\n"
     ]
    }
   ],
   "source": [
    "#just how we use df.loc[] to select rows and columns based on their names we can use the df.iloc[] which has the same syntax\n",
    "#only difference is that instead of giving the names we give index \n",
    "print(new_df.iloc[0:2,0:2])"
   ]
  },
  {
   "cell_type": "code",
   "execution_count": 46,
   "metadata": {},
   "outputs": [
    {
     "name": "stdout",
     "output_type": "stream",
     "text": [
      "0      Alex\n",
      "1      John\n",
      "2    Nicole\n",
      "3    Andrew\n",
      "Name: Name, dtype: object\n",
      "     Name  Age\n",
      "0    Alex   16\n",
      "1    John   17\n",
      "2  Nicole   17\n",
      "3  Andrew   18\n"
     ]
    }
   ],
   "source": [
    "#we can also select entire columns of the dataframe using the []\n",
    "print(new_df['Name'])\n",
    "#we can also select multiple columns of the dataframe\n",
    "print(new_df[['Name','Age']])"
   ]
  },
  {
   "cell_type": "code",
   "execution_count": 3,
   "metadata": {},
   "outputs": [
    {
     "name": "stdout",
     "output_type": "stream",
     "text": [
      "     Name  Class  Age\n",
      "0    Alex      1   16\n",
      "1    John      2   17\n",
      "2  Nicole      3   17\n",
      "3  Andrew      4   18\n",
      "4    Alex      4   12\n",
      "5    Jane      1   13\n",
      "6     Ash     12   55\n",
      "7   Misty      3   66\n"
     ]
    }
   ],
   "source": [
    "import pandas as pd\n",
    "#selecting rows based on some condition in pandas.\n",
    "student_data={\n",
    "    'Name':['Alex','John','Nicole','Andrew','Alex','Jane','Ash','Misty'],\n",
    "    'Class':[1,2,3,4,4,1,12,3],\n",
    "    'Age':[16,17,17,18,12,13,55,66]\n",
    "}\n",
    "new_df=pd.DataFrame(student_data,columns=['Name','Class','Age'])\n",
    "print(new_df)"
   ]
  },
  {
   "cell_type": "code",
   "execution_count": 49,
   "metadata": {},
   "outputs": [
    {
     "name": "stdout",
     "output_type": "stream",
     "text": [
      "   Name  Class  Age\n",
      "0  Alex      1   16\n",
      "4  Alex      4   12\n",
      "0     True\n",
      "1    False\n",
      "2    False\n",
      "3    False\n",
      "4     True\n",
      "5    False\n",
      "6    False\n",
      "7    False\n",
      "Name: Name, dtype: bool\n"
     ]
    }
   ],
   "source": [
    "#consider we wanted to select the rows where name='Alex'\n",
    "print(new_df[new_df['Name']=='Alex'])\n",
    "print(new_df['Name']=='Alex')"
   ]
  },
  {
   "cell_type": "code",
   "execution_count": 50,
   "metadata": {},
   "outputs": [
    {
     "name": "stdout",
     "output_type": "stream",
     "text": [
      "     Name  Class  Age\n",
      "0    Alex      1   16\n",
      "2  Nicole      3   17\n",
      "5    Jane      1   13\n",
      "7   Misty      3   66\n"
     ]
    }
   ],
   "source": [
    "#selecting rows based on multiple options\n",
    "#suppose we wanted the rows where the class is either 1 or 3\n",
    "print(new_df[new_df['Class'].isin([1,3])])#will print all the rows where class is either 1 or 3"
   ]
  },
  {
   "cell_type": "code",
   "execution_count": 51,
   "metadata": {},
   "outputs": [
    {
     "name": "stdout",
     "output_type": "stream",
     "text": [
      "     Name  Class  Age\n",
      "3  Andrew      4   18\n",
      "6     Ash     12   55\n"
     ]
    }
   ],
   "source": [
    "#slecting rows based off multiple conditions on columns\n",
    "print(new_df[(new_df['Age']>16) & (new_df['Class']>3)])"
   ]
  },
  {
   "cell_type": "code",
   "execution_count": 53,
   "metadata": {},
   "outputs": [
    {
     "name": "stdout",
     "output_type": "stream",
     "text": [
      "Name     Alex\n",
      "Class       1\n",
      "Age        12\n",
      "dtype: object\n",
      "0     1\n",
      "1     2\n",
      "2     3\n",
      "3     4\n",
      "4     4\n",
      "5     1\n",
      "6    12\n",
      "7     3\n",
      "dtype: int64\n"
     ]
    }
   ],
   "source": [
    "#finding minimum values across rows and columns and their index positions\n",
    "#we can find the minimum value across each column as\n",
    "print(new_df.min())#by default will check across columns\n",
    "print(new_df.min(axis=1))#finiding the minimum value across each row \n",
    "#by default skipna=True if we wish to find the minimum withought skipping the NaN values set skipna=False"
   ]
  },
  {
   "cell_type": "code",
   "execution_count": 54,
   "metadata": {},
   "outputs": [
    {
     "name": "stdout",
     "output_type": "stream",
     "text": [
      "Age      12\n",
      "Class     1\n",
      "dtype: int64\n"
     ]
    }
   ],
   "source": [
    "#to find the min value only along selected columns\n",
    "print(new_df[['Age','Class']].min())"
   ]
  },
  {
   "cell_type": "code",
   "execution_count": 6,
   "metadata": {},
   "outputs": [
    {
     "name": "stdout",
     "output_type": "stream",
     "text": [
      "<class 'pandas.core.frame.DataFrame'>\n",
      "<bound method DataFrame.idxmin of      Name  Class  Age\n",
      "0    Alex      1   16\n",
      "1    John      2   17\n",
      "2  Nicole      3   17\n",
      "3  Andrew      4   18\n",
      "4    Alex      4   12\n",
      "5    Jane      1   13\n",
      "6     Ash     12   55\n",
      "7   Misty      3   66>\n"
     ]
    }
   ],
   "source": [
    "#to find the index of the minimum value in the dataframe\n",
    "print(type(new_df))\n",
    "print(new_df.idxmin)"
   ]
  },
  {
   "cell_type": "code",
   "execution_count": 7,
   "metadata": {},
   "outputs": [
    {
     "name": "stdout",
     "output_type": "stream",
     "text": [
      "Name     7\n",
      "Class    5\n",
      "Age      7\n",
      "dtype: int64\n",
      "['Alex' 'John' 'Nicole' 'Andrew' 'Jane' 'Ash' 'Misty']\n",
      "Name    7\n",
      "Age     7\n",
      "dtype: int64\n"
     ]
    }
   ],
   "source": [
    "#Get the unique values from a dataframe\n",
    "print(new_df.nunique())#number of unique entries present\n",
    "print(new_df['Name'].unique())#printing the unique entries in the Name column\n",
    "print(new_df[['Name','Age']].nunique())"
   ]
  },
  {
   "cell_type": "code",
   "execution_count": 77,
   "metadata": {},
   "outputs": [
    {
     "name": "stdout",
     "output_type": "stream",
     "text": [
      "     Name  Class  Age\n",
      "0    Alex      1   16\n",
      "1    John      2   17\n",
      "2  Nicole      3   17\n",
      "3  Andrew      4   18\n",
      "4    Alex      4   12\n",
      "     Name  Class  Age\n",
      "3  Andrew      4   18\n",
      "4    Alex      4   12\n",
      "5    Jane      1   13\n",
      "6     Ash     12   55\n",
      "7   Misty      3   66\n",
      "     Name  Age\n",
      "0    Alex   16\n",
      "1    John   17\n",
      "2  Nicole   17\n",
      "3  Andrew   18\n",
      "4    Alex   12\n"
     ]
    }
   ],
   "source": [
    "#selecting first or last N rows in the dataframe.\n",
    "print(new_df.head())\n",
    "print(new_df.tail())\n",
    "print(new_df[['Name','Age']].head())\n"
   ]
  },
  {
   "cell_type": "code",
   "execution_count": 82,
   "metadata": {},
   "outputs": [
    {
     "name": "stdout",
     "output_type": "stream",
     "text": [
      "['Name', 'Class', 'Age']\n",
      "[0, 1, 2, 3, 4, 5, 6, 7]\n"
     ]
    }
   ],
   "source": [
    "#Get the list of rownames and columnames of the dataframe\n",
    "print(list(new_df.columns.values))\n",
    "print(list(new_df.index.values))"
   ]
  },
  {
   "cell_type": "code",
   "execution_count": 90,
   "metadata": {},
   "outputs": [
    {
     "name": "stdout",
     "output_type": "stream",
     "text": [
      "[['Alex' 1 16]\n",
      " ['John' 2 17]\n",
      " ['Nicole' 3 17]\n",
      " ['Andrew' 4 18]\n",
      " ['Alex' 4 12]\n",
      " ['Jane' 1 13]\n",
      " ['Ash' 12 55]\n",
      " ['Misty' 3 66]]\n",
      "[['Alex', 1, 16], ['John', 2, 17], ['Nicole', 3, 17], ['Andrew', 4, 18], ['Alex', 4, 12], ['Jane', 1, 13], ['Ash', 12, 55], ['Misty', 3, 66]]\n",
      "<class 'list'>\n"
     ]
    }
   ],
   "source": [
    "#convert a Dataframe into a list of lists.\n",
    "print(new_df.to_numpy())#converts our dataframe to a nested numpy array\n",
    "print(new_df.to_numpy().tolist())\n",
    "print(type(new_df.to_numpy().tolist()))"
   ]
  },
  {
   "cell_type": "code",
   "execution_count": 120,
   "metadata": {},
   "outputs": [
    {
     "name": "stdout",
     "output_type": "stream",
     "text": [
      "     Name  Class  Age\n",
      "0    Alex      1   16\n",
      "1    John      2   17\n",
      "2  Nicole      3   17\n",
      "3  Andrew      4   18\n",
      "4    Alex      4   12\n",
      "5    Jane      1   13\n",
      "6     Ash     12   55\n",
      "7   Misty      3   66\n",
      "[0 1 2 3 4 5 6 7]\n",
      "None\n"
     ]
    }
   ],
   "source": [
    "#Droping rows of a dataframe\n",
    "print(new_df)\n",
    "#drop row with index 1\n",
    "# print(new_df.drop(1))\n",
    "# print(new_df)#by default the df.drop() will not remove the row from the dataframe \n",
    "#new_df.drop([1,2],inplace=True)\n",
    "#print(new_df)\n",
    "print(new_df.index.values)\n",
    "print(new_df.drop(index=[0,1],inplace=True,axis=1))"
   ]
  },
  {
   "cell_type": "code",
   "execution_count": 121,
   "metadata": {},
   "outputs": [
    {
     "name": "stdout",
     "output_type": "stream",
     "text": [
      "     Name  Class  Age\n",
      "2  Nicole      3   17\n",
      "3  Andrew      4   18\n",
      "4    Alex      4   12\n",
      "5    Jane      1   13\n",
      "6     Ash     12   55\n",
      "7   Misty      3   66\n"
     ]
    }
   ],
   "source": [
    "print(new_df)"
   ]
  },
  {
   "cell_type": "code",
   "execution_count": 34,
   "metadata": {},
   "outputs": [
    {
     "name": "stdout",
     "output_type": "stream",
     "text": [
      "{'Name': ['Alex', 'John', 'Nicole', 'Andrew'], 'Class': [1, 2, 3, 4], 'Age': [16, 17, 17, 18]}\n",
      "Int64Index([0], dtype='int64')    Name  Class  Age\n",
      "0  Alex      1   16\n",
      "     Name  Class  Age\n",
      "1    John      2   17\n",
      "2  Nicole      3   17\n",
      "3  Andrew      4   18\n"
     ]
    },
    {
     "data": {
      "text/html": [
       "<div>\n",
       "<style scoped>\n",
       "    .dataframe tbody tr th:only-of-type {\n",
       "        vertical-align: middle;\n",
       "    }\n",
       "\n",
       "    .dataframe tbody tr th {\n",
       "        vertical-align: top;\n",
       "    }\n",
       "\n",
       "    .dataframe thead th {\n",
       "        text-align: right;\n",
       "    }\n",
       "</style>\n",
       "<table border=\"1\" class=\"dataframe\">\n",
       "  <thead>\n",
       "    <tr style=\"text-align: right;\">\n",
       "      <th></th>\n",
       "      <th>Name</th>\n",
       "      <th>Class</th>\n",
       "      <th>Age</th>\n",
       "    </tr>\n",
       "  </thead>\n",
       "  <tbody>\n",
       "    <tr>\n",
       "      <td>2</td>\n",
       "      <td>Nicole</td>\n",
       "      <td>3</td>\n",
       "      <td>17</td>\n",
       "    </tr>\n",
       "  </tbody>\n",
       "</table>\n",
       "</div>"
      ],
      "text/plain": [
       "     Name  Class  Age\n",
       "2  Nicole      3   17"
      ]
     },
     "execution_count": 34,
     "metadata": {},
     "output_type": "execute_result"
    }
   ],
   "source": [
    "#Droping rows based on column values\n",
    "import pandas as pd\n",
    "student_data={\n",
    "    'Name':['Alex','John','Nicole','Andrew'],\n",
    "    'Class':[1,2,3,4],\n",
    "    'Age':[16,17,17,18]\n",
    "}\n",
    "print(student_data)\n",
    "stu_df=pd.DataFrame(student_data)\n",
    "print(stu_df[stu_df['Class']==1].index,stu_df[stu_df['Class']==1])#we can get the index of the rows which satisfy the condition\\\n",
    "stu_df.drop(stu_df[stu_df['Class']==1].index,axis=0,inplace=True)#axis=0  deleted the row based on column condition\n",
    "print(stu_df)\n",
    "\n",
    "#deleting columns based on multiple column conditions \n",
    "#deleting name=John and age =18\n",
    "\n",
    "stu_df.drop(stu_df[(stu_df['Name']=='John') | (stu_df['Age']==18)].index,inplace=True,axis=0)\n",
    "stu_df#dropping multiple rows based on multiple conditions on different rows on a dataframe"
   ]
  },
  {
   "cell_type": "code",
   "execution_count": 35,
   "metadata": {},
   "outputs": [
    {
     "data": {
      "text/html": [
       "<div>\n",
       "<style scoped>\n",
       "    .dataframe tbody tr th:only-of-type {\n",
       "        vertical-align: middle;\n",
       "    }\n",
       "\n",
       "    .dataframe tbody tr th {\n",
       "        vertical-align: top;\n",
       "    }\n",
       "\n",
       "    .dataframe thead th {\n",
       "        text-align: right;\n",
       "    }\n",
       "</style>\n",
       "<table border=\"1\" class=\"dataframe\">\n",
       "  <thead>\n",
       "    <tr style=\"text-align: right;\">\n",
       "      <th></th>\n",
       "      <th>Class</th>\n",
       "    </tr>\n",
       "  </thead>\n",
       "  <tbody>\n",
       "    <tr>\n",
       "      <td>0</td>\n",
       "      <td>1</td>\n",
       "    </tr>\n",
       "    <tr>\n",
       "      <td>1</td>\n",
       "      <td>2</td>\n",
       "    </tr>\n",
       "    <tr>\n",
       "      <td>2</td>\n",
       "      <td>3</td>\n",
       "    </tr>\n",
       "    <tr>\n",
       "      <td>3</td>\n",
       "      <td>4</td>\n",
       "    </tr>\n",
       "  </tbody>\n",
       "</table>\n",
       "</div>"
      ],
      "text/plain": [
       "   Class\n",
       "0      1\n",
       "1      2\n",
       "2      3\n",
       "3      4"
      ]
     },
     "execution_count": 35,
     "metadata": {},
     "output_type": "execute_result"
    }
   ],
   "source": [
    "student_data={\n",
    "    'Name':['Alex','John','Nicole','Andrew'],\n",
    "    'Class':[1,2,3,4],\n",
    "    'Age':[16,17,17,18]\n",
    "}\n",
    "#dropping Name column from the dataframe\n",
    "new_df=pd.DataFrame(student_data)\n",
    "new_df.drop(['Name','Age'],axis='columns')#dropping multiple columns from our dataframe"
   ]
  },
  {
   "cell_type": "code",
   "execution_count": 37,
   "metadata": {},
   "outputs": [
    {
     "name": "stdout",
     "output_type": "stream",
     "text": [
      "     Name  Age\n",
      "0    Alex   16\n",
      "1    John   17\n",
      "2  Nicole   17\n",
      "3  Andrew   18\n"
     ]
    }
   ],
   "source": [
    "#dropping column if exists\n",
    "if 'Class' in new_df.columns:\n",
    "    new_df.drop(['Class'],axis='columns',inplace=True)\n",
    "else:\n",
    "    print('not found!')\n",
    "print(new_df)"
   ]
  },
  {
   "cell_type": "code",
   "execution_count": 59,
   "metadata": {},
   "outputs": [
    {
     "name": "stdout",
     "output_type": "stream",
     "text": [
      "     Name  Class   Age\n",
      "0    Alex    1.0  16.0\n",
      "1     NaN    NaN   NaN\n",
      "2  Nicole    NaN  17.0\n",
      "3  Andrew    4.0  18.0\n",
      "4   silva    5.0   NaN\n",
      "\n",
      "      Name  Class   Age\n",
      "0    Alex    1.0  16.0\n",
      "3  Andrew    4.0  18.0\n"
     ]
    }
   ],
   "source": [
    "#drop rows in a dataframe containing missing values or NaN\n",
    "import numpy as np\n",
    "student_data={\n",
    "    'Name':['Alex',np.NaN,'Nicole','Andrew','silva'],\n",
    "    'Class':[1,np.NaN, np.NaN,4,5],\n",
    "    'Age':[16,np.NaN,17,18,np.NaN]\n",
    "}\n",
    "new_df=pd.DataFrame(student_data)\n",
    "print(new_df)#we can see one row contains all columns as NaN\n",
    "print(f'\\n {new_df.dropna()}')"
   ]
  },
  {
   "cell_type": "code",
   "execution_count": 60,
   "metadata": {},
   "outputs": [
    {
     "name": "stdout",
     "output_type": "stream",
     "text": [
      "     Name  Class   Age\n",
      "0    Alex    1.0  16.0\n",
      "3  Andrew    4.0  18.0\n"
     ]
    }
   ],
   "source": [
    "print(new_df.dropna(how='any'))"
   ]
  },
  {
   "cell_type": "code",
   "execution_count": 61,
   "metadata": {},
   "outputs": [
    {
     "name": "stdout",
     "output_type": "stream",
     "text": [
      "     Name  Class   Age\n",
      "0    Alex    1.0  16.0\n",
      "2  Nicole    NaN  17.0\n",
      "3  Andrew    4.0  18.0\n",
      "4   silva    5.0   NaN\n"
     ]
    }
   ],
   "source": [
    "print(new_df.dropna(how='all'))#only the row with all the column values as NaN is deleted"
   ]
  },
  {
   "cell_type": "code",
   "execution_count": 62,
   "metadata": {},
   "outputs": [
    {
     "name": "stdout",
     "output_type": "stream",
     "text": [
      "     Name  Class   Age\n",
      "0    Alex    1.0  16.0\n",
      "3  Andrew    4.0  18.0\n",
      "4   silva    5.0   NaN\n"
     ]
    }
   ],
   "source": [
    "print(new_df.dropna(how='any',subset=['Class','Name']))#deleting based on only certain columns"
   ]
  },
  {
   "cell_type": "code",
   "execution_count": 66,
   "metadata": {},
   "outputs": [
    {
     "name": "stdout",
     "output_type": "stream",
     "text": [
      "     Name  Class   Age\n",
      "0    Alex    1.0  16.0\n",
      "2  Nicole    NaN  17.0\n",
      "3  Andrew    4.0  18.0\n",
      "4   silva    5.0   NaN\n"
     ]
    }
   ],
   "source": [
    "print(new_df.dropna(thresh=2))#setting the threshold to delete any row with n number of NaN values in it"
   ]
  },
  {
   "cell_type": "code",
   "execution_count": 79,
   "metadata": {},
   "outputs": [
    {
     "name": "stdout",
     "output_type": "stream",
     "text": [
      "     Name  Class  Age  Marks\n",
      "0    Alex      1   16     11\n",
      "1    John      2   17     14\n",
      "2  Nicole      3   17     15\n",
      "3  Andrew      4   18     66\n",
      "     Name  Class  Age  Marks  internal\n",
      "0    Alex      1   16     11        20\n",
      "1    John      2   17     14        20\n",
      "2  Nicole      3   17     15        20\n",
      "3  Andrew      4   18     66        20\n",
      "     Name  Class  Age  Marks  internal  Total\n",
      "0    Alex      1   16     11        20     31\n",
      "1    John      2   17     14        20     34\n",
      "2  Nicole      3   17     15        20     35\n",
      "3  Andrew      4   18     66        20     86\n",
      "     Name  Class  Age  Marks  internal  Total grade\n",
      "0    Alex      1   16     11        20     31     D\n",
      "1    John      2   17     14        20     34     D\n",
      "2  Nicole      3   17     15        20     35     D\n",
      "3  Andrew      4   18     66        20     86     A\n",
      "     Name  Class  Age  Marks  internal  Total\n",
      "0    Alex      1   16     11        20     31\n",
      "1    John      2   17     14        20     34\n",
      "2  Nicole      3   17     15        20     35\n",
      "3  Andrew      4   18     66        20     86\n"
     ]
    }
   ],
   "source": [
    "#adding new columns to a dataframe.\n",
    "student_data={\n",
    "    'Name':['Alex','John','Nicole','Andrew'],\n",
    "    'Class':[1,2,3,4],\n",
    "    'Age':[16,17,17,18]\n",
    "}\n",
    "new_df=pd.DataFrame(student_data)\n",
    "#adding a new column to the dataframe\n",
    "new_df['Marks']=[11,14,15,66]\n",
    "print(new_df)\n",
    "#we can also set default values to the new column so that each row will get the same value\n",
    "new_df['internal']=20\n",
    "print(new_df)\n",
    "#we can also create a new  column based on existing column values\n",
    "new_df['Total']=(new_df['Marks']+new_df['internal'])\n",
    "print(new_df)\n",
    "#we can also use the df.assign() using the [] will throw a value error \n",
    "new_mod=new_df.assign(grade=['D','D','D','A'])\n",
    "print(new_mod)\n",
    "print(new_df)#not changed"
   ]
  },
  {
   "cell_type": "code",
   "execution_count": 83,
   "metadata": {},
   "outputs": [
    {
     "name": "stdout",
     "output_type": "stream",
     "text": [
      "     Name  Class  Age  Marks  internal  Total grade\n",
      "0    Alex      1   16   11.0      20.0   31.0     D\n",
      "1    John      2   17   14.0      20.0   34.0     D\n",
      "2  Nicole      3   17   15.0      20.0   35.0     D\n",
      "3  Andrew      4   18   66.0      20.0   86.0     A\n",
      "4    Jane      4   19    NaN       NaN    NaN   NaN\n"
     ]
    },
    {
     "data": {
      "text/html": [
       "<div>\n",
       "<style scoped>\n",
       "    .dataframe tbody tr th:only-of-type {\n",
       "        vertical-align: middle;\n",
       "    }\n",
       "\n",
       "    .dataframe tbody tr th {\n",
       "        vertical-align: top;\n",
       "    }\n",
       "\n",
       "    .dataframe thead th {\n",
       "        text-align: right;\n",
       "    }\n",
       "</style>\n",
       "<table border=\"1\" class=\"dataframe\">\n",
       "  <thead>\n",
       "    <tr style=\"text-align: right;\">\n",
       "      <th></th>\n",
       "      <th>Name</th>\n",
       "      <th>Class</th>\n",
       "      <th>Age</th>\n",
       "      <th>Marks</th>\n",
       "      <th>internal</th>\n",
       "      <th>Total</th>\n",
       "      <th>grade</th>\n",
       "    </tr>\n",
       "  </thead>\n",
       "  <tbody>\n",
       "    <tr>\n",
       "      <td>0</td>\n",
       "      <td>Alex</td>\n",
       "      <td>1</td>\n",
       "      <td>16</td>\n",
       "      <td>11.0</td>\n",
       "      <td>20.0</td>\n",
       "      <td>31.0</td>\n",
       "      <td>D</td>\n",
       "    </tr>\n",
       "    <tr>\n",
       "      <td>1</td>\n",
       "      <td>John</td>\n",
       "      <td>2</td>\n",
       "      <td>17</td>\n",
       "      <td>14.0</td>\n",
       "      <td>20.0</td>\n",
       "      <td>34.0</td>\n",
       "      <td>D</td>\n",
       "    </tr>\n",
       "    <tr>\n",
       "      <td>2</td>\n",
       "      <td>Alex jr</td>\n",
       "      <td>4</td>\n",
       "      <td>22</td>\n",
       "      <td>44.0</td>\n",
       "      <td>33.0</td>\n",
       "      <td>44.0</td>\n",
       "      <td>B</td>\n",
       "    </tr>\n",
       "    <tr>\n",
       "      <td>3</td>\n",
       "      <td>Andrew</td>\n",
       "      <td>4</td>\n",
       "      <td>18</td>\n",
       "      <td>66.0</td>\n",
       "      <td>20.0</td>\n",
       "      <td>86.0</td>\n",
       "      <td>A</td>\n",
       "    </tr>\n",
       "    <tr>\n",
       "      <td>4</td>\n",
       "      <td>Jane</td>\n",
       "      <td>4</td>\n",
       "      <td>19</td>\n",
       "      <td>NaN</td>\n",
       "      <td>NaN</td>\n",
       "      <td>NaN</td>\n",
       "      <td>NaN</td>\n",
       "    </tr>\n",
       "  </tbody>\n",
       "</table>\n",
       "</div>"
      ],
      "text/plain": [
       "      Name  Class  Age  Marks  internal  Total grade\n",
       "0     Alex      1   16   11.0      20.0   31.0     D\n",
       "1     John      2   17   14.0      20.0   34.0     D\n",
       "2  Alex jr      4   22   44.0      33.0   44.0     B\n",
       "3   Andrew      4   18   66.0      20.0   86.0     A\n",
       "4     Jane      4   19    NaN       NaN    NaN   NaN"
      ]
     },
     "execution_count": 83,
     "metadata": {},
     "output_type": "execute_result"
    }
   ],
   "source": [
    "#adding rows into a dataframe\n",
    "new_mod_df=new_mod.append({'Name':'Jane','Class':4,'Age':19},ignore_index=True)\n",
    "print(new_mod_df)#we are getting the correct index as we have passed ignore_index as true and also whichever columns do not have a value\n",
    "#in the dictionary will be set as a NaN value in the dataframe it will not modify the dataframe but will return a new modified dataframe\n",
    "#using this we can also append a row of one df into a different dataframe.\n",
    "new_mod_df.loc[2]=['Alex jr',4,22,44,33,44,'B']\n",
    "new_mod_df"
   ]
  },
  {
   "cell_type": "code",
   "execution_count": 84,
   "metadata": {},
   "outputs": [
    {
     "data": {
      "text/plain": [
       "array([['Alex', 1, 16, 11.0, 20.0, 31.0, 'D'],\n",
       "       ['John', 2, 17, 14.0, 20.0, 34.0, 'D'],\n",
       "       ['Alex jr', 4, 22, 44.0, 33.0, 44.0, 'B'],\n",
       "       ['Andrew', 4, 18, 66.0, 20.0, 86.0, 'A'],\n",
       "       ['Jane', 4, 19, nan, nan, nan, nan]], dtype=object)"
      ]
     },
     "execution_count": 84,
     "metadata": {},
     "output_type": "execute_result"
    }
   ],
   "source": [
    "#finding elements in a dataframe.\n",
    "new_mod_df.values"
   ]
  },
  {
   "cell_type": "code",
   "execution_count": 85,
   "metadata": {},
   "outputs": [
    {
     "name": "stdout",
     "output_type": "stream",
     "text": [
      "Jane present\n"
     ]
    }
   ],
   "source": [
    "if 'Jane' in new_mod_df.values:\n",
    "    print('Jane present')"
   ]
  },
  {
   "cell_type": "code",
   "execution_count": 89,
   "metadata": {},
   "outputs": [
    {
     "data": {
      "text/html": [
       "<div>\n",
       "<style scoped>\n",
       "    .dataframe tbody tr th:only-of-type {\n",
       "        vertical-align: middle;\n",
       "    }\n",
       "\n",
       "    .dataframe tbody tr th {\n",
       "        vertical-align: top;\n",
       "    }\n",
       "\n",
       "    .dataframe thead th {\n",
       "        text-align: right;\n",
       "    }\n",
       "</style>\n",
       "<table border=\"1\" class=\"dataframe\">\n",
       "  <thead>\n",
       "    <tr style=\"text-align: right;\">\n",
       "      <th></th>\n",
       "      <th>Name</th>\n",
       "      <th>Class</th>\n",
       "      <th>Age</th>\n",
       "      <th>Marks</th>\n",
       "      <th>internal</th>\n",
       "      <th>Total</th>\n",
       "      <th>grade</th>\n",
       "    </tr>\n",
       "  </thead>\n",
       "  <tbody>\n",
       "    <tr>\n",
       "      <td>0</td>\n",
       "      <td>False</td>\n",
       "      <td>False</td>\n",
       "      <td>False</td>\n",
       "      <td>False</td>\n",
       "      <td>True</td>\n",
       "      <td>False</td>\n",
       "      <td>False</td>\n",
       "    </tr>\n",
       "    <tr>\n",
       "      <td>1</td>\n",
       "      <td>False</td>\n",
       "      <td>False</td>\n",
       "      <td>False</td>\n",
       "      <td>False</td>\n",
       "      <td>True</td>\n",
       "      <td>False</td>\n",
       "      <td>False</td>\n",
       "    </tr>\n",
       "    <tr>\n",
       "      <td>2</td>\n",
       "      <td>False</td>\n",
       "      <td>False</td>\n",
       "      <td>False</td>\n",
       "      <td>False</td>\n",
       "      <td>False</td>\n",
       "      <td>False</td>\n",
       "      <td>False</td>\n",
       "    </tr>\n",
       "    <tr>\n",
       "      <td>3</td>\n",
       "      <td>False</td>\n",
       "      <td>False</td>\n",
       "      <td>False</td>\n",
       "      <td>False</td>\n",
       "      <td>True</td>\n",
       "      <td>False</td>\n",
       "      <td>False</td>\n",
       "    </tr>\n",
       "    <tr>\n",
       "      <td>4</td>\n",
       "      <td>False</td>\n",
       "      <td>False</td>\n",
       "      <td>False</td>\n",
       "      <td>False</td>\n",
       "      <td>False</td>\n",
       "      <td>False</td>\n",
       "      <td>False</td>\n",
       "    </tr>\n",
       "  </tbody>\n",
       "</table>\n",
       "</div>"
      ],
      "text/plain": [
       "    Name  Class    Age  Marks  internal  Total  grade\n",
       "0  False  False  False  False      True  False  False\n",
       "1  False  False  False  False      True  False  False\n",
       "2  False  False  False  False     False  False  False\n",
       "3  False  False  False  False      True  False  False\n",
       "4  False  False  False  False     False  False  False"
      ]
     },
     "execution_count": 89,
     "metadata": {},
     "output_type": "execute_result"
    }
   ],
   "source": [
    "new_mod_df.isin([20])#we can see it is present in our dataframe"
   ]
  },
  {
   "cell_type": "code",
   "execution_count": 90,
   "metadata": {},
   "outputs": [
    {
     "data": {
      "text/plain": [
       "Name        False\n",
       "Class       False\n",
       "Age         False\n",
       "Marks       False\n",
       "internal     True\n",
       "Total       False\n",
       "grade       False\n",
       "dtype: bool"
      ]
     },
     "execution_count": 90,
     "metadata": {},
     "output_type": "execute_result"
    }
   ],
   "source": [
    "new_mod_df.isin([20]).any()#will tell us which column\\columns contain the value"
   ]
  },
  {
   "cell_type": "code",
   "execution_count": 91,
   "metadata": {},
   "outputs": [
    {
     "data": {
      "text/plain": [
       "True"
      ]
     },
     "execution_count": 91,
     "metadata": {},
     "output_type": "execute_result"
    }
   ],
   "source": [
    "new_mod_df.isin([20]).any().any()#is the value present anywhere"
   ]
  },
  {
   "cell_type": "code",
   "execution_count": 104,
   "metadata": {},
   "outputs": [
    {
     "name": "stdout",
     "output_type": "stream",
     "text": [
      "     Name  Class  Age  Vals\n",
      "0    Alex      1   16    16\n",
      "1    John      2   17    17\n",
      "2  Nicole      3   17    17\n",
      "3  Andrew      4   18    18\n",
      "4     joe     12   12    12\n",
      "5     joe     12   12    12\n",
      "     Name  Class  Age  Vals\n",
      "0    Alex      1   16    16\n",
      "1    John      2   17    17\n",
      "2  Nicole      3   17    17\n",
      "3  Andrew      4   18    18\n",
      "4     joe     12   12    12\n",
      "equal\n"
     ]
    },
    {
     "data": {
      "text/html": [
       "<div>\n",
       "<style scoped>\n",
       "    .dataframe tbody tr th:only-of-type {\n",
       "        vertical-align: middle;\n",
       "    }\n",
       "\n",
       "    .dataframe tbody tr th {\n",
       "        vertical-align: top;\n",
       "    }\n",
       "\n",
       "    .dataframe thead th {\n",
       "        text-align: right;\n",
       "    }\n",
       "</style>\n",
       "<table border=\"1\" class=\"dataframe\">\n",
       "  <thead>\n",
       "    <tr style=\"text-align: right;\">\n",
       "      <th></th>\n",
       "      <th>Name</th>\n",
       "      <th>Class</th>\n",
       "      <th>Age</th>\n",
       "    </tr>\n",
       "  </thead>\n",
       "  <tbody>\n",
       "    <tr>\n",
       "      <td>0</td>\n",
       "      <td>Alex</td>\n",
       "      <td>1</td>\n",
       "      <td>16</td>\n",
       "    </tr>\n",
       "    <tr>\n",
       "      <td>1</td>\n",
       "      <td>John</td>\n",
       "      <td>2</td>\n",
       "      <td>17</td>\n",
       "    </tr>\n",
       "    <tr>\n",
       "      <td>2</td>\n",
       "      <td>Nicole</td>\n",
       "      <td>3</td>\n",
       "      <td>17</td>\n",
       "    </tr>\n",
       "    <tr>\n",
       "      <td>3</td>\n",
       "      <td>Andrew</td>\n",
       "      <td>4</td>\n",
       "      <td>18</td>\n",
       "    </tr>\n",
       "    <tr>\n",
       "      <td>4</td>\n",
       "      <td>joe</td>\n",
       "      <td>12</td>\n",
       "      <td>12</td>\n",
       "    </tr>\n",
       "    <tr>\n",
       "      <td>5</td>\n",
       "      <td>joe</td>\n",
       "      <td>12</td>\n",
       "      <td>12</td>\n",
       "    </tr>\n",
       "  </tbody>\n",
       "</table>\n",
       "</div>"
      ],
      "text/plain": [
       "     Name  Class  Age\n",
       "0    Alex      1   16\n",
       "1    John      2   17\n",
       "2  Nicole      3   17\n",
       "3  Andrew      4   18\n",
       "4     joe     12   12\n",
       "5     joe     12   12"
      ]
     },
     "execution_count": 104,
     "metadata": {},
     "output_type": "execute_result"
    }
   ],
   "source": [
    "#finding and dropping duplicate rows and columns in pandas.\n",
    "student_data={\n",
    "    'Name':['Alex','John','Nicole','Andrew','joe','joe'],\n",
    "    'Class':[1,2,3,4,12,12],\n",
    "    'Age':[16,17,17,18,12,12]\n",
    "}\n",
    "new_df=pd.DataFrame(student_data)\n",
    "new_df#We have two rows which are duplicates\n",
    "new_df['Vals']=[16,17,17,18,12,12]\n",
    "print(new_df)\n",
    "\n",
    "print(new_df.drop_duplicates())#by default it will drop the duplicate row from the dataframe and keep the first occurance\n",
    "\n",
    "column=new_df.loc[:,'Age']\n",
    "other_column=new_df.loc[:,'Vals']\n",
    "\n",
    "if column.equals(other_column):\n",
    "    print('equal')\n",
    "new_df.drop(columns=['Vals'])#dropping duplicate column"
   ]
  },
  {
   "cell_type": "code",
   "execution_count": 105,
   "metadata": {},
   "outputs": [
    {
     "data": {
      "text/plain": [
       "False"
      ]
     },
     "execution_count": 105,
     "metadata": {},
     "output_type": "execute_result"
    }
   ],
   "source": [
    "#how to check if a dataframe is empty\n",
    "new_df.empty"
   ]
  },
  {
   "cell_type": "code",
   "execution_count": 106,
   "metadata": {},
   "outputs": [
    {
     "data": {
      "text/plain": [
       "6"
      ]
     },
     "execution_count": 106,
     "metadata": {},
     "output_type": "execute_result"
    }
   ],
   "source": [
    "len(new_df)"
   ]
  },
  {
   "cell_type": "code",
   "execution_count": 108,
   "metadata": {},
   "outputs": [
    {
     "data": {
      "text/plain": [
       "6"
      ]
     },
     "execution_count": 108,
     "metadata": {},
     "output_type": "execute_result"
    }
   ],
   "source": [
    "len(new_df.index.values)"
   ]
  },
  {
   "cell_type": "code",
   "execution_count": 110,
   "metadata": {},
   "outputs": [
    {
     "data": {
      "text/plain": [
       "array([0, 1, 2, 3, 4, 5], dtype=int64)"
      ]
     },
     "execution_count": 110,
     "metadata": {},
     "output_type": "execute_result"
    }
   ],
   "source": [
    "new_df.index.values"
   ]
  },
  {
   "cell_type": "code",
   "execution_count": 111,
   "metadata": {},
   "outputs": [
    {
     "data": {
      "text/html": [
       "<div>\n",
       "<style scoped>\n",
       "    .dataframe tbody tr th:only-of-type {\n",
       "        vertical-align: middle;\n",
       "    }\n",
       "\n",
       "    .dataframe tbody tr th {\n",
       "        vertical-align: top;\n",
       "    }\n",
       "\n",
       "    .dataframe thead th {\n",
       "        text-align: right;\n",
       "    }\n",
       "</style>\n",
       "<table border=\"1\" class=\"dataframe\">\n",
       "  <thead>\n",
       "    <tr style=\"text-align: right;\">\n",
       "      <th></th>\n",
       "      <th>Name</th>\n",
       "      <th>Class</th>\n",
       "      <th>Age</th>\n",
       "      <th>Vals</th>\n",
       "    </tr>\n",
       "  </thead>\n",
       "  <tbody>\n",
       "    <tr>\n",
       "      <td>5</td>\n",
       "      <td>joe</td>\n",
       "      <td>12</td>\n",
       "      <td>12</td>\n",
       "      <td>12</td>\n",
       "    </tr>\n",
       "  </tbody>\n",
       "</table>\n",
       "</div>"
      ],
      "text/plain": [
       "  Name  Class  Age  Vals\n",
       "5  joe     12   12    12"
      ]
     },
     "execution_count": 111,
     "metadata": {},
     "output_type": "execute_result"
    }
   ],
   "source": [
    "new_df[new_df.duplicated()]#if we wanted to find the duplicated row we can use the duplicated() \n",
    "#this is based on all the columns of the dataframe."
   ]
  },
  {
   "cell_type": "code",
   "execution_count": 114,
   "metadata": {},
   "outputs": [
    {
     "data": {
      "text/html": [
       "<div>\n",
       "<style scoped>\n",
       "    .dataframe tbody tr th:only-of-type {\n",
       "        vertical-align: middle;\n",
       "    }\n",
       "\n",
       "    .dataframe tbody tr th {\n",
       "        vertical-align: top;\n",
       "    }\n",
       "\n",
       "    .dataframe thead th {\n",
       "        text-align: right;\n",
       "    }\n",
       "</style>\n",
       "<table border=\"1\" class=\"dataframe\">\n",
       "  <thead>\n",
       "    <tr style=\"text-align: right;\">\n",
       "      <th></th>\n",
       "      <th>Name</th>\n",
       "      <th>Class</th>\n",
       "      <th>Age</th>\n",
       "      <th>Vals</th>\n",
       "    </tr>\n",
       "  </thead>\n",
       "  <tbody>\n",
       "    <tr>\n",
       "      <td>2</td>\n",
       "      <td>Nicole</td>\n",
       "      <td>3</td>\n",
       "      <td>17</td>\n",
       "      <td>17</td>\n",
       "    </tr>\n",
       "    <tr>\n",
       "      <td>5</td>\n",
       "      <td>joe</td>\n",
       "      <td>12</td>\n",
       "      <td>12</td>\n",
       "      <td>12</td>\n",
       "    </tr>\n",
       "  </tbody>\n",
       "</table>\n",
       "</div>"
      ],
      "text/plain": [
       "     Name  Class  Age  Vals\n",
       "2  Nicole      3   17    17\n",
       "5     joe     12   12    12"
      ]
     },
     "execution_count": 114,
     "metadata": {},
     "output_type": "execute_result"
    }
   ],
   "source": [
    "new_df[new_df.duplicated(['Age'])]#finding the duplicated rows except the first occurance from the dataframe based on a specific column"
   ]
  },
  {
   "cell_type": "code",
   "execution_count": 115,
   "metadata": {},
   "outputs": [
    {
     "data": {
      "text/plain": [
       "Name     joe\n",
       "Class     12\n",
       "Age       18\n",
       "Vals      18\n",
       "dtype: object"
      ]
     },
     "execution_count": 115,
     "metadata": {},
     "output_type": "execute_result"
    }
   ],
   "source": [
    "#finding the max value in the dataframe\n",
    "new_df.max()#finding the max in the dataframe wrt columns"
   ]
  },
  {
   "cell_type": "code",
   "execution_count": 116,
   "metadata": {},
   "outputs": [
    {
     "data": {
      "text/plain": [
       "0    16\n",
       "1    17\n",
       "2    17\n",
       "3    18\n",
       "4    12\n",
       "5    12\n",
       "dtype: int64"
      ]
     },
     "execution_count": 116,
     "metadata": {},
     "output_type": "execute_result"
    }
   ],
   "source": [
    "new_df.max(axis=1)#finding the max in the dataframe wrt rows"
   ]
  },
  {
   "cell_type": "code",
   "execution_count": 123,
   "metadata": {},
   "outputs": [],
   "source": [
    "#new_df.idxmax(skipna=True)]\n",
    "#to get the index position"
   ]
  },
  {
   "cell_type": "code",
   "execution_count": 138,
   "metadata": {},
   "outputs": [
    {
     "name": "stdout",
     "output_type": "stream",
     "text": [
      "     Name  Class  Age  Vals\n",
      "0    Alex      1   16    16\n",
      "1    John      2   17    17\n",
      "2  Nicole      3   17    17\n",
      "3  Andrew      4   18    18\n",
      "4     joe     12   12    12\n",
      "5     joe     12   12    12\n",
      "    Name  Class    Age   Vals\n",
      "0  False  False  False  False\n",
      "1  False  False  False  False\n",
      "2  False   True  False  False\n",
      "3  False  False  False  False\n",
      "4  False  False  False  False\n",
      "5  False  False  False  False\n",
      "row 2 columns Class \n"
     ]
    }
   ],
   "source": [
    "#finding the index of an element in pandas\n",
    "print(new_df)\n",
    "print(new_df.isin([3]))\n",
    "column_list=new_df.isin([3]).any()\n",
    "column_list\n",
    "new_list=list(column_list[column_list==True].index)\n",
    "new_list#we have the columns which have the value 3\n",
    "bool_mat=new_df.isin([3])\n",
    "for col in new_list:\n",
    "    rows=list(bool_mat[col][bool_mat[col]==True].index)\n",
    "    for row in rows:\n",
    "        print(f'row {row} columns {col} ')"
   ]
  },
  {
   "cell_type": "code",
   "execution_count": 169,
   "metadata": {},
   "outputs": [
    {
     "name": "stdout",
     "output_type": "stream",
     "text": [
      "           Name  Class  Age\n",
      "0      AlexAlex      2   32\n",
      "1      JohnJohn      4   34\n",
      "2  NicoleNicole      6   34\n",
      "3  AndrewAndrew      8   36\n",
      "4        joejoe     24   24\n",
      "5        joejoe     24   24\n",
      "                 Name  Class  Age\n",
      "0        AlexAlexAlex      3   48\n",
      "1        JohnJohnJohn      6   51\n",
      "2  NicoleNicoleNicole      9   51\n",
      "3  AndrewAndrewAndrew     12   54\n",
      "4           joejoejoe     36   36\n",
      "5           joejoejoe     36   36\n",
      "Name     AlexJohnNicoleAndrewjoejoe\n",
      "Class                            34\n",
      "Age                              92\n",
      "dtype: object\n"
     ]
    }
   ],
   "source": [
    "#Modify a dataframe\n",
    "#pandas apply()\n",
    "student_data={\n",
    "    'Name':['Alex','John','Nicole','Andrew','joe','joe'],\n",
    "    'Class':[1,2,3,4,12,12],\n",
    "    'Age':[16,17,17,18,12,12]\n",
    "}\n",
    "new_df=pd.DataFrame(student_data)\n",
    "#we can use the dataframe.apply() to run a function on rows and columns of the dataframe\n",
    "#we can set axis=0 applies the function on columns axis=1 rows\n",
    "print(new_df.apply(lambda x: x*2,axis=0))\n",
    "print(new_df.apply(lambda x: x*3,axis=1))\n",
    "#we can also pass in a user defined function just as how we are passing in a lambda function.\n",
    "#we can also call a numpy function ]\n",
    "print(new_df.apply(np.sum))"
   ]
  },
  {
   "cell_type": "code",
   "execution_count": 170,
   "metadata": {},
   "outputs": [
    {
     "data": {
      "text/html": [
       "<div>\n",
       "<style scoped>\n",
       "    .dataframe tbody tr th:only-of-type {\n",
       "        vertical-align: middle;\n",
       "    }\n",
       "\n",
       "    .dataframe tbody tr th {\n",
       "        vertical-align: top;\n",
       "    }\n",
       "\n",
       "    .dataframe thead th {\n",
       "        text-align: right;\n",
       "    }\n",
       "</style>\n",
       "<table border=\"1\" class=\"dataframe\">\n",
       "  <thead>\n",
       "    <tr style=\"text-align: right;\">\n",
       "      <th></th>\n",
       "      <th>Name</th>\n",
       "      <th>Class</th>\n",
       "      <th>Age</th>\n",
       "    </tr>\n",
       "  </thead>\n",
       "  <tbody>\n",
       "    <tr>\n",
       "      <td>4</td>\n",
       "      <td>joe</td>\n",
       "      <td>12</td>\n",
       "      <td>12</td>\n",
       "    </tr>\n",
       "    <tr>\n",
       "      <td>5</td>\n",
       "      <td>joe</td>\n",
       "      <td>12</td>\n",
       "      <td>12</td>\n",
       "    </tr>\n",
       "    <tr>\n",
       "      <td>0</td>\n",
       "      <td>Alex</td>\n",
       "      <td>1</td>\n",
       "      <td>16</td>\n",
       "    </tr>\n",
       "    <tr>\n",
       "      <td>1</td>\n",
       "      <td>John</td>\n",
       "      <td>2</td>\n",
       "      <td>17</td>\n",
       "    </tr>\n",
       "    <tr>\n",
       "      <td>2</td>\n",
       "      <td>Nicole</td>\n",
       "      <td>3</td>\n",
       "      <td>17</td>\n",
       "    </tr>\n",
       "    <tr>\n",
       "      <td>3</td>\n",
       "      <td>Andrew</td>\n",
       "      <td>4</td>\n",
       "      <td>18</td>\n",
       "    </tr>\n",
       "  </tbody>\n",
       "</table>\n",
       "</div>"
      ],
      "text/plain": [
       "     Name  Class  Age\n",
       "4     joe     12   12\n",
       "5     joe     12   12\n",
       "0    Alex      1   16\n",
       "1    John      2   17\n",
       "2  Nicole      3   17\n",
       "3  Andrew      4   18"
      ]
     },
     "execution_count": 170,
     "metadata": {},
     "output_type": "execute_result"
    }
   ],
   "source": [
    "student_data={\n",
    "    'Name':['Alex','John','Nicole','Andrew','joe','joe'],\n",
    "    'Class':[1,2,3,4,12,12],\n",
    "    'Age':[16,17,17,18,12,12]\n",
    "}\n",
    "new_df=pd.DataFrame(student_data)\n",
    "#sorting a dataframe\n",
    "new_df.sort_values(by=['Age'])"
   ]
  },
  {
   "cell_type": "code",
   "execution_count": 171,
   "metadata": {},
   "outputs": [
    {
     "data": {
      "text/html": [
       "<div>\n",
       "<style scoped>\n",
       "    .dataframe tbody tr th:only-of-type {\n",
       "        vertical-align: middle;\n",
       "    }\n",
       "\n",
       "    .dataframe tbody tr th {\n",
       "        vertical-align: top;\n",
       "    }\n",
       "\n",
       "    .dataframe thead th {\n",
       "        text-align: right;\n",
       "    }\n",
       "</style>\n",
       "<table border=\"1\" class=\"dataframe\">\n",
       "  <thead>\n",
       "    <tr style=\"text-align: right;\">\n",
       "      <th></th>\n",
       "      <th>Class</th>\n",
       "      <th>Age</th>\n",
       "    </tr>\n",
       "  </thead>\n",
       "  <tbody>\n",
       "    <tr>\n",
       "      <td>0</td>\n",
       "      <td>11</td>\n",
       "      <td>16</td>\n",
       "    </tr>\n",
       "    <tr>\n",
       "      <td>1</td>\n",
       "      <td>144</td>\n",
       "      <td>289</td>\n",
       "    </tr>\n",
       "    <tr>\n",
       "      <td>2</td>\n",
       "      <td>13</td>\n",
       "      <td>17</td>\n",
       "    </tr>\n",
       "    <tr>\n",
       "      <td>3</td>\n",
       "      <td>14</td>\n",
       "      <td>18</td>\n",
       "    </tr>\n",
       "    <tr>\n",
       "      <td>4</td>\n",
       "      <td>22</td>\n",
       "      <td>12</td>\n",
       "    </tr>\n",
       "    <tr>\n",
       "      <td>5</td>\n",
       "      <td>22</td>\n",
       "      <td>12</td>\n",
       "    </tr>\n",
       "  </tbody>\n",
       "</table>\n",
       "</div>"
      ],
      "text/plain": [
       "   Class  Age\n",
       "0     11   16\n",
       "1    144  289\n",
       "2     13   17\n",
       "3     14   18\n",
       "4     22   12\n",
       "5     22   12"
      ]
     },
     "execution_count": 171,
     "metadata": {},
     "output_type": "execute_result"
    }
   ],
   "source": [
    "#using the apply() on only specific rows\n",
    "new_df['Class']=new_df['Class'].apply(lambda x:x+10)\n",
    "new_df#apply function applied only to the Class column\n",
    "\n",
    "#in the same way if we wanted to use the apply function on a single row then we have to do somehting like this\n",
    "new_df.drop(columns=['Name'],inplace=True)\n",
    "new_df.loc[1]=new_df.loc[1].apply(np.square)\n",
    "new_df"
   ]
  },
  {
   "cell_type": "code",
   "execution_count": 172,
   "metadata": {},
   "outputs": [
    {
     "data": {
      "text/html": [
       "<div>\n",
       "<style scoped>\n",
       "    .dataframe tbody tr th:only-of-type {\n",
       "        vertical-align: middle;\n",
       "    }\n",
       "\n",
       "    .dataframe tbody tr th {\n",
       "        vertical-align: top;\n",
       "    }\n",
       "\n",
       "    .dataframe thead th {\n",
       "        text-align: right;\n",
       "    }\n",
       "</style>\n",
       "<table border=\"1\" class=\"dataframe\">\n",
       "  <thead>\n",
       "    <tr style=\"text-align: right;\">\n",
       "      <th></th>\n",
       "      <th>Class</th>\n",
       "      <th>Age</th>\n",
       "    </tr>\n",
       "  </thead>\n",
       "  <tbody>\n",
       "    <tr>\n",
       "      <td>0</td>\n",
       "      <td>21</td>\n",
       "      <td>16</td>\n",
       "    </tr>\n",
       "    <tr>\n",
       "      <td>1</td>\n",
       "      <td>154</td>\n",
       "      <td>289</td>\n",
       "    </tr>\n",
       "    <tr>\n",
       "      <td>2</td>\n",
       "      <td>23</td>\n",
       "      <td>17</td>\n",
       "    </tr>\n",
       "    <tr>\n",
       "      <td>3</td>\n",
       "      <td>24</td>\n",
       "      <td>18</td>\n",
       "    </tr>\n",
       "    <tr>\n",
       "      <td>4</td>\n",
       "      <td>32</td>\n",
       "      <td>12</td>\n",
       "    </tr>\n",
       "    <tr>\n",
       "      <td>5</td>\n",
       "      <td>32</td>\n",
       "      <td>12</td>\n",
       "    </tr>\n",
       "  </tbody>\n",
       "</table>\n",
       "</div>"
      ],
      "text/plain": [
       "   Class  Age\n",
       "0     21   16\n",
       "1    154  289\n",
       "2     23   17\n",
       "3     24   18\n",
       "4     32   12\n",
       "5     32   12"
      ]
     },
     "execution_count": 172,
     "metadata": {},
     "output_type": "execute_result"
    }
   ],
   "source": [
    "new_df=new_df.apply(lambda x:x+10 if x.name in ['Class'] else x)\n",
    "new_df\n",
    "#same way set axis=1 for rows and select rows in the dataframe."
   ]
  },
  {
   "cell_type": "code",
   "execution_count": 174,
   "metadata": {},
   "outputs": [
    {
     "name": "stdout",
     "output_type": "stream",
     "text": [
      "Class    float32\n",
      "Age       object\n",
      "dtype: object\n",
      "Class    float32\n",
      "Age       object\n",
      "dtype: object\n"
     ]
    }
   ],
   "source": [
    "#changing the datatype of pandas dataframe\n",
    "print(new_df.dtypes)\n",
    "new_df['Class']=new_df['Class'].astype('float32')\n",
    "new_df['Age']=new_df['Age'].astype('object')\n",
    "print(new_df.dtypes)"
   ]
  },
  {
   "cell_type": "code",
   "execution_count": 176,
   "metadata": {},
   "outputs": [
    {
     "data": {
      "text/plain": [
       "Class    int64\n",
       "Age      int64\n",
       "dtype: object"
      ]
     },
     "execution_count": 176,
     "metadata": {},
     "output_type": "execute_result"
    }
   ],
   "source": [
    "#if we wish to convert the datatypes of multiple columns then we can pass a dictionary into the astype()\n",
    "new_df=new_df.astype({'Class':'int64','Age':'int64'})\n",
    "new_df.dtypes"
   ]
  },
  {
   "cell_type": "code",
   "execution_count": 3,
   "metadata": {},
   "outputs": [
    {
     "ename": "NameError",
     "evalue": "name 'new_df' is not defined",
     "output_type": "error",
     "traceback": [
      "\u001b[1;31m---------------------------------------------------------------------------\u001b[0m",
      "\u001b[1;31mNameError\u001b[0m                                 Traceback (most recent call last)",
      "\u001b[1;32m<ipython-input-3-7e4c4e95f76f>\u001b[0m in \u001b[0;36m<module>\u001b[1;34m\u001b[0m\n\u001b[0;32m      1\u001b[0m \u001b[1;31m#changing column names of the dataframe\u001b[0m\u001b[1;33m\u001b[0m\u001b[1;33m\u001b[0m\u001b[1;33m\u001b[0m\u001b[0m\n\u001b[1;32m----> 2\u001b[1;33m \u001b[0mname_list\u001b[0m\u001b[1;33m=\u001b[0m\u001b[0mnew_df\u001b[0m\u001b[1;33m.\u001b[0m\u001b[0mcolumns\u001b[0m\u001b[1;33m.\u001b[0m\u001b[0mvalues\u001b[0m\u001b[1;31m#use index.values for row names\u001b[0m\u001b[1;33m\u001b[0m\u001b[1;33m\u001b[0m\u001b[0m\n\u001b[0m\u001b[0;32m      3\u001b[0m \u001b[0mname_list\u001b[0m\u001b[1;33m[\u001b[0m\u001b[1;36m0\u001b[0m\u001b[1;33m]\u001b[0m\u001b[1;33m=\u001b[0m\u001b[1;34m'Rank'\u001b[0m\u001b[1;33m\u001b[0m\u001b[1;33m\u001b[0m\u001b[0m\n\u001b[0;32m      4\u001b[0m \u001b[0mnew_df\u001b[0m\u001b[1;33m\u001b[0m\u001b[1;33m\u001b[0m\u001b[0m\n",
      "\u001b[1;31mNameError\u001b[0m: name 'new_df' is not defined"
     ]
    }
   ],
   "source": [
    "#changing column names of the dataframe\n",
    "name_list=new_df.columns.values#use index.values for row names\n",
    "name_list[0]='Rank'\n",
    "new_df"
   ]
  },
  {
   "cell_type": "code",
   "execution_count": 2,
   "metadata": {},
   "outputs": [
    {
     "ename": "NameError",
     "evalue": "name 'new_df' is not defined",
     "output_type": "error",
     "traceback": [
      "\u001b[1;31m---------------------------------------------------------------------------\u001b[0m",
      "\u001b[1;31mNameError\u001b[0m                                 Traceback (most recent call last)",
      "\u001b[1;32m<ipython-input-2-1200d4ad1ba1>\u001b[0m in \u001b[0;36m<module>\u001b[1;34m\u001b[0m\n\u001b[0;32m      4\u001b[0m \u001b[1;34m'21/05/1983'\u001b[0m\u001b[1;33m,\u001b[0m\u001b[1;33m\u001b[0m\u001b[1;33m\u001b[0m\u001b[0m\n\u001b[0;32m      5\u001b[0m \u001b[1;34m'16/08/1984'\u001b[0m\u001b[1;33m,\u001b[0m\u001b[1;33m\u001b[0m\u001b[1;33m\u001b[0m\u001b[0m\n\u001b[1;32m----> 6\u001b[1;33m '11/10/1998']\n\u001b[0m",
      "\u001b[1;31mNameError\u001b[0m: name 'new_df' is not defined"
     ]
    }
   ],
   "source": [
    "new_df['dob']=['29/10/1988',\n",
    "'23/11/1981' ,\n",
    "'10/04/1982',\n",
    "'21/05/1983',\n",
    "'16/08/1984',\n",
    "'11/10/1998']"
   ]
  },
  {
   "cell_type": "code",
   "execution_count": 185,
   "metadata": {},
   "outputs": [
    {
     "data": {
      "text/html": [
       "<div>\n",
       "<style scoped>\n",
       "    .dataframe tbody tr th:only-of-type {\n",
       "        vertical-align: middle;\n",
       "    }\n",
       "\n",
       "    .dataframe tbody tr th {\n",
       "        vertical-align: top;\n",
       "    }\n",
       "\n",
       "    .dataframe thead th {\n",
       "        text-align: right;\n",
       "    }\n",
       "</style>\n",
       "<table border=\"1\" class=\"dataframe\">\n",
       "  <thead>\n",
       "    <tr style=\"text-align: right;\">\n",
       "      <th></th>\n",
       "      <th>Rank</th>\n",
       "      <th>Age</th>\n",
       "      <th>dob</th>\n",
       "    </tr>\n",
       "  </thead>\n",
       "  <tbody>\n",
       "    <tr>\n",
       "      <td>0</td>\n",
       "      <td>21</td>\n",
       "      <td>16</td>\n",
       "      <td>29/10/1988</td>\n",
       "    </tr>\n",
       "    <tr>\n",
       "      <td>1</td>\n",
       "      <td>154</td>\n",
       "      <td>289</td>\n",
       "      <td>23/11/1981</td>\n",
       "    </tr>\n",
       "    <tr>\n",
       "      <td>2</td>\n",
       "      <td>23</td>\n",
       "      <td>17</td>\n",
       "      <td>10/04/1982</td>\n",
       "    </tr>\n",
       "    <tr>\n",
       "      <td>3</td>\n",
       "      <td>24</td>\n",
       "      <td>18</td>\n",
       "      <td>21/05/1983</td>\n",
       "    </tr>\n",
       "    <tr>\n",
       "      <td>4</td>\n",
       "      <td>32</td>\n",
       "      <td>12</td>\n",
       "      <td>16/08/1984</td>\n",
       "    </tr>\n",
       "    <tr>\n",
       "      <td>5</td>\n",
       "      <td>32</td>\n",
       "      <td>12</td>\n",
       "      <td>11/10/1998</td>\n",
       "    </tr>\n",
       "  </tbody>\n",
       "</table>\n",
       "</div>"
      ],
      "text/plain": [
       "   Rank  Age         dob\n",
       "0    21   16  29/10/1988\n",
       "1   154  289  23/11/1981\n",
       "2    23   17  10/04/1982\n",
       "3    24   18  21/05/1983\n",
       "4    32   12  16/08/1984\n",
       "5    32   12  11/10/1998"
      ]
     },
     "execution_count": 185,
     "metadata": {},
     "output_type": "execute_result"
    }
   ],
   "source": [
    "new_df"
   ]
  },
  {
   "cell_type": "code",
   "execution_count": 188,
   "metadata": {},
   "outputs": [
    {
     "name": "stdout",
     "output_type": "stream",
     "text": [
      "Rank             int64\n",
      "Age              int64\n",
      "dob     datetime64[ns]\n",
      "dtype: object\n",
      "Rank             int64\n",
      "Age              int64\n",
      "dob     datetime64[ns]\n",
      "dtype: object\n",
      "   Rank  Age        dob\n",
      "0    21   16 1988-10-29\n",
      "1   154  289 1981-11-23\n",
      "2    23   17 1982-10-04\n",
      "3    24   18 1983-05-21\n",
      "4    32   12 1984-08-16\n",
      "5    32   12 1998-11-10\n"
     ]
    }
   ],
   "source": [
    "#we need to convert this date time which is a string right now into a datetime object\n",
    "print(new_df.dtypes)\n",
    "new_df['dob']=pd.to_datetime(new_df['dob'])\n",
    "print(new_df.dtypes)\n",
    "print(new_df)"
   ]
  },
  {
   "cell_type": "code",
   "execution_count": 204,
   "metadata": {},
   "outputs": [
    {
     "name": "stdout",
     "output_type": "stream",
     "text": [
      "   Rank  Age        dob  Indx\n",
      "0    21   16 1988-10-29     0\n",
      "1   154  289 1981-11-23     1\n",
      "2    23   17 1982-10-04     2\n",
      "3    24   18 1983-05-21     3\n",
      "4    32   12 1984-08-16     4\n",
      "5    32   12 1998-11-10     5\n",
      "      Rank  Age        dob  Indx\n",
      "Indx                            \n",
      "0       21   16 1988-10-29     0\n",
      "1      154  289 1981-11-23     1\n",
      "2       23   17 1982-10-04     2\n",
      "3       24   18 1983-05-21     3\n",
      "4       32   12 1984-08-16     4\n",
      "5       32   12 1998-11-10     5\n",
      "      Rank  Age        dob\n",
      "Indx                      \n",
      "0       21   16 1988-10-29\n",
      "1      154  289 1981-11-23\n",
      "2       23   17 1982-10-04\n",
      "3       24   18 1983-05-21\n",
      "4       32   12 1984-08-16\n",
      "5       32   12 1998-11-10\n",
      "        Age        dob  Indx\n",
      "  Rank                      \n",
      "0 21     16 1988-10-29     0\n",
      "1 154   289 1981-11-23     1\n",
      "2 23     17 1982-10-04     2\n",
      "3 24     18 1983-05-21     3\n",
      "4 32     12 1984-08-16     4\n",
      "5 32     12 1998-11-10     5\n"
     ]
    }
   ],
   "source": [
    "#setting a column of a dataframe as the index \n",
    "new_df['Indx']=list(range(0,6))\n",
    "print(new_df)\n",
    "print(new_df.set_index('Indx',drop=False))\n",
    "print(new_df.set_index('Indx'))\n",
    "print(new_df.set_index('Rank',append=True))#multi index"
   ]
  },
  {
   "cell_type": "code",
   "execution_count": 201,
   "metadata": {},
   "outputs": [
    {
     "data": {
      "text/plain": [
       "Rank             int64\n",
       "Age              int64\n",
       "dob     datetime64[ns]\n",
       "Indx             int64\n",
       "dtype: object"
      ]
     },
     "execution_count": 201,
     "metadata": {},
     "output_type": "execute_result"
    }
   ],
   "source": [
    "new_df.dtypes"
   ]
  },
  {
   "cell_type": "code",
   "execution_count": 205,
   "metadata": {},
   "outputs": [
    {
     "data": {
      "text/html": [
       "<div>\n",
       "<style scoped>\n",
       "    .dataframe tbody tr th:only-of-type {\n",
       "        vertical-align: middle;\n",
       "    }\n",
       "\n",
       "    .dataframe tbody tr th {\n",
       "        vertical-align: top;\n",
       "    }\n",
       "\n",
       "    .dataframe thead th {\n",
       "        text-align: right;\n",
       "    }\n",
       "</style>\n",
       "<table border=\"1\" class=\"dataframe\">\n",
       "  <thead>\n",
       "    <tr style=\"text-align: right;\">\n",
       "      <th></th>\n",
       "      <th>index</th>\n",
       "      <th>Rank</th>\n",
       "      <th>Age</th>\n",
       "      <th>dob</th>\n",
       "      <th>Indx</th>\n",
       "    </tr>\n",
       "  </thead>\n",
       "  <tbody>\n",
       "    <tr>\n",
       "      <td>0</td>\n",
       "      <td>0</td>\n",
       "      <td>21</td>\n",
       "      <td>16</td>\n",
       "      <td>1988-10-29</td>\n",
       "      <td>0</td>\n",
       "    </tr>\n",
       "    <tr>\n",
       "      <td>1</td>\n",
       "      <td>1</td>\n",
       "      <td>154</td>\n",
       "      <td>289</td>\n",
       "      <td>1981-11-23</td>\n",
       "      <td>1</td>\n",
       "    </tr>\n",
       "    <tr>\n",
       "      <td>2</td>\n",
       "      <td>2</td>\n",
       "      <td>23</td>\n",
       "      <td>17</td>\n",
       "      <td>1982-10-04</td>\n",
       "      <td>2</td>\n",
       "    </tr>\n",
       "    <tr>\n",
       "      <td>3</td>\n",
       "      <td>3</td>\n",
       "      <td>24</td>\n",
       "      <td>18</td>\n",
       "      <td>1983-05-21</td>\n",
       "      <td>3</td>\n",
       "    </tr>\n",
       "    <tr>\n",
       "      <td>4</td>\n",
       "      <td>4</td>\n",
       "      <td>32</td>\n",
       "      <td>12</td>\n",
       "      <td>1984-08-16</td>\n",
       "      <td>4</td>\n",
       "    </tr>\n",
       "    <tr>\n",
       "      <td>5</td>\n",
       "      <td>5</td>\n",
       "      <td>32</td>\n",
       "      <td>12</td>\n",
       "      <td>1998-11-10</td>\n",
       "      <td>5</td>\n",
       "    </tr>\n",
       "  </tbody>\n",
       "</table>\n",
       "</div>"
      ],
      "text/plain": [
       "   index  Rank  Age        dob  Indx\n",
       "0      0    21   16 1988-10-29     0\n",
       "1      1   154  289 1981-11-23     1\n",
       "2      2    23   17 1982-10-04     2\n",
       "3      3    24   18 1983-05-21     3\n",
       "4      4    32   12 1984-08-16     4\n",
       "5      5    32   12 1998-11-10     5"
      ]
     },
     "execution_count": 205,
     "metadata": {},
     "output_type": "execute_result"
    }
   ],
   "source": [
    "#reseting the index\n",
    "new_df.reset_index()#will reset the multi index using reset_inedx()"
   ]
  },
  {
   "cell_type": "code",
   "execution_count": null,
   "metadata": {},
   "outputs": [],
   "source": [
    "#Merging two dataframes.\n",
    "#use the df1.merge(df2,how=?)"
   ]
  },
  {
   "cell_type": "code",
   "execution_count": 209,
   "metadata": {},
   "outputs": [
    {
     "data": {
      "text/plain": [
       "Rank    0\n",
       "Age     0\n",
       "dob     0\n",
       "Indx    0\n",
       "dtype: int64"
      ]
     },
     "execution_count": 209,
     "metadata": {},
     "output_type": "execute_result"
    }
   ],
   "source": [
    "#counting the number of NaN or missing values in a df\n",
    "new_df.isnull().sum()"
   ]
  },
  {
   "cell_type": "code",
   "execution_count": 210,
   "metadata": {},
   "outputs": [
    {
     "data": {
      "text/plain": [
       "RangeIndex(start=0, stop=6, step=1)"
      ]
     },
     "execution_count": 210,
     "metadata": {},
     "output_type": "execute_result"
    }
   ],
   "source": [
    "new_df.index"
   ]
  },
  {
   "cell_type": "code",
   "execution_count": 218,
   "metadata": {},
   "outputs": [
    {
     "name": "stdout",
     "output_type": "stream",
     "text": [
      "number of nulls in row 0 is 0\n",
      "number of nulls in row 1 is 0\n",
      "number of nulls in row 2 is 0\n",
      "number of nulls in row 3 is 0\n",
      "number of nulls in row 4 is 0\n",
      "number of nulls in row 5 is 0\n"
     ]
    }
   ],
   "source": [
    "for i in list(range(len(new_df.index))):\n",
    "    print(f'number of nulls in row {i} is {new_df.iloc[i].isnull().sum()}')#checking the number of nulls present in every row of our dataframe\n"
   ]
  },
  {
   "cell_type": "code",
   "execution_count": 220,
   "metadata": {},
   "outputs": [
    {
     "name": "stdout",
     "output_type": "stream",
     "text": [
      "(6, 4)\n",
      "6\n"
     ]
    }
   ],
   "source": [
    "#counting the number of rows in our dataframe\n",
    "print(new_df.shape)\n",
    "print(len(new_df.index))"
   ]
  },
  {
   "cell_type": "code",
   "execution_count": 230,
   "metadata": {},
   "outputs": [
    {
     "name": "stdout",
     "output_type": "stream",
     "text": [
      "0     True\n",
      "1    False\n",
      "2     True\n",
      "3    False\n",
      "4     True\n",
      "5     True\n",
      "dtype: bool\n"
     ]
    },
    {
     "data": {
      "text/plain": [
       "4"
      ]
     },
     "execution_count": 230,
     "metadata": {},
     "output_type": "execute_result"
    }
   ],
   "source": [
    "#counting the number of rows based off a certain condition.\n",
    "#as an example counting the number of rows in our dataframe where the class > 2\n",
    "\n",
    "series_obj=new_df.apply(lambda x: True if x['Age']<18 else False,axis=1)#searching rowwise\n",
    "print(series_obj)\n",
    "len(series_obj[series_obj==True].index)#this gives us the number of rows in our dataframe where the age < 18"
   ]
  },
  {
   "cell_type": "code",
   "execution_count": 1,
   "metadata": {},
   "outputs": [
    {
     "ename": "NameError",
     "evalue": "name 'new_df' is not defined",
     "output_type": "error",
     "traceback": [
      "\u001b[1;31m---------------------------------------------------------------------------\u001b[0m",
      "\u001b[1;31mNameError\u001b[0m                                 Traceback (most recent call last)",
      "\u001b[1;32m<ipython-input-1-3669fb29dbf6>\u001b[0m in \u001b[0;36m<module>\u001b[1;34m\u001b[0m\n\u001b[1;32m----> 1\u001b[1;33m \u001b[0mnew_df\u001b[0m\u001b[1;33m\u001b[0m\u001b[1;33m\u001b[0m\u001b[0m\n\u001b[0m",
      "\u001b[1;31mNameError\u001b[0m: name 'new_df' is not defined"
     ]
    }
   ],
   "source": [
    "new_df"
   ]
  },
  {
   "cell_type": "code",
   "execution_count": 232,
   "metadata": {},
   "outputs": [
    {
     "name": "stdout",
     "output_type": "stream",
     "text": [
      "index is 0\n",
      "Content of the series Rank                     21\n",
      "Age                      16\n",
      "dob     1988-10-29 00:00:00\n",
      "Indx                      0\n",
      "Name: 0, dtype: object\n",
      "index is 1\n",
      "Content of the series Rank                    154\n",
      "Age                     289\n",
      "dob     1981-11-23 00:00:00\n",
      "Indx                      1\n",
      "Name: 1, dtype: object\n",
      "index is 2\n",
      "Content of the series Rank                     23\n",
      "Age                      17\n",
      "dob     1982-10-04 00:00:00\n",
      "Indx                      2\n",
      "Name: 2, dtype: object\n",
      "index is 3\n",
      "Content of the series Rank                     24\n",
      "Age                      18\n",
      "dob     1983-05-21 00:00:00\n",
      "Indx                      3\n",
      "Name: 3, dtype: object\n",
      "index is 4\n",
      "Content of the series Rank                     32\n",
      "Age                      12\n",
      "dob     1984-08-16 00:00:00\n",
      "Indx                      4\n",
      "Name: 4, dtype: object\n",
      "index is 5\n",
      "Content of the series Rank                     32\n",
      "Age                      12\n",
      "dob     1998-11-10 00:00:00\n",
      "Indx                      5\n",
      "Name: 5, dtype: object\n"
     ]
    }
   ],
   "source": [
    "#Iterating over the contents of the dataframe.\n",
    "#looping through the dataframe using df.iterrows()\n",
    "for (index_label,row_series) in new_df.iterrows():\n",
    "    print(f'index is {index_label}')\n",
    "    print(f'Content of the series {row_series}')"
   ]
  },
  {
   "cell_type": "code",
   "execution_count": 15,
   "metadata": {},
   "outputs": [
    {
     "data": {
      "text/html": [
       "<div>\n",
       "<style scoped>\n",
       "    .dataframe tbody tr th:only-of-type {\n",
       "        vertical-align: middle;\n",
       "    }\n",
       "\n",
       "    .dataframe tbody tr th {\n",
       "        vertical-align: top;\n",
       "    }\n",
       "\n",
       "    .dataframe thead th {\n",
       "        text-align: right;\n",
       "    }\n",
       "</style>\n",
       "<table border=\"1\" class=\"dataframe\">\n",
       "  <thead>\n",
       "    <tr style=\"text-align: right;\">\n",
       "      <th></th>\n",
       "      <th>Name</th>\n",
       "      <th>Class</th>\n",
       "      <th>Age</th>\n",
       "    </tr>\n",
       "  </thead>\n",
       "  <tbody>\n",
       "    <tr>\n",
       "      <td>0</td>\n",
       "      <td>Alex</td>\n",
       "      <td>1</td>\n",
       "      <td>16</td>\n",
       "    </tr>\n",
       "    <tr>\n",
       "      <td>1</td>\n",
       "      <td>John</td>\n",
       "      <td>2</td>\n",
       "      <td>17</td>\n",
       "    </tr>\n",
       "    <tr>\n",
       "      <td>2</td>\n",
       "      <td>Nicole</td>\n",
       "      <td>3</td>\n",
       "      <td>17</td>\n",
       "    </tr>\n",
       "    <tr>\n",
       "      <td>3</td>\n",
       "      <td>Andrew</td>\n",
       "      <td>4</td>\n",
       "      <td>18</td>\n",
       "    </tr>\n",
       "    <tr>\n",
       "      <td>4</td>\n",
       "      <td>joe</td>\n",
       "      <td>12</td>\n",
       "      <td>12</td>\n",
       "    </tr>\n",
       "    <tr>\n",
       "      <td>5</td>\n",
       "      <td>joe</td>\n",
       "      <td>12</td>\n",
       "      <td>12</td>\n",
       "    </tr>\n",
       "  </tbody>\n",
       "</table>\n",
       "</div>"
      ],
      "text/plain": [
       "     Name  Class  Age\n",
       "0    Alex      1   16\n",
       "1    John      2   17\n",
       "2  Nicole      3   17\n",
       "3  Andrew      4   18\n",
       "4     joe     12   12\n",
       "5     joe     12   12"
      ]
     },
     "execution_count": 15,
     "metadata": {},
     "output_type": "execute_result"
    }
   ],
   "source": [
    "import pandas as pd\n",
    "student_data={\n",
    "    'Name':['Alex','John','Nicole','Andrew','joe','joe'],\n",
    "    'Class':[1,2,3,4,12,12],\n",
    "    'Age':[16,17,17,18,12,12]\n",
    "}\n",
    "new_df=pd.DataFrame(student_data)\n",
    "new_df"
   ]
  },
  {
   "cell_type": "code",
   "execution_count": 5,
   "metadata": {},
   "outputs": [
    {
     "name": "stdout",
     "output_type": "stream",
     "text": [
      "Pandas(Index=0, Name='Alex', Class=1, Age=16)\n",
      "Pandas(Index=1, Name='John', Class=2, Age=17)\n",
      "Pandas(Index=2, Name='Nicole', Class=3, Age=17)\n",
      "Pandas(Index=3, Name='Andrew', Class=4, Age=18)\n",
      "Pandas(Index=4, Name='joe', Class=12, Age=12)\n",
      "Pandas(Index=5, Name='joe', Class=12, Age=12)\n"
     ]
    }
   ],
   "source": [
    "for items in new_df.itertuples():\n",
    "    print(items)"
   ]
  },
  {
   "cell_type": "code",
   "execution_count": 7,
   "metadata": {},
   "outputs": [
    {
     "name": "stdout",
     "output_type": "stream",
     "text": [
      "OrderedDict([('Index', 0), ('Name', 'Alex'), ('Class', 1), ('Age', 16)])\n",
      "OrderedDict([('Index', 1), ('Name', 'John'), ('Class', 2), ('Age', 17)])\n",
      "OrderedDict([('Index', 2), ('Name', 'Nicole'), ('Class', 3), ('Age', 17)])\n",
      "OrderedDict([('Index', 3), ('Name', 'Andrew'), ('Class', 4), ('Age', 18)])\n",
      "OrderedDict([('Index', 4), ('Name', 'joe'), ('Class', 12), ('Age', 12)])\n",
      "OrderedDict([('Index', 5), ('Name', 'joe'), ('Class', 12), ('Age', 12)])\n"
     ]
    }
   ],
   "source": [
    "for items in new_df.itertuples():\n",
    "    print(items._asdict())#return a dictionary as the result"
   ]
  },
  {
   "cell_type": "code",
   "execution_count": 14,
   "metadata": {},
   "outputs": [
    {
     "name": "stdout",
     "output_type": "stream",
     "text": [
      "     Name  Class  Age\n",
      "0    Alex      1   16\n",
      "1    John      2   17\n",
      "2  Nicole      3   17\n",
      "3  Andrew      4   18\n",
      "4     joe     12   12\n",
      "5     joe     12   12\n",
      "     Name  Class  Age\n",
      "0    Alex      1   26\n",
      "1    John      2   27\n",
      "2  Nicole      3   27\n",
      "3  Andrew      4   28\n",
      "4     joe     12   22\n",
      "5     joe     12   22\n"
     ]
    }
   ],
   "source": [
    "print(new_df)#changing the values of a column while iterating through the dataframe\n",
    "for row_idx,value in new_df.iterrows():\n",
    "    new_df.at[row_idx,'Age']=value['Age']+10\n",
    "print(new_df)"
   ]
  },
  {
   "cell_type": "code",
   "execution_count": 16,
   "metadata": {},
   "outputs": [
    {
     "name": "stdout",
     "output_type": "stream",
     "text": [
      "0\n",
      "Name     Alex\n",
      "Class       1\n",
      "Age        16\n",
      "Name: 0, dtype: object\n",
      "1\n",
      "Name     John\n",
      "Class       2\n",
      "Age        17\n",
      "Name: 1, dtype: object\n",
      "2\n",
      "Name     Nicole\n",
      "Class         3\n",
      "Age          17\n",
      "Name: 2, dtype: object\n",
      "3\n",
      "Name     Andrew\n",
      "Class         4\n",
      "Age          18\n",
      "Name: 3, dtype: object\n",
      "4\n",
      "Name     joe\n",
      "Class     12\n",
      "Age       12\n",
      "Name: 4, dtype: object\n",
      "5\n",
      "Name     joe\n",
      "Class     12\n",
      "Age       12\n",
      "Name: 5, dtype: object\n"
     ]
    }
   ],
   "source": [
    "for column_names,column_data in new_df.iterrows():\n",
    "    print(column_names)\n",
    "    print(column_data)\n"
   ]
  },
  {
   "cell_type": "code",
   "execution_count": 17,
   "metadata": {},
   "outputs": [],
   "source": [
    "#Display the entire dataframe (no truncation)\n",
    "pd.set_option('display.max_rows', None)\n",
    "pd.set_option('display.max_columns', None)"
   ]
  },
  {
   "cell_type": "code",
   "execution_count": 14,
   "metadata": {},
   "outputs": [
    {
     "name": "stdout",
     "output_type": "stream",
     "text": [
      "     Name  Class  Age\n",
      "0    Alex      1   16\n",
      "1    John      2   17\n",
      "2  Nicole      3   17\n",
      "3  Andrew      4   18\n",
      "4     joe     12   12\n",
      "5     joe     12   12\n",
      "     Name  Class  Age\n",
      "0    Alex      1   16\n",
      "3  Andrew      4   18\n",
      "1    John      2   17\n",
      "2  Nicole      3   17\n",
      "4     joe     12   12\n",
      "5     joe     12   12\n",
      "     Name  Class  Age\n",
      "4     joe     12   12\n",
      "5     joe     12   12\n",
      "0    Alex      1   16\n",
      "1    John      2   17\n",
      "2  Nicole      3   17\n",
      "3  Andrew      4   18\n",
      "     Name  Class  Age\n",
      "0    Alex      1   16\n",
      "1    John      2   17\n",
      "2  Nicole      3   17\n",
      "3  Andrew      4   18\n",
      "4     joe     12   12\n",
      "5     joe     12   12\n"
     ]
    }
   ],
   "source": [
    "import pandas as pd\n",
    "#sorting a pandas dataframe\n",
    "student_data={\n",
    "    'Name':['Alex','John','Nicole','Andrew','joe','joe'],\n",
    "    'Class':[1,2,3,4,12,12],\n",
    "    'Age':[16,17,17,18,12,12]\n",
    "}\n",
    "#we have 2 functions to sort a pandas dataframe\n",
    "#sort_values() using which we can sort the pandas dataframe by one or more columns\n",
    "#sort_index() using which we can sort the dataframe by rows\n",
    "df=pd.DataFrame(student_data)\n",
    "print(df)\n",
    "sorted_df=df.sort_values(by='Name',ascending=True,inplace=False)#sorting the dataframe in ascending order inplace=false as we do not want to change the original dataframe\n",
    "print(sorted_df)\n",
    "df.sort_values(by=['Age','Name'],ascending=True,inplace=True)#when we are using df.sort_values for multiple columns we are sorting first by 'Age' and then by 'Name'\n",
    "print(df)\n",
    "#we can also sort again by row index doing so will in this case give us the original dataframe back \n",
    "df.sort_index(inplace=True)\n",
    "print(df)"
   ]
  },
  {
   "cell_type": "code",
   "execution_count": 20,
   "metadata": {},
   "outputs": [
    {
     "name": "stdout",
     "output_type": "stream",
     "text": [
      "     Name  Class  Age\n",
      "0    Alex      1   16\n",
      "1    John      2   17\n",
      "2  Nicole      3   17\n",
      "3  Andrew      4   18\n",
      "4     joe     12   12\n",
      "5     joe     12   12\n",
      "     Name  Class  Age\n",
      "0    Andy      1   16\n",
      "1   Panda      2   17\n",
      "2    Josh      3   17\n",
      "3  Andrew      4   18\n",
      "4     Sam     12   12\n",
      "5    Will     12   12\n",
      "     Name  Class  Age\n",
      "0    Alex      1   16\n",
      "1    John      2   17\n",
      "2  Nicole      3   17\n",
      "3  Andrew      4   18\n",
      "4     joe     12   12\n",
      "5     joe     12   12\n",
      "0    Andy      1   16\n",
      "1   Panda      2   17\n",
      "2    Josh      3   17\n",
      "3  Andrew      4   18\n",
      "4     Sam     12   12\n",
      "5    Will     12   12\n",
      "       Name  Class  Age\n",
      "a 0    Alex      1   16\n",
      "  1    John      2   17\n",
      "  2  Nicole      3   17\n",
      "  3  Andrew      4   18\n",
      "  4     joe     12   12\n",
      "  5     joe     12   12\n",
      "b 0    Andy      1   16\n",
      "  1   Panda      2   17\n",
      "  2    Josh      3   17\n",
      "  3  Andrew      4   18\n",
      "  4     Sam     12   12\n",
      "  5    Will     12   12\n",
      "     Name  Class  Age\n",
      "0    Alex      1   16\n",
      "1    John      2   17\n",
      "2  Nicole      3   17\n",
      "3  Andrew      4   18\n",
      "4     joe     12   12\n",
      "5     joe     12   12\n"
     ]
    }
   ],
   "source": [
    "#Merging dataframes in python\n",
    "#we will use this when we have data coming in from multiple sources\n",
    "#two main functions to work with concat and merge\n",
    "#use concat when we want to combine two dataframes by rows or by column\n",
    "#use merge whenw we want to combine two dataframes based on some common column\n",
    "student_data_1={\n",
    "    'Name':['Alex','John','Nicole','Andrew','joe','joe'],\n",
    "    'Class':[1,2,3,4,12,12],\n",
    "    'Age':[16,17,17,18,12,12]\n",
    "}\n",
    "student_data_2={\n",
    "    'Name':['Andy','Panda','Josh','Andrew','Sam','Will'],\n",
    "    'Class':[1,2,3,4,12,12],\n",
    "    'Age':[16,17,17,18,12,12]\n",
    "}\n",
    "df_1=pd.DataFrame(student_data_1)\n",
    "df_2=pd.DataFrame(student_data_2)\n",
    "print(df_1)\n",
    "print(df_2)\n",
    "\n",
    "df_3=pd.concat([df_1,df_2])\n",
    "print(df_3)\n",
    "\n",
    "df_4=pd.concat([df_1,df_2],keys=['a','b'])\n",
    "print(df_4)\n",
    "print(df_4.loc['a'])\n",
    "\n"
   ]
  },
  {
   "cell_type": "code",
   "execution_count": 33,
   "metadata": {},
   "outputs": [
    {
     "name": "stdout",
     "output_type": "stream",
     "text": [
      "     Name  Class  Age\n",
      "0    Alex      1   16\n",
      "1    John      2   17\n",
      "2  Nicole      3   17\n",
      "3  Andrew      4   18\n",
      "4     joe     12   12\n",
      "5     joe     12   12\n",
      "     Name  Class  Age  Extra\n",
      "2    Andy      1   16      1\n",
      "3   Panda      2   17      1\n",
      "4    Josh      3   17      1\n",
      "6  Andrew      4   18      1\n",
      "7     Sam     12   12      1\n",
      "8    Will     12   12      1\n",
      "   Age  Class  Extra    Name\n",
      "0   16      1    NaN    Alex\n",
      "1   17      2    NaN    John\n",
      "2   17      3    NaN  Nicole\n",
      "3   18      4    NaN  Andrew\n",
      "4   12     12    NaN     joe\n",
      "5   12     12    NaN     joe\n",
      "2   16      1    1.0    Andy\n",
      "3   17      2    1.0   Panda\n",
      "4   17      3    1.0    Josh\n",
      "6   18      4    1.0  Andrew\n",
      "7   12     12    1.0     Sam\n",
      "8   12     12    1.0    Will\n",
      "     Name  Class   Age    Name  Class   Age  Extra\n",
      "0    Alex    1.0  16.0     NaN    NaN   NaN    NaN\n",
      "1    John    2.0  17.0     NaN    NaN   NaN    NaN\n",
      "2  Nicole    3.0  17.0    Andy    1.0  16.0    1.0\n",
      "3  Andrew    4.0  18.0   Panda    2.0  17.0    1.0\n",
      "4     joe   12.0  12.0    Josh    3.0  17.0    1.0\n",
      "5     joe   12.0  12.0     NaN    NaN   NaN    NaN\n",
      "6     NaN    NaN   NaN  Andrew    4.0  18.0    1.0\n",
      "7     NaN    NaN   NaN     Sam   12.0  12.0    1.0\n",
      "8     NaN    NaN   NaN    Will   12.0  12.0    1.0\n",
      "     Name  Class  Age   Name  Class  Age  Extra\n",
      "2  Nicole      3   17   Andy      1   16      1\n",
      "3  Andrew      4   18  Panda      2   17      1\n",
      "4     joe     12   12   Josh      3   17      1\n"
     ]
    },
    {
     "name": "stderr",
     "output_type": "stream",
     "text": [
      "e:\\myenv\\lib\\site-packages\\ipykernel_launcher.py:18: FutureWarning: Sorting because non-concatenation axis is not aligned. A future version\n",
      "of pandas will change to not sort by default.\n",
      "\n",
      "To accept the future behavior, pass 'sort=False'.\n",
      "\n",
      "To retain the current behavior and silence the warning, pass 'sort=True'.\n",
      "\n"
     ]
    }
   ],
   "source": [
    "student_data_1={\n",
    "    'Name':['Alex','John','Nicole','Andrew','joe','joe'],\n",
    "    'Class':[1,2,3,4,12,12],\n",
    "    'Age':[16,17,17,18,12,12]\n",
    "}\n",
    "student_data_2={\n",
    "    'Name':['Andy','Panda','Josh','Andrew','Sam','Will'],\n",
    "    'Class':[1,2,3,4,12,12],\n",
    "    'Age':[16,17,17,18,12,12],\n",
    "    'Extra':[1,1,1,1,1,1]\n",
    "}\n",
    "df_1=pd.DataFrame(student_data_1,index=[0,1,2,3,4,5])\n",
    "df_2=pd.DataFrame(student_data_2,index=[2,3,4,6,7,8])\n",
    "\n",
    "print(df_1)\n",
    "print(df_2)\n",
    "\n",
    "sorted_new_1=pd.concat([df_1,df_2],axis=0)#axis=0 by row\n",
    "print(sorted_new_1)\n",
    "sorted_new_2=pd.concat([df_1,df_2],axis=1)#axis=1 by column by default join='outer'\n",
    "print(sorted_new_2)\n",
    "sorted_new_3=pd.concat([df_1,df_2],axis=1,join='inner')\n",
    "print(sorted_new_3)"
   ]
  },
  {
   "cell_type": "code",
   "execution_count": 35,
   "metadata": {},
   "outputs": [
    {
     "name": "stdout",
     "output_type": "stream",
     "text": [
      "     Name  Class  Age\n",
      "0    Alex      1   16\n",
      "1    John      2   17\n",
      "2  Nicole      3   17\n",
      "3  Andrew      4   18\n",
      "4     joe     12   12\n",
      "5     joe     12   12\n",
      "   Class  Test_score\n",
      "0      1          66\n",
      "1      2          57\n",
      "2      3          37\n",
      "3      4          28\n",
      "4     12          22\n",
      "5     12          22\n",
      "     Name  Class  Age  Test_score\n",
      "0    Alex      1   16          66\n",
      "1    John      2   17          57\n",
      "2  Nicole      3   17          37\n",
      "3  Andrew      4   18          28\n",
      "4     joe     12   12          22\n",
      "5     joe     12   12          22\n",
      "6     joe     12   12          22\n",
      "7     joe     12   12          22\n"
     ]
    }
   ],
   "source": [
    "student_data_1={\n",
    "    'Name':['Alex','John','Nicole','Andrew','joe','joe'],\n",
    "    'Class':[1,2,3,4,12,12],\n",
    "    'Age':[16,17,17,18,12,12]\n",
    "}\n",
    "student_data_2={\n",
    "    'Class':[1,2,3,4,12,12],\n",
    "    'Test_score':[66,57,37,28,22,22]\n",
    "}\n",
    "df_1=pd.DataFrame(student_data_1)\n",
    "df_2=pd.DataFrame(student_data_2)\n",
    "print(df_1)\n",
    "print(df_2)\n",
    "\n",
    "#simmilar to working with sql \n",
    "\n",
    "df_3=pd.merge(df_1,df_2,on='Class')\n",
    "\n",
    "print(df_3)"
   ]
  },
  {
   "cell_type": "code",
   "execution_count": 40,
   "metadata": {},
   "outputs": [
    {
     "name": "stdout",
     "output_type": "stream",
     "text": [
      "     Name  Class  Age  Test_score\n",
      "0    Alex      1   16          66\n",
      "1    John      2   17          57\n",
      "2  Nicole      3   17          37\n",
      "3  Andrew      4   18          28\n",
      "4     joe     12   12          22\n",
      "5     joe     12   12          22\n",
      "6     joe     12   12          22\n",
      "7     joe     12   12          22\n"
     ]
    }
   ],
   "source": [
    "#we can also do inner join outer join left and right outer join using how\n",
    "df_4=pd.merge(df_1,df_2,on='Class',how='inner')\n",
    "print(df_4)"
   ]
  },
  {
   "cell_type": "code",
   "execution_count": 54,
   "metadata": {},
   "outputs": [
    {
     "name": "stdout",
     "output_type": "stream",
     "text": [
      "     Name  Class  Age  Test_score\n",
      "0    Alex      1   16          66\n",
      "1    John      2   17          57\n",
      "2  Nicole      3   17          37\n",
      "3  Andrew      4   18          28\n",
      "4     joe     12   12          22\n",
      "5     joe     12   12          22\n",
      "6     joe     12   12          22\n",
      "7     joe     12   12          22\n",
      "Name          Alex\n",
      "Class            1\n",
      "Age             16\n",
      "Test_score      66\n",
      "dtype: object\n",
      "0      Alex\n",
      "1      John\n",
      "2    Nicole\n",
      "3    Andrew\n",
      "4       joe\n",
      "5       joe\n",
      "6       joe\n",
      "7       joe\n",
      "dtype: object\n",
      "0     1\n",
      "1     2\n",
      "2     3\n",
      "3     4\n",
      "4    12\n",
      "5    12\n",
      "6    12\n",
      "7    12\n",
      "dtype: int64\n",
      "0    26\n",
      "1    27\n",
      "2    27\n",
      "3    28\n",
      "4    22\n",
      "5    22\n",
      "6    22\n",
      "7    22\n",
      "Name: Age, dtype: int64\n"
     ]
    }
   ],
   "source": [
    "#working with the apply functions with your dataframe\n",
    "#apply functions are very useful during the feature enggineering stage instead of using a forloop and iteraing through your dataframe\n",
    "student_data_1={\n",
    "    'Name':['Alex','John','Nicole','Andrew','joe','joe'],\n",
    "    'Class':[1,2,3,4,2,4],\n",
    "    'Age':[16,17,17,18,12,12]\n",
    "}\n",
    "student_data_2={\n",
    "    'Class':[1,2,3,4,12,12],\n",
    "    'Test_score':[66,57,37,28,22,22]\n",
    "}\n",
    "df_1=pd.DataFrame(student_data_1)\n",
    "df_2=pd.DataFrame(student_data_2)\n",
    "#simmilar to working with sql \n",
    "\n",
    "df_3=pd.merge(df_1,df_2,on='Class')\n",
    "\n",
    "def in_ten_years(x):\n",
    "    return x+10\n",
    "\n",
    "print(df_3.apply(lambda x:x))#will print every object the apply function is traversing through\n",
    "print(df_3.apply(lambda x:x[0]))#will print the first row details\n",
    "print(df_3.apply(lambda x:x[0],axis=1))#will print the first column\n",
    "print(df_3.apply(lambda x:x['Class'],axis=1))#instead of selecting by index we can also select by column name in this manner\n",
    "print(df_3['Age'].apply(lambda x: in_ten_years(x)))#how to use the apply function to change a single column of the dataframe"
   ]
  },
  {
   "cell_type": "code",
   "execution_count": 77,
   "metadata": {},
   "outputs": [
    {
     "name": "stdout",
     "output_type": "stream",
     "text": [
      "     Name  Class  Age  Test_score\n",
      "0    Alex      1   16          66\n",
      "1    John      2   17          57\n",
      "2     joe      2   12          57\n",
      "3  Nicole      3   17          37\n",
      "4  Andrew      4   18          28\n",
      "5     joe      4   12          28\n",
      "         Name  Age  Test_score\n",
      "Class                         \n",
      "1        Alex   16          66\n",
      "2        John   17          57\n",
      "3      Nicole   17          37\n",
      "4      Andrew   18          28\n",
      "Class\n",
      "1    66\n",
      "2    57\n",
      "3    37\n",
      "4    28\n",
      "Name: Test_score, dtype: int64\n",
      "             Name  Test_score\n",
      "Class Age                    \n",
      "1     16     Alex          66\n",
      "2     12      joe          57\n",
      "      17     John          57\n",
      "3     17   Nicole          37\n",
      "4     12      joe          28\n",
      "      18   Andrew          28\n"
     ]
    }
   ],
   "source": [
    "#Aggregating data \n",
    "#we will use this when we want to do data analysis and get a clear understanding of the data we are working with\n",
    "student_data_1={\n",
    "    'Name':['Alex','John','Nicole','Andrew','joe','joe'],\n",
    "    'Class':[1,2,3,4,2,4],\n",
    "    'Age':[16,17,17,18,12,12]\n",
    "}\n",
    "student_data_2={\n",
    "    'Class':[1,2,3,4,12,12],\n",
    "    'Test_score':[66,57,37,28,22,22]\n",
    "}\n",
    "df_1=pd.DataFrame(student_data_1)\n",
    "df_2=pd.DataFrame(student_data_2)\n",
    "#simmilar to working with sql \n",
    "\n",
    "df_3=pd.merge(df_1,df_2,on='Class')\n",
    "\n",
    "#question to be answered mean marks per class\n",
    "print(df_3)\n",
    "\n",
    "grouped_by_class=df_3.groupby('Class')\n",
    "print(grouped_by_class.first())#we will now have our row index as the class instead of what we had before\n",
    "\n",
    "#now to find the mean Test_score per class\n",
    "print(grouped_by_class.Test_score.mean())#we will get the mean Test_score per class \n",
    "\n",
    "#we can also do a groupby based on multiple columns or attributes\n",
    "\n",
    "grouped_by_classes=df_3.groupby(['Class','Age'])\n",
    "\n",
    "print(grouped_by_classes.first())"
   ]
  },
  {
   "cell_type": "code",
   "execution_count": 78,
   "metadata": {},
   "outputs": [
    {
     "data": {
      "text/html": [
       "<div>\n",
       "<style scoped>\n",
       "    .dataframe tbody tr th:only-of-type {\n",
       "        vertical-align: middle;\n",
       "    }\n",
       "\n",
       "    .dataframe tbody tr th {\n",
       "        vertical-align: top;\n",
       "    }\n",
       "\n",
       "    .dataframe thead th {\n",
       "        text-align: right;\n",
       "    }\n",
       "</style>\n",
       "<table border=\"1\" class=\"dataframe\">\n",
       "  <thead>\n",
       "    <tr style=\"text-align: right;\">\n",
       "      <th>Age</th>\n",
       "      <th>12</th>\n",
       "      <th>16</th>\n",
       "      <th>17</th>\n",
       "      <th>18</th>\n",
       "      <th>All</th>\n",
       "    </tr>\n",
       "    <tr>\n",
       "      <th>Class</th>\n",
       "      <th></th>\n",
       "      <th></th>\n",
       "      <th></th>\n",
       "      <th></th>\n",
       "      <th></th>\n",
       "    </tr>\n",
       "  </thead>\n",
       "  <tbody>\n",
       "    <tr>\n",
       "      <td>1</td>\n",
       "      <td>0</td>\n",
       "      <td>1</td>\n",
       "      <td>0</td>\n",
       "      <td>0</td>\n",
       "      <td>1</td>\n",
       "    </tr>\n",
       "    <tr>\n",
       "      <td>2</td>\n",
       "      <td>1</td>\n",
       "      <td>0</td>\n",
       "      <td>1</td>\n",
       "      <td>0</td>\n",
       "      <td>2</td>\n",
       "    </tr>\n",
       "    <tr>\n",
       "      <td>3</td>\n",
       "      <td>0</td>\n",
       "      <td>0</td>\n",
       "      <td>1</td>\n",
       "      <td>0</td>\n",
       "      <td>1</td>\n",
       "    </tr>\n",
       "    <tr>\n",
       "      <td>4</td>\n",
       "      <td>1</td>\n",
       "      <td>0</td>\n",
       "      <td>0</td>\n",
       "      <td>1</td>\n",
       "      <td>2</td>\n",
       "    </tr>\n",
       "    <tr>\n",
       "      <td>All</td>\n",
       "      <td>2</td>\n",
       "      <td>1</td>\n",
       "      <td>2</td>\n",
       "      <td>1</td>\n",
       "      <td>6</td>\n",
       "    </tr>\n",
       "  </tbody>\n",
       "</table>\n",
       "</div>"
      ],
      "text/plain": [
       "Age    12  16  17  18  All\n",
       "Class                     \n",
       "1       0   1   0   0    1\n",
       "2       1   0   1   0    2\n",
       "3       0   0   1   0    1\n",
       "4       1   0   0   1    2\n",
       "All     2   1   2   1    6"
      ]
     },
     "execution_count": 78,
     "metadata": {},
     "output_type": "execute_result"
    }
   ],
   "source": [
    "pd.crosstab(df_3['Class'],df_3['Age'],margins=True)#the cross tab will allow us to understand how the two columns are related \n",
    "#and how the data is actually distributed"
   ]
  },
  {
   "cell_type": "code",
   "execution_count": 79,
   "metadata": {},
   "outputs": [
    {
     "data": {
      "text/html": [
       "<div>\n",
       "<style scoped>\n",
       "    .dataframe tbody tr th:only-of-type {\n",
       "        vertical-align: middle;\n",
       "    }\n",
       "\n",
       "    .dataframe tbody tr th {\n",
       "        vertical-align: top;\n",
       "    }\n",
       "\n",
       "    .dataframe thead th {\n",
       "        text-align: right;\n",
       "    }\n",
       "</style>\n",
       "<table border=\"1\" class=\"dataframe\">\n",
       "  <thead>\n",
       "    <tr style=\"text-align: right;\">\n",
       "      <th></th>\n",
       "      <th>Test_score</th>\n",
       "    </tr>\n",
       "    <tr>\n",
       "      <th>Class</th>\n",
       "      <th></th>\n",
       "    </tr>\n",
       "  </thead>\n",
       "  <tbody>\n",
       "    <tr>\n",
       "      <td>1</td>\n",
       "      <td>66</td>\n",
       "    </tr>\n",
       "    <tr>\n",
       "      <td>2</td>\n",
       "      <td>57</td>\n",
       "    </tr>\n",
       "    <tr>\n",
       "      <td>3</td>\n",
       "      <td>37</td>\n",
       "    </tr>\n",
       "    <tr>\n",
       "      <td>4</td>\n",
       "      <td>28</td>\n",
       "    </tr>\n",
       "  </tbody>\n",
       "</table>\n",
       "</div>"
      ],
      "text/plain": [
       "       Test_score\n",
       "Class            \n",
       "1              66\n",
       "2              57\n",
       "3              37\n",
       "4              28"
      ]
     },
     "execution_count": 79,
     "metadata": {},
     "output_type": "execute_result"
    }
   ],
   "source": [
    "#we can also generate a pivot table just like in excel using pandas dataframes\n",
    "pd.pivot_table(data=df_3,index=['Class'],values='Test_score')#by default the function will be mean"
   ]
  },
  {
   "cell_type": "code",
   "execution_count": 80,
   "metadata": {},
   "outputs": [
    {
     "data": {
      "text/html": [
       "<div>\n",
       "<style scoped>\n",
       "    .dataframe tbody tr th:only-of-type {\n",
       "        vertical-align: middle;\n",
       "    }\n",
       "\n",
       "    .dataframe tbody tr th {\n",
       "        vertical-align: top;\n",
       "    }\n",
       "\n",
       "    .dataframe thead th {\n",
       "        text-align: right;\n",
       "    }\n",
       "</style>\n",
       "<table border=\"1\" class=\"dataframe\">\n",
       "  <thead>\n",
       "    <tr style=\"text-align: right;\">\n",
       "      <th></th>\n",
       "      <th></th>\n",
       "      <th>Test_score</th>\n",
       "    </tr>\n",
       "    <tr>\n",
       "      <th>Class</th>\n",
       "      <th>Age</th>\n",
       "      <th></th>\n",
       "    </tr>\n",
       "  </thead>\n",
       "  <tbody>\n",
       "    <tr>\n",
       "      <td>1</td>\n",
       "      <td>16</td>\n",
       "      <td>66</td>\n",
       "    </tr>\n",
       "    <tr>\n",
       "      <td rowspan=\"2\" valign=\"top\">2</td>\n",
       "      <td>12</td>\n",
       "      <td>57</td>\n",
       "    </tr>\n",
       "    <tr>\n",
       "      <td>17</td>\n",
       "      <td>57</td>\n",
       "    </tr>\n",
       "    <tr>\n",
       "      <td>3</td>\n",
       "      <td>17</td>\n",
       "      <td>37</td>\n",
       "    </tr>\n",
       "    <tr>\n",
       "      <td rowspan=\"2\" valign=\"top\">4</td>\n",
       "      <td>12</td>\n",
       "      <td>28</td>\n",
       "    </tr>\n",
       "    <tr>\n",
       "      <td>18</td>\n",
       "      <td>28</td>\n",
       "    </tr>\n",
       "  </tbody>\n",
       "</table>\n",
       "</div>"
      ],
      "text/plain": [
       "           Test_score\n",
       "Class Age            \n",
       "1     16           66\n",
       "2     12           57\n",
       "      17           57\n",
       "3     17           37\n",
       "4     12           28\n",
       "      18           28"
      ]
     },
     "execution_count": 80,
     "metadata": {},
     "output_type": "execute_result"
    }
   ],
   "source": [
    "#we can also generate a pivot table wrt multiple columns\n",
    "pd.pivot_table(data=df_3,index=['Class','Age'],values='Test_score')"
   ]
  },
  {
   "cell_type": "code",
   "execution_count": 85,
   "metadata": {},
   "outputs": [
    {
     "data": {
      "text/html": [
       "<div>\n",
       "<style scoped>\n",
       "    .dataframe tbody tr th:only-of-type {\n",
       "        vertical-align: middle;\n",
       "    }\n",
       "\n",
       "    .dataframe tbody tr th {\n",
       "        vertical-align: top;\n",
       "    }\n",
       "\n",
       "    .dataframe thead tr th {\n",
       "        text-align: left;\n",
       "    }\n",
       "\n",
       "    .dataframe thead tr:last-of-type th {\n",
       "        text-align: right;\n",
       "    }\n",
       "</style>\n",
       "<table border=\"1\" class=\"dataframe\">\n",
       "  <thead>\n",
       "    <tr>\n",
       "      <th></th>\n",
       "      <th></th>\n",
       "      <th>mean</th>\n",
       "      <th>median</th>\n",
       "      <th>min</th>\n",
       "      <th>max</th>\n",
       "    </tr>\n",
       "    <tr>\n",
       "      <th></th>\n",
       "      <th></th>\n",
       "      <th>Test_score</th>\n",
       "      <th>Test_score</th>\n",
       "      <th>Test_score</th>\n",
       "      <th>Test_score</th>\n",
       "    </tr>\n",
       "    <tr>\n",
       "      <th>Class</th>\n",
       "      <th>Age</th>\n",
       "      <th></th>\n",
       "      <th></th>\n",
       "      <th></th>\n",
       "      <th></th>\n",
       "    </tr>\n",
       "  </thead>\n",
       "  <tbody>\n",
       "    <tr>\n",
       "      <td>1</td>\n",
       "      <td>16</td>\n",
       "      <td>66</td>\n",
       "      <td>66</td>\n",
       "      <td>66</td>\n",
       "      <td>66</td>\n",
       "    </tr>\n",
       "    <tr>\n",
       "      <td rowspan=\"2\" valign=\"top\">2</td>\n",
       "      <td>12</td>\n",
       "      <td>57</td>\n",
       "      <td>57</td>\n",
       "      <td>57</td>\n",
       "      <td>57</td>\n",
       "    </tr>\n",
       "    <tr>\n",
       "      <td>17</td>\n",
       "      <td>57</td>\n",
       "      <td>57</td>\n",
       "      <td>57</td>\n",
       "      <td>57</td>\n",
       "    </tr>\n",
       "    <tr>\n",
       "      <td>3</td>\n",
       "      <td>17</td>\n",
       "      <td>37</td>\n",
       "      <td>37</td>\n",
       "      <td>37</td>\n",
       "      <td>37</td>\n",
       "    </tr>\n",
       "    <tr>\n",
       "      <td rowspan=\"2\" valign=\"top\">4</td>\n",
       "      <td>12</td>\n",
       "      <td>28</td>\n",
       "      <td>28</td>\n",
       "      <td>28</td>\n",
       "      <td>28</td>\n",
       "    </tr>\n",
       "    <tr>\n",
       "      <td>18</td>\n",
       "      <td>28</td>\n",
       "      <td>28</td>\n",
       "      <td>28</td>\n",
       "      <td>28</td>\n",
       "    </tr>\n",
       "  </tbody>\n",
       "</table>\n",
       "</div>"
      ],
      "text/plain": [
       "                mean     median        min        max\n",
       "          Test_score Test_score Test_score Test_score\n",
       "Class Age                                            \n",
       "1     16          66         66         66         66\n",
       "2     12          57         57         57         57\n",
       "      17          57         57         57         57\n",
       "3     17          37         37         37         37\n",
       "4     12          28         28         28         28\n",
       "      18          28         28         28         28"
      ]
     },
     "execution_count": 85,
     "metadata": {},
     "output_type": "execute_result"
    }
   ],
   "source": [
    "import numpy as np\n",
    "#we can also perform muliple aggregations using the aggfunc parameter\n",
    "pd.pivot_table(data=df_3,index=['Class','Age'],values='Test_score',aggfunc=[np.mean,np.median,min,max])"
   ]
  },
  {
   "cell_type": "code",
   "execution_count": null,
   "metadata": {},
   "outputs": [],
   "source": []
  },
  {
   "cell_type": "code",
   "execution_count": null,
   "metadata": {},
   "outputs": [],
   "source": []
  },
  {
   "cell_type": "code",
   "execution_count": null,
   "metadata": {},
   "outputs": [],
   "source": []
  }
 ],
 "metadata": {
  "kernelspec": {
   "display_name": "Python 3",
   "language": "python",
   "name": "python3"
  },
  "language_info": {
   "codemirror_mode": {
    "name": "ipython",
    "version": 3
   },
   "file_extension": ".py",
   "mimetype": "text/x-python",
   "name": "python",
   "nbconvert_exporter": "python",
   "pygments_lexer": "ipython3",
   "version": "3.7.2"
  }
 },
 "nbformat": 4,
 "nbformat_minor": 2
}
