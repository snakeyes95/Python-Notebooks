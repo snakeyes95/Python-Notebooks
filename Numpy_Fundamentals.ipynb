{
 "cells": [
  {
   "cell_type": "code",
   "execution_count": 4,
   "metadata": {},
   "outputs": [
    {
     "name": "stdout",
     "output_type": "stream",
     "text": [
      "[1 2 3 4 5 6]\n",
      "<class 'numpy.ndarray'>\n"
     ]
    }
   ],
   "source": [
    "#creating a numpy array\n",
    "#creating a numpy array from a list\n",
    "import numpy as np\n",
    "array1=np.array([1,2,3,4,5,6])\n",
    "print(array1)\n",
    "print(type(array1))"
   ]
  },
  {
   "cell_type": "code",
   "execution_count": 6,
   "metadata": {},
   "outputs": [
    {
     "name": "stdout",
     "output_type": "stream",
     "text": [
      "[1 2 3 4 5 6]\n",
      "int32\n"
     ]
    }
   ],
   "source": [
    "#creating a numpy array from a tuple\n",
    "array2=np.array((1,2,3,4,5,6))\n",
    "print(array2)\n",
    "print(array2.dtype)#print the type of the value inside the numpy array."
   ]
  },
  {
   "cell_type": "code",
   "execution_count": 8,
   "metadata": {},
   "outputs": [
    {
     "name": "stdout",
     "output_type": "stream",
     "text": [
      "[[1 2 3]\n",
      " [4 3 5]\n",
      " [4 8 4]]\n"
     ]
    }
   ],
   "source": [
    "#creating a 2-D array from lists\n",
    "array3=np.array([[1,2,3],[4,3,5],[4,8,4]])\n",
    "print(array3)"
   ]
  },
  {
   "cell_type": "code",
   "execution_count": 9,
   "metadata": {},
   "outputs": [
    {
     "name": "stdout",
     "output_type": "stream",
     "text": [
      "float64\n"
     ]
    }
   ],
   "source": [
    "#to change the datatype \n",
    "array4=np.array([1,2,3,4,5],dtype=float)\n",
    "print(array4.dtype)"
   ]
  },
  {
   "cell_type": "code",
   "execution_count": 10,
   "metadata": {},
   "outputs": [
    {
     "name": "stdout",
     "output_type": "stream",
     "text": [
      "[ 1  2  3  4  5 11 12 13]\n",
      "[1 2 3 4 5]\n",
      "[ 1  2  3  4  5 11 12 13]\n"
     ]
    }
   ],
   "source": [
    "#appending new elements to an numpy array\n",
    "array5=np.array([1,2,3,4,5])\n",
    "print(np.append(array5,[11,12,13]))#append the list to the end of array5\n",
    "print(array5)#The original array is not changed.\n",
    "arr6=np.append(array5,[11,12,13])\n",
    "print(arr6)"
   ]
  },
  {
   "cell_type": "code",
   "execution_count": 20,
   "metadata": {},
   "outputs": [
    {
     "name": "stdout",
     "output_type": "stream",
     "text": [
      "[[1 2 3]\n",
      " [4 5 6]]\n",
      "[1 2 3 4 5 6 1 2 3]\n"
     ]
    }
   ],
   "source": [
    "array7=np.array([[1,2,3],[4,5,6]])\n",
    "print(array7)\n",
    "arr8=np.append(array7,[1,2,3])\n",
    "print(arr8)#we can see that since we have not specified the axis it will first flatten the array and then append elements to it\n"
   ]
  },
  {
   "cell_type": "code",
   "execution_count": 24,
   "metadata": {},
   "outputs": [
    {
     "name": "stdout",
     "output_type": "stream",
     "text": [
      "[[1 2 3]\n",
      " [4 5 6]]\n",
      "[[ 1  2  3 21 22 23]\n",
      " [ 4  5  6 13 14 15]]\n",
      "[[ 1  2  3]\n",
      " [ 4  5  6]\n",
      " [21 22 23]\n",
      " [13 14 15]]\n"
     ]
    }
   ],
   "source": [
    "array7=np.array([[1,2,3],[4,5,6]])\n",
    "print(array7)\n",
    "arr8=np.array([[21,22,23],[13,14,15]])\n",
    "arr9=np.append(array7,arr8,axis=1)#axis=1 append column wise\n",
    "print(arr9)\n",
    "arr10=np.append(array7,arr8,axis=0)#append row wise\n",
    "print(arr10)"
   ]
  },
  {
   "cell_type": "code",
   "execution_count": 26,
   "metadata": {},
   "outputs": [
    {
     "name": "stdout",
     "output_type": "stream",
     "text": [
      "[ 1  2  4  5 11 12 19 33 56]\n",
      "[56 33 19 12 11  5  4  2  1]\n"
     ]
    }
   ],
   "source": [
    "#sorting numpy arrays \n",
    "arr1=np.array([19,12,1,2,33,4,5,56,11])\n",
    "res=np.sort(arr1)#sorting our numpy array\n",
    "res2=np.sort(arr1)[::-1]#this worked as we have not specified a starting or ending index so it selected the entire array and the \n",
    "#stepsize is -1 hence is selected the elements from the last element.\n",
    "print(res)#sorted array\n",
    "print(res2)#sorted array in descending order"
   ]
  },
  {
   "cell_type": "code",
   "execution_count": 29,
   "metadata": {
    "scrolled": false
   },
   "outputs": [
    {
     "name": "stdout",
     "output_type": "stream",
     "text": [
      "[ 1  2  4  5 11 12 19 33 56]\n",
      "[ 1  2  4  5 11 12 19 33 56]\n",
      "[ 1  2  4  5 11 12 19 33 56]\n",
      "[ 1  2  4  5 11 12 19 33 56]\n"
     ]
    }
   ],
   "source": [
    "#using different types of sorting algorithms\n",
    "res3=np.sort(arr1,kind='quicksort')\n",
    "print(res3)\n",
    "res4=np.sort(arr1,kind='mergesort')\n",
    "print(res4)\n",
    "res5=np.sort(arr1,kind='stable')\n",
    "print(res5)\n",
    "res6=np.sort(arr1,kind='heapsort')\n",
    "print(res6)"
   ]
  },
  {
   "cell_type": "code",
   "execution_count": 42,
   "metadata": {
    "scrolled": false
   },
   "outputs": [
    {
     "name": "stdout",
     "output_type": "stream",
     "text": [
      "[[11  2  3]\n",
      " [ 5  6 17]\n",
      " [18 19 10]]\n",
      "[[ 5  2  3]\n",
      " [11  6 10]\n",
      " [18 19 17]]\n",
      "[[ 2  3  5]\n",
      " [ 6 10 11]\n",
      " [17 18 19]]\n"
     ]
    }
   ],
   "source": [
    "#sorting a 2-D array\n",
    "arr2d=np.array([[11,2,3],[5,6,17],[18,19,10]])\n",
    "print(arr2d)\n",
    "arr2d.sort(axis=0)#sorting array according to columns.\n",
    "print(arr2d)"
   ]
  },
  {
   "cell_type": "code",
   "execution_count": 43,
   "metadata": {},
   "outputs": [
    {
     "name": "stdout",
     "output_type": "stream",
     "text": [
      "[[ 2  3 11]\n",
      " [ 5  6 17]\n",
      " [10 18 19]]\n"
     ]
    }
   ],
   "source": [
    "arr2d=np.array([[11,2,3],[5,6,17],[18,19,10]])\n",
    "arr2d.sort(axis=1)\n",
    "print(arr2d)"
   ]
  },
  {
   "cell_type": "code",
   "execution_count": 48,
   "metadata": {},
   "outputs": [],
   "source": [
    "#saving a numpy array to a .csv file\n",
    "arry1=np.array([[1,2,3],[4,5,6]])\n",
    "np.savetxt('samplenp.txt',arry1)\n",
    "np.savetxt('samplenp.csv',arry1,delimiter=',')\n",
    "np.savetxt('samplenp_new.csv',arry1,delimiter=',',fmt='%d')"
   ]
  },
  {
   "cell_type": "code",
   "execution_count": 50,
   "metadata": {},
   "outputs": [
    {
     "name": "stdout",
     "output_type": "stream",
     "text": [
      "[1 2 3 4 5 6]\n"
     ]
    }
   ],
   "source": [
    "#reversing a numpy array\n",
    "arr1=np.array([1,2,3,4,5,6])\n",
    "arr2=np.flip(arr1)\n",
    "print(arr2)"
   ]
  },
  {
   "cell_type": "code",
   "execution_count": 61,
   "metadata": {},
   "outputs": [
    {
     "data": {
      "text/plain": [
       "array([[3, 2, 1],\n",
       "       [6, 5, 4],\n",
       "       [9, 8, 7]])"
      ]
     },
     "execution_count": 61,
     "metadata": {},
     "output_type": "execute_result"
    }
   ],
   "source": [
    "arr2=np.array([[1,2,3],[4,5,6],[7,8,9]])\n",
    "np.flip(arr2,axis=1)"
   ]
  },
  {
   "cell_type": "code",
   "execution_count": 62,
   "metadata": {},
   "outputs": [
    {
     "data": {
      "text/plain": [
       "array([[7, 8, 9],\n",
       "       [4, 5, 6],\n",
       "       [1, 2, 3]])"
      ]
     },
     "execution_count": 62,
     "metadata": {},
     "output_type": "execute_result"
    }
   ],
   "source": [
    "np.flip(arr2,axis=0)"
   ]
  },
  {
   "cell_type": "code",
   "execution_count": 4,
   "metadata": {},
   "outputs": [
    {
     "name": "stdout",
     "output_type": "stream",
     "text": [
      "[ 1  3  5  7  9 11 13 15 17 19]\n"
     ]
    }
   ],
   "source": [
    "import numpy as np\n",
    "#we can also create a numpy array using np.arage(start,stop,step)\n",
    "arr1=np.arange(1,20,2)\n",
    "print(arr1)"
   ]
  },
  {
   "cell_type": "code",
   "execution_count": 7,
   "metadata": {},
   "outputs": [
    {
     "name": "stdout",
     "output_type": "stream",
     "text": [
      "[ True  True  True  True  True False False False False False]\n",
      "[1 3 5 7 9]\n",
      "[1 3 5 7 9]\n"
     ]
    }
   ],
   "source": [
    "#selecting elements from the numpy array based on conditions\n",
    "boolarr=arr1<10\n",
    "print(boolarr)#now we can index our numpy array\n",
    "new_arr1=arr1[boolarr]\n",
    "print(new_arr1)\n",
    "\n",
    "#we can also do all of this in a single line as \n",
    "print(arr1[arr1<10])"
   ]
  },
  {
   "cell_type": "code",
   "execution_count": 14,
   "metadata": {},
   "outputs": [
    {
     "name": "stdout",
     "output_type": "stream",
     "text": [
      "[ 7  9 11 13 15]\n"
     ]
    }
   ],
   "source": [
    "#we can also select elements using more complex conditions\n",
    "print(arr1[(arr1>5) & (arr1<16)])"
   ]
  },
  {
   "cell_type": "code",
   "execution_count": 25,
   "metadata": {},
   "outputs": [
    {
     "name": "stdout",
     "output_type": "stream",
     "text": [
      "[[ 1  2  3]\n",
      " [ 4  5  6]\n",
      " [11 12 13]]\n",
      "12\n",
      "12\n",
      "[[1 2 3]\n",
      " [4 5 6]]\n",
      "[[ 1  2]\n",
      " [ 4  5]\n",
      " [11 12]]\n"
     ]
    }
   ],
   "source": [
    "#selecting elements in a numpy array\n",
    "arr1=np.array([[1,2,3],[4,5,6],[11,12,13]])\n",
    "print(arr1)\n",
    "#the basic syntax of selecting elements from the numpy array is np[row index][column index]\n",
    "print(arr1[2][1])\n",
    "#we can also do this\n",
    "print(arr1[2,1])\n",
    "#we can also do multiple selection as follows\n",
    "print(arr1[:2,:])#first 2 rows and all the columns \n",
    "print(arr1[:,:2])#print all the rows and first two columns"
   ]
  },
  {
   "cell_type": "code",
   "execution_count": 30,
   "metadata": {},
   "outputs": [
    {
     "name": "stdout",
     "output_type": "stream",
     "text": [
      "[123 123 123]\n",
      "[123 123 123]\n",
      "[[  1   2   3]\n",
      " [123 123 123]\n",
      " [ 11  12  13]]\n"
     ]
    }
   ],
   "source": [
    "row=arr1[1]\n",
    "print(row)\n",
    "row[:]=123\n",
    "print(row)\n",
    "print(arr1)#changes done in the subset were reflected in the original array as well!"
   ]
  },
  {
   "cell_type": "code",
   "execution_count": 32,
   "metadata": {},
   "outputs": [
    {
     "name": "stdout",
     "output_type": "stream",
     "text": [
      "[123 123 123]\n",
      "[293 293 293]\n",
      "[[  1   2   3]\n",
      " [123 123 123]\n",
      " [ 11  12  13]]\n"
     ]
    }
   ],
   "source": [
    "#if we dont want this to happen what we need to do is use the copy()\n",
    "row2=arr1[1].copy()\n",
    "print(row2)\n",
    "row2[:]=293\n",
    "print(row2)\n",
    "print(arr1)#although row2 has changed arr1 is still the same."
   ]
  },
  {
   "cell_type": "code",
   "execution_count": 34,
   "metadata": {},
   "outputs": [
    {
     "name": "stdout",
     "output_type": "stream",
     "text": [
      "[ 1  2  3  4  5  6  7  8  9 10 11 12 13 14 15 16 17 18 19]\n",
      "[1 2 3 4 5 6 7]\n",
      "[ 1 22  3  4  5  6  7]\n",
      "[ 1 22  3  4  5  6  7  8  9 10 11 12 13 14 15 16 17 18 19]\n",
      "[ 1 99 99  4  5  6  7]\n",
      "[ 1 22  3  4  5  6  7  8  9 10 11 12 13 14 15 16 17 18 19]\n"
     ]
    }
   ],
   "source": [
    "#creating a subarray of a numpy array\n",
    "arr1=np.arange(1,20)\n",
    "print(arr1)\n",
    "subarr=arr1[:7]\n",
    "print(subarr)#creating this subarray is just the view of the actual array data is not actually copied any changes done to the \n",
    "#subarray will reflect in the actual array.\n",
    "subarr[1]=22\n",
    "print(subarr)\n",
    "print(arr1)\n",
    "#we can use the copy() here as well \n",
    "subarr2=arr1[:7].copy()\n",
    "subarr2[1:3]=99\n",
    "print(subarr2)\n",
    "print(arr1)#arr1 is not changed in this case"
   ]
  },
  {
   "cell_type": "code",
   "execution_count": 66,
   "metadata": {},
   "outputs": [
    {
     "name": "stdout",
     "output_type": "stream",
     "text": [
      "[ 1  2  3  4  5  6  7  8  9 10 11 12 13 14 15 16 17 18 19 20 21 22 23 24\n",
      " 25 26 27 28 29]\n",
      "[[25]\n",
      " [26]\n",
      " [27]\n",
      " [28]]\n",
      "29\n",
      "[ 1  2  3  4  5  6  7  8  9 10 11 12 13 14 15 16 17 18 19 20 21 22 23 24\n",
      " 25 26 27 28 29]\n",
      "[ 1  2  3  4  5  6  7  8  9 10 11 12 13 14 15 16 17 18 19 20 21 22 23 24\n",
      " 25]\n",
      "[ 1  2  3  4  5 10 11 12 13 14 15 16 17 18 19 20 21 22 23 24 25 26 27 28\n",
      " 29]\n",
      "[ 1  2  3  4  5  6  7  8  9 10 11 12 13 14 15 16 17 18 19 20 21 22 23 24\n",
      " 25 26 27 28 29]\n",
      "[ 1  3  4  5  6  7  8  9 10 11 12 13 14 15 16 17 18 19 20 21 22 23 24 25\n",
      " 26 27 28 29]\n",
      "[ 1  2  6  7  8  9 10 11 12 13 14 15 16 17 18 19 20 21 22 23 24 25 26 27\n",
      " 28 29]\n"
     ]
    }
   ],
   "source": [
    "#deleting elements based on certain conditions from a numpy array\n",
    "arr1=np.arange(1,30)\n",
    "print(arr1)\n",
    "print(np.argwhere(arr1>25))#we are getting the index positions where the condition specified is True\n",
    "print(arr1[28])#index pos 28\n",
    "#so deleting elements from our numpy array where the value is greater then 25\n",
    "arr=np.delete(arr1,np.argwhere(arr1>25))\n",
    "print(arr1)\n",
    "print(arr)#deleted last 5 values and created a new numpy array\n",
    "#we can also delete elements based on multiple conditions using this same technique.\n",
    "arr2=np.delete(arr1,np.argwhere((arr1>5)&(arr1<10)))\n",
    "print(arr2)\n",
    "print(arr1)\n",
    "print(np.delete(arr1,1))#delete element at index pos 1\n",
    "print(np.delete(arr1,[2,3,4]))#delete elements at these index positions"
   ]
  },
  {
   "cell_type": "code",
   "execution_count": 50,
   "metadata": {},
   "outputs": [
    {
     "data": {
      "text/plain": [
       "array([[5],\n",
       "       [6],\n",
       "       [7],\n",
       "       [8]], dtype=int64)"
      ]
     },
     "execution_count": 50,
     "metadata": {},
     "output_type": "execute_result"
    }
   ],
   "source": [
    "np.argwhere((arr1>5)&(arr1<10))"
   ]
  },
  {
   "cell_type": "code",
   "execution_count": 59,
   "metadata": {},
   "outputs": [
    {
     "name": "stdout",
     "output_type": "stream",
     "text": [
      "[0 0 0 0 0 0 0 0 0 0 0 0 0 0 0 0 0 0 0 0 0 0 0 0 1 1 1 1 1]\n",
      "(array([25, 26], dtype=int64),)\n",
      "[7 8 3]\n"
     ]
    }
   ],
   "source": [
    "#np.where() examples\n",
    "arr1=np.arange(1,30)\n",
    "print(np.where(arr1>24,1,0))\n",
    "#we can also do complex condition checking\n",
    "print(np.where((arr1>25) & (arr1<28)))\n",
    "arr2=np.array([11,12,13])\n",
    "print(np.where(arr2>12,[1,2,3],[7,8,9]))#when we are passing all three arguments the length of all the three arrays must be the same.\n"
   ]
  },
  {
   "cell_type": "code",
   "execution_count": 62,
   "metadata": {},
   "outputs": [
    {
     "name": "stdout",
     "output_type": "stream",
     "text": [
      "(2, 3) (19,)\n",
      "number of rows arr1 2 number of cols 3\n"
     ]
    }
   ],
   "source": [
    "arr1=np.array([[1,2,3],[4,5,6]])\n",
    "arr2=np.arange(1,20)\n",
    "#to get the dimensions of both these arrays\n",
    "dim1=arr1.shape\n",
    "dim2=arr2.shape\n",
    "print(dim1,dim2)\n",
    "print(f'number of rows arr1 {dim1[0]} number of cols {dim1[1]}')"
   ]
  },
  {
   "cell_type": "code",
   "execution_count": 63,
   "metadata": {},
   "outputs": [
    {
     "name": "stdout",
     "output_type": "stream",
     "text": [
      "2\n",
      "3\n",
      "6\n"
     ]
    }
   ],
   "source": [
    "#we can also work with np.size()\n",
    "arr1=np.array([[1,2,3],[4,5,6]])\n",
    "print(np.size(arr1,axis=0))#number of rows\n",
    "print(np.size(arr1,axis=1))#number of columns\n",
    "print(np.size(arr1))#the number of elements in the numpy array"
   ]
  },
  {
   "cell_type": "code",
   "execution_count": 67,
   "metadata": {},
   "outputs": [
    {
     "data": {
      "text/plain": [
       "array([ 2. ,  6.5, 11. , 15.5, 20. ])"
      ]
     },
     "execution_count": 67,
     "metadata": {},
     "output_type": "execute_result"
    }
   ],
   "source": [
    "#np.linspace() is used to create a number of evenly spaced samples\n",
    "np.linspace(2,20,5)#start end number of samples"
   ]
  },
  {
   "cell_type": "code",
   "execution_count": 69,
   "metadata": {},
   "outputs": [
    {
     "name": "stdout",
     "output_type": "stream",
     "text": [
      "[ 2  5  8 11 14 17 20 23 26 30]\n"
     ]
    }
   ],
   "source": [
    "print(np.linspace(2,30,10,dtype=np.int32))#we can also specify the dtype"
   ]
  },
  {
   "cell_type": "code",
   "execution_count": 92,
   "metadata": {},
   "outputs": [
    {
     "name": "stdout",
     "output_type": "stream",
     "text": [
      "1\n",
      "[[7]]\n",
      "[11  3  3]\n",
      "[ 3  3 23]\n",
      "[[0 2]\n",
      " [1 1]]\n",
      "nan\n",
      "1.0\n"
     ]
    }
   ],
   "source": [
    "#finding the minimum value in a numpy array and its index\n",
    "arr1=np.array([35,22,31,24,3,44,11,1,234,56,7,8,93,])\n",
    "print(np.amin(arr1))#we can use the np.amin() to find the minimum value inside the numpy array\\\n",
    "print(np.argwhere(arr1==np.amin(arr1)))#index position of the minimum element\n",
    "#we can also work with higher dimensional arrays\n",
    "arr2=np.array([[11,12,3],[37,3,33],[51,23,34]])\n",
    "print(np.amin(arr2,axis=0))#will return the minimum value for each column\n",
    "print(np.amin(arr2,axis=1))#will return the minimum value for each row\n",
    "print(np.argwhere(arr2==np.amin(arr2)))#minimum values in the 2-D numpy array.\n",
    "\n",
    "arr3=np.array([[1,2,3],[np.NAN,32,11]])\n",
    "print(np.amin(arr3))#if our numpy array contains a NaN then np.amin() will return NaN\n",
    "print(np.nanmin(arr3))#use np.nanmin() to ignore the NaN and find the min value.\n",
    "#we can do all these things for max values using np.amax()"
   ]
  },
  {
   "cell_type": "code",
   "execution_count": 94,
   "metadata": {},
   "outputs": [
    {
     "name": "stdout",
     "output_type": "stream",
     "text": [
      "[0. 0. 0. 0. 0.]\n",
      "[[0. 0. 0. 0. 0. 0.]\n",
      " [0. 0. 0. 0. 0. 0.]\n",
      " [0. 0. 0. 0. 0. 0.]\n",
      " [0. 0. 0. 0. 0. 0.]\n",
      " [0. 0. 0. 0. 0. 0.]]\n",
      "[1. 1. 1. 1. 1.]\n",
      "[[1. 1. 1. 1. 1. 1.]\n",
      " [1. 1. 1. 1. 1. 1.]\n",
      " [1. 1. 1. 1. 1. 1.]\n",
      " [1. 1. 1. 1. 1. 1.]\n",
      " [1. 1. 1. 1. 1. 1.]]\n",
      "[[1. 0. 0. 0. 0.]\n",
      " [0. 1. 0. 0. 0.]\n",
      " [0. 0. 1. 0. 0.]\n",
      " [0. 0. 0. 1. 0.]\n",
      " [0. 0. 0. 0. 1.]]\n"
     ]
    }
   ],
   "source": [
    "#creating numpy arrays of various shapes using np.zeros() np.ones() and np.eye()\n",
    "print(np.zeros(5))\n",
    "print(np.zeros((5,6)))\n",
    "print(np.ones(5))\n",
    "print(np.ones((5,6)))\n",
    "print(np.eye(5))"
   ]
  },
  {
   "cell_type": "code",
   "execution_count": 95,
   "metadata": {},
   "outputs": [
    {
     "data": {
      "text/plain": [
       "array([5, 5, 5, 5, 5, 5, 5, 5, 5, 5])"
      ]
     },
     "execution_count": 95,
     "metadata": {},
     "output_type": "execute_result"
    }
   ],
   "source": [
    "#creating a numpy array of different shapes initialized with the same value\n",
    "np.full(10,5)#10 elements filled with the value 5"
   ]
  },
  {
   "cell_type": "code",
   "execution_count": 97,
   "metadata": {},
   "outputs": [
    {
     "data": {
      "text/plain": [
       "array([[10, 10, 10, 10, 10],\n",
       "       [10, 10, 10, 10, 10],\n",
       "       [10, 10, 10, 10, 10]])"
      ]
     },
     "execution_count": 97,
     "metadata": {},
     "output_type": "execute_result"
    }
   ],
   "source": [
    "np.full((3,5),10)#3*5 matrix "
   ]
  },
  {
   "cell_type": "code",
   "execution_count": 100,
   "metadata": {},
   "outputs": [
    {
     "name": "stdout",
     "output_type": "stream",
     "text": [
      "[ 1  2  3 11 13 14 15 16]\n",
      "[ 1  2  3 11 13 14 15 16]\n",
      "[0 1 2 7 3 4 5 6]\n"
     ]
    }
   ],
   "source": [
    "#checking all the unique values inside the numpy array and returning the indexes of those elements.\n",
    "arr=np.array([1,2,3,13,14,15,16,11,15,2,3])\n",
    "unique_vals=np.unique(arr)\n",
    "print(unique_vals)\n",
    "unique_vals,index=np.unique(arr,return_index=True)\n",
    "print(unique_vals)\n",
    "print(index)"
   ]
  },
  {
   "cell_type": "code",
   "execution_count": 4,
   "metadata": {},
   "outputs": [
    {
     "name": "stdout",
     "output_type": "stream",
     "text": [
      "[('Alex', 12.,  1) ('Nicole', 24., 15) ('Mark',  6., 12)\n",
      " ('Andrew',  8.,  2)]\n",
      "<class 'numpy.ndarray'>\n",
      "[('Name', '<U10'), ('Age', '<f8'), ('Date', '<i4')]\n"
     ]
    }
   ],
   "source": [
    "#structured array\n",
    "#a structured array is simmilar to the structure in c \n",
    "#we need to define a type and then create numpy arrays of that defined type\n",
    "import numpy as np\n",
    "custom_type = [('Name', (np.str_, 10)), ('Age', np.float64), ('Date', np.int32)]\n",
    "custom_arr = np.array([('Alex', 12, 1), ('Nicole', 24,15), ('Mark', 6, 12), ('Andrew', 8, 2)], dtype=custom_type)\n",
    "print(custom_arr)\n",
    "print(type(custom_arr))\n",
    "print(custom_arr.dtype)"
   ]
  },
  {
   "cell_type": "code",
   "execution_count": 5,
   "metadata": {},
   "outputs": [
    {
     "name": "stdout",
     "output_type": "stream",
     "text": [
      "[('Alex', 12.,  1) ('Andrew',  8.,  2) ('Mark',  6., 12)\n",
      " ('Nicole', 24., 15)]\n"
     ]
    }
   ],
   "source": [
    "#sorting our structured array\n",
    "mod_array=np.sort(custom_arr,order='Name')#sorting our custom array wrt Name\n",
    "print(mod_array)"
   ]
  },
  {
   "cell_type": "code",
   "execution_count": 6,
   "metadata": {},
   "outputs": [
    {
     "name": "stdout",
     "output_type": "stream",
     "text": [
      "[('Alex', 12.,  1) ('Andrew',  8.,  2) ('Mark',  6., 12)\n",
      " ('Nicole', 24., 15)]\n"
     ]
    }
   ],
   "source": [
    "mod_array=np.sort(custom_arr,order=['Name','Age'])#sorting our custom array wrt Name and age\n",
    "print(mod_array)"
   ]
  },
  {
   "cell_type": "code",
   "execution_count": 3,
   "metadata": {},
   "outputs": [
    {
     "name": "stdout",
     "output_type": "stream",
     "text": [
      "1 2 3 4\n",
      "['1', '2', '3', '4']\n"
     ]
    }
   ],
   "source": [
    "#concatenating numpy arrays together\n",
    "vals=input().split()\n"
   ]
  },
  {
   "cell_type": "code",
   "execution_count": 1,
   "metadata": {},
   "outputs": [
    {
     "name": "stdout",
     "output_type": "stream",
     "text": [
      "[3 5 1 5 2 2 3 1 1 5]\n"
     ]
    }
   ],
   "source": [
    "import numpy as np\n",
    "rolls=np.random.randint(high=6,low=1,size=10)\n",
    "print(rolls)#die rolls"
   ]
  },
  {
   "cell_type": "code",
   "execution_count": null,
   "metadata": {},
   "outputs": [],
   "source": []
  },
  {
   "cell_type": "code",
   "execution_count": null,
   "metadata": {},
   "outputs": [],
   "source": []
  },
  {
   "cell_type": "code",
   "execution_count": null,
   "metadata": {},
   "outputs": [],
   "source": []
  },
  {
   "cell_type": "code",
   "execution_count": null,
   "metadata": {},
   "outputs": [],
   "source": []
  },
  {
   "cell_type": "code",
   "execution_count": null,
   "metadata": {},
   "outputs": [],
   "source": []
  },
  {
   "cell_type": "code",
   "execution_count": null,
   "metadata": {},
   "outputs": [],
   "source": []
  },
  {
   "cell_type": "code",
   "execution_count": null,
   "metadata": {},
   "outputs": [],
   "source": []
  },
  {
   "cell_type": "code",
   "execution_count": null,
   "metadata": {},
   "outputs": [],
   "source": []
  }
 ],
 "metadata": {
  "kernelspec": {
   "display_name": "Python 3",
   "language": "python",
   "name": "python3"
  },
  "language_info": {
   "codemirror_mode": {
    "name": "ipython",
    "version": 3
   },
   "file_extension": ".py",
   "mimetype": "text/x-python",
   "name": "python",
   "nbconvert_exporter": "python",
   "pygments_lexer": "ipython3",
   "version": "3.7.2"
  }
 },
 "nbformat": 4,
 "nbformat_minor": 2
}
