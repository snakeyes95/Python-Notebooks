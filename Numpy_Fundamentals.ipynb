{
 "cells": [
  {
   "cell_type": "code",
   "execution_count": 4,
   "metadata": {},
   "outputs": [
    {
     "name": "stdout",
     "output_type": "stream",
     "text": [
      "[1 2 3 4 5 6]\n",
      "<class 'numpy.ndarray'>\n"
     ]
    }
   ],
   "source": [
    "#creating a numpy array\n",
    "#creating a numpy array from a list\n",
    "import numpy as np\n",
    "array1=np.array([1,2,3,4,5,6])\n",
    "print(array1)\n",
    "print(type(array1))"
   ]
  },
  {
   "cell_type": "code",
   "execution_count": 6,
   "metadata": {},
   "outputs": [
    {
     "name": "stdout",
     "output_type": "stream",
     "text": [
      "[1 2 3 4 5 6]\n",
      "int32\n"
     ]
    }
   ],
   "source": [
    "#creating a numpy array from a tuple\n",
    "array2=np.array((1,2,3,4,5,6))\n",
    "print(array2)\n",
    "print(array2.dtype)#print the type of the value inside the numpy array."
   ]
  },
  {
   "cell_type": "code",
   "execution_count": 8,
   "metadata": {},
   "outputs": [
    {
     "name": "stdout",
     "output_type": "stream",
     "text": [
      "[[1 2 3]\n",
      " [4 3 5]\n",
      " [4 8 4]]\n"
     ]
    }
   ],
   "source": [
    "#creating a 2-D array from lists\n",
    "array3=np.array([[1,2,3],[4,3,5],[4,8,4]])\n",
    "print(array3)"
   ]
  },
  {
   "cell_type": "code",
   "execution_count": 9,
   "metadata": {},
   "outputs": [
    {
     "name": "stdout",
     "output_type": "stream",
     "text": [
      "float64\n"
     ]
    }
   ],
   "source": [
    "#to change the datatype \n",
    "array4=np.array([1,2,3,4,5],dtype=float)\n",
    "print(array4.dtype)"
   ]
  },
  {
   "cell_type": "code",
   "execution_count": 10,
   "metadata": {},
   "outputs": [
    {
     "name": "stdout",
     "output_type": "stream",
     "text": [
      "[ 1  2  3  4  5 11 12 13]\n",
      "[1 2 3 4 5]\n",
      "[ 1  2  3  4  5 11 12 13]\n"
     ]
    }
   ],
   "source": [
    "#appending new elements to an numpy array\n",
    "array5=np.array([1,2,3,4,5])\n",
    "print(np.append(array5,[11,12,13]))#append the list to the end of array5\n",
    "print(array5)#The original array is not changed.\n",
    "arr6=np.append(array5,[11,12,13])\n",
    "print(arr6)"
   ]
  },
  {
   "cell_type": "code",
   "execution_count": 20,
   "metadata": {},
   "outputs": [
    {
     "name": "stdout",
     "output_type": "stream",
     "text": [
      "[[1 2 3]\n",
      " [4 5 6]]\n",
      "[1 2 3 4 5 6 1 2 3]\n"
     ]
    }
   ],
   "source": [
    "array7=np.array([[1,2,3],[4,5,6]])\n",
    "print(array7)\n",
    "arr8=np.append(array7,[1,2,3])\n",
    "print(arr8)#we can see that since we have not specified the axis it will first flatten the array and then append elements to it\n"
   ]
  },
  {
   "cell_type": "code",
   "execution_count": 24,
   "metadata": {},
   "outputs": [
    {
     "name": "stdout",
     "output_type": "stream",
     "text": [
      "[[1 2 3]\n",
      " [4 5 6]]\n",
      "[[ 1  2  3 21 22 23]\n",
      " [ 4  5  6 13 14 15]]\n",
      "[[ 1  2  3]\n",
      " [ 4  5  6]\n",
      " [21 22 23]\n",
      " [13 14 15]]\n"
     ]
    }
   ],
   "source": [
    "array7=np.array([[1,2,3],[4,5,6]])\n",
    "print(array7)\n",
    "arr8=np.array([[21,22,23],[13,14,15]])\n",
    "arr9=np.append(array7,arr8,axis=1)#axis=1 append column wise\n",
    "print(arr9)\n",
    "arr10=np.append(array7,arr8,axis=0)#append row wise\n",
    "print(arr10)"
   ]
  },
  {
   "cell_type": "code",
   "execution_count": 26,
   "metadata": {},
   "outputs": [
    {
     "name": "stdout",
     "output_type": "stream",
     "text": [
      "[ 1  2  4  5 11 12 19 33 56]\n",
      "[56 33 19 12 11  5  4  2  1]\n"
     ]
    }
   ],
   "source": [
    "#sorting numpy arrays \n",
    "arr1=np.array([19,12,1,2,33,4,5,56,11])\n",
    "res=np.sort(arr1)#sorting our numpy array\n",
    "res2=np.sort(arr1)[::-1]\n",
    "print(res)#sorted array\n",
    "print(res2)#sorted array in descending order"
   ]
  },
  {
   "cell_type": "code",
   "execution_count": 29,
   "metadata": {
    "scrolled": false
   },
   "outputs": [
    {
     "name": "stdout",
     "output_type": "stream",
     "text": [
      "[ 1  2  4  5 11 12 19 33 56]\n",
      "[ 1  2  4  5 11 12 19 33 56]\n",
      "[ 1  2  4  5 11 12 19 33 56]\n",
      "[ 1  2  4  5 11 12 19 33 56]\n"
     ]
    }
   ],
   "source": [
    "#using different types of sorting algorithms\n",
    "res3=np.sort(arr1,kind='quicksort')\n",
    "print(res3)\n",
    "res4=np.sort(arr1,kind='mergesort')\n",
    "print(res4)\n",
    "res5=np.sort(arr1,kind='stable')\n",
    "print(res5)\n",
    "res6=np.sort(arr1,kind='heapsort')\n",
    "print(res6)"
   ]
  },
  {
   "cell_type": "code",
   "execution_count": 42,
   "metadata": {
    "scrolled": false
   },
   "outputs": [
    {
     "name": "stdout",
     "output_type": "stream",
     "text": [
      "[[11  2  3]\n",
      " [ 5  6 17]\n",
      " [18 19 10]]\n",
      "[[ 5  2  3]\n",
      " [11  6 10]\n",
      " [18 19 17]]\n",
      "[[ 2  3  5]\n",
      " [ 6 10 11]\n",
      " [17 18 19]]\n"
     ]
    }
   ],
   "source": [
    "#sorting a 2-D array\n",
    "arr2d=np.array([[11,2,3],[5,6,17],[18,19,10]])\n",
    "print(arr2d)\n",
    "arr2d.sort(axis=0)#sorting array according to columns.\n",
    "print(arr2d)"
   ]
  },
  {
   "cell_type": "code",
   "execution_count": 43,
   "metadata": {},
   "outputs": [
    {
     "name": "stdout",
     "output_type": "stream",
     "text": [
      "[[ 2  3 11]\n",
      " [ 5  6 17]\n",
      " [10 18 19]]\n"
     ]
    }
   ],
   "source": [
    "arr2d=np.array([[11,2,3],[5,6,17],[18,19,10]])\n",
    "arr2d.sort(axis=1)\n",
    "print(arr2d)"
   ]
  },
  {
   "cell_type": "code",
   "execution_count": 48,
   "metadata": {},
   "outputs": [],
   "source": [
    "#saving a numpy array to a .csv file\n",
    "arry1=np.array([[1,2,3],[4,5,6]])\n",
    "np.savetxt('samplenp.txt',arry1)\n",
    "np.savetxt('samplenp.csv',arry1,delimiter=',')\n",
    "np.savetxt('samplenp_new.csv',arry1,delimiter=',',fmt='%d')"
   ]
  },
  {
   "cell_type": "code",
   "execution_count": 50,
   "metadata": {},
   "outputs": [
    {
     "name": "stdout",
     "output_type": "stream",
     "text": [
      "[1 2 3 4 5 6]\n"
     ]
    }
   ],
   "source": [
    "#reversing a numpy array\n",
    "arr1=np.array([1,2,3,4,5,6])\n",
    "arr2=np.flip(arr1)\n",
    "print(arr2)"
   ]
  },
  {
   "cell_type": "code",
   "execution_count": 61,
   "metadata": {},
   "outputs": [
    {
     "data": {
      "text/plain": [
       "array([[3, 2, 1],\n",
       "       [6, 5, 4],\n",
       "       [9, 8, 7]])"
      ]
     },
     "execution_count": 61,
     "metadata": {},
     "output_type": "execute_result"
    }
   ],
   "source": [
    "arr2=np.array([[1,2,3],[4,5,6],[7,8,9]])\n",
    "np.flip(arr2,axis=1)"
   ]
  },
  {
   "cell_type": "code",
   "execution_count": 62,
   "metadata": {},
   "outputs": [
    {
     "data": {
      "text/plain": [
       "array([[7, 8, 9],\n",
       "       [4, 5, 6],\n",
       "       [1, 2, 3]])"
      ]
     },
     "execution_count": 62,
     "metadata": {},
     "output_type": "execute_result"
    }
   ],
   "source": [
    "np.flip(arr2,axis=0)"
   ]
  },
  {
   "cell_type": "code",
   "execution_count": null,
   "metadata": {},
   "outputs": [],
   "source": []
  },
  {
   "cell_type": "code",
   "execution_count": null,
   "metadata": {},
   "outputs": [],
   "source": []
  },
  {
   "cell_type": "code",
   "execution_count": null,
   "metadata": {},
   "outputs": [],
   "source": []
  }
 ],
 "metadata": {
  "kernelspec": {
   "display_name": "Python 3",
   "language": "python",
   "name": "python3"
  },
  "language_info": {
   "codemirror_mode": {
    "name": "ipython",
    "version": 3
   },
   "file_extension": ".py",
   "mimetype": "text/x-python",
   "name": "python",
   "nbconvert_exporter": "python",
   "pygments_lexer": "ipython3",
   "version": "3.7.2"
  }
 },
 "nbformat": 4,
 "nbformat_minor": 2
}
